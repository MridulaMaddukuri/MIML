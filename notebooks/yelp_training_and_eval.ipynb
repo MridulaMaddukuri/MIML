{
 "cells": [
  {
   "cell_type": "code",
   "execution_count": 1,
   "metadata": {},
   "outputs": [],
   "source": [
    "%load_ext autoreload\n",
    "%autoreload 2"
   ]
  },
  {
   "cell_type": "code",
   "execution_count": 2,
   "metadata": {},
   "outputs": [
    {
     "name": "stdout",
     "output_type": "stream",
     "text": [
      "/home/mridula/Projects/MIML/notebooks\n"
     ]
    }
   ],
   "source": [
    "import os\n",
    "import json\n",
    "import random\n",
    "import pandas as pd\n",
    "import numpy as np\n",
    "import torch\n",
    "from torchvision import transforms\n",
    "from typing import List, Set\n",
    "from datetime import datetime\n",
    "from PIL import Image, ImageFile\n",
    "ImageFile.LOAD_TRUNCATED_IMAGES = True\n",
    "\n",
    "from deep_miml.models import Average, Attention\n",
    "from deep_miml.train import train_miml_model, test_multi_instance_model\n",
    "from deep_miml.utils import precision_recall_helper, get_avg_batch_precision_recall_at_k, timing\n",
    "import torchvision.transforms as transforms\n",
    "import torch.optim as optim\n",
    "from pathlib import Path\n",
    "seed = 123\n",
    "torch.manual_seed(seed)\n",
    "torch.cuda.manual_seed(seed)\n",
    "np.random.seed(seed)\n",
    "random.seed(seed)\n",
    "torch.backends.cudnn.enabled=False\n",
    "torch.backends.cudnn.deterministic=True"
   ]
  },
  {
   "cell_type": "code",
   "execution_count": 3,
   "metadata": {},
   "outputs": [],
   "source": [
    "class YelpDataset:\n",
    "    def __init__(self, business_df, image_df, image_folder, transform):\n",
    "        self.business_df = business_df\n",
    "        self.image_df = image_df\n",
    "        self.transform = transform\n",
    "        self.image_folder = image_folder\n",
    "        \n",
    "    \n",
    "    def __getitem__(self, i: int):\n",
    "        b_id = self.business_df.iloc[i]['business_id']\n",
    "        imgs = list(self.image_df[self.image_df['business_id'] == b_id]['photo_id'])\n",
    "        \n",
    "        imgs = [self.transform(Image.open(self.image_folder+f\"{img}.jpg\")) for img in imgs]\n",
    "        \n",
    "        labels = torch.FloatTensor(self.business_df.iloc[i,1:])\n",
    "        \n",
    "        return imgs, labels\n",
    "        \n",
    "    def __len__(self):\n",
    "        return self.business_df.shape[0]\n",
    "     \n",
    "        \n",
    "def collate_fn(batch, input_size=224):\n",
    "    img_lists, bag_labels = zip(*batch)\n",
    "\n",
    "    imgs = [img for img_list in img_lists for img in img_list]\n",
    "\n",
    "    sizes = torch.LongTensor([len(img_list) for img_list in img_lists])\n",
    "\n",
    "    bag_labels = torch.stack(bag_labels)\n",
    "    \n",
    "\n",
    "    if len(imgs) != 0:\n",
    "        imgs = torch.stack(imgs)\n",
    "    else:\n",
    "        imgs = torch.zeros((0, 3, input_size, input_size)).float()\n",
    "\n",
    "    return imgs, sizes, bag_labels\n",
    "        "
   ]
  },
  {
   "cell_type": "code",
   "execution_count": 4,
   "metadata": {},
   "outputs": [
    {
     "name": "stdout",
     "output_type": "stream",
     "text": [
      "Shape of business_df (23137, 9)\n",
      "Shape of images_df (139443, 2)\n"
     ]
    }
   ],
   "source": [
    "# images_folder_path = '../../WIML/yelp_data/website_data/yelp_photos/photos/'\n",
    "# final_business_df = pd.read_csv('../../WIML/yelp_data/website_data/final_business_data.csv')\n",
    "# final_images_df = pd.read_csv('../../WIML/yelp_data/website_data/final_images_data.csv')\n",
    "\n",
    "# print(f'Shape of business_df {final_business_df.shape}')\n",
    "# print(f'Shape of images_df {final_images_df.shape}')"
   ]
  },
  {
   "cell_type": "code",
   "execution_count": 5,
   "metadata": {},
   "outputs": [],
   "source": [
    "# # Save the results for reproducability \n",
    "# full_business_list = set(final_business_df.business_id)\n",
    "\n",
    "# business_split_list = {}\n",
    "\n",
    "# business_split_list['test'] = random.sample(full_business_list,500)\n",
    "\n",
    "# business_split_list['val'] = random.sample(\n",
    "#     full_business_list.difference(business_split_list['test']),\n",
    "#     1000)\n",
    "\n",
    "# business_split_list['train'] = list(full_business_list.difference(\n",
    "#     business_split_list['test']+business_split_list['val']))\n",
    "\n",
    "\n"
   ]
  },
  {
   "cell_type": "code",
   "execution_count": 6,
   "metadata": {},
   "outputs": [],
   "source": [
    "# # Saving the train-test-val split to json file \n",
    "# import json\n",
    "\n",
    "# with open('../../WIML/yelp_data/website_data/train_test_val_split.json', 'w') as fp:\n",
    "#     json.dump(business_split_list, fp)"
   ]
  },
  {
   "cell_type": "code",
   "execution_count": 7,
   "metadata": {},
   "outputs": [],
   "source": [
    "# # Select a maximum of n photos per restaurant\n",
    "# # https://stackoverflow.com/questions/22472213/python-random-selection-per-group\n",
    "\n",
    "# def limit_image_count(obj, size = 30, replace= False):\n",
    "#     if len(obj.photo_id) <= size:\n",
    "#         return obj\n",
    "#     else:\n",
    "#         return obj.loc[np.random.choice(obj.index, size, replace),:]\n"
   ]
  },
  {
   "cell_type": "code",
   "execution_count": 8,
   "metadata": {},
   "outputs": [],
   "source": [
    "# subset_images_df = final_images_df.groupby('business_id',as_index=False).apply(limit_image_count)\n",
    "# subset_images_df.to_csv('../../WIML/yelp_data/website_data/subset_images_data.csv', index = False)"
   ]
  },
  {
   "cell_type": "code",
   "execution_count": 4,
   "metadata": {},
   "outputs": [],
   "source": [
    "# subset_images_df.groupby(['business_id'])['photo_id'].count().\\\n",
    "# reset_index().sort_values(by =['photo_id'], ascending = False)"
   ]
  },
  {
   "cell_type": "markdown",
   "metadata": {},
   "source": [
    "# READING SAVED DATA"
   ]
  },
  {
   "cell_type": "code",
   "execution_count": 4,
   "metadata": {},
   "outputs": [],
   "source": [
    "final_business_df = pd.read_csv('../../WIML/yelp_data/website_data/final_business_data.csv')\n",
    "subset_images_df = pd.read_csv('../../WIML/yelp_data/website_data/subset_images_data.csv')\n",
    "with open('../../WIML/yelp_data/website_data/train_test_val_split.json') as f:\n",
    "    business_split_list = json.load(f)\n",
    "\n",
    "images_folder_path = '../../WIML/yelp_data/website_data/yelp_photos/photos/'"
   ]
  },
  {
   "cell_type": "code",
   "execution_count": 12,
   "metadata": {},
   "outputs": [
    {
     "name": "stdout",
     "output_type": "stream",
     "text": [
      "total 7300956\r\n",
      "drwxrwxr-x 4 mridula mridula       4096 Oct 30 15:20 \u001b[0m\u001b[01;34m.\u001b[0m/\r\n",
      "drwxr-xr-x 5 mridula mridula       4096 Oct 24 08:12 \u001b[01;34m..\u001b[0m/\r\n",
      "-rw-rw-r-- 1 mridula mridula    1272663 Oct 27 15:56 final_business_data.csv\r\n",
      "-rw-rw-r-- 1 mridula mridula    6414399 Oct 27 15:56 final_images_data.csv\r\n",
      "-rw-r--r-- 1 mridula mridula    5800047 Jan 17  2020 list\r\n",
      "-rw-rw-r-- 1 mridula mridula    5699467 Nov 15 12:40 subset_images_data.csv\r\n",
      "-rw-rw-r-- 1 mridula mridula     601592 Nov 15 12:40 train_test_val_split.json\r\n",
      "drwxrwxr-x 2 mridula mridula       4096 Oct 23 18:24 \u001b[01;34myelp_dataset\u001b[0m/\r\n",
      "drwxrwxr-x 3 mridula mridula       4096 Oct 23 18:17 \u001b[01;34myelp_photos\u001b[0m/\r\n",
      "-rw-r--r-- 1 mridula mridula 7456358400 Oct 23 18:07 \u001b[01;31myelp_photos.tar\u001b[0m\r\n"
     ]
    }
   ],
   "source": [
    "ls -al ../../WIML/yelp_data/website_data/"
   ]
  },
  {
   "cell_type": "code",
   "execution_count": 5,
   "metadata": {},
   "outputs": [],
   "source": [
    "data_transforms = {\n",
    "    'train': transforms.Compose([\n",
    "        transforms.RandomResizedCrop(224),\n",
    "        transforms.RandomHorizontalFlip(),\n",
    "        transforms.ToTensor(),\n",
    "        transforms.Normalize([0.485, 0.456, 0.406], [0.229, 0.224, 0.225])\n",
    "    ]),\n",
    "    'val': transforms.Compose([\n",
    "        transforms.Resize(256),\n",
    "        transforms.CenterCrop(224),\n",
    "        transforms.ToTensor(),\n",
    "        transforms.Normalize([0.485, 0.456, 0.406], [0.229, 0.224, 0.225])\n",
    "    ]),\n",
    "    'test': transforms.Compose([\n",
    "        transforms.Resize(256),\n",
    "        transforms.CenterCrop(224),\n",
    "        transforms.ToTensor(),\n",
    "        transforms.Normalize([0.485, 0.456, 0.406], [0.229, 0.224, 0.225])\n",
    "    ]),\n",
    "}\n",
    "\n",
    "\n",
    "\n",
    "\n",
    "image_datasets = {}\n",
    "\n",
    "image_datasets['train'] = YelpDataset(\n",
    "    business_df = final_business_df[\n",
    "        final_business_df.business_id.isin(business_split_list['train'])],\n",
    "    image_df = subset_images_df,\n",
    "    image_folder = images_folder_path,\n",
    "    transform = data_transforms['train']\n",
    ")\n",
    "\n",
    "image_datasets['val'] = YelpDataset(\n",
    "    business_df= final_business_df[final_business_df.business_id.isin(business_split_list['val'])],\n",
    "    image_df= subset_images_df,\n",
    "    image_folder = images_folder_path,\n",
    "    transform = data_transforms['val']\n",
    ")\n",
    "\n",
    "image_datasets['test'] = YelpDataset(\n",
    "    business_df= final_business_df[final_business_df.business_id.isin(business_split_list['test'])],\n",
    "    image_df= subset_images_df,\n",
    "    image_folder = images_folder_path,\n",
    "    transform = data_transforms['test']\n",
    ")\n",
    "\n",
    "# print( f'len of train dataset {train_dataset.__len__()}')\n",
    "# print( f'len of val dataset {val_dataset.__len__()}')\n",
    "# train_dataset.__getitem__(0)"
   ]
  },
  {
   "cell_type": "markdown",
   "metadata": {},
   "source": [
    "# DataLoaders"
   ]
  },
  {
   "cell_type": "code",
   "execution_count": 6,
   "metadata": {},
   "outputs": [
    {
     "name": "stdout",
     "output_type": "stream",
     "text": [
      "DataLoaders ready ... \n",
      "\n"
     ]
    }
   ],
   "source": [
    "# Create training and validation dataloaders\n",
    "dataloaders_dict = {x: torch.utils.data.DataLoader(image_datasets[x],\n",
    "                                                    batch_size= 4,\n",
    "                                                    shuffle=(x == 'train'),\n",
    "                                                    num_workers= 12,\n",
    "                                                    collate_fn=collate_fn)\n",
    "                    for x in ['train', 'val','test']}\n",
    "\n",
    "print('DataLoaders ready ... \\n')\n"
   ]
  },
  {
   "cell_type": "code",
   "execution_count": 8,
   "metadata": {},
   "outputs": [
    {
     "data": {
      "text/plain": [
       "5410"
      ]
     },
     "execution_count": 8,
     "metadata": {},
     "output_type": "execute_result"
    }
   ],
   "source": [
    "dataloaders_dict['train'].__len__()"
   ]
  },
  {
   "cell_type": "code",
   "execution_count": 9,
   "metadata": {},
   "outputs": [
    {
     "data": {
      "text/plain": [
       "250"
      ]
     },
     "execution_count": 9,
     "metadata": {},
     "output_type": "execute_result"
    }
   ],
   "source": [
    "dataloaders_dict['val'].__len__()"
   ]
  },
  {
   "cell_type": "code",
   "execution_count": 10,
   "metadata": {},
   "outputs": [
    {
     "data": {
      "text/plain": [
       "125"
      ]
     },
     "execution_count": 10,
     "metadata": {},
     "output_type": "execute_result"
    }
   ],
   "source": [
    "dataloaders_dict['test'].__len__()"
   ]
  },
  {
   "cell_type": "markdown",
   "metadata": {},
   "source": [
    "# Training"
   ]
  },
  {
   "cell_type": "code",
   "execution_count": 15,
   "metadata": {
    "scrolled": true
   },
   "outputs": [],
   "source": [
    "def train_and_save(model_type,\n",
    "                   model_name,\n",
    "                   lr,\n",
    "                   device,\n",
    "                   num_categories,\n",
    "                   num_epochs= 1,\n",
    "                   early_stopping= True,\n",
    "                   save_folder = '/home/mridula/Projects/MIML/temp',\n",
    "                   patience =5, use_pretrained=True):\n",
    "\n",
    "    if model_type == 'avg':\n",
    "        model_ft = Average(num_classes = num_categories,model_name= model_name)\n",
    "    elif model_type == 'attention':\n",
    "        model_ft = Attention(num_classes = num_categories, model_name= model_name)\n",
    "\n",
    "    else:\n",
    "        print(\"Enter valid model type\")\n",
    "        exit(0)\n",
    "\n",
    "\n",
    "        # Send the model to GPU\n",
    "    model_ft = model_ft.to(device)\n",
    "\n",
    "        # Observe that all parameters are being optimized\n",
    "    optimizer_ft = optim.Adam(model_ft.parameters(), lr= lr)\n",
    "\n",
    "    # You should pass logits to nn.BCEwithLogitsLoss and probabilities (using \"sigmoid\") to nn.BCELoss.\n",
    "    # Using BCEWithLogitsLoss because it is more stable \n",
    "    criterion = torch.nn.BCEWithLogitsLoss(weight=None, reduction='mean')\n",
    "\n",
    "        # Train and evaluate\n",
    "    model_ft = train_miml_model(model=model_ft,\n",
    "                                model_name=model_name,\n",
    "                                model_type=model_type,\n",
    "                                use_pretrained=use_pretrained,\n",
    "                                device = device,\n",
    "                                dataloaders=dataloaders_dict,\n",
    "                                criterion=criterion,\n",
    "                                optimizer=optimizer_ft,\n",
    "                                save_folder= save_folder ,\n",
    "                                lr=lr,\n",
    "                                num_epochs= num_epochs,\n",
    "                                early_stopping = early_stopping,\n",
    "                                patience = patience\n",
    "                                )\n",
    "\n",
    "    torch.save(model_ft.state_dict(),\n",
    "        Path.cwd().joinpath(save_folder,\"yelp_{}_{}_pretrained_{}.pt\".format(model_name, model_type, use_pretrained)))\n",
    "    \n",
    "    return model_ft\n"
   ]
  },
  {
   "cell_type": "code",
   "execution_count": 13,
   "metadata": {},
   "outputs": [],
   "source": [
    "# Path.cwd().joinpath('/home/mridula/Projects/MIML/temp', 'hello')"
   ]
  },
  {
   "cell_type": "code",
   "execution_count": 16,
   "metadata": {},
   "outputs": [],
   "source": [
    "\n",
    "num_categories = 8\n",
    "lr = 0.0001\n",
    "use_pretrained = True\n",
    "\n",
    "device = torch.device(\"cuda:0\" if torch.cuda.is_available() else \"cpu\")\n"
   ]
  },
  {
   "cell_type": "markdown",
   "metadata": {},
   "source": [
    "# ResNet18"
   ]
  },
  {
   "cell_type": "code",
   "execution_count": 16,
   "metadata": {},
   "outputs": [
    {
     "name": "stderr",
     "output_type": "stream",
     "text": [
      "\r",
      "  0%|          | 0/5410 [00:00<?, ?it/s]"
     ]
    },
    {
     "name": "stdout",
     "output_type": "stream",
     "text": [
      "cuda:0\n",
      "Epoch 0/49\n",
      "----------\n"
     ]
    },
    {
     "name": "stderr",
     "output_type": "stream",
     "text": [
      " 19%|█▊        | 1001/5410 [02:36<12:14,  6.00it/s]"
     ]
    },
    {
     "name": "stdout",
     "output_type": "stream",
     "text": [
      "\n",
      "Running avg Loss at batch iter                                                                 1000 is                                                                 0.5101544723808765\n"
     ]
    },
    {
     "name": "stderr",
     "output_type": "stream",
     "text": [
      " 37%|███▋      | 2000/5410 [05:09<10:25,  5.45it/s]"
     ]
    },
    {
     "name": "stdout",
     "output_type": "stream",
     "text": [
      "\n",
      "Running avg Loss at batch iter                                                                 2000 is                                                                 0.5069145763516426\n"
     ]
    },
    {
     "name": "stderr",
     "output_type": "stream",
     "text": [
      " 55%|█████▌    | 3000/5410 [07:42<06:01,  6.66it/s]"
     ]
    },
    {
     "name": "stdout",
     "output_type": "stream",
     "text": [
      "\n",
      "Running avg Loss at batch iter                                                                 3000 is                                                                 0.5030120964348316\n"
     ]
    },
    {
     "name": "stderr",
     "output_type": "stream",
     "text": [
      " 74%|███████▍  | 4001/5410 [10:13<02:31,  9.29it/s]"
     ]
    },
    {
     "name": "stdout",
     "output_type": "stream",
     "text": [
      "\n",
      "Running avg Loss at batch iter                                                                 4000 is                                                                 0.49820413219928744\n"
     ]
    },
    {
     "name": "stderr",
     "output_type": "stream",
     "text": [
      " 92%|█████████▏| 5001/5410 [12:46<01:09,  5.86it/s]"
     ]
    },
    {
     "name": "stdout",
     "output_type": "stream",
     "text": [
      "\n",
      "Running avg Loss at batch iter                                                                 5000 is                                                                 0.48758842480182646\n"
     ]
    },
    {
     "name": "stderr",
     "output_type": "stream",
     "text": [
      "100%|██████████| 5410/5410 [13:50<00:00,  6.51it/s]\n",
      "  0%|          | 0/250 [00:00<?, ?it/s]"
     ]
    },
    {
     "name": "stdout",
     "output_type": "stream",
     "text": [
      "train Loss: 0.5056\n",
      "\n",
      "Train -- epoch average precision at k = 1, 2, 3, 4, 5, 6: [0.93530499 0.93056839 0.92230545 0.90064695 0.83379852 0.77494963]\n",
      "Train -- epoch average recall at k = 1, 2, 3, 4, 5, 6: [0.17746811 0.35283965 0.52319686 0.67927218 0.77715018 0.86045702]\n",
      "\n"
     ]
    },
    {
     "name": "stderr",
     "output_type": "stream",
     "text": [
      "100%|██████████| 250/250 [00:13<00:00, 17.89it/s]\n",
      "  0%|          | 0/5410 [00:00<?, ?it/s]"
     ]
    },
    {
     "name": "stdout",
     "output_type": "stream",
     "text": [
      "val Loss: 0.4944\n",
      "\n",
      "Validation -- epoch average precision at k = 1, 2, 3, 4, 5, 6: [0.935   0.9335  0.92434 0.9025  0.8358  0.77745]\n",
      "\n",
      "\n",
      "Validation -- epoch average recall at k = 1, 2, 3, 4, 5, 6: [0.17763 0.35475 0.52476 0.68027 0.77767 0.86129]\n",
      "\n",
      "Epoch 1/49\n",
      "----------\n"
     ]
    },
    {
     "name": "stderr",
     "output_type": "stream",
     "text": [
      " 19%|█▊        | 1001/5410 [02:41<12:20,  5.95it/s]"
     ]
    },
    {
     "name": "stdout",
     "output_type": "stream",
     "text": [
      "\n",
      "Running avg Loss at batch iter                                                                 1000 is                                                                 0.4956490062773228\n"
     ]
    },
    {
     "name": "stderr",
     "output_type": "stream",
     "text": [
      " 37%|███▋      | 2001/5410 [05:10<08:46,  6.48it/s]"
     ]
    },
    {
     "name": "stdout",
     "output_type": "stream",
     "text": [
      "\n",
      "Running avg Loss at batch iter                                                                 2000 is                                                                 0.49274267855286596\n"
     ]
    },
    {
     "name": "stderr",
     "output_type": "stream",
     "text": [
      " 55%|█████▌    | 2999/5410 [07:41<06:33,  6.12it/s]"
     ]
    },
    {
     "name": "stdout",
     "output_type": "stream",
     "text": [
      "\n",
      "Running avg Loss at batch iter                                                                 3000 is                                                                 0.48174689650535585\n"
     ]
    },
    {
     "name": "stderr",
     "output_type": "stream",
     "text": [
      " 74%|███████▍  | 4000/5410 [10:15<03:19,  7.08it/s]"
     ]
    },
    {
     "name": "stdout",
     "output_type": "stream",
     "text": [
      "\n",
      "Running avg Loss at batch iter                                                                 4000 is                                                                 0.48844593843817713\n"
     ]
    },
    {
     "name": "stderr",
     "output_type": "stream",
     "text": [
      " 92%|█████████▏| 5000/5410 [12:50<01:04,  6.31it/s]"
     ]
    },
    {
     "name": "stdout",
     "output_type": "stream",
     "text": [
      "\n",
      "Running avg Loss at batch iter                                                                 5000 is                                                                 0.4932247202992439\n"
     ]
    },
    {
     "name": "stderr",
     "output_type": "stream",
     "text": [
      "100%|██████████| 5410/5410 [13:52<00:00,  6.50it/s]\n",
      "  0%|          | 0/250 [00:00<?, ?it/s]"
     ]
    },
    {
     "name": "stdout",
     "output_type": "stream",
     "text": [
      "train Loss: 0.4957\n",
      "\n",
      "Train -- epoch average precision at k = 1, 2, 3, 4, 5, 6: [0.93817006 0.93253235 0.92467976 0.90189464 0.83609982 0.77633549]\n",
      "Train -- epoch average recall at k = 1, 2, 3, 4, 5, 6: [0.17812431 0.35398244 0.5248683  0.68024677 0.77943946 0.86206054]\n",
      "\n"
     ]
    },
    {
     "name": "stderr",
     "output_type": "stream",
     "text": [
      "100%|██████████| 250/250 [00:13<00:00, 17.90it/s]\n",
      "  0%|          | 0/5410 [00:00<?, ?it/s]"
     ]
    },
    {
     "name": "stdout",
     "output_type": "stream",
     "text": [
      "val Loss: 0.4916\n",
      "\n",
      "Validation -- epoch average precision at k = 1, 2, 3, 4, 5, 6: [0.936   0.932   0.92427 0.9045  0.8376  0.78358]\n",
      "\n",
      "\n",
      "Validation -- epoch average recall at k = 1, 2, 3, 4, 5, 6: [0.1773  0.35421 0.52511 0.68226 0.77998 0.86917]\n",
      "\n",
      "Epoch 2/49\n",
      "----------\n"
     ]
    },
    {
     "name": "stderr",
     "output_type": "stream",
     "text": [
      " 19%|█▊        | 1001/5410 [02:33<13:24,  5.48it/s]"
     ]
    },
    {
     "name": "stdout",
     "output_type": "stream",
     "text": [
      "\n",
      "Running avg Loss at batch iter                                                                 1000 is                                                                 0.4859011577367783\n"
     ]
    },
    {
     "name": "stderr",
     "output_type": "stream",
     "text": [
      " 37%|███▋      | 2000/5410 [05:03<06:45,  8.41it/s]"
     ]
    },
    {
     "name": "stdout",
     "output_type": "stream",
     "text": [
      "\n",
      "Running avg Loss at batch iter                                                                 2000 is                                                                 0.48940849894285204\n"
     ]
    },
    {
     "name": "stderr",
     "output_type": "stream",
     "text": [
      " 55%|█████▌    | 3001/5410 [07:40<07:46,  5.17it/s]"
     ]
    },
    {
     "name": "stdout",
     "output_type": "stream",
     "text": [
      "\n",
      "Running avg Loss at batch iter                                                                 3000 is                                                                 0.49307533416152\n"
     ]
    },
    {
     "name": "stderr",
     "output_type": "stream",
     "text": [
      " 74%|███████▍  | 4000/5410 [10:14<04:12,  5.59it/s]"
     ]
    },
    {
     "name": "stdout",
     "output_type": "stream",
     "text": [
      "\n",
      "Running avg Loss at batch iter                                                                 4000 is                                                                 0.48890133494138716\n"
     ]
    },
    {
     "name": "stderr",
     "output_type": "stream",
     "text": [
      " 92%|█████████▏| 5002/5410 [12:51<00:59,  6.88it/s]"
     ]
    },
    {
     "name": "stdout",
     "output_type": "stream",
     "text": [
      "\n",
      "Running avg Loss at batch iter                                                                 5000 is                                                                 0.4826590748727322\n"
     ]
    },
    {
     "name": "stderr",
     "output_type": "stream",
     "text": [
      "100%|██████████| 5410/5410 [13:52<00:00,  6.50it/s]\n",
      "  0%|          | 0/250 [00:00<?, ?it/s]"
     ]
    },
    {
     "name": "stdout",
     "output_type": "stream",
     "text": [
      "train Loss: 0.4935\n",
      "\n",
      "Train -- epoch average precision at k = 1, 2, 3, 4, 5, 6: [0.94487061 0.93648336 0.92559889 0.90356978 0.83779113 0.77829667]\n",
      "Train -- epoch average recall at k = 1, 2, 3, 4, 5, 6: [0.17975416 0.35606331 0.52556331 0.68174122 0.78106701 0.86462662]\n",
      "\n"
     ]
    },
    {
     "name": "stderr",
     "output_type": "stream",
     "text": [
      "100%|██████████| 250/250 [00:13<00:00, 17.95it/s]\n",
      "  0%|          | 0/5410 [00:00<?, ?it/s]"
     ]
    },
    {
     "name": "stdout",
     "output_type": "stream",
     "text": [
      "val Loss: 0.4981\n",
      "\n",
      "Validation -- epoch average precision at k = 1, 2, 3, 4, 5, 6: [0.935   0.9325  0.92405 0.904   0.8406  0.77822]\n",
      "\n",
      "\n",
      "Validation -- epoch average recall at k = 1, 2, 3, 4, 5, 6: [0.17787 0.35415 0.52315 0.68138 0.78267 0.86271]\n",
      "\n",
      "Epoch 3/49\n",
      "----------\n"
     ]
    },
    {
     "name": "stderr",
     "output_type": "stream",
     "text": [
      " 18%|█▊        | 1000/5410 [02:35<12:23,  5.93it/s]"
     ]
    },
    {
     "name": "stdout",
     "output_type": "stream",
     "text": [
      "\n",
      "Running avg Loss at batch iter                                                                 1000 is                                                                 0.48417440143227575\n"
     ]
    },
    {
     "name": "stderr",
     "output_type": "stream",
     "text": [
      " 37%|███▋      | 2000/5410 [05:10<12:28,  4.55it/s]"
     ]
    },
    {
     "name": "stdout",
     "output_type": "stream",
     "text": [
      "\n",
      "Running avg Loss at batch iter                                                                 2000 is                                                                 0.47913758844137194\n"
     ]
    },
    {
     "name": "stderr",
     "output_type": "stream",
     "text": [
      " 55%|█████▌    | 3002/5410 [07:43<05:44,  6.99it/s]"
     ]
    },
    {
     "name": "stdout",
     "output_type": "stream",
     "text": [
      "\n",
      "Running avg Loss at batch iter                                                                 3000 is                                                                 0.4825228420495987\n"
     ]
    },
    {
     "name": "stderr",
     "output_type": "stream",
     "text": [
      " 74%|███████▍  | 4001/5410 [10:19<03:00,  7.82it/s]"
     ]
    },
    {
     "name": "stdout",
     "output_type": "stream",
     "text": [
      "\n",
      "Running avg Loss at batch iter                                                                 4000 is                                                                 0.4823017666935921\n"
     ]
    },
    {
     "name": "stderr",
     "output_type": "stream",
     "text": [
      " 92%|█████████▏| 5000/5410 [12:50<00:57,  7.13it/s]"
     ]
    },
    {
     "name": "stdout",
     "output_type": "stream",
     "text": [
      "\n",
      "Running avg Loss at batch iter                                                                 5000 is                                                                 0.48536613562703135\n"
     ]
    },
    {
     "name": "stderr",
     "output_type": "stream",
     "text": [
      "100%|██████████| 5410/5410 [13:52<00:00,  6.50it/s]\n",
      "  0%|          | 0/250 [00:00<?, ?it/s]"
     ]
    },
    {
     "name": "stdout",
     "output_type": "stream",
     "text": [
      "train Loss: 0.4893\n",
      "\n",
      "Train -- epoch average precision at k = 1, 2, 3, 4, 5, 6: [0.94584104 0.93722274 0.92634104 0.90588031 0.83821627 0.77956654]\n",
      "Train -- epoch average recall at k = 1, 2, 3, 4, 5, 6: [0.17999723 0.35651248 0.52637153 0.68379667 0.78170564 0.86619455]\n",
      "\n"
     ]
    },
    {
     "name": "stderr",
     "output_type": "stream",
     "text": [
      "100%|██████████| 250/250 [00:13<00:00, 17.90it/s]\n",
      "  0%|          | 0/5410 [00:00<?, ?it/s]"
     ]
    },
    {
     "name": "stdout",
     "output_type": "stream",
     "text": [
      "val Loss: 0.4804\n",
      "\n",
      "Validation -- epoch average precision at k = 1, 2, 3, 4, 5, 6: [0.945   0.9385  0.9237  0.90475 0.839   0.78662]\n",
      "\n",
      "\n",
      "Validation -- epoch average recall at k = 1, 2, 3, 4, 5, 6: [0.17955 0.35646 0.52365 0.68213 0.78111 0.87295]\n",
      "\n",
      "Epoch 4/49\n",
      "----------\n"
     ]
    },
    {
     "name": "stderr",
     "output_type": "stream",
     "text": [
      " 18%|█▊        | 1000/5410 [02:35<12:35,  5.84it/s]"
     ]
    },
    {
     "name": "stdout",
     "output_type": "stream",
     "text": [
      "\n",
      "Running avg Loss at batch iter                                                                 1000 is                                                                 0.48396365252137186\n"
     ]
    },
    {
     "name": "stderr",
     "output_type": "stream",
     "text": [
      " 37%|███▋      | 2001/5410 [05:13<09:09,  6.21it/s]"
     ]
    },
    {
     "name": "stdout",
     "output_type": "stream",
     "text": [
      "\n",
      "Running avg Loss at batch iter                                                                 2000 is                                                                 0.48197190123796463\n"
     ]
    },
    {
     "name": "stderr",
     "output_type": "stream",
     "text": [
      " 55%|█████▌    | 3002/5410 [07:42<04:20,  9.24it/s]"
     ]
    },
    {
     "name": "stdout",
     "output_type": "stream",
     "text": [
      "\n",
      "Running avg Loss at batch iter                                                                 3000 is                                                                 0.4778722791969776\n"
     ]
    },
    {
     "name": "stderr",
     "output_type": "stream",
     "text": [
      " 74%|███████▍  | 4001/5410 [10:14<03:09,  7.42it/s]"
     ]
    },
    {
     "name": "stdout",
     "output_type": "stream",
     "text": [
      "\n",
      "Running avg Loss at batch iter                                                                 4000 is                                                                 0.4815908078253269\n"
     ]
    },
    {
     "name": "stderr",
     "output_type": "stream",
     "text": [
      " 92%|█████████▏| 5000/5410 [12:48<00:56,  7.26it/s]"
     ]
    },
    {
     "name": "stdout",
     "output_type": "stream",
     "text": [
      "\n",
      "Running avg Loss at batch iter                                                                 5000 is                                                                 0.47856639337539675\n"
     ]
    },
    {
     "name": "stderr",
     "output_type": "stream",
     "text": [
      "100%|██████████| 5410/5410 [13:52<00:00,  6.50it/s]\n",
      "  0%|          | 0/250 [00:00<?, ?it/s]"
     ]
    },
    {
     "name": "stdout",
     "output_type": "stream",
     "text": [
      "train Loss: 0.4866\n",
      "\n",
      "Train -- epoch average precision at k = 1, 2, 3, 4, 5, 6: [0.94801294 0.94004159 0.92694131 0.90727819 0.83988909 0.78143299]\n",
      "Train -- epoch average recall at k = 1, 2, 3, 4, 5, 6: [0.18053604 0.35785582 0.52691266 0.685128   0.78335074 0.8683378 ]\n",
      "\n"
     ]
    },
    {
     "name": "stderr",
     "output_type": "stream",
     "text": [
      "100%|██████████| 250/250 [00:14<00:00, 17.85it/s]\n",
      "  0%|          | 0/5410 [00:00<?, ?it/s]"
     ]
    },
    {
     "name": "stdout",
     "output_type": "stream",
     "text": [
      "val Loss: 0.6016\n",
      "\n",
      "Validation -- epoch average precision at k = 1, 2, 3, 4, 5, 6: [0.936   0.936   0.92701 0.909   0.8372  0.78231]\n",
      "\n",
      "\n",
      "Validation -- epoch average recall at k = 1, 2, 3, 4, 5, 6: [0.1782  0.35654 0.52656 0.68541 0.77974 0.86679]\n",
      "\n",
      "Epoch 5/49\n",
      "----------\n"
     ]
    },
    {
     "name": "stderr",
     "output_type": "stream",
     "text": [
      " 18%|█▊        | 999/5410 [02:36<12:46,  5.76it/s]"
     ]
    },
    {
     "name": "stdout",
     "output_type": "stream",
     "text": [
      "\n",
      "Running avg Loss at batch iter                                                                 1000 is                                                                 0.47562187066674233\n"
     ]
    },
    {
     "name": "stderr",
     "output_type": "stream",
     "text": [
      " 37%|███▋      | 2000/5410 [05:11<06:04,  9.35it/s]"
     ]
    },
    {
     "name": "stdout",
     "output_type": "stream",
     "text": [
      "\n",
      "Running avg Loss at batch iter                                                                 2000 is                                                                 0.4792864099740982\n"
     ]
    },
    {
     "name": "stderr",
     "output_type": "stream",
     "text": [
      " 55%|█████▌    | 3000/5410 [07:47<05:50,  6.87it/s]"
     ]
    },
    {
     "name": "stdout",
     "output_type": "stream",
     "text": [
      "\n",
      "Running avg Loss at batch iter                                                                 3000 is                                                                 0.483945105522871\n"
     ]
    },
    {
     "name": "stderr",
     "output_type": "stream",
     "text": [
      " 74%|███████▍  | 3999/5410 [10:18<03:57,  5.93it/s]"
     ]
    },
    {
     "name": "stdout",
     "output_type": "stream",
     "text": [
      "\n",
      "Running avg Loss at batch iter                                                                 4000 is                                                                 0.47906476411223414\n"
     ]
    },
    {
     "name": "stderr",
     "output_type": "stream",
     "text": [
      " 92%|█████████▏| 5001/5410 [12:50<01:05,  6.27it/s]"
     ]
    },
    {
     "name": "stdout",
     "output_type": "stream",
     "text": [
      "\n",
      "Running avg Loss at batch iter                                                                 5000 is                                                                 0.480013467758894\n"
     ]
    },
    {
     "name": "stderr",
     "output_type": "stream",
     "text": [
      "100%|██████████| 5410/5410 [13:52<00:00,  6.50it/s]\n",
      "  0%|          | 0/250 [00:00<?, ?it/s]"
     ]
    },
    {
     "name": "stdout",
     "output_type": "stream",
     "text": [
      "train Loss: 0.4841\n",
      "\n",
      "Train -- epoch average precision at k = 1, 2, 3, 4, 5, 6: [0.94893715 0.94004159 0.92764418 0.90649261 0.84036969 0.78247736]\n",
      "Train -- epoch average recall at k = 1, 2, 3, 4, 5, 6: [0.18084704 0.35793346 0.5274866  0.68448983 0.78390573 0.86986969]\n",
      "\n"
     ]
    },
    {
     "name": "stderr",
     "output_type": "stream",
     "text": [
      "100%|██████████| 250/250 [00:14<00:00, 17.85it/s]\n",
      "  0%|          | 0/5410 [00:00<?, ?it/s]"
     ]
    },
    {
     "name": "stdout",
     "output_type": "stream",
     "text": [
      "val Loss: 0.4843\n",
      "\n",
      "Validation -- epoch average precision at k = 1, 2, 3, 4, 5, 6: [0.951   0.939   0.92833 0.9065  0.8416  0.78515]\n",
      "\n",
      "\n",
      "Validation -- epoch average recall at k = 1, 2, 3, 4, 5, 6: [0.18123 0.35668 0.52641 0.68335 0.78395 0.87124]\n",
      "\n",
      "Epoch 6/49\n",
      "----------\n"
     ]
    },
    {
     "name": "stderr",
     "output_type": "stream",
     "text": [
      " 19%|█▊        | 1001/5410 [02:35<11:52,  6.19it/s]"
     ]
    },
    {
     "name": "stdout",
     "output_type": "stream",
     "text": [
      "\n",
      "Running avg Loss at batch iter                                                                 1000 is                                                                 0.477726355612278\n"
     ]
    },
    {
     "name": "stderr",
     "output_type": "stream",
     "text": [
      " 37%|███▋      | 2000/5410 [05:12<12:11,  4.66it/s]"
     ]
    },
    {
     "name": "stdout",
     "output_type": "stream",
     "text": [
      "\n",
      "Running avg Loss at batch iter                                                                 2000 is                                                                 0.47962236681580545\n"
     ]
    },
    {
     "name": "stderr",
     "output_type": "stream",
     "text": [
      " 55%|█████▌    | 3002/5410 [07:47<04:43,  8.48it/s]"
     ]
    },
    {
     "name": "stdout",
     "output_type": "stream",
     "text": [
      "\n",
      "Running avg Loss at batch iter                                                                 3000 is                                                                 0.4784606689810753\n"
     ]
    },
    {
     "name": "stderr",
     "output_type": "stream",
     "text": [
      " 74%|███████▍  | 3999/5410 [10:20<03:52,  6.07it/s]"
     ]
    },
    {
     "name": "stdout",
     "output_type": "stream",
     "text": [
      "\n",
      "Running avg Loss at batch iter                                                                 4000 is                                                                 0.4777773182094097\n"
     ]
    },
    {
     "name": "stderr",
     "output_type": "stream",
     "text": [
      " 92%|█████████▏| 5002/5410 [12:54<00:57,  7.04it/s]"
     ]
    },
    {
     "name": "stdout",
     "output_type": "stream",
     "text": [
      "\n",
      "Running avg Loss at batch iter                                                                 5000 is                                                                 0.48136243695020675\n"
     ]
    },
    {
     "name": "stderr",
     "output_type": "stream",
     "text": [
      "100%|██████████| 5410/5410 [13:53<00:00,  6.49it/s]\n",
      "  0%|          | 0/250 [00:00<?, ?it/s]"
     ]
    },
    {
     "name": "stdout",
     "output_type": "stream",
     "text": [
      "train Loss: 0.4834\n",
      "\n",
      "Train -- epoch average precision at k = 1, 2, 3, 4, 5, 6: [0.94972274 0.94018022 0.92728281 0.90715111 0.84092421 0.78201294]\n",
      "Train -- epoch average recall at k = 1, 2, 3, 4, 5, 6: [0.18089094 0.35804436 0.52728928 0.68509381 0.78436969 0.86915342]\n",
      "\n"
     ]
    },
    {
     "name": "stderr",
     "output_type": "stream",
     "text": [
      "100%|██████████| 250/250 [00:13<00:00, 17.89it/s]\n",
      "  0%|          | 0/5410 [00:00<?, ?it/s]"
     ]
    },
    {
     "name": "stdout",
     "output_type": "stream",
     "text": [
      "val Loss: 0.4829\n",
      "\n",
      "Validation -- epoch average precision at k = 1, 2, 3, 4, 5, 6: [0.955   0.9375  0.92702 0.909   0.8422  0.78378]\n",
      "\n",
      "\n",
      "Validation -- epoch average recall at k = 1, 2, 3, 4, 5, 6: [0.18167 0.3559  0.52637 0.68592 0.78578 0.86935]\n",
      "\n",
      "Epoch 7/49\n",
      "----------\n"
     ]
    },
    {
     "name": "stderr",
     "output_type": "stream",
     "text": [
      " 19%|█▊        | 1001/5410 [02:32<11:44,  6.26it/s]"
     ]
    },
    {
     "name": "stdout",
     "output_type": "stream",
     "text": [
      "\n",
      "Running avg Loss at batch iter                                                                 1000 is                                                                 0.4811639028787613\n"
     ]
    },
    {
     "name": "stderr",
     "output_type": "stream",
     "text": [
      " 37%|███▋      | 2001/5410 [05:05<10:21,  5.49it/s]"
     ]
    },
    {
     "name": "stdout",
     "output_type": "stream",
     "text": [
      "\n",
      "Running avg Loss at batch iter                                                                 2000 is                                                                 0.48164655670523643\n"
     ]
    },
    {
     "name": "stderr",
     "output_type": "stream",
     "text": [
      " 55%|█████▌    | 3001/5410 [07:35<05:59,  6.70it/s]"
     ]
    },
    {
     "name": "stdout",
     "output_type": "stream",
     "text": [
      "\n",
      "Running avg Loss at batch iter                                                                 3000 is                                                                 0.478645470559597\n"
     ]
    },
    {
     "name": "stderr",
     "output_type": "stream",
     "text": [
      " 74%|███████▍  | 4000/5410 [10:09<04:16,  5.49it/s]"
     ]
    },
    {
     "name": "stdout",
     "output_type": "stream",
     "text": [
      "\n",
      "Running avg Loss at batch iter                                                                 4000 is                                                                 0.47506957417726514\n"
     ]
    },
    {
     "name": "stderr",
     "output_type": "stream",
     "text": [
      " 92%|█████████▏| 5000/5410 [12:48<01:15,  5.44it/s]"
     ]
    },
    {
     "name": "stdout",
     "output_type": "stream",
     "text": [
      "\n",
      "Running avg Loss at batch iter                                                                 5000 is                                                                 0.4761318282485008\n"
     ]
    },
    {
     "name": "stderr",
     "output_type": "stream",
     "text": [
      "100%|██████████| 5410/5410 [13:52<00:00,  6.50it/s]\n",
      "  0%|          | 0/250 [00:00<?, ?it/s]"
     ]
    },
    {
     "name": "stdout",
     "output_type": "stream",
     "text": [
      "train Loss: 0.4827\n",
      "\n",
      "Train -- epoch average precision at k = 1, 2, 3, 4, 5, 6: [0.95106285 0.94068854 0.92774538 0.90678142 0.84134935 0.78287985]\n",
      "Train -- epoch average recall at k = 1, 2, 3, 4, 5, 6: [0.18131331 0.35834519 0.52750139 0.68478096 0.78489787 0.8702158 ]\n",
      "\n"
     ]
    },
    {
     "name": "stderr",
     "output_type": "stream",
     "text": [
      "100%|██████████| 250/250 [00:14<00:00, 17.86it/s]\n",
      "  0%|          | 0/5410 [00:00<?, ?it/s]"
     ]
    },
    {
     "name": "stdout",
     "output_type": "stream",
     "text": [
      "val Loss: 0.4767\n",
      "\n",
      "Validation -- epoch average precision at k = 1, 2, 3, 4, 5, 6: [0.946   0.937   0.92897 0.90875 0.8476  0.78828]\n",
      "\n",
      "\n",
      "Validation -- epoch average recall at k = 1, 2, 3, 4, 5, 6: [0.18    0.35697 0.5274  0.68631 0.78993 0.87537]\n",
      "\n",
      "Epoch 8/49\n",
      "----------\n"
     ]
    },
    {
     "name": "stderr",
     "output_type": "stream",
     "text": [
      " 19%|█▊        | 1001/5410 [02:33<11:01,  6.66it/s]"
     ]
    },
    {
     "name": "stdout",
     "output_type": "stream",
     "text": [
      "\n",
      "Running avg Loss at batch iter                                                                 1000 is                                                                 0.47117889603972435\n"
     ]
    },
    {
     "name": "stderr",
     "output_type": "stream",
     "text": [
      " 37%|███▋      | 2001/5410 [05:02<07:54,  7.18it/s]"
     ]
    },
    {
     "name": "stdout",
     "output_type": "stream",
     "text": [
      "\n",
      "Running avg Loss at batch iter                                                                 2000 is                                                                 0.47985233533382415\n"
     ]
    },
    {
     "name": "stderr",
     "output_type": "stream",
     "text": [
      " 55%|█████▌    | 3001/5410 [07:36<04:58,  8.07it/s]"
     ]
    },
    {
     "name": "stdout",
     "output_type": "stream",
     "text": [
      "\n",
      "Running avg Loss at batch iter                                                                 3000 is                                                                 0.4768372945189476\n"
     ]
    },
    {
     "name": "stderr",
     "output_type": "stream",
     "text": [
      " 74%|███████▍  | 4002/5410 [10:12<02:47,  8.42it/s]"
     ]
    },
    {
     "name": "stdout",
     "output_type": "stream",
     "text": [
      "\n",
      "Running avg Loss at batch iter                                                                 4000 is                                                                 0.47850296866893766\n"
     ]
    },
    {
     "name": "stderr",
     "output_type": "stream",
     "text": [
      " 92%|█████████▏| 5001/5410 [12:48<01:03,  6.47it/s]"
     ]
    },
    {
     "name": "stdout",
     "output_type": "stream",
     "text": [
      "\n",
      "Running avg Loss at batch iter                                                                 5000 is                                                                 0.4722061152756214\n"
     ]
    },
    {
     "name": "stderr",
     "output_type": "stream",
     "text": [
      "100%|██████████| 5410/5410 [13:52<00:00,  6.50it/s]\n",
      "  0%|          | 0/250 [00:00<?, ?it/s]"
     ]
    },
    {
     "name": "stdout",
     "output_type": "stream",
     "text": [
      "train Loss: 0.4804\n",
      "\n",
      "Train -- epoch average precision at k = 1, 2, 3, 4, 5, 6: [0.95180222 0.94156654 0.92827033 0.90847967 0.84256007 0.78447458]\n",
      "Train -- epoch average recall at k = 1, 2, 3, 4, 5, 6: [0.18147967 0.35896719 0.52821627 0.68637431 0.78628373 0.87218854]\n",
      "\n"
     ]
    },
    {
     "name": "stderr",
     "output_type": "stream",
     "text": [
      "100%|██████████| 250/250 [00:13<00:00, 17.86it/s]\n",
      "  0%|          | 0/5410 [00:00<?, ?it/s]"
     ]
    },
    {
     "name": "stdout",
     "output_type": "stream",
     "text": [
      "val Loss: 0.5930\n",
      "\n",
      "Validation -- epoch average precision at k = 1, 2, 3, 4, 5, 6: [0.951   0.9405  0.92296 0.90025 0.8382  0.78525]\n",
      "\n",
      "\n",
      "Validation -- epoch average recall at k = 1, 2, 3, 4, 5, 6: [0.18093 0.35788 0.52412 0.67989 0.78097 0.87142]\n",
      "\n",
      "Epoch 9/49\n",
      "----------\n"
     ]
    },
    {
     "name": "stderr",
     "output_type": "stream",
     "text": [
      " 18%|█▊        | 1000/5410 [02:34<10:38,  6.91it/s]"
     ]
    },
    {
     "name": "stdout",
     "output_type": "stream",
     "text": [
      "\n",
      "Running avg Loss at batch iter                                                                 1000 is                                                                 0.48005554246902465\n"
     ]
    },
    {
     "name": "stderr",
     "output_type": "stream",
     "text": [
      " 37%|███▋      | 2001/5410 [05:08<06:40,  8.52it/s]"
     ]
    },
    {
     "name": "stdout",
     "output_type": "stream",
     "text": [
      "\n",
      "Running avg Loss at batch iter                                                                 2000 is                                                                 0.4776742731928825\n"
     ]
    },
    {
     "name": "stderr",
     "output_type": "stream",
     "text": [
      " 55%|█████▌    | 3001/5410 [07:42<06:53,  5.82it/s]"
     ]
    },
    {
     "name": "stdout",
     "output_type": "stream",
     "text": [
      "\n",
      "Running avg Loss at batch iter                                                                 3000 is                                                                 0.4749304027855396\n"
     ]
    },
    {
     "name": "stderr",
     "output_type": "stream",
     "text": [
      " 74%|███████▍  | 4001/5410 [10:16<03:07,  7.50it/s]"
     ]
    },
    {
     "name": "stdout",
     "output_type": "stream",
     "text": [
      "\n",
      "Running avg Loss at batch iter                                                                 4000 is                                                                 0.4766928094923496\n"
     ]
    },
    {
     "name": "stderr",
     "output_type": "stream",
     "text": [
      " 92%|█████████▏| 5001/5410 [12:49<01:17,  5.29it/s]"
     ]
    },
    {
     "name": "stdout",
     "output_type": "stream",
     "text": [
      "\n",
      "Running avg Loss at batch iter                                                                 5000 is                                                                 0.477591071754694\n"
     ]
    },
    {
     "name": "stderr",
     "output_type": "stream",
     "text": [
      "100%|██████████| 5410/5410 [13:52<00:00,  6.50it/s]\n",
      "  0%|          | 0/250 [00:00<?, ?it/s]"
     ]
    },
    {
     "name": "stdout",
     "output_type": "stream",
     "text": [
      "train Loss: 0.4808\n",
      "\n",
      "Train -- epoch average precision at k = 1, 2, 3, 4, 5, 6: [0.95254159 0.94232902 0.9276414  0.90748614 0.84227357 0.78502819]\n",
      "Train -- epoch average recall at k = 1, 2, 3, 4, 5, 6: [0.18171026 0.35914048 0.52769224 0.68546765 0.78574723 0.87285582]\n",
      "\n"
     ]
    },
    {
     "name": "stderr",
     "output_type": "stream",
     "text": [
      "100%|██████████| 250/250 [00:14<00:00, 17.83it/s]\n",
      "  0%|          | 0/5410 [00:00<?, ?it/s]"
     ]
    },
    {
     "name": "stdout",
     "output_type": "stream",
     "text": [
      "val Loss: 0.4935\n",
      "\n",
      "Validation -- epoch average precision at k = 1, 2, 3, 4, 5, 6: [0.941   0.9375  0.92765 0.90775 0.8466  0.7869 ]\n",
      "\n",
      "\n",
      "Validation -- epoch average recall at k = 1, 2, 3, 4, 5, 6: [0.17844 0.35622 0.52671 0.68454 0.78971 0.8733 ]\n",
      "\n",
      "Epoch 10/49\n",
      "----------\n"
     ]
    },
    {
     "name": "stderr",
     "output_type": "stream",
     "text": [
      " 19%|█▊        | 1001/5410 [02:35<11:14,  6.54it/s]"
     ]
    },
    {
     "name": "stdout",
     "output_type": "stream",
     "text": [
      "\n",
      "Running avg Loss at batch iter                                                                 1000 is                                                                 0.4741306137740612\n"
     ]
    },
    {
     "name": "stderr",
     "output_type": "stream",
     "text": [
      " 37%|███▋      | 2002/5410 [05:07<07:25,  7.65it/s]"
     ]
    },
    {
     "name": "stdout",
     "output_type": "stream",
     "text": [
      "\n",
      "Running avg Loss at batch iter                                                                 2000 is                                                                 0.47122268730401995\n"
     ]
    },
    {
     "name": "stderr",
     "output_type": "stream",
     "text": [
      " 55%|█████▌    | 3000/5410 [07:41<08:01,  5.00it/s]"
     ]
    },
    {
     "name": "stdout",
     "output_type": "stream",
     "text": [
      "\n",
      "Running avg Loss at batch iter                                                                 3000 is                                                                 0.47467482858896254\n"
     ]
    },
    {
     "name": "stderr",
     "output_type": "stream",
     "text": [
      " 74%|███████▍  | 4001/5410 [10:19<03:25,  6.85it/s]"
     ]
    },
    {
     "name": "stdout",
     "output_type": "stream",
     "text": [
      "\n",
      "Running avg Loss at batch iter                                                                 4000 is                                                                 0.4760112435817718\n"
     ]
    },
    {
     "name": "stderr",
     "output_type": "stream",
     "text": [
      " 92%|█████████▏| 5000/5410 [12:50<01:16,  5.33it/s]"
     ]
    },
    {
     "name": "stdout",
     "output_type": "stream",
     "text": [
      "\n",
      "Running avg Loss at batch iter                                                                 5000 is                                                                 0.47673259100317955\n"
     ]
    },
    {
     "name": "stderr",
     "output_type": "stream",
     "text": [
      "100%|██████████| 5410/5410 [13:52<00:00,  6.50it/s]\n",
      "  0%|          | 0/250 [00:00<?, ?it/s]"
     ]
    },
    {
     "name": "stdout",
     "output_type": "stream",
     "text": [
      "train Loss: 0.4796\n",
      "\n",
      "Train -- epoch average precision at k = 1, 2, 3, 4, 5, 6: [0.95411275 0.94325323 0.9284219  0.90815619 0.84395564 0.78660351]\n",
      "Train -- epoch average recall at k = 1, 2, 3, 4, 5, 6: [0.1821488  0.35966312 0.52834658 0.68610628 0.78759057 0.8747158 ]\n",
      "\n"
     ]
    },
    {
     "name": "stderr",
     "output_type": "stream",
     "text": [
      "100%|██████████| 250/250 [00:14<00:00, 17.81it/s]\n",
      "  0%|          | 0/5410 [00:00<?, ?it/s]"
     ]
    },
    {
     "name": "stdout",
     "output_type": "stream",
     "text": [
      "val Loss: 0.4817\n",
      "\n",
      "Validation -- epoch average precision at k = 1, 2, 3, 4, 5, 6: [0.951   0.9365  0.928   0.9105  0.8468  0.78838]\n",
      "\n",
      "\n",
      "Validation -- epoch average recall at k = 1, 2, 3, 4, 5, 6: [0.18161 0.35688 0.5275  0.68787 0.78902 0.87477]\n",
      "\n",
      "Epoch 11/49\n",
      "----------\n"
     ]
    },
    {
     "name": "stderr",
     "output_type": "stream",
     "text": [
      " 18%|█▊        | 1000/5410 [02:31<12:01,  6.11it/s]"
     ]
    },
    {
     "name": "stdout",
     "output_type": "stream",
     "text": [
      "\n",
      "Running avg Loss at batch iter                                                                 1000 is                                                                 0.47357191729545595\n"
     ]
    },
    {
     "name": "stderr",
     "output_type": "stream",
     "text": [
      " 37%|███▋      | 2001/5410 [05:06<07:48,  7.28it/s]"
     ]
    },
    {
     "name": "stdout",
     "output_type": "stream",
     "text": [
      "\n",
      "Running avg Loss at batch iter                                                                 2000 is                                                                 0.4755834079682827\n"
     ]
    },
    {
     "name": "stderr",
     "output_type": "stream",
     "text": [
      " 55%|█████▌    | 3002/5410 [07:40<05:25,  7.39it/s]"
     ]
    },
    {
     "name": "stdout",
     "output_type": "stream",
     "text": [
      "\n",
      "Running avg Loss at batch iter                                                                 3000 is                                                                 0.4756215263605118\n"
     ]
    },
    {
     "name": "stderr",
     "output_type": "stream",
     "text": [
      " 74%|███████▍  | 4001/5410 [10:16<04:56,  4.75it/s]"
     ]
    },
    {
     "name": "stdout",
     "output_type": "stream",
     "text": [
      "\n",
      "Running avg Loss at batch iter                                                                 4000 is                                                                 0.4690216791331768\n"
     ]
    },
    {
     "name": "stderr",
     "output_type": "stream",
     "text": [
      " 92%|█████████▏| 5001/5410 [12:48<00:57,  7.13it/s]"
     ]
    },
    {
     "name": "stdout",
     "output_type": "stream",
     "text": [
      "\n",
      "Running avg Loss at batch iter                                                                 5000 is                                                                 0.4744722909927368\n"
     ]
    },
    {
     "name": "stderr",
     "output_type": "stream",
     "text": [
      "100%|██████████| 5410/5410 [13:52<00:00,  6.50it/s]\n",
      "  0%|          | 0/250 [00:00<?, ?it/s]"
     ]
    },
    {
     "name": "stdout",
     "output_type": "stream",
     "text": [
      "train Loss: 0.4787\n",
      "\n",
      "Train -- epoch average precision at k = 1, 2, 3, 4, 5, 6: [0.95415896 0.94235213 0.92894824 0.90777495 0.84306839 0.78634057]\n",
      "Train -- epoch average recall at k = 1, 2, 3, 4, 5, 6: [0.18212708 0.35922227 0.52871349 0.68581562 0.78690989 0.8744427 ]\n",
      "\n"
     ]
    },
    {
     "name": "stderr",
     "output_type": "stream",
     "text": [
      "100%|██████████| 250/250 [00:13<00:00, 17.91it/s]\n",
      "  0%|          | 0/5410 [00:00<?, ?it/s]"
     ]
    },
    {
     "name": "stdout",
     "output_type": "stream",
     "text": [
      "val Loss: 0.5187\n",
      "\n",
      "Validation -- epoch average precision at k = 1, 2, 3, 4, 5, 6: [0.944   0.9335  0.92567 0.9045  0.8388  0.78739]\n",
      "\n",
      "\n",
      "Validation -- epoch average recall at k = 1, 2, 3, 4, 5, 6: [0.18003 0.35521 0.52614 0.68191 0.78169 0.87445]\n",
      "\n",
      "Epoch 12/49\n",
      "----------\n"
     ]
    },
    {
     "name": "stderr",
     "output_type": "stream",
     "text": [
      " 19%|█▊        | 1001/5410 [02:33<08:59,  8.17it/s]"
     ]
    },
    {
     "name": "stdout",
     "output_type": "stream",
     "text": [
      "\n",
      "Running avg Loss at batch iter                                                                 1000 is                                                                 0.47657828867435453\n"
     ]
    },
    {
     "name": "stderr",
     "output_type": "stream",
     "text": [
      " 37%|███▋      | 2000/5410 [05:08<07:10,  7.93it/s]"
     ]
    },
    {
     "name": "stdout",
     "output_type": "stream",
     "text": [
      "\n",
      "Running avg Loss at batch iter                                                                 2000 is                                                                 0.47422197529673576\n"
     ]
    },
    {
     "name": "stderr",
     "output_type": "stream",
     "text": [
      " 55%|█████▌    | 3001/5410 [07:42<05:32,  7.24it/s]"
     ]
    },
    {
     "name": "stdout",
     "output_type": "stream",
     "text": [
      "\n",
      "Running avg Loss at batch iter                                                                 3000 is                                                                 0.4759416320919991\n"
     ]
    },
    {
     "name": "stderr",
     "output_type": "stream",
     "text": [
      " 74%|███████▍  | 4001/5410 [10:21<03:29,  6.72it/s]"
     ]
    },
    {
     "name": "stdout",
     "output_type": "stream",
     "text": [
      "\n",
      "Running avg Loss at batch iter                                                                 4000 is                                                                 0.4732107641994953\n"
     ]
    },
    {
     "name": "stderr",
     "output_type": "stream",
     "text": [
      " 92%|█████████▏| 5000/5410 [12:48<01:06,  6.21it/s]"
     ]
    },
    {
     "name": "stdout",
     "output_type": "stream",
     "text": [
      "\n",
      "Running avg Loss at batch iter                                                                 5000 is                                                                 0.4673150145709515\n"
     ]
    },
    {
     "name": "stderr",
     "output_type": "stream",
     "text": [
      "100%|██████████| 5410/5410 [13:52<00:00,  6.49it/s]\n",
      "  0%|          | 0/250 [00:00<?, ?it/s]"
     ]
    },
    {
     "name": "stdout",
     "output_type": "stream",
     "text": [
      "train Loss: 0.4778\n",
      "\n",
      "Train -- epoch average precision at k = 1, 2, 3, 4, 5, 6: [0.95397412 0.94366913 0.92948383 0.90854898 0.84426987 0.78672967]\n",
      "Train -- epoch average recall at k = 1, 2, 3, 4, 5, 6: [0.1821488  0.36001017 0.52932116 0.68661691 0.78808226 0.87494085]\n",
      "\n"
     ]
    },
    {
     "name": "stderr",
     "output_type": "stream",
     "text": [
      "100%|██████████| 250/250 [00:14<00:00, 17.85it/s]\n",
      "  0%|          | 0/5410 [00:00<?, ?it/s]"
     ]
    },
    {
     "name": "stdout",
     "output_type": "stream",
     "text": [
      "val Loss: 0.4785\n",
      "\n",
      "Validation -- epoch average precision at k = 1, 2, 3, 4, 5, 6: [0.941   0.935   0.92731 0.90675 0.8486  0.78958]\n",
      "\n",
      "\n",
      "Validation -- epoch average recall at k = 1, 2, 3, 4, 5, 6: [0.17855 0.3557  0.52654 0.68346 0.79019 0.87551]\n",
      "\n",
      "Epoch 13/49\n",
      "----------\n"
     ]
    },
    {
     "name": "stderr",
     "output_type": "stream",
     "text": [
      " 18%|█▊        | 1000/5410 [02:36<10:05,  7.29it/s]"
     ]
    },
    {
     "name": "stdout",
     "output_type": "stream",
     "text": [
      "\n",
      "Running avg Loss at batch iter                                                                 1000 is                                                                 0.47468785497546195\n"
     ]
    },
    {
     "name": "stderr",
     "output_type": "stream",
     "text": [
      " 37%|███▋      | 2002/5410 [05:09<07:49,  7.26it/s]"
     ]
    },
    {
     "name": "stdout",
     "output_type": "stream",
     "text": [
      "\n",
      "Running avg Loss at batch iter                                                                 2000 is                                                                 0.46778389433026313\n"
     ]
    },
    {
     "name": "stderr",
     "output_type": "stream",
     "text": [
      " 55%|█████▌    | 3002/5410 [07:44<04:38,  8.65it/s]"
     ]
    },
    {
     "name": "stdout",
     "output_type": "stream",
     "text": [
      "\n",
      "Running avg Loss at batch iter                                                                 3000 is                                                                 0.4734253407418728\n"
     ]
    },
    {
     "name": "stderr",
     "output_type": "stream",
     "text": [
      " 74%|███████▍  | 4000/5410 [10:14<04:46,  4.92it/s]"
     ]
    },
    {
     "name": "stdout",
     "output_type": "stream",
     "text": [
      "\n",
      "Running avg Loss at batch iter                                                                 4000 is                                                                 0.4728249269425869\n"
     ]
    },
    {
     "name": "stderr",
     "output_type": "stream",
     "text": [
      " 92%|█████████▏| 5001/5410 [12:49<00:59,  6.90it/s]"
     ]
    },
    {
     "name": "stdout",
     "output_type": "stream",
     "text": [
      "\n",
      "Running avg Loss at batch iter                                                                 5000 is                                                                 0.4764380284845829\n"
     ]
    },
    {
     "name": "stderr",
     "output_type": "stream",
     "text": [
      "100%|██████████| 5410/5410 [13:52<00:00,  6.50it/s]\n",
      "  0%|          | 0/250 [00:00<?, ?it/s]"
     ]
    },
    {
     "name": "stdout",
     "output_type": "stream",
     "text": [
      "train Loss: 0.4756\n",
      "\n",
      "Train -- epoch average precision at k = 1, 2, 3, 4, 5, 6: [0.95341959 0.94228281 0.92940157 0.90832948 0.84414972 0.78765342]\n",
      "Train -- epoch average recall at k = 1, 2, 3, 4, 5, 6: [0.18187939 0.35925462 0.52914695 0.68628558 0.78799168 0.87614325]\n",
      "\n"
     ]
    },
    {
     "name": "stderr",
     "output_type": "stream",
     "text": [
      "100%|██████████| 250/250 [00:14<00:00, 17.84it/s]\n",
      "  0%|          | 0/5410 [00:00<?, ?it/s]"
     ]
    },
    {
     "name": "stdout",
     "output_type": "stream",
     "text": [
      "val Loss: 0.4895\n",
      "\n",
      "Validation -- epoch average precision at k = 1, 2, 3, 4, 5, 6: [0.944   0.9365  0.92866 0.90625 0.849   0.79036]\n",
      "\n",
      "\n",
      "Validation -- epoch average recall at k = 1, 2, 3, 4, 5, 6: [0.17945 0.35624 0.52769 0.68417 0.79115 0.87741]\n",
      "\n",
      "Epoch 14/49\n",
      "----------\n"
     ]
    },
    {
     "name": "stderr",
     "output_type": "stream",
     "text": [
      " 19%|█▊        | 1001/5410 [02:34<12:03,  6.09it/s]"
     ]
    },
    {
     "name": "stdout",
     "output_type": "stream",
     "text": [
      "\n",
      "Running avg Loss at batch iter                                                                 1000 is                                                                 0.4708630609214306\n"
     ]
    },
    {
     "name": "stderr",
     "output_type": "stream",
     "text": [
      " 37%|███▋      | 2001/5410 [05:09<08:24,  6.75it/s]"
     ]
    },
    {
     "name": "stdout",
     "output_type": "stream",
     "text": [
      "\n",
      "Running avg Loss at batch iter                                                                 2000 is                                                                 0.4713142632842064\n"
     ]
    },
    {
     "name": "stderr",
     "output_type": "stream",
     "text": [
      " 55%|█████▌    | 3001/5410 [07:38<06:12,  6.46it/s]"
     ]
    },
    {
     "name": "stdout",
     "output_type": "stream",
     "text": [
      "\n",
      "Running avg Loss at batch iter                                                                 3000 is                                                                 0.47213536402583123\n"
     ]
    },
    {
     "name": "stderr",
     "output_type": "stream",
     "text": [
      " 74%|███████▍  | 4001/5410 [10:13<02:44,  8.58it/s]"
     ]
    },
    {
     "name": "stdout",
     "output_type": "stream",
     "text": [
      "\n",
      "Running avg Loss at batch iter                                                                 4000 is                                                                 0.4743228289186954\n"
     ]
    },
    {
     "name": "stderr",
     "output_type": "stream",
     "text": [
      " 92%|█████████▏| 5000/5410 [12:49<01:32,  4.45it/s]"
     ]
    },
    {
     "name": "stdout",
     "output_type": "stream",
     "text": [
      "\n",
      "Running avg Loss at batch iter                                                                 5000 is                                                                 0.4729017476141453\n"
     ]
    },
    {
     "name": "stderr",
     "output_type": "stream",
     "text": [
      "100%|██████████| 5410/5410 [13:52<00:00,  6.50it/s]\n",
      "  0%|          | 0/250 [00:00<?, ?it/s]"
     ]
    },
    {
     "name": "stdout",
     "output_type": "stream",
     "text": [
      "train Loss: 0.4765\n",
      "\n",
      "Train -- epoch average precision at k = 1, 2, 3, 4, 5, 6: [0.95425139 0.94258318 0.92839603 0.90821396 0.8448244  0.78741451]\n",
      "Train -- epoch average recall at k = 1, 2, 3, 4, 5, 6: [0.18210166 0.35948567 0.52830453 0.68605776 0.78848706 0.87581516]\n",
      "\n"
     ]
    },
    {
     "name": "stderr",
     "output_type": "stream",
     "text": [
      "100%|██████████| 250/250 [00:13<00:00, 17.86it/s]\n",
      "  0%|          | 0/5410 [00:00<?, ?it/s]"
     ]
    },
    {
     "name": "stdout",
     "output_type": "stream",
     "text": [
      "val Loss: 0.4697\n",
      "\n",
      "Validation -- epoch average precision at k = 1, 2, 3, 4, 5, 6: [0.952   0.94    0.93066 0.91025 0.8446  0.79037]\n",
      "\n",
      "\n",
      "Validation -- epoch average recall at k = 1, 2, 3, 4, 5, 6: [0.18139 0.35824 0.52911 0.68732 0.78764 0.87726]\n",
      "\n",
      "Epoch 15/49\n",
      "----------\n"
     ]
    },
    {
     "name": "stderr",
     "output_type": "stream",
     "text": [
      " 19%|█▊        | 1001/5410 [02:30<12:49,  5.73it/s]"
     ]
    },
    {
     "name": "stdout",
     "output_type": "stream",
     "text": [
      "\n",
      "Running avg Loss at batch iter                                                                 1000 is                                                                 0.4757075661420822\n"
     ]
    },
    {
     "name": "stderr",
     "output_type": "stream",
     "text": [
      " 37%|███▋      | 2000/5410 [05:06<08:40,  6.55it/s]"
     ]
    },
    {
     "name": "stdout",
     "output_type": "stream",
     "text": [
      "\n",
      "Running avg Loss at batch iter                                                                 2000 is                                                                 0.46952958062291145\n"
     ]
    },
    {
     "name": "stderr",
     "output_type": "stream",
     "text": [
      " 55%|█████▌    | 3001/5410 [07:42<06:41,  6.00it/s]"
     ]
    },
    {
     "name": "stdout",
     "output_type": "stream",
     "text": [
      "\n",
      "Running avg Loss at batch iter                                                                 3000 is                                                                 0.4666420448422432\n"
     ]
    },
    {
     "name": "stderr",
     "output_type": "stream",
     "text": [
      " 74%|███████▍  | 3999/5410 [10:14<04:12,  5.59it/s]"
     ]
    },
    {
     "name": "stdout",
     "output_type": "stream",
     "text": [
      "\n",
      "Running avg Loss at batch iter                                                                 4000 is                                                                 0.47149421030282973\n"
     ]
    },
    {
     "name": "stderr",
     "output_type": "stream",
     "text": [
      " 92%|█████████▏| 5000/5410 [12:46<01:05,  6.22it/s]"
     ]
    },
    {
     "name": "stdout",
     "output_type": "stream",
     "text": [
      "\n",
      "Running avg Loss at batch iter                                                                 5000 is                                                                 0.4716577407717705\n"
     ]
    },
    {
     "name": "stderr",
     "output_type": "stream",
     "text": [
      "100%|██████████| 5410/5410 [13:52<00:00,  6.50it/s]\n",
      "  0%|          | 0/250 [00:00<?, ?it/s]"
     ]
    },
    {
     "name": "stdout",
     "output_type": "stream",
     "text": [
      "train Loss: 0.4749\n",
      "\n",
      "Train -- epoch average precision at k = 1, 2, 3, 4, 5, 6: [0.95392791 0.94286044 0.9292366  0.90835259 0.84426987 0.78773429]\n",
      "Train -- epoch average recall at k = 1, 2, 3, 4, 5, 6: [0.18207856 0.35951155 0.52893715 0.68619917 0.78803142 0.87609843]\n",
      "\n"
     ]
    },
    {
     "name": "stderr",
     "output_type": "stream",
     "text": [
      "100%|██████████| 250/250 [00:13<00:00, 17.87it/s]\n",
      "  0%|          | 0/5410 [00:00<?, ?it/s]"
     ]
    },
    {
     "name": "stdout",
     "output_type": "stream",
     "text": [
      "val Loss: 0.4689\n",
      "\n",
      "Validation -- epoch average precision at k = 1, 2, 3, 4, 5, 6: [0.953   0.94    0.929   0.90825 0.8506  0.7932 ]\n",
      "\n",
      "\n",
      "Validation -- epoch average recall at k = 1, 2, 3, 4, 5, 6: [0.1818  0.35817 0.52774 0.6856  0.79241 0.88022]\n",
      "\n",
      "Epoch 16/49\n",
      "----------\n"
     ]
    },
    {
     "name": "stderr",
     "output_type": "stream",
     "text": [
      " 19%|█▊        | 1001/5410 [02:36<13:09,  5.58it/s]"
     ]
    },
    {
     "name": "stdout",
     "output_type": "stream",
     "text": [
      "\n",
      "Running avg Loss at batch iter                                                                 1000 is                                                                 0.46992321452498437\n"
     ]
    },
    {
     "name": "stderr",
     "output_type": "stream",
     "text": [
      " 37%|███▋      | 1999/5410 [05:07<10:10,  5.59it/s]"
     ]
    },
    {
     "name": "stdout",
     "output_type": "stream",
     "text": [
      "\n",
      "Running avg Loss at batch iter                                                                 2000 is                                                                 0.47011744198203087\n"
     ]
    },
    {
     "name": "stderr",
     "output_type": "stream",
     "text": [
      " 55%|█████▌    | 3001/5410 [07:42<07:34,  5.30it/s]"
     ]
    },
    {
     "name": "stdout",
     "output_type": "stream",
     "text": [
      "\n",
      "Running avg Loss at batch iter                                                                 3000 is                                                                 0.4726563541591167\n"
     ]
    },
    {
     "name": "stderr",
     "output_type": "stream",
     "text": [
      " 74%|███████▍  | 4001/5410 [10:15<03:39,  6.43it/s]"
     ]
    },
    {
     "name": "stdout",
     "output_type": "stream",
     "text": [
      "\n",
      "Running avg Loss at batch iter                                                                 4000 is                                                                 0.4676957337856293\n"
     ]
    },
    {
     "name": "stderr",
     "output_type": "stream",
     "text": [
      " 92%|█████████▏| 5000/5410 [12:47<00:57,  7.13it/s]"
     ]
    },
    {
     "name": "stdout",
     "output_type": "stream",
     "text": [
      "\n",
      "Running avg Loss at batch iter                                                                 5000 is                                                                 0.4711281617283821\n"
     ]
    },
    {
     "name": "stderr",
     "output_type": "stream",
     "text": [
      "100%|██████████| 5410/5410 [13:52<00:00,  6.50it/s]\n",
      "  0%|          | 0/250 [00:00<?, ?it/s]"
     ]
    },
    {
     "name": "stdout",
     "output_type": "stream",
     "text": [
      "train Loss: 0.4728\n",
      "\n",
      "Train -- epoch average precision at k = 1, 2, 3, 4, 5, 6: [0.95323475 0.94445471 0.92945009 0.90920749 0.84539741 0.78830268]\n",
      "Train -- epoch average recall at k = 1, 2, 3, 4, 5, 6: [0.18207255 0.36038586 0.52924168 0.68699445 0.78932994 0.87688309]\n",
      "\n"
     ]
    },
    {
     "name": "stderr",
     "output_type": "stream",
     "text": [
      "100%|██████████| 250/250 [00:13<00:00, 17.89it/s]\n",
      "  0%|          | 0/5410 [00:00<?, ?it/s]"
     ]
    },
    {
     "name": "stdout",
     "output_type": "stream",
     "text": [
      "val Loss: 0.5060\n",
      "\n",
      "Validation -- epoch average precision at k = 1, 2, 3, 4, 5, 6: [0.948   0.936   0.92762 0.9035  0.844   0.78468]\n",
      "\n",
      "\n",
      "Validation -- epoch average recall at k = 1, 2, 3, 4, 5, 6: [0.18095 0.35654 0.5272  0.68103 0.78615 0.87061]\n",
      "\n",
      "Epoch 17/49\n",
      "----------\n"
     ]
    },
    {
     "name": "stderr",
     "output_type": "stream",
     "text": [
      " 19%|█▊        | 1001/5410 [02:34<12:36,  5.83it/s]"
     ]
    },
    {
     "name": "stdout",
     "output_type": "stream",
     "text": [
      "\n",
      "Running avg Loss at batch iter                                                                 1000 is                                                                 0.46987654122710226\n"
     ]
    },
    {
     "name": "stderr",
     "output_type": "stream",
     "text": [
      " 37%|███▋      | 2002/5410 [05:09<06:45,  8.39it/s]"
     ]
    },
    {
     "name": "stdout",
     "output_type": "stream",
     "text": [
      "\n",
      "Running avg Loss at batch iter                                                                 2000 is                                                                 0.4658623838126659\n"
     ]
    },
    {
     "name": "stderr",
     "output_type": "stream",
     "text": [
      " 55%|█████▌    | 3001/5410 [07:42<04:11,  9.57it/s]"
     ]
    },
    {
     "name": "stdout",
     "output_type": "stream",
     "text": [
      "\n",
      "Running avg Loss at batch iter                                                                 3000 is                                                                 0.46836849977076056\n"
     ]
    },
    {
     "name": "stderr",
     "output_type": "stream",
     "text": [
      " 74%|███████▍  | 4002/5410 [10:15<03:59,  5.89it/s]"
     ]
    },
    {
     "name": "stdout",
     "output_type": "stream",
     "text": [
      "\n",
      "Running avg Loss at batch iter                                                                 4000 is                                                                 0.4686319464743137\n"
     ]
    },
    {
     "name": "stderr",
     "output_type": "stream",
     "text": [
      " 92%|█████████▏| 5002/5410 [12:51<00:51,  7.88it/s]"
     ]
    },
    {
     "name": "stdout",
     "output_type": "stream",
     "text": [
      "\n",
      "Running avg Loss at batch iter                                                                 5000 is                                                                 0.47220184245705604\n"
     ]
    },
    {
     "name": "stderr",
     "output_type": "stream",
     "text": [
      "100%|██████████| 5410/5410 [13:52<00:00,  6.50it/s]\n",
      "  0%|          | 0/250 [00:00<?, ?it/s]"
     ]
    },
    {
     "name": "stdout",
     "output_type": "stream",
     "text": [
      "train Loss: 0.4719\n",
      "\n",
      "Train -- epoch average precision at k = 1, 2, 3, 4, 5, 6: [0.95374307 0.94445471 0.92995933 0.90912662 0.84663586 0.78885675]\n",
      "Train -- epoch average recall at k = 1, 2, 3, 4, 5, 6: [0.18207579 0.36039233 0.52957671 0.68698891 0.79045009 0.87759658]\n",
      "\n"
     ]
    },
    {
     "name": "stderr",
     "output_type": "stream",
     "text": [
      "100%|██████████| 250/250 [00:13<00:00, 17.91it/s]\n",
      "  0%|          | 0/5410 [00:00<?, ?it/s]"
     ]
    },
    {
     "name": "stdout",
     "output_type": "stream",
     "text": [
      "val Loss: 0.4727\n",
      "\n",
      "Validation -- epoch average precision at k = 1, 2, 3, 4, 5, 6: [0.951   0.937   0.92833 0.9095  0.8492  0.79253]\n",
      "\n",
      "\n",
      "Validation -- epoch average recall at k = 1, 2, 3, 4, 5, 6: [0.18156 0.35706 0.52725 0.68653 0.79168 0.87978]\n",
      "\n",
      "Epoch 18/49\n",
      "----------\n"
     ]
    },
    {
     "name": "stderr",
     "output_type": "stream",
     "text": [
      " 18%|█▊        | 1000/5410 [02:32<10:52,  6.75it/s]"
     ]
    },
    {
     "name": "stdout",
     "output_type": "stream",
     "text": [
      "\n",
      "Running avg Loss at batch iter                                                                 1000 is                                                                 0.47154622349143027\n"
     ]
    },
    {
     "name": "stderr",
     "output_type": "stream",
     "text": [
      " 37%|███▋      | 2000/5410 [05:06<09:32,  5.95it/s]"
     ]
    },
    {
     "name": "stdout",
     "output_type": "stream",
     "text": [
      "\n",
      "Running avg Loss at batch iter                                                                 2000 is                                                                 0.4662207391858101\n"
     ]
    },
    {
     "name": "stderr",
     "output_type": "stream",
     "text": [
      " 55%|█████▌    | 3002/5410 [07:40<04:17,  9.37it/s]"
     ]
    },
    {
     "name": "stdout",
     "output_type": "stream",
     "text": [
      "\n",
      "Running avg Loss at batch iter                                                                 3000 is                                                                 0.4669579362869263\n"
     ]
    },
    {
     "name": "stderr",
     "output_type": "stream",
     "text": [
      " 74%|███████▍  | 4000/5410 [10:17<02:32,  9.25it/s]"
     ]
    },
    {
     "name": "stdout",
     "output_type": "stream",
     "text": [
      "\n",
      "Running avg Loss at batch iter                                                                 4000 is                                                                 0.47284806476533414\n"
     ]
    },
    {
     "name": "stderr",
     "output_type": "stream",
     "text": [
      " 92%|█████████▏| 5001/5410 [12:49<00:53,  7.62it/s]"
     ]
    },
    {
     "name": "stdout",
     "output_type": "stream",
     "text": [
      "\n",
      "Running avg Loss at batch iter                                                                 5000 is                                                                 0.4650698544383049\n"
     ]
    },
    {
     "name": "stderr",
     "output_type": "stream",
     "text": [
      "100%|██████████| 5410/5410 [13:53<00:00,  6.49it/s]\n",
      "  0%|          | 0/250 [00:00<?, ?it/s]"
     ]
    },
    {
     "name": "stdout",
     "output_type": "stream",
     "text": [
      "train Loss: 0.4703\n",
      "\n",
      "Train -- epoch average precision at k = 1, 2, 3, 4, 5, 6: [0.95281885 0.94239834 0.92967976 0.90924214 0.84643253 0.78884335]\n",
      "Train -- epoch average recall at k = 1, 2, 3, 4, 5, 6: [0.18192237 0.35954667 0.52927033 0.68707163 0.79024353 0.87741867]\n",
      "\n"
     ]
    },
    {
     "name": "stderr",
     "output_type": "stream",
     "text": [
      "100%|██████████| 250/250 [00:14<00:00, 17.84it/s]\n",
      "  0%|          | 0/5410 [00:00<?, ?it/s]"
     ]
    },
    {
     "name": "stdout",
     "output_type": "stream",
     "text": [
      "val Loss: 0.4633\n",
      "\n",
      "Validation -- epoch average precision at k = 1, 2, 3, 4, 5, 6: [0.952   0.938   0.92933 0.9115  0.8454  0.79343]\n",
      "\n",
      "\n",
      "Validation -- epoch average recall at k = 1, 2, 3, 4, 5, 6: [0.18147 0.3573  0.52797 0.68864 0.78835 0.88106]\n",
      "\n",
      "Epoch 19/49\n",
      "----------\n"
     ]
    },
    {
     "name": "stderr",
     "output_type": "stream",
     "text": [
      " 18%|█▊        | 1000/5410 [02:35<12:02,  6.11it/s]"
     ]
    },
    {
     "name": "stdout",
     "output_type": "stream",
     "text": [
      "\n",
      "Running avg Loss at batch iter                                                                 1000 is                                                                 0.47116826540231704\n"
     ]
    },
    {
     "name": "stderr",
     "output_type": "stream",
     "text": [
      " 37%|███▋      | 2000/5410 [05:10<08:53,  6.40it/s]"
     ]
    },
    {
     "name": "stdout",
     "output_type": "stream",
     "text": [
      "\n",
      "Running avg Loss at batch iter                                                                 2000 is                                                                 0.46247682470083235\n"
     ]
    },
    {
     "name": "stderr",
     "output_type": "stream",
     "text": [
      " 55%|█████▌    | 3002/5410 [07:44<04:51,  8.25it/s]"
     ]
    },
    {
     "name": "stdout",
     "output_type": "stream",
     "text": [
      "\n",
      "Running avg Loss at batch iter                                                                 3000 is                                                                 0.4678915947675705\n"
     ]
    },
    {
     "name": "stderr",
     "output_type": "stream",
     "text": [
      " 74%|███████▍  | 4001/5410 [10:15<03:35,  6.53it/s]"
     ]
    },
    {
     "name": "stdout",
     "output_type": "stream",
     "text": [
      "\n",
      "Running avg Loss at batch iter                                                                 4000 is                                                                 0.4645886106491089\n"
     ]
    },
    {
     "name": "stderr",
     "output_type": "stream",
     "text": [
      " 92%|█████████▏| 5002/5410 [12:51<00:55,  7.35it/s]"
     ]
    },
    {
     "name": "stdout",
     "output_type": "stream",
     "text": [
      "\n",
      "Running avg Loss at batch iter                                                                 5000 is                                                                 0.4663888992369175\n"
     ]
    },
    {
     "name": "stderr",
     "output_type": "stream",
     "text": [
      "100%|██████████| 5410/5410 [13:52<00:00,  6.50it/s]\n",
      "  0%|          | 0/250 [00:00<?, ?it/s]"
     ]
    },
    {
     "name": "stdout",
     "output_type": "stream",
     "text": [
      "train Loss: 0.4690\n",
      "\n",
      "Train -- epoch average precision at k = 1, 2, 3, 4, 5, 6: [0.95448244 0.94383087 0.92951294 0.90911506 0.8476525  0.78991636]\n",
      "Train -- epoch average recall at k = 1, 2, 3, 4, 5, 6: [0.18223105 0.35994224 0.52931054 0.68712893 0.79153004 0.87875647]\n",
      "\n"
     ]
    },
    {
     "name": "stderr",
     "output_type": "stream",
     "text": [
      "100%|██████████| 250/250 [00:13<00:00, 17.87it/s]\n",
      "  0%|          | 0/5410 [00:00<?, ?it/s]"
     ]
    },
    {
     "name": "stdout",
     "output_type": "stream",
     "text": [
      "val Loss: 0.4655\n",
      "\n",
      "Validation -- epoch average precision at k = 1, 2, 3, 4, 5, 6: [0.951   0.939   0.93131 0.90925 0.851   0.79252]\n",
      "\n",
      "\n",
      "Validation -- epoch average recall at k = 1, 2, 3, 4, 5, 6: [0.18122 0.35734 0.52978 0.686   0.79381 0.87996]\n",
      "\n",
      "Epoch 20/49\n",
      "----------\n"
     ]
    },
    {
     "name": "stderr",
     "output_type": "stream",
     "text": [
      " 18%|█▊        | 1000/5410 [02:35<12:57,  5.68it/s]"
     ]
    },
    {
     "name": "stdout",
     "output_type": "stream",
     "text": [
      "\n",
      "Running avg Loss at batch iter                                                                 1000 is                                                                 0.461496953189373\n"
     ]
    },
    {
     "name": "stderr",
     "output_type": "stream",
     "text": [
      " 37%|███▋      | 2001/5410 [05:07<08:19,  6.82it/s]"
     ]
    },
    {
     "name": "stdout",
     "output_type": "stream",
     "text": [
      "\n",
      "Running avg Loss at batch iter                                                                 2000 is                                                                 0.4635470505058765\n"
     ]
    },
    {
     "name": "stderr",
     "output_type": "stream",
     "text": [
      " 55%|█████▌    | 3001/5410 [07:41<04:35,  8.76it/s]"
     ]
    },
    {
     "name": "stdout",
     "output_type": "stream",
     "text": [
      "\n",
      "Running avg Loss at batch iter                                                                 3000 is                                                                 0.471882581025362\n"
     ]
    },
    {
     "name": "stderr",
     "output_type": "stream",
     "text": [
      " 74%|███████▍  | 4001/5410 [10:14<04:00,  5.87it/s]"
     ]
    },
    {
     "name": "stdout",
     "output_type": "stream",
     "text": [
      "\n",
      "Running avg Loss at batch iter                                                                 4000 is                                                                 0.4648194297552109\n"
     ]
    },
    {
     "name": "stderr",
     "output_type": "stream",
     "text": [
      " 92%|█████████▏| 5001/5410 [12:49<01:25,  4.76it/s]"
     ]
    },
    {
     "name": "stdout",
     "output_type": "stream",
     "text": [
      "\n",
      "Running avg Loss at batch iter                                                                 5000 is                                                                 0.46610050988197327\n"
     ]
    },
    {
     "name": "stderr",
     "output_type": "stream",
     "text": [
      "100%|██████████| 5410/5410 [13:52<00:00,  6.50it/s]\n",
      "  0%|          | 0/250 [00:00<?, ?it/s]"
     ]
    },
    {
     "name": "stdout",
     "output_type": "stream",
     "text": [
      "train Loss: 0.4683\n",
      "\n",
      "Train -- epoch average precision at k = 1, 2, 3, 4, 5, 6: [0.95563771 0.94457024 0.93036183 0.91037431 0.8475878  0.79046026]\n",
      "Train -- epoch average recall at k = 1, 2, 3, 4, 5, 6: [0.18250832 0.36048383 0.53000277 0.68811229 0.79145795 0.87943946]\n",
      "\n"
     ]
    },
    {
     "name": "stderr",
     "output_type": "stream",
     "text": [
      "100%|██████████| 250/250 [00:13<00:00, 17.87it/s]\n",
      "  0%|          | 0/5410 [00:00<?, ?it/s]"
     ]
    },
    {
     "name": "stdout",
     "output_type": "stream",
     "text": [
      "val Loss: 0.4640\n",
      "\n",
      "Validation -- epoch average precision at k = 1, 2, 3, 4, 5, 6: [0.956   0.944   0.93006 0.9105  0.848   0.79006]\n",
      "\n",
      "\n",
      "Validation -- epoch average recall at k = 1, 2, 3, 4, 5, 6: [0.18219 0.35979 0.5292  0.6878  0.791   0.87774]\n",
      "\n",
      "Epoch 21/49\n",
      "----------\n"
     ]
    },
    {
     "name": "stderr",
     "output_type": "stream",
     "text": [
      " 19%|█▊        | 1002/5410 [02:34<10:38,  6.90it/s]"
     ]
    },
    {
     "name": "stdout",
     "output_type": "stream",
     "text": [
      "\n",
      "Running avg Loss at batch iter                                                                 1000 is                                                                 0.4612754766345024\n"
     ]
    },
    {
     "name": "stderr",
     "output_type": "stream",
     "text": [
      " 37%|███▋      | 2000/5410 [05:05<10:13,  5.56it/s]"
     ]
    },
    {
     "name": "stdout",
     "output_type": "stream",
     "text": [
      "\n",
      "Running avg Loss at batch iter                                                                 2000 is                                                                 0.46400670409202577\n"
     ]
    },
    {
     "name": "stderr",
     "output_type": "stream",
     "text": [
      " 55%|█████▌    | 3001/5410 [07:40<05:50,  6.87it/s]"
     ]
    },
    {
     "name": "stdout",
     "output_type": "stream",
     "text": [
      "\n",
      "Running avg Loss at batch iter                                                                 3000 is                                                                 0.4654964620769024\n"
     ]
    },
    {
     "name": "stderr",
     "output_type": "stream",
     "text": [
      " 74%|███████▍  | 4001/5410 [10:16<03:11,  7.36it/s]"
     ]
    },
    {
     "name": "stdout",
     "output_type": "stream",
     "text": [
      "\n",
      "Running avg Loss at batch iter                                                                 4000 is                                                                 0.46784381595253943\n"
     ]
    },
    {
     "name": "stderr",
     "output_type": "stream",
     "text": [
      " 92%|█████████▏| 5001/5410 [12:51<01:00,  6.76it/s]"
     ]
    },
    {
     "name": "stdout",
     "output_type": "stream",
     "text": [
      "\n",
      "Running avg Loss at batch iter                                                                 5000 is                                                                 0.46158616691827775\n"
     ]
    },
    {
     "name": "stderr",
     "output_type": "stream",
     "text": [
      "100%|██████████| 5410/5410 [13:52<00:00,  6.50it/s]\n",
      "  0%|          | 0/250 [00:00<?, ?it/s]"
     ]
    },
    {
     "name": "stdout",
     "output_type": "stream",
     "text": [
      "train Loss: 0.4663\n",
      "\n",
      "Train -- epoch average precision at k = 1, 2, 3, 4, 5, 6: [0.95614603 0.94554067 0.930811   0.91014325 0.84856747 0.79019871]\n",
      "Train -- epoch average recall at k = 1, 2, 3, 4, 5, 6: [0.18271858 0.36102819 0.53044963 0.68796257 0.79262015 0.87927957]\n",
      "\n"
     ]
    },
    {
     "name": "stderr",
     "output_type": "stream",
     "text": [
      "100%|██████████| 250/250 [00:13<00:00, 17.91it/s]\n",
      "  0%|          | 0/5410 [00:00<?, ?it/s]"
     ]
    },
    {
     "name": "stdout",
     "output_type": "stream",
     "text": [
      "val Loss: 0.4671\n",
      "\n",
      "Validation -- epoch average precision at k = 1, 2, 3, 4, 5, 6: [0.958   0.9445  0.92803 0.91125 0.8514  0.79364]\n",
      "\n",
      "\n",
      "Validation -- epoch average recall at k = 1, 2, 3, 4, 5, 6: [0.18322 0.3602  0.52744 0.68829 0.79328 0.88152]\n",
      "\n",
      "Epoch 22/49\n",
      "----------\n"
     ]
    },
    {
     "name": "stderr",
     "output_type": "stream",
     "text": [
      " 18%|█▊        | 1000/5410 [02:34<07:50,  9.37it/s]"
     ]
    },
    {
     "name": "stdout",
     "output_type": "stream",
     "text": [
      "\n",
      "Running avg Loss at batch iter                                                                 1000 is                                                                 0.4630508138388395\n"
     ]
    },
    {
     "name": "stderr",
     "output_type": "stream",
     "text": [
      " 37%|███▋      | 2000/5410 [05:09<09:22,  6.06it/s]"
     ]
    },
    {
     "name": "stdout",
     "output_type": "stream",
     "text": [
      "\n",
      "Running avg Loss at batch iter                                                                 2000 is                                                                 0.4691421768963337\n"
     ]
    },
    {
     "name": "stderr",
     "output_type": "stream",
     "text": [
      " 55%|█████▌    | 3000/5410 [07:42<07:48,  5.14it/s]"
     ]
    },
    {
     "name": "stdout",
     "output_type": "stream",
     "text": [
      "\n",
      "Running avg Loss at batch iter                                                                 3000 is                                                                 0.4677710773944855\n"
     ]
    },
    {
     "name": "stderr",
     "output_type": "stream",
     "text": [
      " 74%|███████▍  | 4000/5410 [10:13<03:15,  7.23it/s]"
     ]
    },
    {
     "name": "stdout",
     "output_type": "stream",
     "text": [
      "\n",
      "Running avg Loss at batch iter                                                                 4000 is                                                                 0.46227956914901736\n"
     ]
    },
    {
     "name": "stderr",
     "output_type": "stream",
     "text": [
      " 92%|█████████▏| 5001/5410 [12:49<00:55,  7.36it/s]"
     ]
    },
    {
     "name": "stdout",
     "output_type": "stream",
     "text": [
      "\n",
      "Running avg Loss at batch iter                                                                 5000 is                                                                 0.4579969219714403\n"
     ]
    },
    {
     "name": "stderr",
     "output_type": "stream",
     "text": [
      "100%|██████████| 5410/5410 [13:52<00:00,  6.50it/s]\n",
      "  0%|          | 0/250 [00:00<?, ?it/s]"
     ]
    },
    {
     "name": "stdout",
     "output_type": "stream",
     "text": [
      "train Loss: 0.4665\n",
      "\n",
      "Train -- epoch average precision at k = 1, 2, 3, 4, 5, 6: [0.95554529 0.9461414  0.93036876 0.91036275 0.84868762 0.79130407]\n",
      "Train -- epoch average recall at k = 1, 2, 3, 4, 5, 6: [0.18255591 0.36126017 0.53006793 0.68805823 0.79278928 0.88044039]\n",
      "\n"
     ]
    },
    {
     "name": "stderr",
     "output_type": "stream",
     "text": [
      "100%|██████████| 250/250 [00:13<00:00, 17.93it/s]\n",
      "  0%|          | 0/5410 [00:00<?, ?it/s]"
     ]
    },
    {
     "name": "stdout",
     "output_type": "stream",
     "text": [
      "val Loss: 0.4666\n",
      "\n",
      "Validation -- epoch average precision at k = 1, 2, 3, 4, 5, 6: [0.951   0.942   0.92932 0.909   0.8482  0.79438]\n",
      "\n",
      "\n",
      "Validation -- epoch average recall at k = 1, 2, 3, 4, 5, 6: [0.18109 0.35893 0.52907 0.68639 0.79061 0.88208]\n",
      "\n",
      "Epoch 23/49\n",
      "----------\n"
     ]
    },
    {
     "name": "stderr",
     "output_type": "stream",
     "text": [
      " 18%|█▊        | 1000/5410 [02:34<10:46,  6.82it/s]"
     ]
    },
    {
     "name": "stdout",
     "output_type": "stream",
     "text": [
      "\n",
      "Running avg Loss at batch iter                                                                 1000 is                                                                 0.46236687219142913\n"
     ]
    },
    {
     "name": "stderr",
     "output_type": "stream",
     "text": [
      " 37%|███▋      | 2001/5410 [05:04<06:55,  8.21it/s]"
     ]
    },
    {
     "name": "stdout",
     "output_type": "stream",
     "text": [
      "\n",
      "Running avg Loss at batch iter                                                                 2000 is                                                                 0.46222413116693495\n"
     ]
    },
    {
     "name": "stderr",
     "output_type": "stream",
     "text": [
      " 55%|█████▌    | 3000/5410 [07:40<07:56,  5.06it/s]"
     ]
    },
    {
     "name": "stdout",
     "output_type": "stream",
     "text": [
      "\n",
      "Running avg Loss at batch iter                                                                 3000 is                                                                 0.4630693375766277\n"
     ]
    },
    {
     "name": "stderr",
     "output_type": "stream",
     "text": [
      " 74%|███████▍  | 4001/5410 [10:14<03:16,  7.17it/s]"
     ]
    },
    {
     "name": "stdout",
     "output_type": "stream",
     "text": [
      "\n",
      "Running avg Loss at batch iter                                                                 4000 is                                                                 0.4675676951110363\n"
     ]
    },
    {
     "name": "stderr",
     "output_type": "stream",
     "text": [
      " 92%|█████████▏| 4999/5410 [12:50<01:07,  6.13it/s]"
     ]
    },
    {
     "name": "stdout",
     "output_type": "stream",
     "text": [
      "\n",
      "Running avg Loss at batch iter                                                                 5000 is                                                                 0.4642466693520546\n"
     ]
    },
    {
     "name": "stderr",
     "output_type": "stream",
     "text": [
      "100%|██████████| 5410/5410 [13:52<00:00,  6.50it/s]\n",
      "  0%|          | 0/250 [00:00<?, ?it/s]"
     ]
    },
    {
     "name": "stdout",
     "output_type": "stream",
     "text": [
      "train Loss: 0.4648\n",
      "\n",
      "Train -- epoch average precision at k = 1, 2, 3, 4, 5, 6: [0.95674677 0.94690388 0.93161368 0.91082486 0.8488817  0.79214279]\n",
      "Train -- epoch average recall at k = 1, 2, 3, 4, 5, 6: [0.18294224 0.36161275 0.53094039 0.68850555 0.79273799 0.88138447]\n",
      "\n"
     ]
    },
    {
     "name": "stderr",
     "output_type": "stream",
     "text": [
      "100%|██████████| 250/250 [00:13<00:00, 17.89it/s]\n",
      "  0%|          | 0/5410 [00:00<?, ?it/s]"
     ]
    },
    {
     "name": "stdout",
     "output_type": "stream",
     "text": [
      "val Loss: 0.4638\n",
      "\n",
      "Validation -- epoch average precision at k = 1, 2, 3, 4, 5, 6: [0.947   0.938   0.92998 0.91025 0.8492  0.79354]\n",
      "\n",
      "\n",
      "Validation -- epoch average recall at k = 1, 2, 3, 4, 5, 6: [0.18059 0.35697 0.52873 0.68699 0.79141 0.88137]\n",
      "\n",
      "Epoch 24/49\n",
      "----------\n"
     ]
    },
    {
     "name": "stderr",
     "output_type": "stream",
     "text": [
      " 19%|█▊        | 1001/5410 [02:35<09:52,  7.45it/s]"
     ]
    },
    {
     "name": "stdout",
     "output_type": "stream",
     "text": [
      "\n",
      "Running avg Loss at batch iter                                                                 1000 is                                                                 0.4685663903951645\n"
     ]
    },
    {
     "name": "stderr",
     "output_type": "stream",
     "text": [
      " 37%|███▋      | 2001/5410 [05:13<06:28,  8.77it/s]"
     ]
    },
    {
     "name": "stdout",
     "output_type": "stream",
     "text": [
      "\n",
      "Running avg Loss at batch iter                                                                 2000 is                                                                 0.4680477879047394\n"
     ]
    },
    {
     "name": "stderr",
     "output_type": "stream",
     "text": [
      " 55%|█████▌    | 3001/5410 [07:43<05:21,  7.50it/s]"
     ]
    },
    {
     "name": "stdout",
     "output_type": "stream",
     "text": [
      "\n",
      "Running avg Loss at batch iter                                                                 3000 is                                                                 0.4636216413080692\n"
     ]
    },
    {
     "name": "stderr",
     "output_type": "stream",
     "text": [
      " 74%|███████▍  | 4001/5410 [10:14<03:45,  6.25it/s]"
     ]
    },
    {
     "name": "stdout",
     "output_type": "stream",
     "text": [
      "\n",
      "Running avg Loss at batch iter                                                                 4000 is                                                                 0.4651315288841724\n"
     ]
    },
    {
     "name": "stderr",
     "output_type": "stream",
     "text": [
      " 92%|█████████▏| 5000/5410 [12:49<00:58,  7.05it/s]"
     ]
    },
    {
     "name": "stdout",
     "output_type": "stream",
     "text": [
      "\n",
      "Running avg Loss at batch iter                                                                 5000 is                                                                 0.45696146215498445\n"
     ]
    },
    {
     "name": "stderr",
     "output_type": "stream",
     "text": [
      "100%|██████████| 5410/5410 [13:52<00:00,  6.50it/s]\n",
      "  0%|          | 0/250 [00:00<?, ?it/s]"
     ]
    },
    {
     "name": "stdout",
     "output_type": "stream",
     "text": [
      "train Loss: 0.4657\n",
      "\n",
      "Train -- epoch average precision at k = 1, 2, 3, 4, 5, 6: [0.95452865 0.94498614 0.93125924 0.91012015 0.84869686 0.79152911]\n",
      "Train -- epoch average recall at k = 1, 2, 3, 4, 5, 6: [0.18233318 0.36055083 0.53049954 0.68776063 0.79256331 0.88062292]\n",
      "\n"
     ]
    },
    {
     "name": "stderr",
     "output_type": "stream",
     "text": [
      "100%|██████████| 250/250 [00:13<00:00, 17.87it/s]\n",
      "  0%|          | 0/5410 [00:00<?, ?it/s]"
     ]
    },
    {
     "name": "stdout",
     "output_type": "stream",
     "text": [
      "val Loss: 0.4684\n",
      "\n",
      "Validation -- epoch average precision at k = 1, 2, 3, 4, 5, 6: [0.956   0.9455  0.93363 0.912   0.8532  0.79418]\n",
      "\n",
      "\n",
      "Validation -- epoch average recall at k = 1, 2, 3, 4, 5, 6: [0.18266 0.36052 0.53191 0.68887 0.79602 0.88173]\n",
      "\n",
      "Epoch 25/49\n",
      "----------\n"
     ]
    },
    {
     "name": "stderr",
     "output_type": "stream",
     "text": [
      " 19%|█▊        | 1001/5410 [02:32<13:34,  5.41it/s]"
     ]
    },
    {
     "name": "stdout",
     "output_type": "stream",
     "text": [
      "\n",
      "Running avg Loss at batch iter                                                                 1000 is                                                                 0.46168840292096136\n"
     ]
    },
    {
     "name": "stderr",
     "output_type": "stream",
     "text": [
      " 37%|███▋      | 2001/5410 [05:06<07:49,  7.25it/s]"
     ]
    },
    {
     "name": "stdout",
     "output_type": "stream",
     "text": [
      "\n",
      "Running avg Loss at batch iter                                                                 2000 is                                                                 0.4623371417969465\n"
     ]
    },
    {
     "name": "stderr",
     "output_type": "stream",
     "text": [
      " 55%|█████▌    | 3001/5410 [07:40<06:07,  6.56it/s]"
     ]
    },
    {
     "name": "stdout",
     "output_type": "stream",
     "text": [
      "\n",
      "Running avg Loss at batch iter                                                                 3000 is                                                                 0.4602344106733799\n"
     ]
    },
    {
     "name": "stderr",
     "output_type": "stream",
     "text": [
      " 74%|███████▍  | 4000/5410 [10:14<03:36,  6.51it/s]"
     ]
    },
    {
     "name": "stdout",
     "output_type": "stream",
     "text": [
      "\n",
      "Running avg Loss at batch iter                                                                 4000 is                                                                 0.4619285239577293\n"
     ]
    },
    {
     "name": "stderr",
     "output_type": "stream",
     "text": [
      " 92%|█████████▏| 4999/5410 [12:49<01:17,  5.29it/s]"
     ]
    },
    {
     "name": "stdout",
     "output_type": "stream",
     "text": [
      "\n",
      "Running avg Loss at batch iter                                                                 5000 is                                                                 0.463665203422308\n"
     ]
    },
    {
     "name": "stderr",
     "output_type": "stream",
     "text": [
      "100%|██████████| 5410/5410 [13:52<00:00,  6.50it/s]\n",
      "  0%|          | 0/250 [00:00<?, ?it/s]"
     ]
    },
    {
     "name": "stdout",
     "output_type": "stream",
     "text": [
      "train Loss: 0.4653\n",
      "\n",
      "Train -- epoch average precision at k = 1, 2, 3, 4, 5, 6: [0.95637708 0.94586414 0.93169316 0.91082486 0.84933457 0.79170518]\n",
      "Train -- epoch average recall at k = 1, 2, 3, 4, 5, 6: [0.18284011 0.36115296 0.53106654 0.68844824 0.7932463  0.88083226]\n",
      "\n"
     ]
    },
    {
     "name": "stderr",
     "output_type": "stream",
     "text": [
      "100%|██████████| 250/250 [00:14<00:00, 17.83it/s]\n",
      "  0%|          | 0/5410 [00:00<?, ?it/s]"
     ]
    },
    {
     "name": "stdout",
     "output_type": "stream",
     "text": [
      "val Loss: 0.4536\n",
      "\n",
      "Validation -- epoch average precision at k = 1, 2, 3, 4, 5, 6: [0.951   0.942   0.93263 0.91125 0.8526  0.79427]\n",
      "\n",
      "\n",
      "Validation -- epoch average recall at k = 1, 2, 3, 4, 5, 6: [0.1814  0.35964 0.53109 0.68825 0.79522 0.88241]\n",
      "\n",
      "Epoch 26/49\n",
      "----------\n"
     ]
    },
    {
     "name": "stderr",
     "output_type": "stream",
     "text": [
      " 19%|█▊        | 1002/5410 [02:35<09:46,  7.52it/s]"
     ]
    },
    {
     "name": "stdout",
     "output_type": "stream",
     "text": [
      "\n",
      "Running avg Loss at batch iter                                                                 1000 is                                                                 0.4560200634598732\n"
     ]
    },
    {
     "name": "stderr",
     "output_type": "stream",
     "text": [
      " 37%|███▋      | 2000/5410 [05:09<08:38,  6.58it/s]"
     ]
    },
    {
     "name": "stdout",
     "output_type": "stream",
     "text": [
      "\n",
      "Running avg Loss at batch iter                                                                 2000 is                                                                 0.46068449883162976\n"
     ]
    },
    {
     "name": "stderr",
     "output_type": "stream",
     "text": [
      " 55%|█████▌    | 3001/5410 [07:41<06:08,  6.54it/s]"
     ]
    },
    {
     "name": "stdout",
     "output_type": "stream",
     "text": [
      "\n",
      "Running avg Loss at batch iter                                                                 3000 is                                                                 0.4595229839533567\n"
     ]
    },
    {
     "name": "stderr",
     "output_type": "stream",
     "text": [
      " 74%|███████▍  | 4000/5410 [10:15<04:10,  5.63it/s]"
     ]
    },
    {
     "name": "stdout",
     "output_type": "stream",
     "text": [
      "\n",
      "Running avg Loss at batch iter                                                                 4000 is                                                                 0.45855783443152903\n"
     ]
    },
    {
     "name": "stderr",
     "output_type": "stream",
     "text": [
      " 92%|█████████▏| 5001/5410 [12:50<00:58,  6.94it/s]"
     ]
    },
    {
     "name": "stdout",
     "output_type": "stream",
     "text": [
      "\n",
      "Running avg Loss at batch iter                                                                 5000 is                                                                 0.4580005670785904\n"
     ]
    },
    {
     "name": "stderr",
     "output_type": "stream",
     "text": [
      "100%|██████████| 5410/5410 [13:52<00:00,  6.50it/s]\n",
      "  0%|          | 0/250 [00:00<?, ?it/s]"
     ]
    },
    {
     "name": "stdout",
     "output_type": "stream",
     "text": [
      "train Loss: 0.4605\n",
      "\n",
      "Train -- epoch average precision at k = 1, 2, 3, 4, 5, 6: [0.95850277 0.94766636 0.93276802 0.91107902 0.85078558 0.79191774]\n",
      "Train -- epoch average recall at k = 1, 2, 3, 4, 5, 6: [0.18318993 0.36193993 0.53174584 0.68885813 0.79488678 0.88115065]\n",
      "\n"
     ]
    },
    {
     "name": "stderr",
     "output_type": "stream",
     "text": [
      "100%|██████████| 250/250 [00:13<00:00, 17.88it/s]\n",
      "  0%|          | 0/5410 [00:00<?, ?it/s]"
     ]
    },
    {
     "name": "stdout",
     "output_type": "stream",
     "text": [
      "val Loss: 0.4873\n",
      "\n",
      "Validation -- epoch average precision at k = 1, 2, 3, 4, 5, 6: [0.961   0.9455  0.92771 0.9105  0.8504  0.79382]\n",
      "\n",
      "\n",
      "Validation -- epoch average recall at k = 1, 2, 3, 4, 5, 6: [0.18387 0.361   0.52895 0.68808 0.79342 0.88179]\n",
      "\n",
      "Epoch 27/49\n",
      "----------\n"
     ]
    },
    {
     "name": "stderr",
     "output_type": "stream",
     "text": [
      " 19%|█▊        | 1001/5410 [02:34<14:07,  5.20it/s]"
     ]
    },
    {
     "name": "stdout",
     "output_type": "stream",
     "text": [
      "\n",
      "Running avg Loss at batch iter                                                                 1000 is                                                                 0.4570132015943527\n"
     ]
    },
    {
     "name": "stderr",
     "output_type": "stream",
     "text": [
      " 37%|███▋      | 2000/5410 [05:09<06:19,  8.99it/s]"
     ]
    },
    {
     "name": "stdout",
     "output_type": "stream",
     "text": [
      "\n",
      "Running avg Loss at batch iter                                                                 2000 is                                                                 0.46098015761375427\n"
     ]
    },
    {
     "name": "stderr",
     "output_type": "stream",
     "text": [
      " 55%|█████▌    | 3001/5410 [07:47<06:27,  6.22it/s]"
     ]
    },
    {
     "name": "stdout",
     "output_type": "stream",
     "text": [
      "\n",
      "Running avg Loss at batch iter                                                                 3000 is                                                                 0.4600106021463871\n"
     ]
    },
    {
     "name": "stderr",
     "output_type": "stream",
     "text": [
      " 74%|███████▍  | 4000/5410 [10:19<03:16,  7.19it/s]"
     ]
    },
    {
     "name": "stdout",
     "output_type": "stream",
     "text": [
      "\n",
      "Running avg Loss at batch iter                                                                 4000 is                                                                 0.45804129101336\n"
     ]
    },
    {
     "name": "stderr",
     "output_type": "stream",
     "text": [
      " 92%|█████████▏| 5000/5410 [12:48<01:20,  5.10it/s]"
     ]
    },
    {
     "name": "stdout",
     "output_type": "stream",
     "text": [
      "\n",
      "Running avg Loss at batch iter                                                                 5000 is                                                                 0.45649087578058245\n"
     ]
    },
    {
     "name": "stderr",
     "output_type": "stream",
     "text": [
      "100%|██████████| 5410/5410 [13:52<00:00,  6.50it/s]\n",
      "  0%|          | 0/250 [00:00<?, ?it/s]"
     ]
    },
    {
     "name": "stdout",
     "output_type": "stream",
     "text": [
      "train Loss: 0.4601\n",
      "\n",
      "Train -- epoch average precision at k = 1, 2, 3, 4, 5, 6: [0.95813309 0.94745841 0.93271303 0.9116451  0.85069316 0.79266174]\n",
      "Train -- epoch average recall at k = 1, 2, 3, 4, 5, 6: [0.18332116 0.36199214 0.5319427  0.68932717 0.7947463  0.88191405]\n",
      "\n"
     ]
    },
    {
     "name": "stderr",
     "output_type": "stream",
     "text": [
      "100%|██████████| 250/250 [00:13<00:00, 17.90it/s]\n",
      "  0%|          | 0/5410 [00:00<?, ?it/s]"
     ]
    },
    {
     "name": "stdout",
     "output_type": "stream",
     "text": [
      "val Loss: 0.4659\n",
      "\n",
      "Validation -- epoch average precision at k = 1, 2, 3, 4, 5, 6: [0.957   0.946   0.93132 0.912   0.8544  0.79478]\n",
      "\n",
      "\n",
      "Validation -- epoch average recall at k = 1, 2, 3, 4, 5, 6: [0.18295 0.36121 0.52982 0.68903 0.79663 0.88323]\n",
      "\n",
      "Epoch 28/49\n",
      "----------\n"
     ]
    },
    {
     "name": "stderr",
     "output_type": "stream",
     "text": [
      " 19%|█▊        | 1001/5410 [02:30<13:06,  5.61it/s]"
     ]
    },
    {
     "name": "stdout",
     "output_type": "stream",
     "text": [
      "\n",
      "Running avg Loss at batch iter                                                                 1000 is                                                                 0.4622372686713934\n"
     ]
    },
    {
     "name": "stderr",
     "output_type": "stream",
     "text": [
      " 37%|███▋      | 2001/5410 [05:02<10:32,  5.39it/s]"
     ]
    },
    {
     "name": "stdout",
     "output_type": "stream",
     "text": [
      "\n",
      "Running avg Loss at batch iter                                                                 2000 is                                                                 0.46082298387587073\n"
     ]
    },
    {
     "name": "stderr",
     "output_type": "stream",
     "text": [
      " 55%|█████▌    | 3001/5410 [07:36<06:08,  6.54it/s]"
     ]
    },
    {
     "name": "stdout",
     "output_type": "stream",
     "text": [
      "\n",
      "Running avg Loss at batch iter                                                                 3000 is                                                                 0.459494092926383\n"
     ]
    },
    {
     "name": "stderr",
     "output_type": "stream",
     "text": [
      " 74%|███████▍  | 4000/5410 [10:08<03:47,  6.21it/s]"
     ]
    },
    {
     "name": "stdout",
     "output_type": "stream",
     "text": [
      "\n",
      "Running avg Loss at batch iter                                                                 4000 is                                                                 0.46124267661571505\n"
     ]
    },
    {
     "name": "stderr",
     "output_type": "stream",
     "text": [
      " 92%|█████████▏| 5002/5410 [12:48<01:00,  6.70it/s]"
     ]
    },
    {
     "name": "stdout",
     "output_type": "stream",
     "text": [
      "\n",
      "Running avg Loss at batch iter                                                                 5000 is                                                                 0.4582994271963835\n"
     ]
    },
    {
     "name": "stderr",
     "output_type": "stream",
     "text": [
      "100%|██████████| 5410/5410 [13:52<00:00,  6.50it/s]\n",
      "  0%|          | 0/250 [00:00<?, ?it/s]"
     ]
    },
    {
     "name": "stdout",
     "output_type": "stream",
     "text": [
      "train Loss: 0.4619\n",
      "\n",
      "Train -- epoch average precision at k = 1, 2, 3, 4, 5, 6: [0.95790203 0.94681146 0.93218669 0.91099815 0.84969501 0.79238909]\n",
      "Train -- epoch average recall at k = 1, 2, 3, 4, 5, 6: [0.18320656 0.36154205 0.53134335 0.68881146 0.79365296 0.88171303]\n",
      "\n"
     ]
    },
    {
     "name": "stderr",
     "output_type": "stream",
     "text": [
      "100%|██████████| 250/250 [00:13<00:00, 17.86it/s]\n",
      "  0%|          | 0/5410 [00:00<?, ?it/s]"
     ]
    },
    {
     "name": "stdout",
     "output_type": "stream",
     "text": [
      "val Loss: 0.4774\n",
      "\n",
      "Validation -- epoch average precision at k = 1, 2, 3, 4, 5, 6: [0.958   0.945   0.93329 0.9115  0.8522  0.79453]\n",
      "\n",
      "\n",
      "Validation -- epoch average recall at k = 1, 2, 3, 4, 5, 6: [0.18337 0.36092 0.532   0.68845 0.79484 0.88283]\n",
      "\n",
      "Epoch 29/49\n",
      "----------\n"
     ]
    },
    {
     "name": "stderr",
     "output_type": "stream",
     "text": [
      " 18%|█▊        | 1000/5410 [02:34<15:06,  4.86it/s]"
     ]
    },
    {
     "name": "stdout",
     "output_type": "stream",
     "text": [
      "\n",
      "Running avg Loss at batch iter                                                                 1000 is                                                                 0.4567884284555912\n"
     ]
    },
    {
     "name": "stderr",
     "output_type": "stream",
     "text": [
      " 37%|███▋      | 2001/5410 [05:09<09:32,  5.96it/s]"
     ]
    },
    {
     "name": "stdout",
     "output_type": "stream",
     "text": [
      "\n",
      "Running avg Loss at batch iter                                                                 2000 is                                                                 0.4626689732968807\n"
     ]
    },
    {
     "name": "stderr",
     "output_type": "stream",
     "text": [
      " 55%|█████▌    | 3001/5410 [07:43<05:36,  7.15it/s]"
     ]
    },
    {
     "name": "stdout",
     "output_type": "stream",
     "text": [
      "\n",
      "Running avg Loss at batch iter                                                                 3000 is                                                                 0.46258912935853\n"
     ]
    },
    {
     "name": "stderr",
     "output_type": "stream",
     "text": [
      " 74%|███████▍  | 4001/5410 [10:19<04:19,  5.42it/s]"
     ]
    },
    {
     "name": "stdout",
     "output_type": "stream",
     "text": [
      "\n",
      "Running avg Loss at batch iter                                                                 4000 is                                                                 0.4570569687485695\n"
     ]
    },
    {
     "name": "stderr",
     "output_type": "stream",
     "text": [
      " 92%|█████████▏| 5002/5410 [12:52<01:02,  6.50it/s]"
     ]
    },
    {
     "name": "stdout",
     "output_type": "stream",
     "text": [
      "\n",
      "Running avg Loss at batch iter                                                                 5000 is                                                                 0.4572777300775051\n"
     ]
    },
    {
     "name": "stderr",
     "output_type": "stream",
     "text": [
      "100%|██████████| 5410/5410 [13:52<00:00,  6.50it/s]\n",
      "  0%|          | 0/250 [00:00<?, ?it/s]"
     ]
    },
    {
     "name": "stdout",
     "output_type": "stream",
     "text": [
      "train Loss: 0.4595\n",
      "\n",
      "Train -- epoch average precision at k = 1, 2, 3, 4, 5, 6: [0.95762477 0.94775878 0.93231054 0.91146026 0.85080407 0.7928854 ]\n",
      "Train -- epoch average recall at k = 1, 2, 3, 4, 5, 6: [0.18305407 0.36199399 0.53146996 0.68919778 0.79472412 0.8822195 ]\n",
      "\n"
     ]
    },
    {
     "name": "stderr",
     "output_type": "stream",
     "text": [
      "100%|██████████| 250/250 [00:14<00:00, 17.85it/s]\n",
      "  0%|          | 0/5410 [00:00<?, ?it/s]"
     ]
    },
    {
     "name": "stdout",
     "output_type": "stream",
     "text": [
      "val Loss: 0.5350\n",
      "\n",
      "Validation -- epoch average precision at k = 1, 2, 3, 4, 5, 6: [0.93    0.9355  0.93031 0.90525 0.8426  0.79003]\n",
      "\n",
      "\n",
      "Validation -- epoch average recall at k = 1, 2, 3, 4, 5, 6: [0.17602 0.35552 0.52944 0.68236 0.78455 0.87677]\n",
      "\n",
      "Epoch 30/49\n",
      "----------\n"
     ]
    },
    {
     "name": "stderr",
     "output_type": "stream",
     "text": [
      " 19%|█▊        | 1001/5410 [02:35<12:36,  5.83it/s]"
     ]
    },
    {
     "name": "stdout",
     "output_type": "stream",
     "text": [
      "\n",
      "Running avg Loss at batch iter                                                                 1000 is                                                                 0.4520466491430998\n"
     ]
    },
    {
     "name": "stderr",
     "output_type": "stream",
     "text": [
      " 37%|███▋      | 2000/5410 [05:06<10:40,  5.33it/s]"
     ]
    },
    {
     "name": "stdout",
     "output_type": "stream",
     "text": [
      "\n",
      "Running avg Loss at batch iter                                                                 2000 is                                                                 0.46193449783325197\n"
     ]
    },
    {
     "name": "stderr",
     "output_type": "stream",
     "text": [
      " 55%|█████▌    | 3001/5410 [07:40<06:10,  6.51it/s]"
     ]
    },
    {
     "name": "stdout",
     "output_type": "stream",
     "text": [
      "\n",
      "Running avg Loss at batch iter                                                                 3000 is                                                                 0.4607228349000215\n"
     ]
    },
    {
     "name": "stderr",
     "output_type": "stream",
     "text": [
      " 74%|███████▍  | 4001/5410 [10:16<04:11,  5.61it/s]"
     ]
    },
    {
     "name": "stdout",
     "output_type": "stream",
     "text": [
      "\n",
      "Running avg Loss at batch iter                                                                 4000 is                                                                 0.45772164738178256\n"
     ]
    },
    {
     "name": "stderr",
     "output_type": "stream",
     "text": [
      " 92%|█████████▏| 5001/5410 [12:48<00:55,  7.31it/s]"
     ]
    },
    {
     "name": "stdout",
     "output_type": "stream",
     "text": [
      "\n",
      "Running avg Loss at batch iter                                                                 5000 is                                                                 0.4524843499958515\n"
     ]
    },
    {
     "name": "stderr",
     "output_type": "stream",
     "text": [
      "100%|██████████| 5410/5410 [13:53<00:00,  6.49it/s]\n",
      "  0%|          | 0/250 [00:00<?, ?it/s]"
     ]
    },
    {
     "name": "stdout",
     "output_type": "stream",
     "text": [
      "train Loss: 0.4590\n",
      "\n",
      "Train -- epoch average precision at k = 1, 2, 3, 4, 5, 6: [0.95859519 0.94831331 0.93283595 0.91180684 0.85140481 0.79307856]\n",
      "Train -- epoch average recall at k = 1, 2, 3, 4, 5, 6: [0.18341543 0.36237431 0.5318854  0.6896719  0.79547643 0.88234566]\n",
      "\n"
     ]
    },
    {
     "name": "stderr",
     "output_type": "stream",
     "text": [
      "100%|██████████| 250/250 [00:13<00:00, 17.91it/s]\n",
      "  0%|          | 0/5410 [00:00<?, ?it/s]"
     ]
    },
    {
     "name": "stdout",
     "output_type": "stream",
     "text": [
      "val Loss: 0.5218\n",
      "\n",
      "Validation -- epoch average precision at k = 1, 2, 3, 4, 5, 6: [0.954   0.9435  0.9287  0.90925 0.8496  0.79278]\n",
      "\n",
      "\n",
      "Validation -- epoch average recall at k = 1, 2, 3, 4, 5, 6: [0.18186 0.3604  0.52992 0.68719 0.79254 0.88022]\n",
      "\n",
      "Epoch 31/49\n",
      "----------\n"
     ]
    },
    {
     "name": "stderr",
     "output_type": "stream",
     "text": [
      " 19%|█▊        | 1001/5410 [02:35<10:48,  6.80it/s]"
     ]
    },
    {
     "name": "stdout",
     "output_type": "stream",
     "text": [
      "\n",
      "Running avg Loss at batch iter                                                                 1000 is                                                                 0.4555240867137909\n"
     ]
    },
    {
     "name": "stderr",
     "output_type": "stream",
     "text": [
      " 37%|███▋      | 2000/5410 [05:08<10:35,  5.37it/s]"
     ]
    },
    {
     "name": "stdout",
     "output_type": "stream",
     "text": [
      "\n",
      "Running avg Loss at batch iter                                                                 2000 is                                                                 0.45236150977015493\n"
     ]
    },
    {
     "name": "stderr",
     "output_type": "stream",
     "text": [
      " 55%|█████▌    | 3000/5410 [07:42<05:29,  7.30it/s]"
     ]
    },
    {
     "name": "stdout",
     "output_type": "stream",
     "text": [
      "\n",
      "Running avg Loss at batch iter                                                                 3000 is                                                                 0.45670087333023546\n"
     ]
    },
    {
     "name": "stderr",
     "output_type": "stream",
     "text": [
      " 74%|███████▍  | 4000/5410 [10:13<04:12,  5.59it/s]"
     ]
    },
    {
     "name": "stdout",
     "output_type": "stream",
     "text": [
      "\n",
      "Running avg Loss at batch iter                                                                 4000 is                                                                 0.45931275849044323\n"
     ]
    },
    {
     "name": "stderr",
     "output_type": "stream",
     "text": [
      " 92%|█████████▏| 5000/5410 [12:49<01:24,  4.84it/s]"
     ]
    },
    {
     "name": "stdout",
     "output_type": "stream",
     "text": [
      "\n",
      "Running avg Loss at batch iter                                                                 5000 is                                                                 0.4615615996718407\n"
     ]
    },
    {
     "name": "stderr",
     "output_type": "stream",
     "text": [
      "100%|██████████| 5410/5410 [13:52<00:00,  6.50it/s]\n",
      "  0%|          | 0/250 [00:00<?, ?it/s]"
     ]
    },
    {
     "name": "stdout",
     "output_type": "stream",
     "text": [
      "train Loss: 0.4587\n",
      "\n",
      "Train -- epoch average precision at k = 1, 2, 3, 4, 5, 6: [0.95919593 0.94838262 0.93235074 0.91143715 0.85026802 0.79316821]\n",
      "Train -- epoch average recall at k = 1, 2, 3, 4, 5, 6: [0.18355776 0.36240157 0.53150601 0.68914972 0.79433457 0.88240296]\n",
      "\n"
     ]
    },
    {
     "name": "stderr",
     "output_type": "stream",
     "text": [
      "100%|██████████| 250/250 [00:13<00:00, 17.87it/s]\n",
      "  0%|          | 0/5410 [00:00<?, ?it/s]"
     ]
    },
    {
     "name": "stdout",
     "output_type": "stream",
     "text": [
      "val Loss: 0.4956\n",
      "\n",
      "Validation -- epoch average precision at k = 1, 2, 3, 4, 5, 6: [0.956   0.9485  0.93002 0.91225 0.8518  0.79364]\n",
      "\n",
      "\n",
      "Validation -- epoch average recall at k = 1, 2, 3, 4, 5, 6: [0.18277 0.36264 0.52925 0.68972 0.79424 0.8815 ]\n",
      "\n",
      "Epoch 32/49\n",
      "----------\n"
     ]
    },
    {
     "name": "stderr",
     "output_type": "stream",
     "text": [
      " 19%|█▊        | 1001/5410 [02:36<11:00,  6.68it/s]"
     ]
    },
    {
     "name": "stdout",
     "output_type": "stream",
     "text": [
      "\n",
      "Running avg Loss at batch iter                                                                 1000 is                                                                 0.4514955671131611\n"
     ]
    },
    {
     "name": "stderr",
     "output_type": "stream",
     "text": [
      " 37%|███▋      | 2000/5410 [05:08<07:56,  7.15it/s]"
     ]
    },
    {
     "name": "stdout",
     "output_type": "stream",
     "text": [
      "\n",
      "Running avg Loss at batch iter                                                                 2000 is                                                                 0.45876949991285804\n"
     ]
    },
    {
     "name": "stderr",
     "output_type": "stream",
     "text": [
      " 55%|█████▌    | 3001/5410 [07:42<05:33,  7.23it/s]"
     ]
    },
    {
     "name": "stdout",
     "output_type": "stream",
     "text": [
      "\n",
      "Running avg Loss at batch iter                                                                 3000 is                                                                 0.45686741498112676\n"
     ]
    },
    {
     "name": "stderr",
     "output_type": "stream",
     "text": [
      " 74%|███████▍  | 3999/5410 [10:17<03:06,  7.57it/s]"
     ]
    },
    {
     "name": "stdout",
     "output_type": "stream",
     "text": [
      "\n",
      "Running avg Loss at batch iter                                                                 4000 is                                                                 0.45378314854204654\n"
     ]
    },
    {
     "name": "stderr",
     "output_type": "stream",
     "text": [
      " 92%|█████████▏| 5001/5410 [12:48<01:05,  6.23it/s]"
     ]
    },
    {
     "name": "stdout",
     "output_type": "stream",
     "text": [
      "\n",
      "Running avg Loss at batch iter                                                                 5000 is                                                                 0.4536869696378708\n"
     ]
    },
    {
     "name": "stderr",
     "output_type": "stream",
     "text": [
      "100%|██████████| 5410/5410 [13:51<00:00,  6.51it/s]\n",
      "  0%|          | 0/250 [00:00<?, ?it/s]"
     ]
    },
    {
     "name": "stdout",
     "output_type": "stream",
     "text": [
      "train Loss: 0.4572\n",
      "\n",
      "Train -- epoch average precision at k = 1, 2, 3, 4, 5, 6: [0.95938078 0.94849815 0.93308272 0.91207255 0.85134935 0.79393207]\n",
      "Train -- epoch average recall at k = 1, 2, 3, 4, 5, 6: [0.18356839 0.36242652 0.53213031 0.6897976  0.79541359 0.88331701]\n",
      "\n"
     ]
    },
    {
     "name": "stderr",
     "output_type": "stream",
     "text": [
      "100%|██████████| 250/250 [00:13<00:00, 17.90it/s]"
     ]
    },
    {
     "name": "stdout",
     "output_type": "stream",
     "text": [
      "val Loss: 0.5580\n",
      "\n",
      "Validation -- epoch average precision at k = 1, 2, 3, 4, 5, 6: [0.954   0.944   0.92769 0.91275 0.8512  0.79586]\n",
      "\n",
      "\n",
      "Validation -- epoch average recall at k = 1, 2, 3, 4, 5, 6: [0.18225 0.36117 0.52921 0.69107 0.79418 0.88355]\n",
      "\n"
     ]
    },
    {
     "name": "stderr",
     "output_type": "stream",
     "text": [
      "\n"
     ]
    }
   ],
   "source": [
    "# Average model\n",
    "resnet18_avg = train_and_save(\n",
    "    model_type = 'avg',\n",
    "    model_name = 'resnet18',\n",
    "    lr = 0.001,\n",
    "    device = device,\n",
    "    num_categories= num_categories,\n",
    "    num_epochs= 50,\n",
    "    early_stopping= True,\n",
    "    save_folder = '/home/mridula/Projects/MIML/temp',\n",
    "    patience =5,\n",
    "    use_pretrained=True\n",
    ")"
   ]
  },
  {
   "cell_type": "code",
   "execution_count": 18,
   "metadata": {},
   "outputs": [
    {
     "name": "stderr",
     "output_type": "stream",
     "text": [
      "100%|██████████| 125/125 [00:07<00:00, 17.35it/s]"
     ]
    },
    {
     "name": "stdout",
     "output_type": "stream",
     "text": [
      "CPU times: user 6.39 s, sys: 432 ms, total: 6.82 s\n",
      "Wall time: 7.21 s\n"
     ]
    },
    {
     "name": "stderr",
     "output_type": "stream",
     "text": [
      "\n"
     ]
    }
   ],
   "source": [
    "%%time\n",
    "# TESTING\n",
    "result_resnet18_avg = test_multi_instance_model(resnet18_avg, device, dataloaders_dict['test'])"
   ]
  },
  {
   "cell_type": "code",
   "execution_count": 19,
   "metadata": {},
   "outputs": [
    {
     "data": {
      "text/plain": [
       "{'precision_at': {1: 0.966, 2: 0.949, 3: 0.935, 4: 0.914, 5: 0.857, 6: 0.798},\n",
       " 'recall_at': {1: 0.185, 2: 0.362, 3: 0.531, 4: 0.688, 5: 0.797, 6: 0.884}}"
      ]
     },
     "execution_count": 19,
     "metadata": {},
     "output_type": "execute_result"
    }
   ],
   "source": [
    "result_resnet18_avg"
   ]
  },
  {
   "cell_type": "code",
   "execution_count": null,
   "metadata": {},
   "outputs": [
    {
     "name": "stderr",
     "output_type": "stream",
     "text": [
      "\r",
      "  0%|          | 0/5410 [00:00<?, ?it/s]"
     ]
    },
    {
     "name": "stdout",
     "output_type": "stream",
     "text": [
      "cuda:0\n",
      "Epoch 0/49\n",
      "----------\n"
     ]
    },
    {
     "name": "stderr",
     "output_type": "stream",
     "text": [
      " 18%|█▊        | 1000/5410 [02:49<09:56,  7.39it/s]"
     ]
    },
    {
     "name": "stdout",
     "output_type": "stream",
     "text": [
      "\n",
      "Running avg Loss at batch iter                                                                 1000 is                                                                 0.5113341208100319\n"
     ]
    },
    {
     "name": "stderr",
     "output_type": "stream",
     "text": [
      " 37%|███▋      | 2001/5410 [05:35<10:52,  5.22it/s]"
     ]
    },
    {
     "name": "stdout",
     "output_type": "stream",
     "text": [
      "\n",
      "Running avg Loss at batch iter                                                                 2000 is                                                                 0.4858894019126892\n"
     ]
    },
    {
     "name": "stderr",
     "output_type": "stream",
     "text": [
      " 55%|█████▌    | 3001/5410 [08:20<07:16,  5.52it/s]"
     ]
    },
    {
     "name": "stdout",
     "output_type": "stream",
     "text": [
      "\n",
      "Running avg Loss at batch iter                                                                 3000 is                                                                 0.48900026494264603\n"
     ]
    },
    {
     "name": "stderr",
     "output_type": "stream",
     "text": [
      " 74%|███████▍  | 4001/5410 [11:08<03:25,  6.85it/s]"
     ]
    },
    {
     "name": "stdout",
     "output_type": "stream",
     "text": [
      "\n",
      "Running avg Loss at batch iter                                                                 4000 is                                                                 0.49100832337141037\n"
     ]
    },
    {
     "name": "stderr",
     "output_type": "stream",
     "text": [
      " 92%|█████████▏| 5001/5410 [13:52<00:57,  7.13it/s]"
     ]
    },
    {
     "name": "stdout",
     "output_type": "stream",
     "text": [
      "\n",
      "Running avg Loss at batch iter                                                                 5000 is                                                                 0.4840430717766285\n"
     ]
    },
    {
     "name": "stderr",
     "output_type": "stream",
     "text": [
      "100%|██████████| 5410/5410 [15:01<00:00,  6.00it/s]\n",
      "  0%|          | 0/250 [00:00<?, ?it/s]"
     ]
    },
    {
     "name": "stdout",
     "output_type": "stream",
     "text": [
      "train Loss: 0.4984\n",
      "\n",
      "Train -- epoch average precision at k = 1, 2, 3, 4, 5, 6: [0.93867837 0.93366451 0.92304806 0.90231054 0.83542514 0.77667699]\n",
      "Train -- epoch average recall at k = 1, 2, 3, 4, 5, 6: [0.17814048 0.35463078 0.52388447 0.68060767 0.77893299 0.86287523]\n",
      "\n"
     ]
    },
    {
     "name": "stderr",
     "output_type": "stream",
     "text": [
      "100%|██████████| 250/250 [00:14<00:00, 16.67it/s]\n",
      "  0%|          | 0/5410 [00:00<?, ?it/s]"
     ]
    },
    {
     "name": "stdout",
     "output_type": "stream",
     "text": [
      "val Loss: 0.4763\n",
      "\n",
      "Validation -- epoch average precision at k = 1, 2, 3, 4, 5, 6: [0.941   0.9365  0.92862 0.9125  0.8452  0.78765]\n",
      "\n",
      "\n",
      "Validation -- epoch average recall at k = 1, 2, 3, 4, 5, 6: [0.17878 0.35612 0.52858 0.68859 0.78736 0.87426]\n",
      "\n",
      "Epoch 1/49\n",
      "----------\n"
     ]
    },
    {
     "name": "stderr",
     "output_type": "stream",
     "text": [
      " 19%|█▊        | 1001/5410 [02:45<14:49,  4.96it/s]"
     ]
    },
    {
     "name": "stdout",
     "output_type": "stream",
     "text": [
      "\n",
      "Running avg Loss at batch iter                                                                 1000 is                                                                 0.4858317643404007\n"
     ]
    },
    {
     "name": "stderr",
     "output_type": "stream",
     "text": [
      " 37%|███▋      | 2001/5410 [05:34<07:36,  7.47it/s]"
     ]
    },
    {
     "name": "stdout",
     "output_type": "stream",
     "text": [
      "\n",
      "Running avg Loss at batch iter                                                                 2000 is                                                                 0.48496289005875587\n"
     ]
    },
    {
     "name": "stderr",
     "output_type": "stream",
     "text": [
      " 55%|█████▌    | 3002/5410 [08:18<06:17,  6.38it/s]"
     ]
    },
    {
     "name": "stdout",
     "output_type": "stream",
     "text": [
      "\n",
      "Running avg Loss at batch iter                                                                 3000 is                                                                 0.4816101416349411\n"
     ]
    },
    {
     "name": "stderr",
     "output_type": "stream",
     "text": [
      " 74%|███████▍  | 4000/5410 [11:03<03:55,  6.00it/s]"
     ]
    },
    {
     "name": "stdout",
     "output_type": "stream",
     "text": [
      "\n",
      "Running avg Loss at batch iter                                                                 4000 is                                                                 0.4832725880742073\n"
     ]
    },
    {
     "name": "stderr",
     "output_type": "stream",
     "text": [
      " 92%|█████████▏| 5000/5410 [13:51<01:07,  6.04it/s]"
     ]
    },
    {
     "name": "stdout",
     "output_type": "stream",
     "text": [
      "\n",
      "Running avg Loss at batch iter                                                                 5000 is                                                                 0.47609349980950355\n"
     ]
    },
    {
     "name": "stderr",
     "output_type": "stream",
     "text": [
      "100%|██████████| 5410/5410 [15:02<00:00,  5.99it/s]\n",
      "  0%|          | 0/250 [00:00<?, ?it/s]"
     ]
    },
    {
     "name": "stdout",
     "output_type": "stream",
     "text": [
      "train Loss: 0.4869\n",
      "\n",
      "Train -- epoch average precision at k = 1, 2, 3, 4, 5, 6: [0.94574861 0.93884011 0.92602819 0.90545287 0.83860444 0.78133503]\n",
      "Train -- epoch average recall at k = 1, 2, 3, 4, 5, 6: [0.18000878 0.35737338 0.52604713 0.68351802 0.78213078 0.86869871]\n",
      "\n"
     ]
    },
    {
     "name": "stderr",
     "output_type": "stream",
     "text": [
      "100%|██████████| 250/250 [00:15<00:00, 16.63it/s]\n",
      "  0%|          | 0/5410 [00:00<?, ?it/s]"
     ]
    },
    {
     "name": "stdout",
     "output_type": "stream",
     "text": [
      "val Loss: 0.4692\n",
      "\n",
      "Validation -- epoch average precision at k = 1, 2, 3, 4, 5, 6: [0.956   0.949   0.93037 0.913   0.846   0.79057]\n",
      "\n",
      "\n",
      "Validation -- epoch average recall at k = 1, 2, 3, 4, 5, 6: [0.1827  0.36232 0.5293  0.69044 0.78852 0.87763]\n",
      "\n",
      "Epoch 2/49\n",
      "----------\n"
     ]
    },
    {
     "name": "stderr",
     "output_type": "stream",
     "text": [
      " 18%|█▊        | 1000/5410 [02:47<12:16,  5.99it/s]"
     ]
    },
    {
     "name": "stdout",
     "output_type": "stream",
     "text": [
      "\n",
      "Running avg Loss at batch iter                                                                 1000 is                                                                 0.4761155560910702\n"
     ]
    },
    {
     "name": "stderr",
     "output_type": "stream",
     "text": [
      " 37%|███▋      | 2001/5410 [05:37<10:47,  5.27it/s]"
     ]
    },
    {
     "name": "stdout",
     "output_type": "stream",
     "text": [
      "\n",
      "Running avg Loss at batch iter                                                                 2000 is                                                                 0.477062165081501\n"
     ]
    },
    {
     "name": "stderr",
     "output_type": "stream",
     "text": [
      " 55%|█████▌    | 3001/5410 [08:21<05:56,  6.75it/s]"
     ]
    },
    {
     "name": "stdout",
     "output_type": "stream",
     "text": [
      "\n",
      "Running avg Loss at batch iter                                                                 3000 is                                                                 0.4783638897836208\n"
     ]
    },
    {
     "name": "stderr",
     "output_type": "stream",
     "text": [
      " 74%|███████▍  | 4001/5410 [11:05<03:09,  7.44it/s]"
     ]
    },
    {
     "name": "stdout",
     "output_type": "stream",
     "text": [
      "\n",
      "Running avg Loss at batch iter                                                                 4000 is                                                                 0.48001271480321883\n"
     ]
    },
    {
     "name": "stderr",
     "output_type": "stream",
     "text": [
      " 92%|█████████▏| 5000/5410 [13:52<01:30,  4.52it/s]"
     ]
    },
    {
     "name": "stdout",
     "output_type": "stream",
     "text": [
      "\n",
      "Running avg Loss at batch iter                                                                 5000 is                                                                 0.47458914351463316\n"
     ]
    },
    {
     "name": "stderr",
     "output_type": "stream",
     "text": [
      "100%|██████████| 5410/5410 [15:02<00:00,  5.99it/s]\n",
      "  0%|          | 0/250 [00:00<?, ?it/s]"
     ]
    },
    {
     "name": "stdout",
     "output_type": "stream",
     "text": [
      "train Loss: 0.4808\n",
      "\n",
      "Train -- epoch average precision at k = 1, 2, 3, 4, 5, 6: [0.94921442 0.94110444 0.92849214 0.9088147  0.84127542 0.78343161]\n",
      "Train -- epoch average recall at k = 1, 2, 3, 4, 5, 6: [0.18083595 0.35845887 0.52808226 0.68647782 0.78484658 0.87116867]\n",
      "\n"
     ]
    },
    {
     "name": "stderr",
     "output_type": "stream",
     "text": [
      "100%|██████████| 250/250 [00:15<00:00, 16.62it/s]\n",
      "  0%|          | 0/5410 [00:00<?, ?it/s]"
     ]
    },
    {
     "name": "stdout",
     "output_type": "stream",
     "text": [
      "val Loss: 0.4665\n",
      "\n",
      "Validation -- epoch average precision at k = 1, 2, 3, 4, 5, 6: [0.957   0.945   0.93035 0.91175 0.8446  0.7877 ]\n",
      "\n",
      "\n",
      "Validation -- epoch average recall at k = 1, 2, 3, 4, 5, 6: [0.18319 0.35982 0.52767 0.68785 0.78599 0.87451]\n",
      "\n",
      "Epoch 3/49\n",
      "----------\n"
     ]
    },
    {
     "name": "stderr",
     "output_type": "stream",
     "text": [
      " 19%|█▊        | 1001/5410 [02:45<09:45,  7.54it/s]"
     ]
    },
    {
     "name": "stdout",
     "output_type": "stream",
     "text": [
      "\n",
      "Running avg Loss at batch iter                                                                 1000 is                                                                 0.46888419649004937\n"
     ]
    },
    {
     "name": "stderr",
     "output_type": "stream",
     "text": [
      " 37%|███▋      | 2000/5410 [05:34<09:39,  5.88it/s]"
     ]
    },
    {
     "name": "stdout",
     "output_type": "stream",
     "text": [
      "\n",
      "Running avg Loss at batch iter                                                                 2000 is                                                                 0.47504233923554423\n"
     ]
    },
    {
     "name": "stderr",
     "output_type": "stream",
     "text": [
      " 55%|█████▌    | 3001/5410 [08:21<04:23,  9.14it/s]"
     ]
    },
    {
     "name": "stdout",
     "output_type": "stream",
     "text": [
      "\n",
      "Running avg Loss at batch iter                                                                 3000 is                                                                 0.47260917925834656\n"
     ]
    },
    {
     "name": "stderr",
     "output_type": "stream",
     "text": [
      " 74%|███████▍  | 4002/5410 [11:06<02:56,  7.98it/s]"
     ]
    },
    {
     "name": "stdout",
     "output_type": "stream",
     "text": [
      "\n",
      "Running avg Loss at batch iter                                                                 4000 is                                                                 0.4771058682501316\n"
     ]
    },
    {
     "name": "stderr",
     "output_type": "stream",
     "text": [
      " 92%|█████████▏| 5000/5410 [13:53<01:04,  6.34it/s]"
     ]
    },
    {
     "name": "stdout",
     "output_type": "stream",
     "text": [
      "\n",
      "Running avg Loss at batch iter                                                                 5000 is                                                                 0.4656695818603039\n"
     ]
    },
    {
     "name": "stderr",
     "output_type": "stream",
     "text": [
      "100%|██████████| 5410/5410 [15:02<00:00,  5.99it/s]\n",
      "  0%|          | 0/250 [00:00<?, ?it/s]"
     ]
    },
    {
     "name": "stdout",
     "output_type": "stream",
     "text": [
      "train Loss: 0.4751\n",
      "\n",
      "Train -- epoch average precision at k = 1, 2, 3, 4, 5, 6: [0.95471349 0.94517098 0.92981839 0.91096349 0.84341959 0.7852805 ]\n",
      "Train -- epoch average recall at k = 1, 2, 3, 4, 5, 6: [0.1822976  0.36063817 0.52924861 0.68841312 0.78743577 0.87338078]\n",
      "\n"
     ]
    },
    {
     "name": "stderr",
     "output_type": "stream",
     "text": [
      "100%|██████████| 250/250 [00:15<00:00, 16.58it/s]\n",
      "  0%|          | 0/5410 [00:00<?, ?it/s]"
     ]
    },
    {
     "name": "stdout",
     "output_type": "stream",
     "text": [
      "val Loss: 0.4604\n",
      "\n",
      "Validation -- epoch average precision at k = 1, 2, 3, 4, 5, 6: [0.961   0.9485  0.92936 0.914   0.848   0.79187]\n",
      "\n",
      "\n",
      "Validation -- epoch average recall at k = 1, 2, 3, 4, 5, 6: [0.18419 0.3633  0.5291  0.69103 0.79073 0.87962]\n",
      "\n",
      "Epoch 4/49\n",
      "----------\n"
     ]
    },
    {
     "name": "stderr",
     "output_type": "stream",
     "text": [
      " 18%|█▊        | 1000/5410 [02:46<10:55,  6.73it/s]"
     ]
    },
    {
     "name": "stdout",
     "output_type": "stream",
     "text": [
      "\n",
      "Running avg Loss at batch iter                                                                 1000 is                                                                 0.47063574692606924\n"
     ]
    },
    {
     "name": "stderr",
     "output_type": "stream",
     "text": [
      " 37%|███▋      | 2001/5410 [05:32<09:09,  6.21it/s]"
     ]
    },
    {
     "name": "stdout",
     "output_type": "stream",
     "text": [
      "\n",
      "Running avg Loss at batch iter                                                                 2000 is                                                                 0.4683019410073757\n"
     ]
    },
    {
     "name": "stderr",
     "output_type": "stream",
     "text": [
      " 55%|█████▌    | 3001/5410 [08:17<08:06,  4.95it/s]"
     ]
    },
    {
     "name": "stdout",
     "output_type": "stream",
     "text": [
      "\n",
      "Running avg Loss at batch iter                                                                 3000 is                                                                 0.4655078982114792\n"
     ]
    },
    {
     "name": "stderr",
     "output_type": "stream",
     "text": [
      " 74%|███████▍  | 4001/5410 [11:04<03:33,  6.59it/s]"
     ]
    },
    {
     "name": "stdout",
     "output_type": "stream",
     "text": [
      "\n",
      "Running avg Loss at batch iter                                                                 4000 is                                                                 0.46864300763607025\n"
     ]
    },
    {
     "name": "stderr",
     "output_type": "stream",
     "text": [
      " 92%|█████████▏| 5001/5410 [13:55<01:01,  6.60it/s]"
     ]
    },
    {
     "name": "stdout",
     "output_type": "stream",
     "text": [
      "\n",
      "Running avg Loss at batch iter                                                                 5000 is                                                                 0.4712129470407963\n"
     ]
    },
    {
     "name": "stderr",
     "output_type": "stream",
     "text": [
      "100%|██████████| 5410/5410 [15:02<00:00,  5.99it/s]\n",
      "  0%|          | 0/250 [00:00<?, ?it/s]"
     ]
    },
    {
     "name": "stdout",
     "output_type": "stream",
     "text": [
      "train Loss: 0.4718\n",
      "\n",
      "Train -- epoch average precision at k = 1, 2, 3, 4, 5, 6: [0.95670055 0.94634935 0.9313646  0.91111368 0.84589649 0.78702403]\n",
      "Train -- epoch average recall at k = 1, 2, 3, 4, 5, 6: [0.18275139 0.36143253 0.53072736 0.68879113 0.78997643 0.87523752]\n",
      "\n"
     ]
    },
    {
     "name": "stderr",
     "output_type": "stream",
     "text": [
      "100%|██████████| 250/250 [00:15<00:00, 16.60it/s]\n",
      "  0%|          | 0/5410 [00:00<?, ?it/s]"
     ]
    },
    {
     "name": "stdout",
     "output_type": "stream",
     "text": [
      "val Loss: 0.4591\n",
      "\n",
      "Validation -- epoch average precision at k = 1, 2, 3, 4, 5, 6: [0.962   0.9485  0.93232 0.91475 0.8498  0.79213]\n",
      "\n",
      "\n",
      "Validation -- epoch average recall at k = 1, 2, 3, 4, 5, 6: [0.18422 0.36229 0.53074 0.69046 0.79241 0.87988]\n",
      "\n",
      "Epoch 5/49\n",
      "----------\n"
     ]
    },
    {
     "name": "stderr",
     "output_type": "stream",
     "text": [
      " 18%|█▊        | 1000/5410 [02:45<17:14,  4.26it/s]"
     ]
    },
    {
     "name": "stdout",
     "output_type": "stream",
     "text": [
      "\n",
      "Running avg Loss at batch iter                                                                 1000 is                                                                 0.46491447657346724\n"
     ]
    },
    {
     "name": "stderr",
     "output_type": "stream",
     "text": [
      " 37%|███▋      | 2001/5410 [05:33<11:15,  5.05it/s]"
     ]
    },
    {
     "name": "stdout",
     "output_type": "stream",
     "text": [
      "\n",
      "Running avg Loss at batch iter                                                                 2000 is                                                                 0.4692658604979515\n"
     ]
    },
    {
     "name": "stderr",
     "output_type": "stream",
     "text": [
      " 55%|█████▌    | 3001/5410 [08:19<07:20,  5.47it/s]"
     ]
    },
    {
     "name": "stdout",
     "output_type": "stream",
     "text": [
      "\n",
      "Running avg Loss at batch iter                                                                 3000 is                                                                 0.4658529368340969\n"
     ]
    },
    {
     "name": "stderr",
     "output_type": "stream",
     "text": [
      " 74%|███████▍  | 4000/5410 [11:04<04:36,  5.11it/s]"
     ]
    },
    {
     "name": "stdout",
     "output_type": "stream",
     "text": [
      "\n",
      "Running avg Loss at batch iter                                                                 4000 is                                                                 0.46873453244566915\n"
     ]
    },
    {
     "name": "stderr",
     "output_type": "stream",
     "text": [
      " 92%|█████████▏| 5001/5410 [13:54<01:14,  5.48it/s]"
     ]
    },
    {
     "name": "stdout",
     "output_type": "stream",
     "text": [
      "\n",
      "Running avg Loss at batch iter                                                                 5000 is                                                                 0.46674648064374924\n"
     ]
    },
    {
     "name": "stderr",
     "output_type": "stream",
     "text": [
      "100%|██████████| 5410/5410 [15:02<00:00,  6.00it/s]\n",
      "  0%|          | 0/250 [00:00<?, ?it/s]"
     ]
    },
    {
     "name": "stdout",
     "output_type": "stream",
     "text": [
      "train Loss: 0.4691\n",
      "\n",
      "Train -- epoch average precision at k = 1, 2, 3, 4, 5, 6: [0.95489834 0.94706562 0.93239279 0.91173752 0.84613678 0.78777218]\n",
      "Train -- epoch average recall at k = 1, 2, 3, 4, 5, 6: [0.18234982 0.36185213 0.53152819 0.68929529 0.79024353 0.87638401]\n",
      "\n"
     ]
    },
    {
     "name": "stderr",
     "output_type": "stream",
     "text": [
      "100%|██████████| 250/250 [00:15<00:00, 16.66it/s]\n",
      "  0%|          | 0/5410 [00:00<?, ?it/s]"
     ]
    },
    {
     "name": "stdout",
     "output_type": "stream",
     "text": [
      "val Loss: 0.4546\n",
      "\n",
      "Validation -- epoch average precision at k = 1, 2, 3, 4, 5, 6: [0.963   0.95    0.93233 0.9195  0.8522  0.79337]\n",
      "\n",
      "\n",
      "Validation -- epoch average recall at k = 1, 2, 3, 4, 5, 6: [0.18458 0.36326 0.53041 0.69547 0.79448 0.88072]\n",
      "\n",
      "Epoch 6/49\n",
      "----------\n"
     ]
    },
    {
     "name": "stderr",
     "output_type": "stream",
     "text": [
      " 19%|█▊        | 1001/5410 [02:47<12:30,  5.87it/s]"
     ]
    },
    {
     "name": "stdout",
     "output_type": "stream",
     "text": [
      "\n",
      "Running avg Loss at batch iter                                                                 1000 is                                                                 0.46174255082011223\n"
     ]
    },
    {
     "name": "stderr",
     "output_type": "stream",
     "text": [
      " 37%|███▋      | 2001/5410 [05:32<10:00,  5.68it/s]"
     ]
    },
    {
     "name": "stdout",
     "output_type": "stream",
     "text": [
      "\n",
      "Running avg Loss at batch iter                                                                 2000 is                                                                 0.464452338129282\n"
     ]
    },
    {
     "name": "stderr",
     "output_type": "stream",
     "text": [
      " 55%|█████▌    | 3001/5410 [08:17<06:10,  6.50it/s]"
     ]
    },
    {
     "name": "stdout",
     "output_type": "stream",
     "text": [
      "\n",
      "Running avg Loss at batch iter                                                                 3000 is                                                                 0.46186806392669677\n"
     ]
    },
    {
     "name": "stderr",
     "output_type": "stream",
     "text": [
      " 74%|███████▍  | 4000/5410 [11:06<04:07,  5.70it/s]"
     ]
    },
    {
     "name": "stdout",
     "output_type": "stream",
     "text": [
      "\n",
      "Running avg Loss at batch iter                                                                 4000 is                                                                 0.46406337231397626\n"
     ]
    },
    {
     "name": "stderr",
     "output_type": "stream",
     "text": [
      " 92%|█████████▏| 5001/5410 [13:54<00:56,  7.24it/s]"
     ]
    },
    {
     "name": "stdout",
     "output_type": "stream",
     "text": [
      "\n",
      "Running avg Loss at batch iter                                                                 5000 is                                                                 0.46662382376194\n"
     ]
    },
    {
     "name": "stderr",
     "output_type": "stream",
     "text": [
      "100%|██████████| 5410/5410 [15:02<00:00,  5.99it/s]\n",
      "  0%|          | 0/250 [00:00<?, ?it/s]"
     ]
    },
    {
     "name": "stdout",
     "output_type": "stream",
     "text": [
      "train Loss: 0.4678\n",
      "\n",
      "Train -- epoch average precision at k = 1, 2, 3, 4, 5, 6: [0.95827172 0.94822089 0.93236876 0.9129159  0.84753235 0.78859196]\n",
      "Train -- epoch average recall at k = 1, 2, 3, 4, 5, 6: [0.18327865 0.36245887 0.53157763 0.69035767 0.79168854 0.87736506]\n",
      "\n"
     ]
    },
    {
     "name": "stderr",
     "output_type": "stream",
     "text": [
      "100%|██████████| 250/250 [00:15<00:00, 16.64it/s]\n",
      "  0%|          | 0/5410 [00:00<?, ?it/s]"
     ]
    },
    {
     "name": "stdout",
     "output_type": "stream",
     "text": [
      "val Loss: 0.4549\n",
      "\n",
      "Validation -- epoch average precision at k = 1, 2, 3, 4, 5, 6: [0.958   0.9515  0.93237 0.9185  0.8536  0.79189]\n",
      "\n",
      "\n",
      "Validation -- epoch average recall at k = 1, 2, 3, 4, 5, 6: [0.1831  0.36359 0.53071 0.69461 0.79723 0.87978]\n",
      "\n",
      "Epoch 7/49\n",
      "----------\n"
     ]
    },
    {
     "name": "stderr",
     "output_type": "stream",
     "text": [
      " 18%|█▊        | 1000/5410 [02:42<11:39,  6.30it/s]"
     ]
    },
    {
     "name": "stdout",
     "output_type": "stream",
     "text": [
      "\n",
      "Running avg Loss at batch iter                                                                 1000 is                                                                 0.464815225571394\n"
     ]
    },
    {
     "name": "stderr",
     "output_type": "stream",
     "text": [
      " 37%|███▋      | 2001/5410 [05:32<08:43,  6.51it/s]"
     ]
    },
    {
     "name": "stdout",
     "output_type": "stream",
     "text": [
      "\n",
      "Running avg Loss at batch iter                                                                 2000 is                                                                 0.46393309941887856\n"
     ]
    },
    {
     "name": "stderr",
     "output_type": "stream",
     "text": [
      " 55%|█████▌    | 3000/5410 [08:20<07:29,  5.36it/s]"
     ]
    },
    {
     "name": "stdout",
     "output_type": "stream",
     "text": [
      "\n",
      "Running avg Loss at batch iter                                                                 3000 is                                                                 0.46325791242718695\n"
     ]
    },
    {
     "name": "stderr",
     "output_type": "stream",
     "text": [
      " 74%|███████▍  | 4001/5410 [11:04<03:43,  6.31it/s]"
     ]
    },
    {
     "name": "stdout",
     "output_type": "stream",
     "text": [
      "\n",
      "Running avg Loss at batch iter                                                                 4000 is                                                                 0.45738388016819953\n"
     ]
    },
    {
     "name": "stderr",
     "output_type": "stream",
     "text": [
      " 92%|█████████▏| 5000/5410 [13:53<01:09,  5.88it/s]"
     ]
    },
    {
     "name": "stdout",
     "output_type": "stream",
     "text": [
      "\n",
      "Running avg Loss at batch iter                                                                 5000 is                                                                 0.46282768884301184\n"
     ]
    },
    {
     "name": "stderr",
     "output_type": "stream",
     "text": [
      "100%|██████████| 5410/5410 [15:02<00:00,  5.99it/s]\n",
      "  0%|          | 0/250 [00:00<?, ?it/s]"
     ]
    },
    {
     "name": "stdout",
     "output_type": "stream",
     "text": [
      "train Loss: 0.4646\n",
      "\n",
      "Train -- epoch average precision at k = 1, 2, 3, 4, 5, 6: [0.95785582 0.94854436 0.93303558 0.91284658 0.84821627 0.7894524 ]\n",
      "Train -- epoch average recall at k = 1, 2, 3, 4, 5, 6: [0.18310028 0.36247135 0.53203189 0.69027726 0.79251248 0.87829852]\n",
      "\n"
     ]
    },
    {
     "name": "stderr",
     "output_type": "stream",
     "text": [
      "100%|██████████| 250/250 [00:15<00:00, 16.63it/s]\n",
      "  0%|          | 0/5410 [00:00<?, ?it/s]"
     ]
    },
    {
     "name": "stdout",
     "output_type": "stream",
     "text": [
      "val Loss: 0.4504\n",
      "\n",
      "Validation -- epoch average precision at k = 1, 2, 3, 4, 5, 6: [0.961   0.947   0.93565 0.918   0.8516  0.79501]\n",
      "\n",
      "\n",
      "Validation -- epoch average recall at k = 1, 2, 3, 4, 5, 6: [0.18366 0.36163 0.53294 0.69369 0.79355 0.88276]\n",
      "\n",
      "Epoch 8/49\n",
      "----------\n"
     ]
    },
    {
     "name": "stderr",
     "output_type": "stream",
     "text": [
      " 19%|█▊        | 1001/5410 [02:52<12:37,  5.82it/s]"
     ]
    },
    {
     "name": "stdout",
     "output_type": "stream",
     "text": [
      "\n",
      "Running avg Loss at batch iter                                                                 1000 is                                                                 0.4632533300220966\n"
     ]
    },
    {
     "name": "stderr",
     "output_type": "stream",
     "text": [
      " 37%|███▋      | 2001/5410 [05:38<09:34,  5.93it/s]"
     ]
    },
    {
     "name": "stdout",
     "output_type": "stream",
     "text": [
      "\n",
      "Running avg Loss at batch iter                                                                 2000 is                                                                 0.4610663929283619\n"
     ]
    },
    {
     "name": "stderr",
     "output_type": "stream",
     "text": [
      " 55%|█████▌    | 3001/5410 [08:24<05:35,  7.17it/s]"
     ]
    },
    {
     "name": "stdout",
     "output_type": "stream",
     "text": [
      "\n",
      "Running avg Loss at batch iter                                                                 3000 is                                                                 0.45826664587855337\n"
     ]
    },
    {
     "name": "stderr",
     "output_type": "stream",
     "text": [
      " 74%|███████▍  | 4001/5410 [11:07<03:52,  6.06it/s]"
     ]
    },
    {
     "name": "stdout",
     "output_type": "stream",
     "text": [
      "\n",
      "Running avg Loss at batch iter                                                                 4000 is                                                                 0.4622877053320408\n"
     ]
    },
    {
     "name": "stderr",
     "output_type": "stream",
     "text": [
      " 92%|█████████▏| 4999/5410 [13:53<01:27,  4.67it/s]"
     ]
    },
    {
     "name": "stdout",
     "output_type": "stream",
     "text": [
      "\n",
      "Running avg Loss at batch iter                                                                 5000 is                                                                 0.4671756131947041\n"
     ]
    },
    {
     "name": "stderr",
     "output_type": "stream",
     "text": [
      "100%|██████████| 5410/5410 [15:02<00:00,  5.99it/s]\n",
      "  0%|          | 0/250 [00:00<?, ?it/s]"
     ]
    },
    {
     "name": "stdout",
     "output_type": "stream",
     "text": [
      "train Loss: 0.4652\n",
      "\n",
      "Train -- epoch average precision at k = 1, 2, 3, 4, 5, 6: [0.95845656 0.94865989 0.93349122 0.91283503 0.84938078 0.7906086 ]\n",
      "Train -- epoch average recall at k = 1, 2, 3, 4, 5, 6: [0.18327079 0.36265758 0.53246072 0.6902597  0.79355083 0.87947458]\n",
      "\n"
     ]
    },
    {
     "name": "stderr",
     "output_type": "stream",
     "text": [
      "100%|██████████| 250/250 [00:15<00:00, 16.64it/s]\n",
      "  0%|          | 0/5410 [00:00<?, ?it/s]"
     ]
    },
    {
     "name": "stdout",
     "output_type": "stream",
     "text": [
      "val Loss: 0.4526\n",
      "\n",
      "Validation -- epoch average precision at k = 1, 2, 3, 4, 5, 6: [0.964   0.952   0.9377  0.91975 0.8524  0.79492]\n",
      "\n",
      "\n",
      "Validation -- epoch average recall at k = 1, 2, 3, 4, 5, 6: [0.18442 0.36412 0.5353  0.69585 0.79575 0.88258]\n",
      "\n",
      "Epoch 9/49\n",
      "----------\n"
     ]
    },
    {
     "name": "stderr",
     "output_type": "stream",
     "text": [
      " 19%|█▊        | 1001/5410 [02:47<11:01,  6.66it/s]"
     ]
    },
    {
     "name": "stdout",
     "output_type": "stream",
     "text": [
      "\n",
      "Running avg Loss at batch iter                                                                 1000 is                                                                 0.4583612928390503\n"
     ]
    },
    {
     "name": "stderr",
     "output_type": "stream",
     "text": [
      " 37%|███▋      | 2002/5410 [05:34<06:58,  8.15it/s]"
     ]
    },
    {
     "name": "stdout",
     "output_type": "stream",
     "text": [
      "\n",
      "Running avg Loss at batch iter                                                                 2000 is                                                                 0.4643633535206318\n"
     ]
    },
    {
     "name": "stderr",
     "output_type": "stream",
     "text": [
      " 55%|█████▌    | 3001/5410 [08:21<07:10,  5.60it/s]"
     ]
    },
    {
     "name": "stdout",
     "output_type": "stream",
     "text": [
      "\n",
      "Running avg Loss at batch iter                                                                 3000 is                                                                 0.4587179995775223\n"
     ]
    },
    {
     "name": "stderr",
     "output_type": "stream",
     "text": [
      " 74%|███████▍  | 4000/5410 [11:07<03:10,  7.40it/s]"
     ]
    },
    {
     "name": "stdout",
     "output_type": "stream",
     "text": [
      "\n",
      "Running avg Loss at batch iter                                                                 4000 is                                                                 0.4604087985754013\n"
     ]
    },
    {
     "name": "stderr",
     "output_type": "stream",
     "text": [
      " 92%|█████████▏| 5000/5410 [13:54<01:16,  5.33it/s]"
     ]
    },
    {
     "name": "stdout",
     "output_type": "stream",
     "text": [
      "\n",
      "Running avg Loss at batch iter                                                                 5000 is                                                                 0.45638608479499815\n"
     ]
    },
    {
     "name": "stderr",
     "output_type": "stream",
     "text": [
      "100%|██████████| 5410/5410 [15:02<00:00,  5.99it/s]\n",
      "  0%|          | 0/250 [00:00<?, ?it/s]"
     ]
    },
    {
     "name": "stdout",
     "output_type": "stream",
     "text": [
      "train Loss: 0.4630\n",
      "\n",
      "Train -- epoch average precision at k = 1, 2, 3, 4, 5, 6: [0.95707024 0.94824399 0.93341682 0.91289279 0.84943623 0.79069362]\n",
      "Train -- epoch average recall at k = 1, 2, 3, 4, 5, 6: [0.18298937 0.36254529 0.53240943 0.69048983 0.79372828 0.87955499]\n",
      "\n"
     ]
    },
    {
     "name": "stderr",
     "output_type": "stream",
     "text": [
      "100%|██████████| 250/250 [00:15<00:00, 16.50it/s]\n",
      "  0%|          | 0/5410 [00:00<?, ?it/s]"
     ]
    },
    {
     "name": "stdout",
     "output_type": "stream",
     "text": [
      "val Loss: 0.4489\n",
      "\n",
      "Validation -- epoch average precision at k = 1, 2, 3, 4, 5, 6: [0.96    0.9545  0.93869 0.91925 0.8498  0.79376]\n",
      "\n",
      "\n",
      "Validation -- epoch average recall at k = 1, 2, 3, 4, 5, 6: [0.18402 0.36516 0.53637 0.69523 0.79276 0.88224]\n",
      "\n",
      "Epoch 10/49\n",
      "----------\n"
     ]
    },
    {
     "name": "stderr",
     "output_type": "stream",
     "text": [
      " 19%|█▊        | 1002/5410 [02:51<11:18,  6.49it/s]"
     ]
    },
    {
     "name": "stdout",
     "output_type": "stream",
     "text": [
      "\n",
      "Running avg Loss at batch iter                                                                 1000 is                                                                 0.4570161249637604\n"
     ]
    },
    {
     "name": "stderr",
     "output_type": "stream",
     "text": [
      " 37%|███▋      | 2000/5410 [05:35<11:03,  5.14it/s]"
     ]
    },
    {
     "name": "stdout",
     "output_type": "stream",
     "text": [
      "\n",
      "Running avg Loss at batch iter                                                                 2000 is                                                                 0.460333979383111\n"
     ]
    },
    {
     "name": "stderr",
     "output_type": "stream",
     "text": [
      " 55%|█████▌    | 3001/5410 [08:22<05:49,  6.90it/s]"
     ]
    },
    {
     "name": "stdout",
     "output_type": "stream",
     "text": [
      "\n",
      "Running avg Loss at batch iter                                                                 3000 is                                                                 0.4571517251580954\n"
     ]
    },
    {
     "name": "stderr",
     "output_type": "stream",
     "text": [
      " 74%|███████▍  | 4000/5410 [11:09<05:30,  4.26it/s]"
     ]
    },
    {
     "name": "stdout",
     "output_type": "stream",
     "text": [
      "\n",
      "Running avg Loss at batch iter                                                                 4000 is                                                                 0.4599801206588745\n"
     ]
    },
    {
     "name": "stderr",
     "output_type": "stream",
     "text": [
      " 92%|█████████▏| 5001/5410 [13:56<01:12,  5.64it/s]"
     ]
    },
    {
     "name": "stdout",
     "output_type": "stream",
     "text": [
      "\n",
      "Running avg Loss at batch iter                                                                 5000 is                                                                 0.46242334178090094\n"
     ]
    },
    {
     "name": "stderr",
     "output_type": "stream",
     "text": [
      "100%|██████████| 5410/5410 [15:01<00:00,  6.00it/s]\n",
      "  0%|          | 0/250 [00:00<?, ?it/s]"
     ]
    },
    {
     "name": "stdout",
     "output_type": "stream",
     "text": [
      "train Loss: 0.4604\n",
      "\n",
      "Train -- epoch average precision at k = 1, 2, 3, 4, 5, 6: [0.95780961 0.94951479 0.93435028 0.91372458 0.85000924 0.79130083]\n",
      "Train -- epoch average recall at k = 1, 2, 3, 4, 5, 6: [0.18325508 0.36309843 0.53302311 0.69129991 0.79438031 0.88035582]\n",
      "\n"
     ]
    },
    {
     "name": "stderr",
     "output_type": "stream",
     "text": [
      "100%|██████████| 250/250 [00:14<00:00, 16.72it/s]\n",
      "  0%|          | 0/5410 [00:00<?, ?it/s]"
     ]
    },
    {
     "name": "stdout",
     "output_type": "stream",
     "text": [
      "val Loss: 0.4476\n",
      "\n",
      "Validation -- epoch average precision at k = 1, 2, 3, 4, 5, 6: [0.96    0.9545  0.93635 0.91775 0.8556  0.7951 ]\n",
      "\n",
      "\n",
      "Validation -- epoch average recall at k = 1, 2, 3, 4, 5, 6: [0.18358 0.36516 0.53377 0.69354 0.79873 0.88355]\n",
      "\n",
      "Epoch 11/49\n",
      "----------\n"
     ]
    },
    {
     "name": "stderr",
     "output_type": "stream",
     "text": [
      " 19%|█▊        | 1001/5410 [02:46<09:11,  8.00it/s]"
     ]
    },
    {
     "name": "stdout",
     "output_type": "stream",
     "text": [
      "\n",
      "Running avg Loss at batch iter                                                                 1000 is                                                                 0.45469431307911873\n"
     ]
    },
    {
     "name": "stderr",
     "output_type": "stream",
     "text": [
      " 37%|███▋      | 2001/5410 [05:35<10:11,  5.57it/s]"
     ]
    },
    {
     "name": "stdout",
     "output_type": "stream",
     "text": [
      "\n",
      "Running avg Loss at batch iter                                                                 2000 is                                                                 0.4559073220491409\n"
     ]
    },
    {
     "name": "stderr",
     "output_type": "stream",
     "text": [
      " 55%|█████▌    | 3000/5410 [08:19<06:19,  6.36it/s]"
     ]
    },
    {
     "name": "stdout",
     "output_type": "stream",
     "text": [
      "\n",
      "Running avg Loss at batch iter                                                                 3000 is                                                                 0.4579177747368813\n"
     ]
    },
    {
     "name": "stderr",
     "output_type": "stream",
     "text": [
      " 74%|███████▍  | 4001/5410 [11:08<04:20,  5.42it/s]"
     ]
    },
    {
     "name": "stdout",
     "output_type": "stream",
     "text": [
      "\n",
      "Running avg Loss at batch iter                                                                 4000 is                                                                 0.4581570993065834\n"
     ]
    },
    {
     "name": "stderr",
     "output_type": "stream",
     "text": [
      " 92%|█████████▏| 5001/5410 [13:51<01:18,  5.21it/s]"
     ]
    },
    {
     "name": "stdout",
     "output_type": "stream",
     "text": [
      "\n",
      "Running avg Loss at batch iter                                                                 5000 is                                                                 0.45966256883740425\n"
     ]
    },
    {
     "name": "stderr",
     "output_type": "stream",
     "text": [
      "100%|██████████| 5410/5410 [15:01<00:00,  6.00it/s]\n",
      "  0%|          | 0/250 [00:00<?, ?it/s]"
     ]
    },
    {
     "name": "stdout",
     "output_type": "stream",
     "text": [
      "train Loss: 0.4589\n",
      "\n",
      "Train -- epoch average precision at k = 1, 2, 3, 4, 5, 6: [0.95836414 0.95011553 0.93485166 0.91435998 0.85011091 0.79089464]\n",
      "Train -- epoch average recall at k = 1, 2, 3, 4, 5, 6: [0.18330776 0.36362061 0.53370425 0.69201248 0.7944464  0.88015527]\n",
      "\n"
     ]
    },
    {
     "name": "stderr",
     "output_type": "stream",
     "text": [
      "100%|██████████| 250/250 [00:15<00:00, 16.66it/s]\n",
      "  0%|          | 0/5410 [00:00<?, ?it/s]"
     ]
    },
    {
     "name": "stdout",
     "output_type": "stream",
     "text": [
      "val Loss: 0.4456\n",
      "\n",
      "Validation -- epoch average precision at k = 1, 2, 3, 4, 5, 6: [0.962   0.956   0.93998 0.919   0.856   0.79585]\n",
      "\n",
      "\n",
      "Validation -- epoch average recall at k = 1, 2, 3, 4, 5, 6: [0.18397 0.36655 0.53656 0.69502 0.79929 0.88377]\n",
      "\n",
      "Epoch 12/49\n",
      "----------\n"
     ]
    },
    {
     "name": "stderr",
     "output_type": "stream",
     "text": [
      " 19%|█▊        | 1001/5410 [02:46<13:03,  5.63it/s]"
     ]
    },
    {
     "name": "stdout",
     "output_type": "stream",
     "text": [
      "\n",
      "Running avg Loss at batch iter                                                                 1000 is                                                                 0.45886756739020346\n"
     ]
    },
    {
     "name": "stderr",
     "output_type": "stream",
     "text": [
      " 37%|███▋      | 2002/5410 [05:30<07:39,  7.42it/s]"
     ]
    },
    {
     "name": "stdout",
     "output_type": "stream",
     "text": [
      "\n",
      "Running avg Loss at batch iter                                                                 2000 is                                                                 0.4583356115221977\n"
     ]
    },
    {
     "name": "stderr",
     "output_type": "stream",
     "text": [
      " 55%|█████▌    | 3000/5410 [08:18<05:51,  6.86it/s]"
     ]
    },
    {
     "name": "stdout",
     "output_type": "stream",
     "text": [
      "\n",
      "Running avg Loss at batch iter                                                                 3000 is                                                                 0.4597415197342634\n"
     ]
    },
    {
     "name": "stderr",
     "output_type": "stream",
     "text": [
      " 74%|███████▍  | 4001/5410 [11:05<04:26,  5.28it/s]"
     ]
    },
    {
     "name": "stdout",
     "output_type": "stream",
     "text": [
      "\n",
      "Running avg Loss at batch iter                                                                 4000 is                                                                 0.45021441984176636\n"
     ]
    },
    {
     "name": "stderr",
     "output_type": "stream",
     "text": [
      " 92%|█████████▏| 5001/5410 [13:52<01:07,  6.10it/s]"
     ]
    },
    {
     "name": "stdout",
     "output_type": "stream",
     "text": [
      "\n",
      "Running avg Loss at batch iter                                                                 5000 is                                                                 0.45176426027715205\n"
     ]
    },
    {
     "name": "stderr",
     "output_type": "stream",
     "text": [
      "100%|██████████| 5410/5410 [15:00<00:00,  6.00it/s]\n",
      "  0%|          | 0/250 [00:00<?, ?it/s]"
     ]
    },
    {
     "name": "stdout",
     "output_type": "stream",
     "text": [
      "train Loss: 0.4586\n",
      "\n",
      "Train -- epoch average precision at k = 1, 2, 3, 4, 5, 6: [0.95942699 0.94986137 0.93468346 0.91409427 0.85095194 0.79275277]\n",
      "Train -- epoch average recall at k = 1, 2, 3, 4, 5, 6: [0.18352449 0.36331331 0.5334732  0.69161506 0.79531608 0.88212754]\n",
      "\n"
     ]
    },
    {
     "name": "stderr",
     "output_type": "stream",
     "text": [
      "100%|██████████| 250/250 [00:14<00:00, 16.73it/s]\n",
      "  0%|          | 0/5410 [00:00<?, ?it/s]"
     ]
    },
    {
     "name": "stdout",
     "output_type": "stream",
     "text": [
      "val Loss: 0.4424\n",
      "\n",
      "Validation -- epoch average precision at k = 1, 2, 3, 4, 5, 6: [0.962   0.9535  0.93702 0.92025 0.8556  0.79709]\n",
      "\n",
      "\n",
      "Validation -- epoch average recall at k = 1, 2, 3, 4, 5, 6: [0.18388 0.36506 0.53457 0.69617 0.79915 0.88554]\n",
      "\n",
      "Epoch 13/49\n",
      "----------\n"
     ]
    },
    {
     "name": "stderr",
     "output_type": "stream",
     "text": [
      " 18%|█▊        | 1000/5410 [02:48<09:35,  7.66it/s]"
     ]
    },
    {
     "name": "stdout",
     "output_type": "stream",
     "text": [
      "\n",
      "Running avg Loss at batch iter                                                                 1000 is                                                                 0.459906293541193\n"
     ]
    },
    {
     "name": "stderr",
     "output_type": "stream",
     "text": [
      " 37%|███▋      | 2002/5410 [05:29<06:54,  8.21it/s]"
     ]
    },
    {
     "name": "stdout",
     "output_type": "stream",
     "text": [
      "\n",
      "Running avg Loss at batch iter                                                                 2000 is                                                                 0.4513102395385504\n"
     ]
    },
    {
     "name": "stderr",
     "output_type": "stream",
     "text": [
      " 55%|█████▌    | 3000/5410 [08:17<06:43,  5.97it/s]"
     ]
    },
    {
     "name": "stdout",
     "output_type": "stream",
     "text": [
      "\n",
      "Running avg Loss at batch iter                                                                 3000 is                                                                 0.4527571321129799\n"
     ]
    },
    {
     "name": "stderr",
     "output_type": "stream",
     "text": [
      " 74%|███████▍  | 4001/5410 [11:05<04:49,  4.86it/s]"
     ]
    },
    {
     "name": "stdout",
     "output_type": "stream",
     "text": [
      "\n",
      "Running avg Loss at batch iter                                                                 4000 is                                                                 0.45418821495771405\n"
     ]
    },
    {
     "name": "stderr",
     "output_type": "stream",
     "text": [
      " 92%|█████████▏| 5001/5410 [13:51<01:04,  6.34it/s]"
     ]
    },
    {
     "name": "stdout",
     "output_type": "stream",
     "text": [
      "\n",
      "Running avg Loss at batch iter                                                                 5000 is                                                                 0.45091414830088616\n"
     ]
    },
    {
     "name": "stderr",
     "output_type": "stream",
     "text": [
      "100%|██████████| 5410/5410 [15:01<00:00,  6.00it/s]\n",
      "  0%|          | 0/250 [00:00<?, ?it/s]"
     ]
    },
    {
     "name": "stdout",
     "output_type": "stream",
     "text": [
      "train Loss: 0.4547\n",
      "\n",
      "Train -- epoch average precision at k = 1, 2, 3, 4, 5, 6: [0.96012015 0.95210259 0.93483919 0.91415203 0.85125693 0.79260906]\n",
      "Train -- epoch average recall at k = 1, 2, 3, 4, 5, 6: [0.1838073  0.36454482 0.53362847 0.69181701 0.79557948 0.88195102]\n",
      "\n"
     ]
    },
    {
     "name": "stderr",
     "output_type": "stream",
     "text": [
      "100%|██████████| 250/250 [00:14<00:00, 16.68it/s]\n",
      "  0%|          | 0/5410 [00:00<?, ?it/s]"
     ]
    },
    {
     "name": "stdout",
     "output_type": "stream",
     "text": [
      "val Loss: 0.4485\n",
      "\n",
      "Validation -- epoch average precision at k = 1, 2, 3, 4, 5, 6: [0.96    0.949   0.93603 0.916   0.8506  0.79688]\n",
      "\n",
      "\n",
      "Validation -- epoch average recall at k = 1, 2, 3, 4, 5, 6: [0.18347 0.36293 0.53361 0.6927  0.79355 0.88436]\n",
      "\n",
      "Epoch 14/49\n",
      "----------\n"
     ]
    },
    {
     "name": "stderr",
     "output_type": "stream",
     "text": [
      " 18%|█▊        | 1000/5410 [02:50<13:28,  5.45it/s]"
     ]
    },
    {
     "name": "stdout",
     "output_type": "stream",
     "text": [
      "\n",
      "Running avg Loss at batch iter                                                                 1000 is                                                                 0.46130758959054946\n"
     ]
    },
    {
     "name": "stderr",
     "output_type": "stream",
     "text": [
      " 37%|███▋      | 2001/5410 [05:37<10:05,  5.63it/s]"
     ]
    },
    {
     "name": "stdout",
     "output_type": "stream",
     "text": [
      "\n",
      "Running avg Loss at batch iter                                                                 2000 is                                                                 0.4585543264746666\n"
     ]
    },
    {
     "name": "stderr",
     "output_type": "stream",
     "text": [
      " 55%|█████▌    | 3001/5410 [08:22<06:41,  5.99it/s]"
     ]
    },
    {
     "name": "stdout",
     "output_type": "stream",
     "text": [
      "\n",
      "Running avg Loss at batch iter                                                                 3000 is                                                                 0.4461853419989347\n"
     ]
    },
    {
     "name": "stderr",
     "output_type": "stream",
     "text": [
      " 74%|███████▍  | 4002/5410 [11:09<03:42,  6.32it/s]"
     ]
    },
    {
     "name": "stdout",
     "output_type": "stream",
     "text": [
      "\n",
      "Running avg Loss at batch iter                                                                 4000 is                                                                 0.4512624904960394\n"
     ]
    },
    {
     "name": "stderr",
     "output_type": "stream",
     "text": [
      " 92%|█████████▏| 5001/5410 [13:52<01:10,  5.77it/s]"
     ]
    },
    {
     "name": "stdout",
     "output_type": "stream",
     "text": [
      "\n",
      "Running avg Loss at batch iter                                                                 5000 is                                                                 0.4467159969955683\n"
     ]
    },
    {
     "name": "stderr",
     "output_type": "stream",
     "text": [
      "100%|██████████| 5410/5410 [15:00<00:00,  6.01it/s]\n",
      "  0%|          | 0/250 [00:00<?, ?it/s]"
     ]
    },
    {
     "name": "stdout",
     "output_type": "stream",
     "text": [
      "train Loss: 0.4544\n",
      "\n",
      "Train -- epoch average precision at k = 1, 2, 3, 4, 5, 6: [0.9607671  0.95194085 0.9366622  0.91462569 0.85256007 0.79347274]\n",
      "Train -- epoch average recall at k = 1, 2, 3, 4, 5, 6: [0.18395933 0.36436183 0.53501664 0.69195333 0.79694455 0.88300693]\n",
      "\n"
     ]
    },
    {
     "name": "stderr",
     "output_type": "stream",
     "text": [
      "100%|██████████| 250/250 [00:15<00:00, 16.63it/s]\n",
      "  0%|          | 0/5410 [00:00<?, ?it/s]"
     ]
    },
    {
     "name": "stdout",
     "output_type": "stream",
     "text": [
      "val Loss: 0.4431\n",
      "\n",
      "Validation -- epoch average precision at k = 1, 2, 3, 4, 5, 6: [0.962   0.9515  0.9377  0.91875 0.857   0.7972 ]\n",
      "\n",
      "\n",
      "Validation -- epoch average recall at k = 1, 2, 3, 4, 5, 6: [0.18413 0.36396 0.53579 0.69594 0.80026 0.88607]\n",
      "\n",
      "Epoch 15/49\n",
      "----------\n"
     ]
    },
    {
     "name": "stderr",
     "output_type": "stream",
     "text": [
      " 18%|█▊        | 1000/5410 [02:46<10:27,  7.03it/s]"
     ]
    },
    {
     "name": "stdout",
     "output_type": "stream",
     "text": [
      "\n",
      "Running avg Loss at batch iter                                                                 1000 is                                                                 0.45032687520980835\n"
     ]
    },
    {
     "name": "stderr",
     "output_type": "stream",
     "text": [
      " 37%|███▋      | 2000/5410 [05:33<08:34,  6.63it/s]"
     ]
    },
    {
     "name": "stdout",
     "output_type": "stream",
     "text": [
      "\n",
      "Running avg Loss at batch iter                                                                 2000 is                                                                 0.45142026215791703\n"
     ]
    },
    {
     "name": "stderr",
     "output_type": "stream",
     "text": [
      " 55%|█████▌    | 3000/5410 [08:16<06:37,  6.06it/s]"
     ]
    },
    {
     "name": "stdout",
     "output_type": "stream",
     "text": [
      "\n",
      "Running avg Loss at batch iter                                                                 3000 is                                                                 0.45383657872676847\n"
     ]
    },
    {
     "name": "stderr",
     "output_type": "stream",
     "text": [
      " 74%|███████▍  | 4001/5410 [11:04<03:45,  6.26it/s]"
     ]
    },
    {
     "name": "stdout",
     "output_type": "stream",
     "text": [
      "\n",
      "Running avg Loss at batch iter                                                                 4000 is                                                                 0.44980143432319164\n"
     ]
    },
    {
     "name": "stderr",
     "output_type": "stream",
     "text": [
      " 92%|█████████▏| 5001/5410 [13:51<01:06,  6.16it/s]"
     ]
    },
    {
     "name": "stdout",
     "output_type": "stream",
     "text": [
      "\n",
      "Running avg Loss at batch iter                                                                 5000 is                                                                 0.453093821182847\n"
     ]
    },
    {
     "name": "stderr",
     "output_type": "stream",
     "text": [
      "100%|██████████| 5410/5410 [14:59<00:00,  6.01it/s]\n",
      "  0%|          | 0/250 [00:00<?, ?it/s]"
     ]
    },
    {
     "name": "stdout",
     "output_type": "stream",
     "text": [
      "train Loss: 0.4533\n",
      "\n",
      "Train -- epoch average precision at k = 1, 2, 3, 4, 5, 6: [0.96095194 0.95226433 0.9363281  0.91487985 0.85219039 0.79271211]\n",
      "Train -- epoch average recall at k = 1, 2, 3, 4, 5, 6: [0.18406285 0.36453697 0.53488355 0.69264741 0.79659011 0.88218253]\n",
      "\n"
     ]
    },
    {
     "name": "stderr",
     "output_type": "stream",
     "text": [
      "100%|██████████| 250/250 [00:14<00:00, 16.71it/s]\n",
      "  0%|          | 0/5410 [00:00<?, ?it/s]"
     ]
    },
    {
     "name": "stdout",
     "output_type": "stream",
     "text": [
      "val Loss: 0.4475\n",
      "\n",
      "Validation -- epoch average precision at k = 1, 2, 3, 4, 5, 6: [0.964   0.9515  0.93762 0.9145  0.854   0.79786]\n",
      "\n",
      "\n",
      "Validation -- epoch average recall at k = 1, 2, 3, 4, 5, 6: [0.1845  0.36282 0.53428 0.69129 0.79642 0.88628]\n",
      "\n",
      "Epoch 16/49\n",
      "----------\n"
     ]
    },
    {
     "name": "stderr",
     "output_type": "stream",
     "text": [
      " 19%|█▊        | 1001/5410 [02:44<12:01,  6.11it/s]"
     ]
    },
    {
     "name": "stdout",
     "output_type": "stream",
     "text": [
      "\n",
      "Running avg Loss at batch iter                                                                 1000 is                                                                 0.4507656624317169\n"
     ]
    },
    {
     "name": "stderr",
     "output_type": "stream",
     "text": [
      " 37%|███▋      | 2001/5410 [05:28<09:53,  5.75it/s]"
     ]
    },
    {
     "name": "stdout",
     "output_type": "stream",
     "text": [
      "\n",
      "Running avg Loss at batch iter                                                                 2000 is                                                                 0.4507052270770073\n"
     ]
    },
    {
     "name": "stderr",
     "output_type": "stream",
     "text": [
      " 55%|█████▌    | 3001/5410 [08:15<06:11,  6.48it/s]"
     ]
    },
    {
     "name": "stdout",
     "output_type": "stream",
     "text": [
      "\n",
      "Running avg Loss at batch iter                                                                 3000 is                                                                 0.45070542687177656\n"
     ]
    },
    {
     "name": "stderr",
     "output_type": "stream",
     "text": [
      " 74%|███████▍  | 4002/5410 [11:04<03:35,  6.54it/s]"
     ]
    },
    {
     "name": "stdout",
     "output_type": "stream",
     "text": [
      "\n",
      "Running avg Loss at batch iter                                                                 4000 is                                                                 0.45218464744091036\n"
     ]
    },
    {
     "name": "stderr",
     "output_type": "stream",
     "text": [
      " 92%|█████████▏| 5000/5410 [13:52<01:28,  4.61it/s]"
     ]
    },
    {
     "name": "stdout",
     "output_type": "stream",
     "text": [
      "\n",
      "Running avg Loss at batch iter                                                                 5000 is                                                                 0.45078684301674365\n"
     ]
    },
    {
     "name": "stderr",
     "output_type": "stream",
     "text": [
      "100%|██████████| 5410/5410 [15:01<00:00,  6.00it/s]\n",
      "  0%|          | 0/250 [00:00<?, ?it/s]"
     ]
    },
    {
     "name": "stdout",
     "output_type": "stream",
     "text": [
      "train Loss: 0.4513\n",
      "\n",
      "Train -- epoch average precision at k = 1, 2, 3, 4, 5, 6: [0.96104436 0.95353512 0.93676756 0.91505314 0.85261553 0.79278512]\n",
      "Train -- epoch average recall at k = 1, 2, 3, 4, 5, 6: [0.18403835 0.36513771 0.53511784 0.69256331 0.79718207 0.88228604]\n",
      "\n"
     ]
    },
    {
     "name": "stderr",
     "output_type": "stream",
     "text": [
      "100%|██████████| 250/250 [00:15<00:00, 16.58it/s]\n",
      "  0%|          | 0/5410 [00:00<?, ?it/s]"
     ]
    },
    {
     "name": "stdout",
     "output_type": "stream",
     "text": [
      "val Loss: 0.4383\n",
      "\n",
      "Validation -- epoch average precision at k = 1, 2, 3, 4, 5, 6: [0.962   0.957   0.93904 0.9205  0.8566  0.80027]\n",
      "\n",
      "\n",
      "Validation -- epoch average recall at k = 1, 2, 3, 4, 5, 6: [0.18399 0.36698 0.5368  0.69776 0.79973 0.88893]\n",
      "\n",
      "Epoch 17/49\n",
      "----------\n"
     ]
    },
    {
     "name": "stderr",
     "output_type": "stream",
     "text": [
      " 19%|█▊        | 1001/5410 [02:47<10:16,  7.15it/s]"
     ]
    },
    {
     "name": "stdout",
     "output_type": "stream",
     "text": [
      "\n",
      "Running avg Loss at batch iter                                                                 1000 is                                                                 0.4508047232925892\n"
     ]
    },
    {
     "name": "stderr",
     "output_type": "stream",
     "text": [
      " 37%|███▋      | 2000/5410 [05:31<07:07,  7.98it/s]"
     ]
    },
    {
     "name": "stdout",
     "output_type": "stream",
     "text": [
      "\n",
      "Running avg Loss at batch iter                                                                 2000 is                                                                 0.4519321336299181\n"
     ]
    },
    {
     "name": "stderr",
     "output_type": "stream",
     "text": [
      " 55%|█████▌    | 3001/5410 [08:19<07:07,  5.63it/s]"
     ]
    },
    {
     "name": "stdout",
     "output_type": "stream",
     "text": [
      "\n",
      "Running avg Loss at batch iter                                                                 3000 is                                                                 0.44818778117001057\n"
     ]
    },
    {
     "name": "stderr",
     "output_type": "stream",
     "text": [
      " 74%|███████▍  | 4000/5410 [11:04<04:42,  4.99it/s]"
     ]
    },
    {
     "name": "stdout",
     "output_type": "stream",
     "text": [
      "\n",
      "Running avg Loss at batch iter                                                                 4000 is                                                                 0.4443318534493446\n"
     ]
    },
    {
     "name": "stderr",
     "output_type": "stream",
     "text": [
      " 92%|█████████▏| 5001/5410 [13:53<00:52,  7.77it/s]"
     ]
    },
    {
     "name": "stdout",
     "output_type": "stream",
     "text": [
      "\n",
      "Running avg Loss at batch iter                                                                 5000 is                                                                 0.4555529730021954\n"
     ]
    },
    {
     "name": "stderr",
     "output_type": "stream",
     "text": [
      "100%|██████████| 5410/5410 [15:01<00:00,  6.00it/s]\n",
      "  0%|          | 0/250 [00:00<?, ?it/s]"
     ]
    },
    {
     "name": "stdout",
     "output_type": "stream",
     "text": [
      "train Loss: 0.4500\n",
      "\n",
      "Train -- epoch average precision at k = 1, 2, 3, 4, 5, 6: [0.96215342 0.95316543 0.93682902 0.91524954 0.85299445 0.79335675]\n",
      "Train -- epoch average recall at k = 1, 2, 3, 4, 5, 6: [0.18429529 0.36493808 0.5351146  0.69271858 0.79743299 0.88278558]\n",
      "\n"
     ]
    },
    {
     "name": "stderr",
     "output_type": "stream",
     "text": [
      "100%|██████████| 250/250 [00:14<00:00, 16.77it/s]\n",
      "  0%|          | 0/5410 [00:00<?, ?it/s]"
     ]
    },
    {
     "name": "stdout",
     "output_type": "stream",
     "text": [
      "val Loss: 0.4383\n",
      "\n",
      "Validation -- epoch average precision at k = 1, 2, 3, 4, 5, 6: [0.963   0.9595  0.94067 0.92125 0.858   0.79755]\n",
      "\n",
      "\n",
      "Validation -- epoch average recall at k = 1, 2, 3, 4, 5, 6: [0.1845  0.36843 0.53738 0.69756 0.80113 0.88566]\n",
      "\n",
      "Epoch 18/49\n",
      "----------\n"
     ]
    },
    {
     "name": "stderr",
     "output_type": "stream",
     "text": [
      " 19%|█▊        | 1001/5410 [02:42<09:28,  7.76it/s]"
     ]
    },
    {
     "name": "stdout",
     "output_type": "stream",
     "text": [
      "\n",
      "Running avg Loss at batch iter                                                                 1000 is                                                                 0.44927272835373877\n"
     ]
    },
    {
     "name": "stderr",
     "output_type": "stream",
     "text": [
      " 37%|███▋      | 2001/5410 [05:31<08:45,  6.49it/s]"
     ]
    },
    {
     "name": "stdout",
     "output_type": "stream",
     "text": [
      "\n",
      "Running avg Loss at batch iter                                                                 2000 is                                                                 0.45237813124060633\n"
     ]
    },
    {
     "name": "stderr",
     "output_type": "stream",
     "text": [
      " 49%|████▉     | 2646/5410 [07:17<05:35,  8.25it/s]"
     ]
    }
   ],
   "source": [
    "# attention model\n",
    "resnet18_attn = train_and_save(\n",
    "    model_type = 'attention', \n",
    "    model_name = 'resnet18', \n",
    "    lr = 0.001, \n",
    "    device = device,\n",
    "    num_categories= num_categories,\n",
    "    num_epochs= 50,\n",
    "    early_stopping= True,\n",
    "    save_folder = '/home/mridula/Projects/MIML/temp',\n",
    "    patience =5, \n",
    "    use_pretrained=True)"
   ]
  },
  {
   "cell_type": "code",
   "execution_count": 25,
   "metadata": {},
   "outputs": [
    {
     "name": "stderr",
     "output_type": "stream",
     "text": [
      "100%|██████████| 125/125 [00:07<00:00, 16.06it/s]\n"
     ]
    },
    {
     "data": {
      "text/plain": [
       "{'precision_at': {1: 0.956, 2: 0.953, 3: 0.943, 4: 0.924, 5: 0.86, 6: 0.802},\n",
       " 'recall_at': {1: 0.183, 2: 0.364, 3: 0.538, 4: 0.696, 5: 0.799, 6: 0.888}}"
      ]
     },
     "execution_count": 25,
     "metadata": {},
     "output_type": "execute_result"
    }
   ],
   "source": [
    "result_resnet18_attn = test_multi_instance_model(resnet18_attn, device, dataloaders_dict['test'])\n",
    "result_resnet18_attn"
   ]
  },
  {
   "cell_type": "markdown",
   "metadata": {},
   "source": [
    "# Resnet34\n"
   ]
  },
  {
   "cell_type": "code",
   "execution_count": 26,
   "metadata": {},
   "outputs": [
    {
     "name": "stderr",
     "output_type": "stream",
     "text": [
      "\r",
      "  0%|          | 0/5410 [00:00<?, ?it/s]"
     ]
    },
    {
     "name": "stdout",
     "output_type": "stream",
     "text": [
      "cuda:0\n",
      "Epoch 0/49\n",
      "----------\n"
     ]
    },
    {
     "name": "stderr",
     "output_type": "stream",
     "text": [
      " 18%|█▊        | 1000/5410 [04:17<19:05,  3.85it/s]"
     ]
    },
    {
     "name": "stdout",
     "output_type": "stream",
     "text": [
      "\n",
      "Running avg Loss at batch iter                                                                 1000 is                                                                 0.5164081510603428\n"
     ]
    },
    {
     "name": "stderr",
     "output_type": "stream",
     "text": [
      " 37%|███▋      | 2000/5410 [08:45<13:45,  4.13it/s]"
     ]
    },
    {
     "name": "stdout",
     "output_type": "stream",
     "text": [
      "\n",
      "Running avg Loss at batch iter                                                                 2000 is                                                                 0.5015359103083611\n"
     ]
    },
    {
     "name": "stderr",
     "output_type": "stream",
     "text": [
      " 55%|█████▌    | 3001/5410 [13:09<11:03,  3.63it/s]"
     ]
    },
    {
     "name": "stdout",
     "output_type": "stream",
     "text": [
      "\n",
      "Running avg Loss at batch iter                                                                 3000 is                                                                 0.49467863291502\n"
     ]
    },
    {
     "name": "stderr",
     "output_type": "stream",
     "text": [
      " 74%|███████▍  | 4001/5410 [17:31<04:24,  5.34it/s]"
     ]
    },
    {
     "name": "stdout",
     "output_type": "stream",
     "text": [
      "\n",
      "Running avg Loss at batch iter                                                                 4000 is                                                                 0.4897522281706333\n"
     ]
    },
    {
     "name": "stderr",
     "output_type": "stream",
     "text": [
      " 92%|█████████▏| 5001/5410 [21:55<01:37,  4.19it/s]"
     ]
    },
    {
     "name": "stdout",
     "output_type": "stream",
     "text": [
      "\n",
      "Running avg Loss at batch iter                                                                 5000 is                                                                 0.4916433307230473\n"
     ]
    },
    {
     "name": "stderr",
     "output_type": "stream",
     "text": [
      "100%|██████████| 5410/5410 [23:43<00:00,  3.80it/s]\n",
      "  0%|          | 0/250 [00:00<?, ?it/s]"
     ]
    },
    {
     "name": "stdout",
     "output_type": "stream",
     "text": [
      "train Loss: 0.5046\n",
      "\n",
      "Train -- epoch average precision at k = 1, 2, 3, 4, 5, 6: [0.93641405 0.93075323 0.92231192 0.90093577 0.83415896 0.77429945]\n",
      "Train -- epoch average recall at k = 1, 2, 3, 4, 5, 6: [0.17750786 0.35302957 0.52291682 0.67934519 0.77738124 0.85951479]\n",
      "\n"
     ]
    },
    {
     "name": "stderr",
     "output_type": "stream",
     "text": [
      "100%|██████████| 250/250 [00:23<00:00, 10.65it/s]\n",
      "  0%|          | 0/5410 [00:00<?, ?it/s]"
     ]
    },
    {
     "name": "stdout",
     "output_type": "stream",
     "text": [
      "val Loss: 0.4890\n",
      "\n",
      "Validation -- epoch average precision at k = 1, 2, 3, 4, 5, 6: [0.949   0.933   0.92573 0.90875 0.8408  0.77984]\n",
      "\n",
      "\n",
      "Validation -- epoch average recall at k = 1, 2, 3, 4, 5, 6: [0.18061 0.35463 0.52485 0.68577 0.78383 0.86601]\n",
      "\n",
      "Epoch 1/49\n",
      "----------\n"
     ]
    },
    {
     "name": "stderr",
     "output_type": "stream",
     "text": [
      " 19%|█▊        | 1001/5410 [04:27<17:45,  4.14it/s]"
     ]
    },
    {
     "name": "stdout",
     "output_type": "stream",
     "text": [
      "\n",
      "Running avg Loss at batch iter                                                                 1000 is                                                                 0.49380982425808906\n"
     ]
    },
    {
     "name": "stderr",
     "output_type": "stream",
     "text": [
      " 37%|███▋      | 2000/5410 [08:48<14:29,  3.92it/s]"
     ]
    },
    {
     "name": "stdout",
     "output_type": "stream",
     "text": [
      "\n",
      "Running avg Loss at batch iter                                                                 2000 is                                                                 0.4919533072710037\n"
     ]
    },
    {
     "name": "stderr",
     "output_type": "stream",
     "text": [
      " 55%|█████▌    | 3000/5410 [13:14<09:01,  4.45it/s]"
     ]
    },
    {
     "name": "stdout",
     "output_type": "stream",
     "text": [
      "\n",
      "Running avg Loss at batch iter                                                                 3000 is                                                                 0.4961114893555641\n"
     ]
    },
    {
     "name": "stderr",
     "output_type": "stream",
     "text": [
      " 74%|███████▍  | 4000/5410 [17:33<04:44,  4.96it/s]"
     ]
    },
    {
     "name": "stdout",
     "output_type": "stream",
     "text": [
      "\n",
      "Running avg Loss at batch iter                                                                 4000 is                                                                 0.4904677737653255\n"
     ]
    },
    {
     "name": "stderr",
     "output_type": "stream",
     "text": [
      " 92%|█████████▏| 5000/5410 [21:49<01:38,  4.18it/s]"
     ]
    },
    {
     "name": "stdout",
     "output_type": "stream",
     "text": [
      "\n",
      "Running avg Loss at batch iter                                                                 5000 is                                                                 0.48277740770578387\n"
     ]
    },
    {
     "name": "stderr",
     "output_type": "stream",
     "text": [
      "100%|██████████| 5410/5410 [23:43<00:00,  3.80it/s]\n",
      "  0%|          | 0/250 [00:00<?, ?it/s]"
     ]
    },
    {
     "name": "stdout",
     "output_type": "stream",
     "text": [
      "train Loss: 0.4961\n",
      "\n",
      "Train -- epoch average precision at k = 1, 2, 3, 4, 5, 6: [0.94024954 0.93421904 0.9249561  0.90249538 0.83700555 0.77695102]\n",
      "Train -- epoch average recall at k = 1, 2, 3, 4, 5, 6: [0.1785975  0.35475739 0.52484843 0.68080129 0.78046165 0.86293762]\n",
      "\n"
     ]
    },
    {
     "name": "stderr",
     "output_type": "stream",
     "text": [
      "100%|██████████| 250/250 [00:23<00:00, 10.68it/s]\n",
      "  0%|          | 0/5410 [00:00<?, ?it/s]"
     ]
    },
    {
     "name": "stdout",
     "output_type": "stream",
     "text": [
      "val Loss: 0.5278\n",
      "\n",
      "Validation -- epoch average precision at k = 1, 2, 3, 4, 5, 6: [0.958   0.939   0.92767 0.90575 0.8424  0.78714]\n",
      "\n",
      "\n",
      "Validation -- epoch average recall at k = 1, 2, 3, 4, 5, 6: [0.18274 0.35671 0.52702 0.68279 0.78532 0.87419]\n",
      "\n",
      "Epoch 2/49\n",
      "----------\n"
     ]
    },
    {
     "name": "stderr",
     "output_type": "stream",
     "text": [
      " 19%|█▊        | 1001/5410 [04:22<19:23,  3.79it/s]"
     ]
    },
    {
     "name": "stdout",
     "output_type": "stream",
     "text": [
      "\n",
      "Running avg Loss at batch iter                                                                 1000 is                                                                 0.48320847311615944\n"
     ]
    },
    {
     "name": "stderr",
     "output_type": "stream",
     "text": [
      " 37%|███▋      | 2000/5410 [08:43<19:40,  2.89it/s]"
     ]
    },
    {
     "name": "stdout",
     "output_type": "stream",
     "text": [
      "\n",
      "Running avg Loss at batch iter                                                                 2000 is                                                                 0.4901355402767658\n"
     ]
    },
    {
     "name": "stderr",
     "output_type": "stream",
     "text": [
      " 55%|█████▌    | 2999/5410 [13:07<07:50,  5.13it/s]"
     ]
    },
    {
     "name": "stdout",
     "output_type": "stream",
     "text": [
      "\n",
      "Running avg Loss at batch iter                                                                 3000 is                                                                 0.4902151151001453\n"
     ]
    },
    {
     "name": "stderr",
     "output_type": "stream",
     "text": [
      " 74%|███████▍  | 4000/5410 [17:28<05:22,  4.37it/s]"
     ]
    },
    {
     "name": "stdout",
     "output_type": "stream",
     "text": [
      "\n",
      "Running avg Loss at batch iter                                                                 4000 is                                                                 0.4890199034512043\n"
     ]
    },
    {
     "name": "stderr",
     "output_type": "stream",
     "text": [
      " 92%|█████████▏| 5001/5410 [21:54<01:32,  4.44it/s]"
     ]
    },
    {
     "name": "stdout",
     "output_type": "stream",
     "text": [
      "\n",
      "Running avg Loss at batch iter                                                                 5000 is                                                                 0.4877367999851704\n"
     ]
    },
    {
     "name": "stderr",
     "output_type": "stream",
     "text": [
      "100%|██████████| 5410/5410 [23:45<00:00,  3.80it/s]\n",
      "  0%|          | 0/250 [00:00<?, ?it/s]"
     ]
    },
    {
     "name": "stdout",
     "output_type": "stream",
     "text": [
      "train Loss: 0.4934\n",
      "\n",
      "Train -- epoch average precision at k = 1, 2, 3, 4, 5, 6: [0.94158965 0.93597505 0.92556562 0.90253004 0.83712569 0.77904991]\n",
      "Train -- epoch average recall at k = 1, 2, 3, 4, 5, 6: [0.17883364 0.35577495 0.5254464  0.68079113 0.78051848 0.86545148]\n",
      "\n"
     ]
    },
    {
     "name": "stderr",
     "output_type": "stream",
     "text": [
      "100%|██████████| 250/250 [00:23<00:00, 10.67it/s]\n",
      "  0%|          | 0/5410 [00:00<?, ?it/s]"
     ]
    },
    {
     "name": "stdout",
     "output_type": "stream",
     "text": [
      "val Loss: 0.4791\n",
      "\n",
      "Validation -- epoch average precision at k = 1, 2, 3, 4, 5, 6: [0.956   0.9425  0.92933 0.90775 0.8452  0.78912]\n",
      "\n",
      "\n",
      "Validation -- epoch average recall at k = 1, 2, 3, 4, 5, 6: [0.18207 0.35914 0.52791 0.68504 0.78752 0.87504]\n",
      "\n",
      "Epoch 3/49\n",
      "----------\n"
     ]
    },
    {
     "name": "stderr",
     "output_type": "stream",
     "text": [
      " 19%|█▊        | 1001/5410 [04:28<19:08,  3.84it/s]"
     ]
    },
    {
     "name": "stdout",
     "output_type": "stream",
     "text": [
      "\n",
      "Running avg Loss at batch iter                                                                 1000 is                                                                 0.4828115585744381\n"
     ]
    },
    {
     "name": "stderr",
     "output_type": "stream",
     "text": [
      " 37%|███▋      | 2000/5410 [08:50<16:09,  3.52it/s]"
     ]
    },
    {
     "name": "stdout",
     "output_type": "stream",
     "text": [
      "\n",
      "Running avg Loss at batch iter                                                                 2000 is                                                                 0.48494883745908735\n"
     ]
    },
    {
     "name": "stderr",
     "output_type": "stream",
     "text": [
      " 55%|█████▌    | 3001/5410 [13:14<09:04,  4.42it/s]"
     ]
    },
    {
     "name": "stdout",
     "output_type": "stream",
     "text": [
      "\n",
      "Running avg Loss at batch iter                                                                 3000 is                                                                 0.48681998160481454\n"
     ]
    },
    {
     "name": "stderr",
     "output_type": "stream",
     "text": [
      " 74%|███████▍  | 4000/5410 [17:34<05:03,  4.64it/s]"
     ]
    },
    {
     "name": "stdout",
     "output_type": "stream",
     "text": [
      "\n",
      "Running avg Loss at batch iter                                                                 4000 is                                                                 0.4811968685090542\n"
     ]
    },
    {
     "name": "stderr",
     "output_type": "stream",
     "text": [
      " 92%|█████████▏| 5000/5410 [21:59<01:47,  3.81it/s]"
     ]
    },
    {
     "name": "stdout",
     "output_type": "stream",
     "text": [
      "\n",
      "Running avg Loss at batch iter                                                                 5000 is                                                                 0.4879054909050465\n"
     ]
    },
    {
     "name": "stderr",
     "output_type": "stream",
     "text": [
      "100%|██████████| 5410/5410 [23:45<00:00,  3.80it/s]\n",
      "  0%|          | 0/250 [00:00<?, ?it/s]"
     ]
    },
    {
     "name": "stdout",
     "output_type": "stream",
     "text": [
      "train Loss: 0.4891\n",
      "\n",
      "Train -- epoch average precision at k = 1, 2, 3, 4, 5, 6: [0.94537893 0.93777726 0.92603235 0.90369686 0.8387061  0.78055499]\n",
      "Train -- epoch average recall at k = 1, 2, 3, 4, 5, 6: [0.17992237 0.35667098 0.52589187 0.6818073  0.78213355 0.86738817]\n",
      "\n"
     ]
    },
    {
     "name": "stderr",
     "output_type": "stream",
     "text": [
      "100%|██████████| 250/250 [00:23<00:00, 10.65it/s]\n",
      "  0%|          | 0/5410 [00:00<?, ?it/s]"
     ]
    },
    {
     "name": "stdout",
     "output_type": "stream",
     "text": [
      "val Loss: 0.4812\n",
      "\n",
      "Validation -- epoch average precision at k = 1, 2, 3, 4, 5, 6: [0.942   0.9385  0.93065 0.90775 0.8418  0.78501]\n",
      "\n",
      "\n",
      "Validation -- epoch average recall at k = 1, 2, 3, 4, 5, 6: [0.17936 0.35706 0.52903 0.68443 0.78442 0.87221]\n",
      "\n",
      "Epoch 4/49\n",
      "----------\n"
     ]
    },
    {
     "name": "stderr",
     "output_type": "stream",
     "text": [
      " 18%|█▊        | 1000/5410 [04:18<12:28,  5.89it/s]"
     ]
    },
    {
     "name": "stdout",
     "output_type": "stream",
     "text": [
      "\n",
      "Running avg Loss at batch iter                                                                 1000 is                                                                 0.4827374825775623\n"
     ]
    },
    {
     "name": "stderr",
     "output_type": "stream",
     "text": [
      " 37%|███▋      | 2000/5410 [08:40<19:30,  2.91it/s]"
     ]
    },
    {
     "name": "stdout",
     "output_type": "stream",
     "text": [
      "\n",
      "Running avg Loss at batch iter                                                                 2000 is                                                                 0.47640304958820345\n"
     ]
    },
    {
     "name": "stderr",
     "output_type": "stream",
     "text": [
      " 55%|█████▌    | 3001/5410 [13:08<08:15,  4.87it/s]"
     ]
    },
    {
     "name": "stdout",
     "output_type": "stream",
     "text": [
      "\n",
      "Running avg Loss at batch iter                                                                 3000 is                                                                 0.4828182433545589\n"
     ]
    },
    {
     "name": "stderr",
     "output_type": "stream",
     "text": [
      " 74%|███████▍  | 4000/5410 [17:29<06:35,  3.56it/s]"
     ]
    },
    {
     "name": "stdout",
     "output_type": "stream",
     "text": [
      "\n",
      "Running avg Loss at batch iter                                                                 4000 is                                                                 0.48082189038395884\n"
     ]
    },
    {
     "name": "stderr",
     "output_type": "stream",
     "text": [
      " 92%|█████████▏| 5001/5410 [21:59<01:35,  4.27it/s]"
     ]
    },
    {
     "name": "stdout",
     "output_type": "stream",
     "text": [
      "\n",
      "Running avg Loss at batch iter                                                                 5000 is                                                                 0.48351103708148\n"
     ]
    },
    {
     "name": "stderr",
     "output_type": "stream",
     "text": [
      "100%|██████████| 5410/5410 [23:46<00:00,  3.79it/s]\n",
      "  0%|          | 0/250 [00:00<?, ?it/s]"
     ]
    },
    {
     "name": "stdout",
     "output_type": "stream",
     "text": [
      "train Loss: 0.4860\n",
      "\n",
      "Train -- epoch average precision at k = 1, 2, 3, 4, 5, 6: [0.94884473 0.93872458 0.92648013 0.90553373 0.83984288 0.7817805 ]\n",
      "Train -- epoch average recall at k = 1, 2, 3, 4, 5, 6: [0.18073752 0.35719039 0.52657209 0.68357163 0.78329575 0.86874492]\n",
      "\n"
     ]
    },
    {
     "name": "stderr",
     "output_type": "stream",
     "text": [
      "100%|██████████| 250/250 [00:23<00:00, 10.63it/s]\n",
      "  0%|          | 0/5410 [00:00<?, ?it/s]"
     ]
    },
    {
     "name": "stdout",
     "output_type": "stream",
     "text": [
      "val Loss: 0.4921\n",
      "\n",
      "Validation -- epoch average precision at k = 1, 2, 3, 4, 5, 6: [0.941   0.9355  0.92466 0.904   0.8434  0.7871 ]\n",
      "\n",
      "\n",
      "Validation -- epoch average recall at k = 1, 2, 3, 4, 5, 6: [0.17823 0.35515 0.52425 0.68127 0.78439 0.87274]\n",
      "\n",
      "Epoch 5/49\n",
      "----------\n"
     ]
    },
    {
     "name": "stderr",
     "output_type": "stream",
     "text": [
      " 18%|█▊        | 1000/5410 [04:25<16:03,  4.58it/s]"
     ]
    },
    {
     "name": "stdout",
     "output_type": "stream",
     "text": [
      "\n",
      "Running avg Loss at batch iter                                                                 1000 is                                                                 0.48443785798549654\n"
     ]
    },
    {
     "name": "stderr",
     "output_type": "stream",
     "text": [
      " 37%|███▋      | 2001/5410 [08:45<12:15,  4.64it/s]"
     ]
    },
    {
     "name": "stdout",
     "output_type": "stream",
     "text": [
      "\n",
      "Running avg Loss at batch iter                                                                 2000 is                                                                 0.4749154462516308\n"
     ]
    },
    {
     "name": "stderr",
     "output_type": "stream",
     "text": [
      " 55%|█████▌    | 3000/5410 [13:12<17:08,  2.34it/s]"
     ]
    },
    {
     "name": "stdout",
     "output_type": "stream",
     "text": [
      "\n",
      "Running avg Loss at batch iter                                                                 3000 is                                                                 0.48215708777308464\n"
     ]
    },
    {
     "name": "stderr",
     "output_type": "stream",
     "text": [
      " 74%|███████▍  | 4001/5410 [17:37<05:02,  4.66it/s]"
     ]
    },
    {
     "name": "stdout",
     "output_type": "stream",
     "text": [
      "\n",
      "Running avg Loss at batch iter                                                                 4000 is                                                                 0.4797239849865437\n"
     ]
    },
    {
     "name": "stderr",
     "output_type": "stream",
     "text": [
      " 92%|█████████▏| 5001/5410 [22:00<01:19,  5.17it/s]"
     ]
    },
    {
     "name": "stdout",
     "output_type": "stream",
     "text": [
      "\n",
      "Running avg Loss at batch iter                                                                 5000 is                                                                 0.48012698286771777\n"
     ]
    },
    {
     "name": "stderr",
     "output_type": "stream",
     "text": [
      "100%|██████████| 5410/5410 [23:49<00:00,  3.78it/s]\n",
      "  0%|          | 0/250 [00:00<?, ?it/s]"
     ]
    },
    {
     "name": "stdout",
     "output_type": "stream",
     "text": [
      "train Loss: 0.4853\n",
      "\n",
      "Train -- epoch average precision at k = 1, 2, 3, 4, 5, 6: [0.94976895 0.93895564 0.92688586 0.90659658 0.84036044 0.78177634]\n",
      "Train -- epoch average recall at k = 1, 2, 3, 4, 5, 6: [0.1809524  0.35742144 0.52677911 0.68448336 0.78375739 0.86875139]\n",
      "\n"
     ]
    },
    {
     "name": "stderr",
     "output_type": "stream",
     "text": [
      "100%|██████████| 250/250 [00:23<00:00, 10.60it/s]\n",
      "  0%|          | 0/5410 [00:00<?, ?it/s]"
     ]
    },
    {
     "name": "stdout",
     "output_type": "stream",
     "text": [
      "val Loss: 0.4810\n",
      "\n",
      "Validation -- epoch average precision at k = 1, 2, 3, 4, 5, 6: [0.95    0.9355  0.92536 0.90575 0.8396  0.78375]\n",
      "\n",
      "\n",
      "Validation -- epoch average recall at k = 1, 2, 3, 4, 5, 6: [0.18062 0.35396 0.52461 0.68315 0.7824  0.86873]\n",
      "\n",
      "Epoch 6/49\n",
      "----------\n"
     ]
    },
    {
     "name": "stderr",
     "output_type": "stream",
     "text": [
      " 19%|█▊        | 1001/5410 [04:25<15:49,  4.64it/s]"
     ]
    },
    {
     "name": "stdout",
     "output_type": "stream",
     "text": [
      "\n",
      "Running avg Loss at batch iter                                                                 1000 is                                                                 0.48025092762708665\n"
     ]
    },
    {
     "name": "stderr",
     "output_type": "stream",
     "text": [
      " 37%|███▋      | 2000/5410 [08:53<17:46,  3.20it/s]"
     ]
    },
    {
     "name": "stdout",
     "output_type": "stream",
     "text": [
      "\n",
      "Running avg Loss at batch iter                                                                 2000 is                                                                 0.4780938466191292\n"
     ]
    },
    {
     "name": "stderr",
     "output_type": "stream",
     "text": [
      " 55%|█████▌    | 3001/5410 [13:19<10:23,  3.86it/s]"
     ]
    },
    {
     "name": "stdout",
     "output_type": "stream",
     "text": [
      "\n",
      "Running avg Loss at batch iter                                                                 3000 is                                                                 0.47479107075929644\n"
     ]
    },
    {
     "name": "stderr",
     "output_type": "stream",
     "text": [
      " 74%|███████▍  | 4001/5410 [17:47<04:24,  5.33it/s]"
     ]
    },
    {
     "name": "stdout",
     "output_type": "stream",
     "text": [
      "\n",
      "Running avg Loss at batch iter                                                                 4000 is                                                                 0.47726040893793104\n"
     ]
    },
    {
     "name": "stderr",
     "output_type": "stream",
     "text": [
      " 92%|█████████▏| 5000/5410 [22:07<01:24,  4.83it/s]"
     ]
    },
    {
     "name": "stdout",
     "output_type": "stream",
     "text": [
      "\n",
      "Running avg Loss at batch iter                                                                 5000 is                                                                 0.48061311346292496\n"
     ]
    },
    {
     "name": "stderr",
     "output_type": "stream",
     "text": [
      "100%|██████████| 5410/5410 [23:53<00:00,  3.77it/s]\n",
      "  0%|          | 0/250 [00:00<?, ?it/s]"
     ]
    },
    {
     "name": "stdout",
     "output_type": "stream",
     "text": [
      "train Loss: 0.4835\n",
      "\n",
      "Train -- epoch average precision at k = 1, 2, 3, 4, 5, 6: [0.94935305 0.93981054 0.92739787 0.90731285 0.8412939  0.78303974]\n",
      "Train -- epoch average recall at k = 1, 2, 3, 4, 5, 6: [0.18069778 0.35769039 0.52741266 0.68507579 0.78478189 0.87041081]\n",
      "\n"
     ]
    },
    {
     "name": "stderr",
     "output_type": "stream",
     "text": [
      "100%|██████████| 250/250 [00:23<00:00, 10.59it/s]\n",
      "  0%|          | 0/5410 [00:00<?, ?it/s]"
     ]
    },
    {
     "name": "stdout",
     "output_type": "stream",
     "text": [
      "val Loss: 0.4893\n",
      "\n",
      "Validation -- epoch average precision at k = 1, 2, 3, 4, 5, 6: [0.945   0.935   0.92696 0.904   0.8442  0.78332]\n",
      "\n",
      "\n",
      "Validation -- epoch average recall at k = 1, 2, 3, 4, 5, 6: [0.17957 0.35595 0.52707 0.68138 0.78665 0.86833]\n",
      "\n",
      "Epoch 7/49\n",
      "----------\n"
     ]
    },
    {
     "name": "stderr",
     "output_type": "stream",
     "text": [
      " 19%|█▊        | 1001/5410 [04:27<19:13,  3.82it/s]"
     ]
    },
    {
     "name": "stdout",
     "output_type": "stream",
     "text": [
      "\n",
      "Running avg Loss at batch iter                                                                 1000 is                                                                 0.4806096002161503\n"
     ]
    },
    {
     "name": "stderr",
     "output_type": "stream",
     "text": [
      " 37%|███▋      | 2001/5410 [08:47<13:20,  4.26it/s]"
     ]
    },
    {
     "name": "stdout",
     "output_type": "stream",
     "text": [
      "\n",
      "Running avg Loss at batch iter                                                                 2000 is                                                                 0.48215729743242264\n"
     ]
    },
    {
     "name": "stderr",
     "output_type": "stream",
     "text": [
      " 55%|█████▌    | 3000/5410 [13:16<10:45,  3.73it/s]"
     ]
    },
    {
     "name": "stdout",
     "output_type": "stream",
     "text": [
      "\n",
      "Running avg Loss at batch iter                                                                 3000 is                                                                 0.4699897180199623\n"
     ]
    },
    {
     "name": "stderr",
     "output_type": "stream",
     "text": [
      " 74%|███████▍  | 4000/5410 [17:41<05:50,  4.03it/s]"
     ]
    },
    {
     "name": "stdout",
     "output_type": "stream",
     "text": [
      "\n",
      "Running avg Loss at batch iter                                                                 4000 is                                                                 0.4758938831090927\n"
     ]
    },
    {
     "name": "stderr",
     "output_type": "stream",
     "text": [
      " 92%|█████████▏| 5000/5410 [22:06<01:27,  4.69it/s]"
     ]
    },
    {
     "name": "stdout",
     "output_type": "stream",
     "text": [
      "\n",
      "Running avg Loss at batch iter                                                                 5000 is                                                                 0.47701073083281514\n"
     ]
    },
    {
     "name": "stderr",
     "output_type": "stream",
     "text": [
      "100%|██████████| 5410/5410 [23:57<00:00,  3.76it/s]\n",
      "  0%|          | 0/250 [00:00<?, ?it/s]"
     ]
    },
    {
     "name": "stdout",
     "output_type": "stream",
     "text": [
      "train Loss: 0.4814\n",
      "\n",
      "Train -- epoch average precision at k = 1, 2, 3, 4, 5, 6: [0.95083179 0.94078096 0.92736599 0.90719732 0.8416451  0.78426433]\n",
      "Train -- epoch average recall at k = 1, 2, 3, 4, 5, 6: [0.1812768  0.35832671 0.52724261 0.68506747 0.7851354  0.87167606]\n",
      "\n"
     ]
    },
    {
     "name": "stderr",
     "output_type": "stream",
     "text": [
      "100%|██████████| 250/250 [00:23<00:00, 10.59it/s]\n"
     ]
    },
    {
     "name": "stdout",
     "output_type": "stream",
     "text": [
      "val Loss: 0.6046\n",
      "\n",
      "Validation -- epoch average precision at k = 1, 2, 3, 4, 5, 6: [0.954   0.9405  0.92699 0.90625 0.843   0.79011]\n",
      "\n",
      "\n",
      "Validation -- epoch average recall at k = 1, 2, 3, 4, 5, 6: [0.18197 0.35802 0.52563 0.68348 0.78555 0.8771 ]\n",
      "\n"
     ]
    }
   ],
   "source": [
    "resnet34_avg = train_and_save(\n",
    "    model_type = 'avg',\n",
    "    model_name = 'resnet34',\n",
    "    lr = 0.001,\n",
    "    device = device,\n",
    "    num_categories= num_categories,\n",
    "    num_epochs= 50,\n",
    "    early_stopping= True,\n",
    "    save_folder = '/home/mridula/Projects/MIML/temp',\n",
    "    patience =5,\n",
    "    use_pretrained=True\n",
    ")"
   ]
  },
  {
   "cell_type": "code",
   "execution_count": 27,
   "metadata": {},
   "outputs": [
    {
     "name": "stderr",
     "output_type": "stream",
     "text": [
      "100%|██████████| 125/125 [00:11<00:00, 10.51it/s]\n"
     ]
    },
    {
     "data": {
      "text/plain": [
       "{'precision_at': {1: 0.948, 2: 0.939, 3: 0.932, 4: 0.91, 5: 0.849, 6: 0.79},\n",
       " 'recall_at': {1: 0.18, 2: 0.357, 3: 0.528, 4: 0.684, 5: 0.788, 6: 0.874}}"
      ]
     },
     "execution_count": 27,
     "metadata": {},
     "output_type": "execute_result"
    }
   ],
   "source": [
    "result_resnet34_avg = test_multi_instance_model(resnet34_avg, device, dataloaders_dict['test'])\n",
    "result_resnet34_avg"
   ]
  },
  {
   "cell_type": "code",
   "execution_count": 28,
   "metadata": {},
   "outputs": [
    {
     "name": "stderr",
     "output_type": "stream",
     "text": [
      "\r",
      "  0%|          | 0/5410 [00:00<?, ?it/s]"
     ]
    },
    {
     "name": "stdout",
     "output_type": "stream",
     "text": [
      "cuda:0\n",
      "Epoch 0/49\n",
      "----------\n"
     ]
    },
    {
     "name": "stderr",
     "output_type": "stream",
     "text": [
      " 18%|█▊        | 1000/5410 [04:32<29:17,  2.51it/s]"
     ]
    },
    {
     "name": "stdout",
     "output_type": "stream",
     "text": [
      "\n",
      "Running avg Loss at batch iter                                                                 1000 is                                                                 0.5047597855329513\n"
     ]
    },
    {
     "name": "stderr",
     "output_type": "stream",
     "text": [
      " 37%|███▋      | 2001/5410 [09:16<13:10,  4.31it/s]"
     ]
    },
    {
     "name": "stdout",
     "output_type": "stream",
     "text": [
      "\n",
      "Running avg Loss at batch iter                                                                 2000 is                                                                 0.49739356511831284\n"
     ]
    },
    {
     "name": "stderr",
     "output_type": "stream",
     "text": [
      " 55%|█████▌    | 3000/5410 [14:08<09:15,  4.34it/s]"
     ]
    },
    {
     "name": "stdout",
     "output_type": "stream",
     "text": [
      "\n",
      "Running avg Loss at batch iter                                                                 3000 is                                                                 0.488384502351284\n"
     ]
    },
    {
     "name": "stderr",
     "output_type": "stream",
     "text": [
      " 74%|███████▍  | 4001/5410 [18:41<05:54,  3.97it/s]"
     ]
    },
    {
     "name": "stdout",
     "output_type": "stream",
     "text": [
      "\n",
      "Running avg Loss at batch iter                                                                 4000 is                                                                 0.4833964811861515\n"
     ]
    },
    {
     "name": "stderr",
     "output_type": "stream",
     "text": [
      " 92%|█████████▏| 5001/5410 [23:28<01:36,  4.23it/s]"
     ]
    },
    {
     "name": "stdout",
     "output_type": "stream",
     "text": [
      "\n",
      "Running avg Loss at batch iter                                                                 5000 is                                                                 0.48780777397751807\n"
     ]
    },
    {
     "name": "stderr",
     "output_type": "stream",
     "text": [
      "100%|██████████| 5410/5410 [25:19<00:00,  3.56it/s]\n",
      "  0%|          | 0/250 [00:00<?, ?it/s]"
     ]
    },
    {
     "name": "stdout",
     "output_type": "stream",
     "text": [
      "train Loss: 0.4964\n",
      "\n",
      "Train -- epoch average precision at k = 1, 2, 3, 4, 5, 6: [0.9383549  0.93283272 0.92421349 0.9028073  0.83577634 0.77784658]\n",
      "Train -- epoch average recall at k = 1, 2, 3, 4, 5, 6: [0.17808826 0.35413771 0.5245342  0.68109335 0.77912985 0.86403882]\n",
      "\n"
     ]
    },
    {
     "name": "stderr",
     "output_type": "stream",
     "text": [
      "100%|██████████| 250/250 [00:24<00:00, 10.10it/s]\n",
      "  0%|          | 0/5410 [00:00<?, ?it/s]"
     ]
    },
    {
     "name": "stdout",
     "output_type": "stream",
     "text": [
      "val Loss: 0.4854\n",
      "\n",
      "Validation -- epoch average precision at k = 1, 2, 3, 4, 5, 6: [0.941   0.9365  0.92301 0.902   0.8422  0.78596]\n",
      "\n",
      "\n",
      "Validation -- epoch average recall at k = 1, 2, 3, 4, 5, 6: [0.17862 0.35522 0.52352 0.67994 0.78472 0.87164]\n",
      "\n",
      "Epoch 1/49\n",
      "----------\n"
     ]
    },
    {
     "name": "stderr",
     "output_type": "stream",
     "text": [
      " 18%|█▊        | 1000/5410 [04:40<20:47,  3.53it/s]"
     ]
    },
    {
     "name": "stdout",
     "output_type": "stream",
     "text": [
      "\n",
      "Running avg Loss at batch iter                                                                 1000 is                                                                 0.48254042768478395\n"
     ]
    },
    {
     "name": "stderr",
     "output_type": "stream",
     "text": [
      " 37%|███▋      | 2001/5410 [09:24<14:07,  4.02it/s]"
     ]
    },
    {
     "name": "stdout",
     "output_type": "stream",
     "text": [
      "\n",
      "Running avg Loss at batch iter                                                                 2000 is                                                                 0.4824442426562309\n"
     ]
    },
    {
     "name": "stderr",
     "output_type": "stream",
     "text": [
      " 55%|█████▌    | 3000/5410 [14:08<10:20,  3.89it/s]"
     ]
    },
    {
     "name": "stdout",
     "output_type": "stream",
     "text": [
      "\n",
      "Running avg Loss at batch iter                                                                 3000 is                                                                 0.48275961297750475\n"
     ]
    },
    {
     "name": "stderr",
     "output_type": "stream",
     "text": [
      " 74%|███████▍  | 4000/5410 [18:52<08:35,  2.73it/s]"
     ]
    },
    {
     "name": "stdout",
     "output_type": "stream",
     "text": [
      "\n",
      "Running avg Loss at batch iter                                                                 4000 is                                                                 0.4857244702577591\n"
     ]
    },
    {
     "name": "stderr",
     "output_type": "stream",
     "text": [
      " 92%|█████████▏| 5000/5410 [23:31<01:51,  3.69it/s]"
     ]
    },
    {
     "name": "stdout",
     "output_type": "stream",
     "text": [
      "\n",
      "Running avg Loss at batch iter                                                                 5000 is                                                                 0.47435087433457374\n"
     ]
    },
    {
     "name": "stderr",
     "output_type": "stream",
     "text": [
      "100%|██████████| 5410/5410 [25:25<00:00,  3.55it/s]\n",
      "  0%|          | 0/250 [00:00<?, ?it/s]"
     ]
    },
    {
     "name": "stdout",
     "output_type": "stream",
     "text": [
      "train Loss: 0.4855\n",
      "\n",
      "Train -- epoch average precision at k = 1, 2, 3, 4, 5, 6: [0.94685767 0.9392329  0.92625462 0.90694316 0.83838262 0.78074723]\n",
      "Train -- epoch average recall at k = 1, 2, 3, 4, 5, 6: [0.18042421 0.35748706 0.52629344 0.6849561  0.78206701 0.86776987]\n",
      "\n"
     ]
    },
    {
     "name": "stderr",
     "output_type": "stream",
     "text": [
      "100%|██████████| 250/250 [00:24<00:00, 10.08it/s]\n",
      "  0%|          | 0/5410 [00:00<?, ?it/s]"
     ]
    },
    {
     "name": "stdout",
     "output_type": "stream",
     "text": [
      "val Loss: 0.4731\n",
      "\n",
      "Validation -- epoch average precision at k = 1, 2, 3, 4, 5, 6: [0.959   0.942   0.92862 0.911   0.8444  0.78771]\n",
      "\n",
      "\n",
      "Validation -- epoch average recall at k = 1, 2, 3, 4, 5, 6: [0.18314 0.35846 0.52725 0.68689 0.78665 0.87444]\n",
      "\n",
      "Epoch 2/49\n",
      "----------\n"
     ]
    },
    {
     "name": "stderr",
     "output_type": "stream",
     "text": [
      " 19%|█▊        | 1001/5410 [04:41<18:14,  4.03it/s]"
     ]
    },
    {
     "name": "stdout",
     "output_type": "stream",
     "text": [
      "\n",
      "Running avg Loss at batch iter                                                                 1000 is                                                                 0.48220643544197084\n"
     ]
    },
    {
     "name": "stderr",
     "output_type": "stream",
     "text": [
      " 37%|███▋      | 2000/5410 [09:26<12:42,  4.47it/s]"
     ]
    },
    {
     "name": "stdout",
     "output_type": "stream",
     "text": [
      "\n",
      "Running avg Loss at batch iter                                                                 2000 is                                                                 0.47439564314484595\n"
     ]
    },
    {
     "name": "stderr",
     "output_type": "stream",
     "text": [
      " 55%|█████▌    | 3001/5410 [14:16<12:16,  3.27it/s]"
     ]
    },
    {
     "name": "stdout",
     "output_type": "stream",
     "text": [
      "\n",
      "Running avg Loss at batch iter                                                                 3000 is                                                                 0.4801830376684666\n"
     ]
    },
    {
     "name": "stderr",
     "output_type": "stream",
     "text": [
      " 74%|███████▍  | 4000/5410 [18:54<05:48,  4.05it/s]"
     ]
    },
    {
     "name": "stdout",
     "output_type": "stream",
     "text": [
      "\n",
      "Running avg Loss at batch iter                                                                 4000 is                                                                 0.4753958411216736\n"
     ]
    },
    {
     "name": "stderr",
     "output_type": "stream",
     "text": [
      " 92%|█████████▏| 5000/5410 [23:32<02:01,  3.39it/s]"
     ]
    },
    {
     "name": "stdout",
     "output_type": "stream",
     "text": [
      "\n",
      "Running avg Loss at batch iter                                                                 5000 is                                                                 0.4735433066189289\n"
     ]
    },
    {
     "name": "stderr",
     "output_type": "stream",
     "text": [
      "100%|██████████| 5410/5410 [25:27<00:00,  3.54it/s]\n",
      "  0%|          | 0/250 [00:00<?, ?it/s]"
     ]
    },
    {
     "name": "stdout",
     "output_type": "stream",
     "text": [
      "train Loss: 0.4812\n",
      "\n",
      "Train -- epoch average precision at k = 1, 2, 3, 4, 5, 6: [0.95268022 0.94297597 0.92875693 0.90911506 0.84120148 0.78399122]\n",
      "Train -- epoch average recall at k = 1, 2, 3, 4, 5, 6: [0.18178928 0.35932394 0.52837246 0.68682994 0.78489048 0.87173059]\n",
      "\n"
     ]
    },
    {
     "name": "stderr",
     "output_type": "stream",
     "text": [
      "100%|██████████| 250/250 [00:24<00:00, 10.05it/s]\n",
      "  0%|          | 0/5410 [00:00<?, ?it/s]"
     ]
    },
    {
     "name": "stdout",
     "output_type": "stream",
     "text": [
      "val Loss: 0.4680\n",
      "\n",
      "Validation -- epoch average precision at k = 1, 2, 3, 4, 5, 6: [0.949   0.939   0.93003 0.91475 0.8464  0.78851]\n",
      "\n",
      "\n",
      "Validation -- epoch average recall at k = 1, 2, 3, 4, 5, 6: [0.18097 0.35778 0.52882 0.69041 0.78908 0.87495]\n",
      "\n",
      "Epoch 3/49\n",
      "----------\n"
     ]
    },
    {
     "name": "stderr",
     "output_type": "stream",
     "text": [
      " 18%|█▊        | 1000/5410 [04:43<21:18,  3.45it/s]"
     ]
    },
    {
     "name": "stdout",
     "output_type": "stream",
     "text": [
      "\n",
      "Running avg Loss at batch iter                                                                 1000 is                                                                 0.47142706987261773\n"
     ]
    },
    {
     "name": "stderr",
     "output_type": "stream",
     "text": [
      " 37%|███▋      | 2000/5410 [09:23<13:04,  4.35it/s]"
     ]
    },
    {
     "name": "stdout",
     "output_type": "stream",
     "text": [
      "\n",
      "Running avg Loss at batch iter                                                                 2000 is                                                                 0.4778925379514694\n"
     ]
    },
    {
     "name": "stderr",
     "output_type": "stream",
     "text": [
      " 55%|█████▌    | 3000/5410 [14:02<13:01,  3.08it/s]"
     ]
    },
    {
     "name": "stdout",
     "output_type": "stream",
     "text": [
      "\n",
      "Running avg Loss at batch iter                                                                 3000 is                                                                 0.4742629699707031\n"
     ]
    },
    {
     "name": "stderr",
     "output_type": "stream",
     "text": [
      " 74%|███████▍  | 4000/5410 [18:49<08:25,  2.79it/s]"
     ]
    },
    {
     "name": "stdout",
     "output_type": "stream",
     "text": [
      "\n",
      "Running avg Loss at batch iter                                                                 4000 is                                                                 0.4710522162616253\n"
     ]
    },
    {
     "name": "stderr",
     "output_type": "stream",
     "text": [
      " 92%|█████████▏| 5000/5410 [23:30<02:10,  3.14it/s]"
     ]
    },
    {
     "name": "stdout",
     "output_type": "stream",
     "text": [
      "\n",
      "Running avg Loss at batch iter                                                                 5000 is                                                                 0.4752603811323643\n"
     ]
    },
    {
     "name": "stderr",
     "output_type": "stream",
     "text": [
      "100%|██████████| 5410/5410 [25:27<00:00,  3.54it/s]\n",
      "  0%|          | 0/250 [00:00<?, ?it/s]"
     ]
    },
    {
     "name": "stdout",
     "output_type": "stream",
     "text": [
      "train Loss: 0.4772\n",
      "\n",
      "Train -- epoch average precision at k = 1, 2, 3, 4, 5, 6: [0.95268022 0.94443161 0.93016636 0.9101317  0.84283734 0.78550924]\n",
      "Train -- epoch average recall at k = 1, 2, 3, 4, 5, 6: [0.18186506 0.36022643 0.52955222 0.68777449 0.78669085 0.87342837]\n",
      "\n"
     ]
    },
    {
     "name": "stderr",
     "output_type": "stream",
     "text": [
      "100%|██████████| 250/250 [00:24<00:00, 10.03it/s]\n",
      "  0%|          | 0/5410 [00:00<?, ?it/s]"
     ]
    },
    {
     "name": "stdout",
     "output_type": "stream",
     "text": [
      "val Loss: 0.4617\n",
      "\n",
      "Validation -- epoch average precision at k = 1, 2, 3, 4, 5, 6: [0.958   0.946   0.93201 0.91675 0.8474  0.78908]\n",
      "\n",
      "\n",
      "Validation -- epoch average recall at k = 1, 2, 3, 4, 5, 6: [0.18345 0.36091 0.53027 0.6926  0.79061 0.87587]\n",
      "\n",
      "Epoch 4/49\n",
      "----------\n"
     ]
    },
    {
     "name": "stderr",
     "output_type": "stream",
     "text": [
      " 19%|█▊        | 1001/5410 [04:45<14:58,  4.91it/s]"
     ]
    },
    {
     "name": "stdout",
     "output_type": "stream",
     "text": [
      "\n",
      "Running avg Loss at batch iter                                                                 1000 is                                                                 0.47351826998591423\n"
     ]
    },
    {
     "name": "stderr",
     "output_type": "stream",
     "text": [
      " 37%|███▋      | 2000/5410 [09:28<13:38,  4.16it/s]"
     ]
    },
    {
     "name": "stdout",
     "output_type": "stream",
     "text": [
      "\n",
      "Running avg Loss at batch iter                                                                 2000 is                                                                 0.47489903038740156\n"
     ]
    },
    {
     "name": "stderr",
     "output_type": "stream",
     "text": [
      " 55%|█████▌    | 3000/5410 [14:12<07:28,  5.37it/s]"
     ]
    },
    {
     "name": "stdout",
     "output_type": "stream",
     "text": [
      "\n",
      "Running avg Loss at batch iter                                                                 3000 is                                                                 0.47067935186624527\n"
     ]
    },
    {
     "name": "stderr",
     "output_type": "stream",
     "text": [
      " 74%|███████▍  | 4001/5410 [18:53<04:41,  5.00it/s]"
     ]
    },
    {
     "name": "stdout",
     "output_type": "stream",
     "text": [
      "\n",
      "Running avg Loss at batch iter                                                                 4000 is                                                                 0.4691858054995537\n"
     ]
    },
    {
     "name": "stderr",
     "output_type": "stream",
     "text": [
      " 92%|█████████▏| 5001/5410 [23:33<01:43,  3.94it/s]"
     ]
    },
    {
     "name": "stdout",
     "output_type": "stream",
     "text": [
      "\n",
      "Running avg Loss at batch iter                                                                 5000 is                                                                 0.46751802396774295\n"
     ]
    },
    {
     "name": "stderr",
     "output_type": "stream",
     "text": [
      "100%|██████████| 5410/5410 [25:28<00:00,  3.54it/s]\n",
      "  0%|          | 0/250 [00:00<?, ?it/s]"
     ]
    },
    {
     "name": "stdout",
     "output_type": "stream",
     "text": [
      "train Loss: 0.4740\n",
      "\n",
      "Train -- epoch average precision at k = 1, 2, 3, 4, 5, 6: [0.95499076 0.9452634  0.93026941 0.91068623 0.84495379 0.78575   ]\n",
      "Train -- epoch average recall at k = 1, 2, 3, 4, 5, 6: [0.18247089 0.36075092 0.52974584 0.68825185 0.78896904 0.87374677]\n",
      "\n"
     ]
    },
    {
     "name": "stderr",
     "output_type": "stream",
     "text": [
      "100%|██████████| 250/250 [00:24<00:00, 10.07it/s]\n",
      "  0%|          | 0/5410 [00:00<?, ?it/s]"
     ]
    },
    {
     "name": "stdout",
     "output_type": "stream",
     "text": [
      "val Loss: 0.4586\n",
      "\n",
      "Validation -- epoch average precision at k = 1, 2, 3, 4, 5, 6: [0.958   0.9505  0.93533 0.91525 0.848   0.79071]\n",
      "\n",
      "\n",
      "Validation -- epoch average recall at k = 1, 2, 3, 4, 5, 6: [0.18322 0.36382 0.53349 0.69192 0.79087 0.87788]\n",
      "\n",
      "Epoch 5/49\n",
      "----------\n"
     ]
    },
    {
     "name": "stderr",
     "output_type": "stream",
     "text": [
      " 19%|█▊        | 1001/5410 [04:49<14:35,  5.03it/s]"
     ]
    },
    {
     "name": "stdout",
     "output_type": "stream",
     "text": [
      "\n",
      "Running avg Loss at batch iter                                                                 1000 is                                                                 0.4672542632520199\n"
     ]
    },
    {
     "name": "stderr",
     "output_type": "stream",
     "text": [
      " 37%|███▋      | 2000/5410 [09:33<14:44,  3.85it/s]"
     ]
    },
    {
     "name": "stdout",
     "output_type": "stream",
     "text": [
      "\n",
      "Running avg Loss at batch iter                                                                 2000 is                                                                 0.46723523652553556\n"
     ]
    },
    {
     "name": "stderr",
     "output_type": "stream",
     "text": [
      " 55%|█████▌    | 3000/5410 [14:10<10:17,  3.90it/s]"
     ]
    },
    {
     "name": "stdout",
     "output_type": "stream",
     "text": [
      "\n",
      "Running avg Loss at batch iter                                                                 3000 is                                                                 0.46576687222719193\n"
     ]
    },
    {
     "name": "stderr",
     "output_type": "stream",
     "text": [
      " 74%|███████▍  | 4000/5410 [19:00<08:10,  2.87it/s]"
     ]
    },
    {
     "name": "stdout",
     "output_type": "stream",
     "text": [
      "\n",
      "Running avg Loss at batch iter                                                                 4000 is                                                                 0.46841805619001387\n"
     ]
    },
    {
     "name": "stderr",
     "output_type": "stream",
     "text": [
      " 92%|█████████▏| 5001/5410 [23:35<01:32,  4.41it/s]"
     ]
    },
    {
     "name": "stdout",
     "output_type": "stream",
     "text": [
      "\n",
      "Running avg Loss at batch iter                                                                 5000 is                                                                 0.47261917278170584\n"
     ]
    },
    {
     "name": "stderr",
     "output_type": "stream",
     "text": [
      "100%|██████████| 5410/5410 [25:28<00:00,  3.54it/s]\n",
      "  0%|          | 0/250 [00:00<?, ?it/s]"
     ]
    },
    {
     "name": "stdout",
     "output_type": "stream",
     "text": [
      "train Loss: 0.4711\n",
      "\n",
      "Train -- epoch average precision at k = 1, 2, 3, 4, 5, 6: [0.9564695  0.94630314 0.9315878  0.9116451  0.84512939 0.78682116]\n",
      "Train -- epoch average recall at k = 1, 2, 3, 4, 5, 6: [0.18293854 0.3613817  0.53106793 0.68926802 0.78937384 0.8752671 ]\n",
      "\n"
     ]
    },
    {
     "name": "stderr",
     "output_type": "stream",
     "text": [
      "100%|██████████| 250/250 [00:24<00:00, 10.08it/s]\n",
      "  0%|          | 0/5410 [00:00<?, ?it/s]"
     ]
    },
    {
     "name": "stdout",
     "output_type": "stream",
     "text": [
      "val Loss: 0.4605\n",
      "\n",
      "Validation -- epoch average precision at k = 1, 2, 3, 4, 5, 6: [0.961   0.946   0.9307  0.9155  0.8472  0.79184]\n",
      "\n",
      "\n",
      "Validation -- epoch average recall at k = 1, 2, 3, 4, 5, 6: [0.18336 0.3603  0.5288  0.69151 0.78944 0.87786]\n",
      "\n",
      "Epoch 6/49\n",
      "----------\n"
     ]
    },
    {
     "name": "stderr",
     "output_type": "stream",
     "text": [
      " 19%|█▊        | 1001/5410 [04:40<19:08,  3.84it/s]"
     ]
    },
    {
     "name": "stdout",
     "output_type": "stream",
     "text": [
      "\n",
      "Running avg Loss at batch iter                                                                 1000 is                                                                 0.4695887523293495\n"
     ]
    },
    {
     "name": "stderr",
     "output_type": "stream",
     "text": [
      " 37%|███▋      | 2001/5410 [09:24<14:31,  3.91it/s]"
     ]
    },
    {
     "name": "stdout",
     "output_type": "stream",
     "text": [
      "\n",
      "Running avg Loss at batch iter                                                                 2000 is                                                                 0.46607504269480704\n"
     ]
    },
    {
     "name": "stderr",
     "output_type": "stream",
     "text": [
      " 55%|█████▌    | 3001/5410 [14:07<10:01,  4.01it/s]"
     ]
    },
    {
     "name": "stdout",
     "output_type": "stream",
     "text": [
      "\n",
      "Running avg Loss at batch iter                                                                 3000 is                                                                 0.467209150493145\n"
     ]
    },
    {
     "name": "stderr",
     "output_type": "stream",
     "text": [
      " 74%|███████▍  | 4000/5410 [18:52<06:27,  3.64it/s]"
     ]
    },
    {
     "name": "stdout",
     "output_type": "stream",
     "text": [
      "\n",
      "Running avg Loss at batch iter                                                                 4000 is                                                                 0.466410071015358\n"
     ]
    },
    {
     "name": "stderr",
     "output_type": "stream",
     "text": [
      " 92%|█████████▏| 5000/5410 [23:33<02:27,  2.78it/s]"
     ]
    },
    {
     "name": "stdout",
     "output_type": "stream",
     "text": [
      "\n",
      "Running avg Loss at batch iter                                                                 5000 is                                                                 0.4674310695528984\n"
     ]
    },
    {
     "name": "stderr",
     "output_type": "stream",
     "text": [
      "100%|██████████| 5410/5410 [25:29<00:00,  3.54it/s]\n",
      "  0%|          | 0/250 [00:00<?, ?it/s]"
     ]
    },
    {
     "name": "stdout",
     "output_type": "stream",
     "text": [
      "train Loss: 0.4703\n",
      "\n",
      "Train -- epoch average precision at k = 1, 2, 3, 4, 5, 6: [0.95693161 0.9478512  0.93260213 0.91148336 0.84634935 0.78774584]\n",
      "Train -- epoch average recall at k = 1, 2, 3, 4, 5, 6: [0.1829561  0.36212893 0.53170564 0.68919824 0.79062939 0.87622689]\n",
      "\n"
     ]
    },
    {
     "name": "stderr",
     "output_type": "stream",
     "text": [
      "100%|██████████| 250/250 [00:24<00:00, 10.07it/s]\n",
      "  0%|          | 0/5410 [00:00<?, ?it/s]"
     ]
    },
    {
     "name": "stdout",
     "output_type": "stream",
     "text": [
      "val Loss: 0.4616\n",
      "\n",
      "Validation -- epoch average precision at k = 1, 2, 3, 4, 5, 6: [0.961   0.9515  0.93308 0.916   0.8486  0.79298]\n",
      "\n",
      "\n",
      "Validation -- epoch average recall at k = 1, 2, 3, 4, 5, 6: [0.18361 0.36381 0.53147 0.69176 0.79087 0.88019]\n",
      "\n",
      "Epoch 7/49\n",
      "----------\n"
     ]
    },
    {
     "name": "stderr",
     "output_type": "stream",
     "text": [
      " 18%|█▊        | 1000/5410 [04:46<21:53,  3.36it/s]"
     ]
    },
    {
     "name": "stdout",
     "output_type": "stream",
     "text": [
      "\n",
      "Running avg Loss at batch iter                                                                 1000 is                                                                 0.4650049589574337\n"
     ]
    },
    {
     "name": "stderr",
     "output_type": "stream",
     "text": [
      " 37%|███▋      | 2000/5410 [09:36<11:12,  5.07it/s]"
     ]
    },
    {
     "name": "stdout",
     "output_type": "stream",
     "text": [
      "\n",
      "Running avg Loss at batch iter                                                                 2000 is                                                                 0.4663979609012604\n"
     ]
    },
    {
     "name": "stderr",
     "output_type": "stream",
     "text": [
      " 55%|█████▌    | 3000/5410 [14:14<07:43,  5.20it/s]"
     ]
    },
    {
     "name": "stdout",
     "output_type": "stream",
     "text": [
      "\n",
      "Running avg Loss at batch iter                                                                 3000 is                                                                 0.4651910474300385\n"
     ]
    },
    {
     "name": "stderr",
     "output_type": "stream",
     "text": [
      " 74%|███████▍  | 4000/5410 [18:51<05:22,  4.37it/s]"
     ]
    },
    {
     "name": "stdout",
     "output_type": "stream",
     "text": [
      "\n",
      "Running avg Loss at batch iter                                                                 4000 is                                                                 0.4677083458900452\n"
     ]
    },
    {
     "name": "stderr",
     "output_type": "stream",
     "text": [
      " 92%|█████████▏| 5001/5410 [23:31<01:58,  3.44it/s]"
     ]
    },
    {
     "name": "stdout",
     "output_type": "stream",
     "text": [
      "\n",
      "Running avg Loss at batch iter                                                                 5000 is                                                                 0.4657888275980949\n"
     ]
    },
    {
     "name": "stderr",
     "output_type": "stream",
     "text": [
      "100%|██████████| 5410/5410 [25:31<00:00,  3.53it/s]\n",
      "  0%|          | 0/250 [00:00<?, ?it/s]"
     ]
    },
    {
     "name": "stdout",
     "output_type": "stream",
     "text": [
      "train Loss: 0.4675\n",
      "\n",
      "Train -- epoch average precision at k = 1, 2, 3, 4, 5, 6: [0.95914972 0.94932994 0.93342976 0.91252311 0.8469963  0.78816821]\n",
      "Train -- epoch average recall at k = 1, 2, 3, 4, 5, 6: [0.18348614 0.36297782 0.53240665 0.69005684 0.7912403  0.87694963]\n",
      "\n"
     ]
    },
    {
     "name": "stderr",
     "output_type": "stream",
     "text": [
      "100%|██████████| 250/250 [00:24<00:00, 10.05it/s]\n",
      "  0%|          | 0/5410 [00:00<?, ?it/s]"
     ]
    },
    {
     "name": "stdout",
     "output_type": "stream",
     "text": [
      "val Loss: 0.4533\n",
      "\n",
      "Validation -- epoch average precision at k = 1, 2, 3, 4, 5, 6: [0.961   0.949   0.93368 0.918   0.854   0.79249]\n",
      "\n",
      "\n",
      "Validation -- epoch average recall at k = 1, 2, 3, 4, 5, 6: [0.18438 0.3633  0.5318  0.6943  0.79681 0.87996]\n",
      "\n",
      "Epoch 8/49\n",
      "----------\n"
     ]
    },
    {
     "name": "stderr",
     "output_type": "stream",
     "text": [
      " 18%|█▊        | 1000/5410 [04:42<23:12,  3.17it/s]"
     ]
    },
    {
     "name": "stdout",
     "output_type": "stream",
     "text": [
      "\n",
      "Running avg Loss at batch iter                                                                 1000 is                                                                 0.46461235827207564\n"
     ]
    },
    {
     "name": "stderr",
     "output_type": "stream",
     "text": [
      " 37%|███▋      | 2000/5410 [09:22<16:55,  3.36it/s]"
     ]
    },
    {
     "name": "stdout",
     "output_type": "stream",
     "text": [
      "\n",
      "Running avg Loss at batch iter                                                                 2000 is                                                                 0.4634533998966217\n"
     ]
    },
    {
     "name": "stderr",
     "output_type": "stream",
     "text": [
      " 55%|█████▌    | 3000/5410 [14:09<10:27,  3.84it/s]"
     ]
    },
    {
     "name": "stdout",
     "output_type": "stream",
     "text": [
      "\n",
      "Running avg Loss at batch iter                                                                 3000 is                                                                 0.45902830666303635\n"
     ]
    },
    {
     "name": "stderr",
     "output_type": "stream",
     "text": [
      " 74%|███████▍  | 4001/5410 [18:49<03:54,  6.02it/s]"
     ]
    },
    {
     "name": "stdout",
     "output_type": "stream",
     "text": [
      "\n",
      "Running avg Loss at batch iter                                                                 4000 is                                                                 0.4651047621667385\n"
     ]
    },
    {
     "name": "stderr",
     "output_type": "stream",
     "text": [
      " 92%|█████████▏| 5000/5410 [23:31<02:14,  3.05it/s]"
     ]
    },
    {
     "name": "stdout",
     "output_type": "stream",
     "text": [
      "\n",
      "Running avg Loss at batch iter                                                                 5000 is                                                                 0.4678775883615017\n"
     ]
    },
    {
     "name": "stderr",
     "output_type": "stream",
     "text": [
      "100%|██████████| 5410/5410 [25:29<00:00,  3.54it/s]\n",
      "  0%|          | 0/250 [00:00<?, ?it/s]"
     ]
    },
    {
     "name": "stdout",
     "output_type": "stream",
     "text": [
      "train Loss: 0.4655\n",
      "\n",
      "Train -- epoch average precision at k = 1, 2, 3, 4, 5, 6: [0.95841035 0.94875231 0.93347597 0.9129159  0.84869686 0.79006377]\n",
      "Train -- epoch average recall at k = 1, 2, 3, 4, 5, 6: [0.18332394 0.36262616 0.53249492 0.69055037 0.79286876 0.8789427 ]\n",
      "\n"
     ]
    },
    {
     "name": "stderr",
     "output_type": "stream",
     "text": [
      "100%|██████████| 250/250 [00:24<00:00, 10.08it/s]\n",
      "  0%|          | 0/5410 [00:00<?, ?it/s]"
     ]
    },
    {
     "name": "stdout",
     "output_type": "stream",
     "text": [
      "val Loss: 0.4503\n",
      "\n",
      "Validation -- epoch average precision at k = 1, 2, 3, 4, 5, 6: [0.96    0.9545  0.93436 0.91625 0.8544  0.79304]\n",
      "\n",
      "\n",
      "Validation -- epoch average recall at k = 1, 2, 3, 4, 5, 6: [0.18407 0.36557 0.53229 0.69308 0.79674 0.88093]\n",
      "\n",
      "Epoch 9/49\n",
      "----------\n"
     ]
    },
    {
     "name": "stderr",
     "output_type": "stream",
     "text": [
      " 18%|█▊        | 1000/5410 [04:38<17:11,  4.27it/s]"
     ]
    },
    {
     "name": "stdout",
     "output_type": "stream",
     "text": [
      "\n",
      "Running avg Loss at batch iter                                                                 1000 is                                                                 0.45602183920145034\n"
     ]
    },
    {
     "name": "stderr",
     "output_type": "stream",
     "text": [
      " 37%|███▋      | 2000/5410 [09:33<25:11,  2.26it/s]"
     ]
    },
    {
     "name": "stdout",
     "output_type": "stream",
     "text": [
      "\n",
      "Running avg Loss at batch iter                                                                 2000 is                                                                 0.4631783070117235\n"
     ]
    },
    {
     "name": "stderr",
     "output_type": "stream",
     "text": [
      " 55%|█████▌    | 3000/5410 [14:18<15:08,  2.65it/s]"
     ]
    },
    {
     "name": "stdout",
     "output_type": "stream",
     "text": [
      "\n",
      "Running avg Loss at batch iter                                                                 3000 is                                                                 0.46706492885947226\n"
     ]
    },
    {
     "name": "stderr",
     "output_type": "stream",
     "text": [
      " 74%|███████▍  | 4000/5410 [18:58<06:06,  3.84it/s]"
     ]
    },
    {
     "name": "stdout",
     "output_type": "stream",
     "text": [
      "\n",
      "Running avg Loss at batch iter                                                                 4000 is                                                                 0.46118181455135343\n"
     ]
    },
    {
     "name": "stderr",
     "output_type": "stream",
     "text": [
      " 92%|█████████▏| 5001/5410 [23:35<01:44,  3.92it/s]"
     ]
    },
    {
     "name": "stdout",
     "output_type": "stream",
     "text": [
      "\n",
      "Running avg Loss at batch iter                                                                 5000 is                                                                 0.4649211013913155\n"
     ]
    },
    {
     "name": "stderr",
     "output_type": "stream",
     "text": [
      "100%|██████████| 5410/5410 [25:29<00:00,  3.54it/s]\n",
      "  0%|          | 0/250 [00:00<?, ?it/s]"
     ]
    },
    {
     "name": "stdout",
     "output_type": "stream",
     "text": [
      "train Loss: 0.4640\n",
      "\n",
      "Train -- epoch average precision at k = 1, 2, 3, 4, 5, 6: [0.95868762 0.95013863 0.93333087 0.91363216 0.84956562 0.79078974]\n",
      "Train -- epoch average recall at k = 1, 2, 3, 4, 5, 6: [0.18347597 0.36334704 0.53242791 0.6913415  0.79384104 0.87999445]\n",
      "\n"
     ]
    },
    {
     "name": "stderr",
     "output_type": "stream",
     "text": [
      "100%|██████████| 250/250 [00:24<00:00, 10.06it/s]\n",
      "  0%|          | 0/5410 [00:00<?, ?it/s]"
     ]
    },
    {
     "name": "stdout",
     "output_type": "stream",
     "text": [
      "val Loss: 0.4483\n",
      "\n",
      "Validation -- epoch average precision at k = 1, 2, 3, 4, 5, 6: [0.962   0.953   0.93465 0.9175  0.8552  0.79328]\n",
      "\n",
      "\n",
      "Validation -- epoch average recall at k = 1, 2, 3, 4, 5, 6: [0.18446 0.36478 0.53188 0.69307 0.79726 0.88143]\n",
      "\n",
      "Epoch 10/49\n",
      "----------\n"
     ]
    },
    {
     "name": "stderr",
     "output_type": "stream",
     "text": [
      " 18%|█▊        | 1000/5410 [04:46<16:59,  4.33it/s]"
     ]
    },
    {
     "name": "stdout",
     "output_type": "stream",
     "text": [
      "\n",
      "Running avg Loss at batch iter                                                                 1000 is                                                                 0.46102505692839624\n"
     ]
    },
    {
     "name": "stderr",
     "output_type": "stream",
     "text": [
      " 37%|███▋      | 2000/5410 [09:33<13:35,  4.18it/s]"
     ]
    },
    {
     "name": "stdout",
     "output_type": "stream",
     "text": [
      "\n",
      "Running avg Loss at batch iter                                                                 2000 is                                                                 0.45690560290217397\n"
     ]
    },
    {
     "name": "stderr",
     "output_type": "stream",
     "text": [
      " 55%|█████▌    | 3000/5410 [14:22<21:12,  1.89it/s]"
     ]
    },
    {
     "name": "stdout",
     "output_type": "stream",
     "text": [
      "\n",
      "Running avg Loss at batch iter                                                                 3000 is                                                                 0.4611095408797264\n"
     ]
    },
    {
     "name": "stderr",
     "output_type": "stream",
     "text": [
      " 74%|███████▍  | 4000/5410 [18:56<06:52,  3.41it/s]"
     ]
    },
    {
     "name": "stdout",
     "output_type": "stream",
     "text": [
      "\n",
      "Running avg Loss at batch iter                                                                 4000 is                                                                 0.46062913954257967\n"
     ]
    },
    {
     "name": "stderr",
     "output_type": "stream",
     "text": [
      " 92%|█████████▏| 5000/5410 [23:38<01:33,  4.41it/s]"
     ]
    },
    {
     "name": "stdout",
     "output_type": "stream",
     "text": [
      "\n",
      "Running avg Loss at batch iter                                                                 5000 is                                                                 0.45676475939154626\n"
     ]
    },
    {
     "name": "stderr",
     "output_type": "stream",
     "text": [
      "100%|██████████| 5410/5410 [25:28<00:00,  3.54it/s]\n",
      "  0%|          | 0/250 [00:00<?, ?it/s]"
     ]
    },
    {
     "name": "stdout",
     "output_type": "stream",
     "text": [
      "train Loss: 0.4624\n",
      "\n",
      "Train -- epoch average precision at k = 1, 2, 3, 4, 5, 6: [0.96067468 0.95184843 0.93478373 0.91368993 0.84951017 0.79052311]\n",
      "Train -- epoch average recall at k = 1, 2, 3, 4, 5, 6: [0.18387662 0.36435998 0.53357902 0.69120564 0.79394963 0.87966543]\n",
      "\n"
     ]
    },
    {
     "name": "stderr",
     "output_type": "stream",
     "text": [
      "100%|██████████| 250/250 [00:24<00:00, 10.07it/s]\n",
      "  0%|          | 0/5410 [00:00<?, ?it/s]"
     ]
    },
    {
     "name": "stdout",
     "output_type": "stream",
     "text": [
      "val Loss: 0.4480\n",
      "\n",
      "Validation -- epoch average precision at k = 1, 2, 3, 4, 5, 6: [0.966   0.954   0.93837 0.91775 0.8556  0.79623]\n",
      "\n",
      "\n",
      "Validation -- epoch average recall at k = 1, 2, 3, 4, 5, 6: [0.18497 0.36538 0.53545 0.69316 0.79787 0.88397]\n",
      "\n",
      "Epoch 11/49\n",
      "----------\n"
     ]
    },
    {
     "name": "stderr",
     "output_type": "stream",
     "text": [
      " 19%|█▊        | 1001/5410 [04:44<25:12,  2.91it/s]"
     ]
    },
    {
     "name": "stdout",
     "output_type": "stream",
     "text": [
      "\n",
      "Running avg Loss at batch iter                                                                 1000 is                                                                 0.45884805534780027\n"
     ]
    },
    {
     "name": "stderr",
     "output_type": "stream",
     "text": [
      " 37%|███▋      | 2001/5410 [09:25<14:23,  3.95it/s]"
     ]
    },
    {
     "name": "stdout",
     "output_type": "stream",
     "text": [
      "\n",
      "Running avg Loss at batch iter                                                                 2000 is                                                                 0.45484694275259974\n"
     ]
    },
    {
     "name": "stderr",
     "output_type": "stream",
     "text": [
      " 55%|█████▌    | 3000/5410 [14:05<07:08,  5.63it/s]"
     ]
    },
    {
     "name": "stdout",
     "output_type": "stream",
     "text": [
      "\n",
      "Running avg Loss at batch iter                                                                 3000 is                                                                 0.46520082725584505\n"
     ]
    },
    {
     "name": "stderr",
     "output_type": "stream",
     "text": [
      " 74%|███████▍  | 4000/5410 [18:50<05:43,  4.10it/s]"
     ]
    },
    {
     "name": "stdout",
     "output_type": "stream",
     "text": [
      "\n",
      "Running avg Loss at batch iter                                                                 4000 is                                                                 0.4572618443965912\n"
     ]
    },
    {
     "name": "stderr",
     "output_type": "stream",
     "text": [
      " 92%|█████████▏| 5000/5410 [23:26<01:41,  4.04it/s]"
     ]
    },
    {
     "name": "stdout",
     "output_type": "stream",
     "text": [
      "\n",
      "Running avg Loss at batch iter                                                                 5000 is                                                                 0.45849867779016495\n"
     ]
    },
    {
     "name": "stderr",
     "output_type": "stream",
     "text": [
      "100%|██████████| 5410/5410 [25:28<00:00,  3.54it/s]\n",
      "  0%|          | 0/250 [00:00<?, ?it/s]"
     ]
    },
    {
     "name": "stdout",
     "output_type": "stream",
     "text": [
      "train Loss: 0.4602\n",
      "\n",
      "Train -- epoch average precision at k = 1, 2, 3, 4, 5, 6: [0.95979667 0.95076248 0.93544547 0.91408272 0.85008318 0.7909219 ]\n",
      "Train -- epoch average recall at k = 1, 2, 3, 4, 5, 6: [0.18357763 0.36377819 0.53399445 0.69169085 0.79431747 0.88001294]\n",
      "\n"
     ]
    },
    {
     "name": "stderr",
     "output_type": "stream",
     "text": [
      "100%|██████████| 250/250 [00:24<00:00, 10.04it/s]\n",
      "  0%|          | 0/5410 [00:00<?, ?it/s]"
     ]
    },
    {
     "name": "stdout",
     "output_type": "stream",
     "text": [
      "val Loss: 0.4571\n",
      "\n",
      "Validation -- epoch average precision at k = 1, 2, 3, 4, 5, 6: [0.964   0.954   0.93573 0.91525 0.8508  0.79377]\n",
      "\n",
      "\n",
      "Validation -- epoch average recall at k = 1, 2, 3, 4, 5, 6: [0.18485 0.36596 0.53515 0.69308 0.79368 0.8814 ]\n",
      "\n",
      "Epoch 12/49\n",
      "----------\n"
     ]
    },
    {
     "name": "stderr",
     "output_type": "stream",
     "text": [
      " 18%|█▊        | 1000/5410 [04:44<24:00,  3.06it/s]"
     ]
    },
    {
     "name": "stdout",
     "output_type": "stream",
     "text": [
      "\n",
      "Running avg Loss at batch iter                                                                 1000 is                                                                 0.461644048511982\n"
     ]
    },
    {
     "name": "stderr",
     "output_type": "stream",
     "text": [
      " 37%|███▋      | 2000/5410 [09:27<14:34,  3.90it/s]"
     ]
    },
    {
     "name": "stdout",
     "output_type": "stream",
     "text": [
      "\n",
      "Running avg Loss at batch iter                                                                 2000 is                                                                 0.4568230813741684\n"
     ]
    },
    {
     "name": "stderr",
     "output_type": "stream",
     "text": [
      " 55%|█████▌    | 3001/5410 [14:09<08:04,  4.98it/s]"
     ]
    },
    {
     "name": "stdout",
     "output_type": "stream",
     "text": [
      "\n",
      "Running avg Loss at batch iter                                                                 3000 is                                                                 0.45564036585390566\n"
     ]
    },
    {
     "name": "stderr",
     "output_type": "stream",
     "text": [
      " 74%|███████▍  | 4000/5410 [18:51<07:44,  3.04it/s]"
     ]
    },
    {
     "name": "stdout",
     "output_type": "stream",
     "text": [
      "\n",
      "Running avg Loss at batch iter                                                                 4000 is                                                                 0.4546027969121933\n"
     ]
    },
    {
     "name": "stderr",
     "output_type": "stream",
     "text": [
      " 92%|█████████▏| 5000/5410 [23:33<01:33,  4.38it/s]"
     ]
    },
    {
     "name": "stdout",
     "output_type": "stream",
     "text": [
      "\n",
      "Running avg Loss at batch iter                                                                 5000 is                                                                 0.45757950457930563\n"
     ]
    },
    {
     "name": "stderr",
     "output_type": "stream",
     "text": [
      "100%|██████████| 5410/5410 [25:27<00:00,  3.54it/s]\n",
      "  0%|          | 0/250 [00:00<?, ?it/s]"
     ]
    },
    {
     "name": "stdout",
     "output_type": "stream",
     "text": [
      "train Loss: 0.4557\n",
      "\n",
      "Train -- epoch average precision at k = 1, 2, 3, 4, 5, 6: [0.95841035 0.95057763 0.93509381 0.9146719  0.85136784 0.79234057]\n",
      "Train -- epoch average recall at k = 1, 2, 3, 4, 5, 6: [0.18338586 0.36372043 0.53390665 0.69226479 0.79573937 0.88148937]\n",
      "\n"
     ]
    },
    {
     "name": "stderr",
     "output_type": "stream",
     "text": [
      "100%|██████████| 250/250 [00:24<00:00, 10.05it/s]\n",
      "  0%|          | 0/5410 [00:00<?, ?it/s]"
     ]
    },
    {
     "name": "stdout",
     "output_type": "stream",
     "text": [
      "val Loss: 0.4488\n",
      "\n",
      "Validation -- epoch average precision at k = 1, 2, 3, 4, 5, 6: [0.961   0.949   0.93471 0.91625 0.8544  0.79302]\n",
      "\n",
      "\n",
      "Validation -- epoch average recall at k = 1, 2, 3, 4, 5, 6: [0.1839  0.36226 0.53203 0.69276 0.79738 0.88082]\n",
      "\n",
      "Epoch 13/49\n",
      "----------\n"
     ]
    },
    {
     "name": "stderr",
     "output_type": "stream",
     "text": [
      " 19%|█▊        | 1001/5410 [04:43<16:38,  4.41it/s]"
     ]
    },
    {
     "name": "stdout",
     "output_type": "stream",
     "text": [
      "\n",
      "Running avg Loss at batch iter                                                                 1000 is                                                                 0.4592745127379894\n"
     ]
    },
    {
     "name": "stderr",
     "output_type": "stream",
     "text": [
      " 37%|███▋      | 2000/5410 [09:25<18:40,  3.04it/s]"
     ]
    },
    {
     "name": "stdout",
     "output_type": "stream",
     "text": [
      "\n",
      "Running avg Loss at batch iter                                                                 2000 is                                                                 0.45383851274847986\n"
     ]
    },
    {
     "name": "stderr",
     "output_type": "stream",
     "text": [
      " 55%|█████▌    | 3000/5410 [14:00<08:52,  4.52it/s]"
     ]
    },
    {
     "name": "stdout",
     "output_type": "stream",
     "text": [
      "\n",
      "Running avg Loss at batch iter                                                                 3000 is                                                                 0.4554835465848446\n"
     ]
    },
    {
     "name": "stderr",
     "output_type": "stream",
     "text": [
      " 74%|███████▍  | 4000/5410 [18:43<07:48,  3.01it/s]"
     ]
    },
    {
     "name": "stdout",
     "output_type": "stream",
     "text": [
      "\n",
      "Running avg Loss at batch iter                                                                 4000 is                                                                 0.45654469031095507\n"
     ]
    },
    {
     "name": "stderr",
     "output_type": "stream",
     "text": [
      " 92%|█████████▏| 5000/5410 [23:31<01:42,  4.01it/s]"
     ]
    },
    {
     "name": "stdout",
     "output_type": "stream",
     "text": [
      "\n",
      "Running avg Loss at batch iter                                                                 5000 is                                                                 0.45536437767744065\n"
     ]
    },
    {
     "name": "stderr",
     "output_type": "stream",
     "text": [
      "100%|██████████| 5410/5410 [25:23<00:00,  3.55it/s]\n",
      "  0%|          | 0/250 [00:00<?, ?it/s]"
     ]
    },
    {
     "name": "stdout",
     "output_type": "stream",
     "text": [
      "train Loss: 0.4570\n",
      "\n",
      "Train -- epoch average precision at k = 1, 2, 3, 4, 5, 6: [0.95919593 0.95099353 0.93608595 0.91471811 0.8512939  0.79274168]\n",
      "Train -- epoch average recall at k = 1, 2, 3, 4, 5, 6: [0.18361044 0.36392976 0.5345841  0.6923586  0.79580222 0.88219455]\n",
      "\n"
     ]
    },
    {
     "name": "stderr",
     "output_type": "stream",
     "text": [
      "100%|██████████| 250/250 [00:24<00:00, 10.12it/s]\n",
      "  0%|          | 0/5410 [00:00<?, ?it/s]"
     ]
    },
    {
     "name": "stdout",
     "output_type": "stream",
     "text": [
      "val Loss: 0.4622\n",
      "\n",
      "Validation -- epoch average precision at k = 1, 2, 3, 4, 5, 6: [0.962   0.9515  0.93072 0.91075 0.8502  0.79662]\n",
      "\n",
      "\n",
      "Validation -- epoch average recall at k = 1, 2, 3, 4, 5, 6: [0.18407 0.3643  0.53145 0.68873 0.79405 0.88512]\n",
      "\n",
      "Epoch 14/49\n",
      "----------\n"
     ]
    },
    {
     "name": "stderr",
     "output_type": "stream",
     "text": [
      " 18%|█▊        | 1000/5410 [04:42<20:29,  3.59it/s]"
     ]
    },
    {
     "name": "stdout",
     "output_type": "stream",
     "text": [
      "\n",
      "Running avg Loss at batch iter                                                                 1000 is                                                                 0.45780496719479563\n"
     ]
    },
    {
     "name": "stderr",
     "output_type": "stream",
     "text": [
      " 37%|███▋      | 2000/5410 [09:17<17:49,  3.19it/s]"
     ]
    },
    {
     "name": "stdout",
     "output_type": "stream",
     "text": [
      "\n",
      "Running avg Loss at batch iter                                                                 2000 is                                                                 0.45254436583817004\n"
     ]
    },
    {
     "name": "stderr",
     "output_type": "stream",
     "text": [
      " 55%|█████▌    | 3000/5410 [13:57<11:53,  3.38it/s]"
     ]
    },
    {
     "name": "stdout",
     "output_type": "stream",
     "text": [
      "\n",
      "Running avg Loss at batch iter                                                                 3000 is                                                                 0.4522914747297764\n"
     ]
    },
    {
     "name": "stderr",
     "output_type": "stream",
     "text": [
      " 74%|███████▍  | 4000/5410 [18:39<06:44,  3.49it/s]"
     ]
    },
    {
     "name": "stdout",
     "output_type": "stream",
     "text": [
      "\n",
      "Running avg Loss at batch iter                                                                 4000 is                                                                 0.4545782848745584\n"
     ]
    },
    {
     "name": "stderr",
     "output_type": "stream",
     "text": [
      " 92%|█████████▏| 5000/5410 [23:25<01:30,  4.54it/s]"
     ]
    },
    {
     "name": "stdout",
     "output_type": "stream",
     "text": [
      "\n",
      "Running avg Loss at batch iter                                                                 5000 is                                                                 0.4542848341166973\n"
     ]
    },
    {
     "name": "stderr",
     "output_type": "stream",
     "text": [
      "100%|██████████| 5410/5410 [25:22<00:00,  3.55it/s]\n",
      "  0%|          | 0/250 [00:00<?, ?it/s]"
     ]
    },
    {
     "name": "stdout",
     "output_type": "stream",
     "text": [
      "train Loss: 0.4557\n",
      "\n",
      "Train -- epoch average precision at k = 1, 2, 3, 4, 5, 6: [0.96048983 0.95201017 0.93598059 0.91434843 0.85159889 0.79233272]\n",
      "Train -- epoch average recall at k = 1, 2, 3, 4, 5, 6: [0.18391913 0.36444824 0.53471811 0.69199815 0.79607902 0.88179113]\n",
      "\n"
     ]
    },
    {
     "name": "stderr",
     "output_type": "stream",
     "text": [
      "100%|██████████| 250/250 [00:24<00:00, 10.05it/s]\n",
      "  0%|          | 0/5410 [00:00<?, ?it/s]"
     ]
    },
    {
     "name": "stdout",
     "output_type": "stream",
     "text": [
      "val Loss: 0.4663\n",
      "\n",
      "Validation -- epoch average precision at k = 1, 2, 3, 4, 5, 6: [0.959   0.945   0.92834 0.911   0.851   0.79236]\n",
      "\n",
      "\n",
      "Validation -- epoch average recall at k = 1, 2, 3, 4, 5, 6: [0.18337 0.3605  0.5275  0.68867 0.79367 0.87964]\n",
      "\n",
      "Epoch 15/49\n",
      "----------\n"
     ]
    },
    {
     "name": "stderr",
     "output_type": "stream",
     "text": [
      " 18%|█▊        | 1000/5410 [04:40<18:03,  4.07it/s]"
     ]
    },
    {
     "name": "stdout",
     "output_type": "stream",
     "text": [
      "\n",
      "Running avg Loss at batch iter                                                                 1000 is                                                                 0.45478918415308\n"
     ]
    },
    {
     "name": "stderr",
     "output_type": "stream",
     "text": [
      " 37%|███▋      | 2001/5410 [09:35<10:32,  5.39it/s]"
     ]
    },
    {
     "name": "stdout",
     "output_type": "stream",
     "text": [
      "\n",
      "Running avg Loss at batch iter                                                                 2000 is                                                                 0.4495076633393765\n"
     ]
    },
    {
     "name": "stderr",
     "output_type": "stream",
     "text": [
      " 55%|█████▌    | 3001/5410 [14:17<09:41,  4.14it/s]"
     ]
    },
    {
     "name": "stdout",
     "output_type": "stream",
     "text": [
      "\n",
      "Running avg Loss at batch iter                                                                 3000 is                                                                 0.4549883029460907\n"
     ]
    },
    {
     "name": "stderr",
     "output_type": "stream",
     "text": [
      " 74%|███████▍  | 4000/5410 [19:00<04:32,  5.17it/s]"
     ]
    },
    {
     "name": "stdout",
     "output_type": "stream",
     "text": [
      "\n",
      "Running avg Loss at batch iter                                                                 4000 is                                                                 0.45974245688319204\n"
     ]
    },
    {
     "name": "stderr",
     "output_type": "stream",
     "text": [
      " 92%|█████████▏| 5000/5410 [23:32<01:32,  4.45it/s]"
     ]
    },
    {
     "name": "stdout",
     "output_type": "stream",
     "text": [
      "\n",
      "Running avg Loss at batch iter                                                                 5000 is                                                                 0.4464716542512178\n"
     ]
    },
    {
     "name": "stderr",
     "output_type": "stream",
     "text": [
      "100%|██████████| 5410/5410 [25:25<00:00,  3.55it/s]\n",
      "  0%|          | 0/250 [00:00<?, ?it/s]"
     ]
    },
    {
     "name": "stdout",
     "output_type": "stream",
     "text": [
      "train Loss: 0.4536\n",
      "\n",
      "Train -- epoch average precision at k = 1, 2, 3, 4, 5, 6: [0.95928835 0.95224122 0.93681423 0.91544593 0.85308688 0.79377819]\n",
      "Train -- epoch average recall at k = 1, 2, 3, 4, 5, 6: [0.18370749 0.36460675 0.5351585  0.69283965 0.79738586 0.88329113]\n",
      "\n"
     ]
    },
    {
     "name": "stderr",
     "output_type": "stream",
     "text": [
      "100%|██████████| 250/250 [00:24<00:00, 10.10it/s]\n"
     ]
    },
    {
     "name": "stdout",
     "output_type": "stream",
     "text": [
      "val Loss: 0.4471\n",
      "\n",
      "Validation -- epoch average precision at k = 1, 2, 3, 4, 5, 6: [0.957   0.9475  0.93836 0.9175  0.8546  0.79615]\n",
      "\n",
      "\n",
      "Validation -- epoch average recall at k = 1, 2, 3, 4, 5, 6: [0.18258 0.36255 0.53618 0.6939  0.79817 0.88421]\n",
      "\n"
     ]
    }
   ],
   "source": [
    "resnet34_attention = train_and_save(\n",
    "    model_type = 'attention',\n",
    "    model_name = 'resnet34',\n",
    "    lr = 0.001,\n",
    "    device = device,\n",
    "    num_categories= num_categories,\n",
    "    num_epochs= 50,\n",
    "    early_stopping= True,\n",
    "    save_folder = '/home/mridula/Projects/MIML/temp',\n",
    "    patience =5,\n",
    "    use_pretrained=True\n",
    ")"
   ]
  },
  {
   "cell_type": "code",
   "execution_count": 29,
   "metadata": {},
   "outputs": [
    {
     "name": "stderr",
     "output_type": "stream",
     "text": [
      "100%|██████████| 125/125 [00:12<00:00, 10.00it/s]\n"
     ]
    },
    {
     "data": {
      "text/plain": [
       "{'precision_at': {1: 0.948, 2: 0.953, 3: 0.941, 4: 0.917, 5: 0.856, 6: 0.796},\n",
       " 'recall_at': {1: 0.181, 2: 0.363, 3: 0.536, 4: 0.689, 5: 0.796, 6: 0.882}}"
      ]
     },
     "execution_count": 29,
     "metadata": {},
     "output_type": "execute_result"
    }
   ],
   "source": [
    "result_resnet34_attention = test_multi_instance_model(resnet34_attention, device, dataloaders_dict['test'])\n",
    "result_resnet34_attention\n",
    "\n"
   ]
  },
  {
   "cell_type": "markdown",
   "metadata": {},
   "source": [
    "# ResNet50"
   ]
  },
  {
   "cell_type": "code",
   "execution_count": 31,
   "metadata": {},
   "outputs": [
    {
     "name": "stderr",
     "output_type": "stream",
     "text": [
      "\r",
      "  0%|          | 0/5410 [00:00<?, ?it/s]"
     ]
    },
    {
     "name": "stdout",
     "output_type": "stream",
     "text": [
      "cuda:0\n",
      "Epoch 0/49\n",
      "----------\n"
     ]
    },
    {
     "name": "stderr",
     "output_type": "stream",
     "text": [
      " 18%|█▊        | 1000/5410 [06:12<17:28,  4.21it/s]"
     ]
    },
    {
     "name": "stdout",
     "output_type": "stream",
     "text": [
      "\n",
      "Running avg Loss at batch iter                                                                 1000 is                                                                 0.5076859662830829\n"
     ]
    },
    {
     "name": "stderr",
     "output_type": "stream",
     "text": [
      " 37%|███▋      | 2001/5410 [12:30<17:54,  3.17it/s]"
     ]
    },
    {
     "name": "stdout",
     "output_type": "stream",
     "text": [
      "\n",
      "Running avg Loss at batch iter                                                                 2000 is                                                                 0.5002533992528916\n"
     ]
    },
    {
     "name": "stderr",
     "output_type": "stream",
     "text": [
      " 55%|█████▌    | 3001/5410 [18:38<16:55,  2.37it/s]"
     ]
    },
    {
     "name": "stdout",
     "output_type": "stream",
     "text": [
      "\n",
      "Running avg Loss at batch iter                                                                 3000 is                                                                 0.49391562274098394\n"
     ]
    },
    {
     "name": "stderr",
     "output_type": "stream",
     "text": [
      " 74%|███████▍  | 4001/5410 [24:52<09:59,  2.35it/s]"
     ]
    },
    {
     "name": "stdout",
     "output_type": "stream",
     "text": [
      "\n",
      "Running avg Loss at batch iter                                                                 4000 is                                                                 0.4888879513442516\n"
     ]
    },
    {
     "name": "stderr",
     "output_type": "stream",
     "text": [
      " 92%|█████████▏| 5000/5410 [31:13<02:04,  3.29it/s]"
     ]
    },
    {
     "name": "stdout",
     "output_type": "stream",
     "text": [
      "\n",
      "Running avg Loss at batch iter                                                                 5000 is                                                                 0.48757432997226713\n"
     ]
    },
    {
     "name": "stderr",
     "output_type": "stream",
     "text": [
      "100%|██████████| 5410/5410 [33:43<00:00,  2.67it/s]\n",
      "  0%|          | 0/250 [00:00<?, ?it/s]"
     ]
    },
    {
     "name": "stdout",
     "output_type": "stream",
     "text": [
      "train Loss: 0.5013\n",
      "\n",
      "Train -- epoch average precision at k = 1, 2, 3, 4, 5, 6: [0.93770795 0.93225508 0.92289233 0.90152495 0.8342976  0.77495333]\n",
      "Train -- epoch average recall at k = 1, 2, 3, 4, 5, 6: [0.17801848 0.35384427 0.52344593 0.67991266 0.77763817 0.86071396]\n",
      "\n"
     ]
    },
    {
     "name": "stderr",
     "output_type": "stream",
     "text": [
      "100%|██████████| 250/250 [00:32<00:00,  7.76it/s]\n",
      "  0%|          | 0/5410 [00:00<?, ?it/s]"
     ]
    },
    {
     "name": "stdout",
     "output_type": "stream",
     "text": [
      "val Loss: 0.5937\n",
      "\n",
      "Validation -- epoch average precision at k = 1, 2, 3, 4, 5, 6: [0.948   0.933   0.92439 0.90175 0.8386  0.77423]\n",
      "\n",
      "\n",
      "Validation -- epoch average recall at k = 1, 2, 3, 4, 5, 6: [0.17955 0.3527  0.52321 0.67869 0.78098 0.85774]\n",
      "\n",
      "Epoch 1/49\n",
      "----------\n"
     ]
    },
    {
     "name": "stderr",
     "output_type": "stream",
     "text": [
      " 18%|█▊        | 1000/5410 [06:14<32:44,  2.24it/s] "
     ]
    },
    {
     "name": "stdout",
     "output_type": "stream",
     "text": [
      "\n",
      "Running avg Loss at batch iter                                                                 1000 is                                                                 0.4932416830956936\n"
     ]
    },
    {
     "name": "stderr",
     "output_type": "stream",
     "text": [
      " 37%|███▋      | 2001/5410 [12:37<17:24,  3.26it/s]"
     ]
    },
    {
     "name": "stdout",
     "output_type": "stream",
     "text": [
      "\n",
      "Running avg Loss at batch iter                                                                 2000 is                                                                 0.4890974233448505\n"
     ]
    },
    {
     "name": "stderr",
     "output_type": "stream",
     "text": [
      " 55%|█████▌    | 3000/5410 [18:41<11:49,  3.40it/s]"
     ]
    },
    {
     "name": "stdout",
     "output_type": "stream",
     "text": [
      "\n",
      "Running avg Loss at batch iter                                                                 3000 is                                                                 0.4857277971506119\n"
     ]
    },
    {
     "name": "stderr",
     "output_type": "stream",
     "text": [
      " 74%|███████▍  | 4000/5410 [25:01<11:45,  2.00it/s]"
     ]
    },
    {
     "name": "stdout",
     "output_type": "stream",
     "text": [
      "\n",
      "Running avg Loss at batch iter                                                                 4000 is                                                                 0.49029913848638534\n"
     ]
    },
    {
     "name": "stderr",
     "output_type": "stream",
     "text": [
      " 92%|█████████▏| 5000/5410 [31:17<03:48,  1.79it/s]"
     ]
    },
    {
     "name": "stdout",
     "output_type": "stream",
     "text": [
      "\n",
      "Running avg Loss at batch iter                                                                 5000 is                                                                 0.4892475761473179\n"
     ]
    },
    {
     "name": "stderr",
     "output_type": "stream",
     "text": [
      "100%|██████████| 5410/5410 [33:45<00:00,  2.67it/s]\n",
      "  0%|          | 0/250 [00:00<?, ?it/s]"
     ]
    },
    {
     "name": "stdout",
     "output_type": "stream",
     "text": [
      "train Loss: 0.4949\n",
      "\n",
      "Train -- epoch average precision at k = 1, 2, 3, 4, 5, 6: [0.94038817 0.93468115 0.92509935 0.90284196 0.83628466 0.77681885]\n",
      "Train -- epoch average recall at k = 1, 2, 3, 4, 5, 6: [0.17854575 0.35510952 0.52498706 0.68089048 0.77953928 0.8626012 ]\n",
      "\n"
     ]
    },
    {
     "name": "stderr",
     "output_type": "stream",
     "text": [
      "100%|██████████| 250/250 [00:32<00:00,  7.77it/s]\n",
      "  0%|          | 0/5410 [00:00<?, ?it/s]"
     ]
    },
    {
     "name": "stdout",
     "output_type": "stream",
     "text": [
      "val Loss: 0.4793\n",
      "\n",
      "Validation -- epoch average precision at k = 1, 2, 3, 4, 5, 6: [0.953   0.9385  0.92967 0.90875 0.8404  0.78559]\n",
      "\n",
      "\n",
      "Validation -- epoch average recall at k = 1, 2, 3, 4, 5, 6: [0.18113 0.35706 0.52771 0.68557 0.78243 0.87156]\n",
      "\n",
      "Epoch 2/49\n",
      "----------\n"
     ]
    },
    {
     "name": "stderr",
     "output_type": "stream",
     "text": [
      " 19%|█▊        | 1001/5410 [06:18<16:51,  4.36it/s] "
     ]
    },
    {
     "name": "stdout",
     "output_type": "stream",
     "text": [
      "\n",
      "Running avg Loss at batch iter                                                                 1000 is                                                                 0.4803566929996014\n"
     ]
    },
    {
     "name": "stderr",
     "output_type": "stream",
     "text": [
      " 37%|███▋      | 2001/5410 [12:32<16:32,  3.43it/s]"
     ]
    },
    {
     "name": "stdout",
     "output_type": "stream",
     "text": [
      "\n",
      "Running avg Loss at batch iter                                                                 2000 is                                                                 0.4896924407184124\n"
     ]
    },
    {
     "name": "stderr",
     "output_type": "stream",
     "text": [
      " 55%|█████▌    | 3001/5410 [18:49<12:56,  3.10it/s]"
     ]
    },
    {
     "name": "stdout",
     "output_type": "stream",
     "text": [
      "\n",
      "Running avg Loss at batch iter                                                                 3000 is                                                                 0.48908971828222275\n"
     ]
    },
    {
     "name": "stderr",
     "output_type": "stream",
     "text": [
      " 74%|███████▍  | 4000/5410 [24:53<08:35,  2.73it/s]"
     ]
    },
    {
     "name": "stdout",
     "output_type": "stream",
     "text": [
      "\n",
      "Running avg Loss at batch iter                                                                 4000 is                                                                 0.48849964505434035\n"
     ]
    },
    {
     "name": "stderr",
     "output_type": "stream",
     "text": [
      " 92%|█████████▏| 5000/5410 [31:05<01:54,  3.58it/s]"
     ]
    },
    {
     "name": "stdout",
     "output_type": "stream",
     "text": [
      "\n",
      "Running avg Loss at batch iter                                                                 5000 is                                                                 0.4834172760844231\n"
     ]
    },
    {
     "name": "stderr",
     "output_type": "stream",
     "text": [
      "100%|██████████| 5410/5410 [33:41<00:00,  2.68it/s]\n",
      "  0%|          | 0/250 [00:00<?, ?it/s]"
     ]
    },
    {
     "name": "stdout",
     "output_type": "stream",
     "text": [
      "train Loss: 0.4928\n",
      "\n",
      "Train -- epoch average precision at k = 1, 2, 3, 4, 5, 6: [0.94209797 0.93546673 0.92492144 0.90361599 0.83748614 0.77973198]\n",
      "Train -- epoch average recall at k = 1, 2, 3, 4, 5, 6: [0.17894917 0.35561784 0.52503189 0.68172643 0.78087616 0.86626941]\n",
      "\n"
     ]
    },
    {
     "name": "stderr",
     "output_type": "stream",
     "text": [
      "100%|██████████| 250/250 [00:32<00:00,  7.76it/s]\n",
      "  0%|          | 0/5410 [00:00<?, ?it/s]"
     ]
    },
    {
     "name": "stdout",
     "output_type": "stream",
     "text": [
      "val Loss: 0.4875\n",
      "\n",
      "Validation -- epoch average precision at k = 1, 2, 3, 4, 5, 6: [0.947   0.9375  0.92735 0.90775 0.8406  0.78303]\n",
      "\n",
      "\n",
      "Validation -- epoch average recall at k = 1, 2, 3, 4, 5, 6: [0.18075 0.3575  0.52605 0.68493 0.78372 0.86891]\n",
      "\n",
      "Epoch 3/49\n",
      "----------\n"
     ]
    },
    {
     "name": "stderr",
     "output_type": "stream",
     "text": [
      " 19%|█▊        | 1001/5410 [06:10<20:21,  3.61it/s]"
     ]
    },
    {
     "name": "stdout",
     "output_type": "stream",
     "text": [
      "\n",
      "Running avg Loss at batch iter                                                                 1000 is                                                                 0.49109196865558624\n"
     ]
    },
    {
     "name": "stderr",
     "output_type": "stream",
     "text": [
      " 37%|███▋      | 2000/5410 [12:21<18:43,  3.03it/s]"
     ]
    },
    {
     "name": "stdout",
     "output_type": "stream",
     "text": [
      "\n",
      "Running avg Loss at batch iter                                                                 2000 is                                                                 0.4852449699938297\n"
     ]
    },
    {
     "name": "stderr",
     "output_type": "stream",
     "text": [
      " 55%|█████▌    | 3000/5410 [18:42<15:56,  2.52it/s]"
     ]
    },
    {
     "name": "stdout",
     "output_type": "stream",
     "text": [
      "\n",
      "Running avg Loss at batch iter                                                                 3000 is                                                                 0.48242176207900045\n"
     ]
    },
    {
     "name": "stderr",
     "output_type": "stream",
     "text": [
      " 74%|███████▍  | 4000/5410 [24:59<10:04,  2.33it/s]"
     ]
    },
    {
     "name": "stdout",
     "output_type": "stream",
     "text": [
      "\n",
      "Running avg Loss at batch iter                                                                 4000 is                                                                 0.4853497380912304\n"
     ]
    },
    {
     "name": "stderr",
     "output_type": "stream",
     "text": [
      " 92%|█████████▏| 5000/5410 [31:09<03:08,  2.18it/s]"
     ]
    },
    {
     "name": "stdout",
     "output_type": "stream",
     "text": [
      "\n",
      "Running avg Loss at batch iter                                                                 5000 is                                                                 0.4825639540553093\n"
     ]
    },
    {
     "name": "stderr",
     "output_type": "stream",
     "text": [
      "100%|██████████| 5410/5410 [33:40<00:00,  2.68it/s]\n",
      "  0%|          | 0/250 [00:00<?, ?it/s]"
     ]
    },
    {
     "name": "stdout",
     "output_type": "stream",
     "text": [
      "train Loss: 0.4911\n",
      "\n",
      "Train -- epoch average precision at k = 1, 2, 3, 4, 5, 6: [0.9452403  0.93710721 0.92577726 0.90371996 0.83743068 0.77858549]\n",
      "Train -- epoch average recall at k = 1, 2, 3, 4, 5, 6: [0.17971442 0.35651479 0.52589926 0.6818512  0.7807671  0.86488078]\n",
      "\n"
     ]
    },
    {
     "name": "stderr",
     "output_type": "stream",
     "text": [
      "100%|██████████| 250/250 [00:32<00:00,  7.77it/s]\n",
      "  0%|          | 0/5410 [00:00<?, ?it/s]"
     ]
    },
    {
     "name": "stdout",
     "output_type": "stream",
     "text": [
      "val Loss: 0.4801\n",
      "\n",
      "Validation -- epoch average precision at k = 1, 2, 3, 4, 5, 6: [0.949   0.9385  0.92902 0.908   0.8406  0.78492]\n",
      "\n",
      "\n",
      "Validation -- epoch average recall at k = 1, 2, 3, 4, 5, 6: [0.18135 0.35741 0.52756 0.68513 0.78343 0.87079]\n",
      "\n",
      "Epoch 4/49\n",
      "----------\n"
     ]
    },
    {
     "name": "stderr",
     "output_type": "stream",
     "text": [
      " 18%|█▊        | 1000/5410 [06:05<26:00,  2.83it/s]"
     ]
    },
    {
     "name": "stdout",
     "output_type": "stream",
     "text": [
      "\n",
      "Running avg Loss at batch iter                                                                 1000 is                                                                 0.4840540182590485\n"
     ]
    },
    {
     "name": "stderr",
     "output_type": "stream",
     "text": [
      " 37%|███▋      | 2000/5410 [12:28<27:49,  2.04it/s]"
     ]
    },
    {
     "name": "stdout",
     "output_type": "stream",
     "text": [
      "\n",
      "Running avg Loss at batch iter                                                                 2000 is                                                                 0.4830990071296692\n"
     ]
    },
    {
     "name": "stderr",
     "output_type": "stream",
     "text": [
      " 55%|█████▌    | 3000/5410 [18:39<13:55,  2.89it/s]"
     ]
    },
    {
     "name": "stdout",
     "output_type": "stream",
     "text": [
      "\n",
      "Running avg Loss at batch iter                                                                 3000 is                                                                 0.4821009940505028\n"
     ]
    },
    {
     "name": "stderr",
     "output_type": "stream",
     "text": [
      " 74%|███████▍  | 4000/5410 [24:44<07:20,  3.20it/s]"
     ]
    },
    {
     "name": "stdout",
     "output_type": "stream",
     "text": [
      "\n",
      "Running avg Loss at batch iter                                                                 4000 is                                                                 0.48688602033257483\n"
     ]
    },
    {
     "name": "stderr",
     "output_type": "stream",
     "text": [
      " 92%|█████████▏| 5001/5410 [31:05<02:18,  2.95it/s]"
     ]
    },
    {
     "name": "stdout",
     "output_type": "stream",
     "text": [
      "\n",
      "Running avg Loss at batch iter                                                                 5000 is                                                                 0.48170567363500594\n"
     ]
    },
    {
     "name": "stderr",
     "output_type": "stream",
     "text": [
      "100%|██████████| 5410/5410 [33:41<00:00,  2.68it/s]\n",
      "  0%|          | 0/250 [00:00<?, ?it/s]"
     ]
    },
    {
     "name": "stdout",
     "output_type": "stream",
     "text": [
      "train Loss: 0.4894\n",
      "\n",
      "Train -- epoch average precision at k = 1, 2, 3, 4, 5, 6: [0.94745841 0.93828558 0.92573706 0.90478281 0.83907579 0.78039695]\n",
      "Train -- epoch average recall at k = 1, 2, 3, 4, 5, 6: [0.18042652 0.35706285 0.5258549  0.68284566 0.78238771 0.86721904]\n",
      "\n"
     ]
    },
    {
     "name": "stderr",
     "output_type": "stream",
     "text": [
      "100%|██████████| 250/250 [00:32<00:00,  7.77it/s]\n",
      "  0%|          | 0/5410 [00:00<?, ?it/s]"
     ]
    },
    {
     "name": "stdout",
     "output_type": "stream",
     "text": [
      "val Loss: 0.4789\n",
      "\n",
      "Validation -- epoch average precision at k = 1, 2, 3, 4, 5, 6: [0.948   0.936   0.9277  0.90975 0.8398  0.78463]\n",
      "\n",
      "\n",
      "Validation -- epoch average recall at k = 1, 2, 3, 4, 5, 6: [0.18063 0.35664 0.52703 0.68666 0.78235 0.86999]\n",
      "\n",
      "Epoch 5/49\n",
      "----------\n"
     ]
    },
    {
     "name": "stderr",
     "output_type": "stream",
     "text": [
      " 19%|█▊        | 1001/5410 [06:14<20:46,  3.54it/s]"
     ]
    },
    {
     "name": "stdout",
     "output_type": "stream",
     "text": [
      "\n",
      "Running avg Loss at batch iter                                                                 1000 is                                                                 0.4828392076194286\n"
     ]
    },
    {
     "name": "stderr",
     "output_type": "stream",
     "text": [
      " 37%|███▋      | 2000/5410 [12:28<14:35,  3.90it/s]"
     ]
    },
    {
     "name": "stdout",
     "output_type": "stream",
     "text": [
      "\n",
      "Running avg Loss at batch iter                                                                 2000 is                                                                 0.4822693936526775\n"
     ]
    },
    {
     "name": "stderr",
     "output_type": "stream",
     "text": [
      " 55%|█████▌    | 3000/5410 [18:44<17:05,  2.35it/s]"
     ]
    },
    {
     "name": "stdout",
     "output_type": "stream",
     "text": [
      "\n",
      "Running avg Loss at batch iter                                                                 3000 is                                                                 0.48008707067370415\n"
     ]
    },
    {
     "name": "stderr",
     "output_type": "stream",
     "text": [
      " 74%|███████▍  | 4000/5410 [24:56<06:21,  3.70it/s]"
     ]
    },
    {
     "name": "stdout",
     "output_type": "stream",
     "text": [
      "\n",
      "Running avg Loss at batch iter                                                                 4000 is                                                                 0.48144055128097535\n"
     ]
    },
    {
     "name": "stderr",
     "output_type": "stream",
     "text": [
      " 92%|█████████▏| 5000/5410 [31:11<02:59,  2.28it/s]"
     ]
    },
    {
     "name": "stdout",
     "output_type": "stream",
     "text": [
      "\n",
      "Running avg Loss at batch iter                                                                 5000 is                                                                 0.4760514989793301\n"
     ]
    },
    {
     "name": "stderr",
     "output_type": "stream",
     "text": [
      "100%|██████████| 5410/5410 [33:41<00:00,  2.68it/s]\n",
      "  0%|          | 0/250 [00:00<?, ?it/s]"
     ]
    },
    {
     "name": "stdout",
     "output_type": "stream",
     "text": [
      "train Loss: 0.4855\n",
      "\n",
      "Train -- epoch average precision at k = 1, 2, 3, 4, 5, 6: [0.94995379 0.93976433 0.92719224 0.90625    0.83981516 0.78196488]\n",
      "Train -- epoch average recall at k = 1, 2, 3, 4, 5, 6: [0.18100508 0.3579025  0.52725092 0.68436414 0.78349538 0.86911738]\n",
      "\n"
     ]
    },
    {
     "name": "stderr",
     "output_type": "stream",
     "text": [
      "100%|██████████| 250/250 [00:32<00:00,  7.77it/s]\n",
      "  0%|          | 0/5410 [00:00<?, ?it/s]"
     ]
    },
    {
     "name": "stdout",
     "output_type": "stream",
     "text": [
      "val Loss: 0.4770\n",
      "\n",
      "Validation -- epoch average precision at k = 1, 2, 3, 4, 5, 6: [0.945   0.9385  0.92734 0.9075  0.8418  0.78913]\n",
      "\n",
      "\n",
      "Validation -- epoch average recall at k = 1, 2, 3, 4, 5, 6: [0.18018 0.35721 0.52681 0.6841  0.78429 0.87577]\n",
      "\n",
      "Epoch 6/49\n",
      "----------\n"
     ]
    },
    {
     "name": "stderr",
     "output_type": "stream",
     "text": [
      " 18%|█▊        | 1000/5410 [06:15<27:48,  2.64it/s]"
     ]
    },
    {
     "name": "stdout",
     "output_type": "stream",
     "text": [
      "\n",
      "Running avg Loss at batch iter                                                                 1000 is                                                                 0.4792928296327591\n"
     ]
    },
    {
     "name": "stderr",
     "output_type": "stream",
     "text": [
      " 37%|███▋      | 2000/5410 [12:20<22:01,  2.58it/s]"
     ]
    },
    {
     "name": "stdout",
     "output_type": "stream",
     "text": [
      "\n",
      "Running avg Loss at batch iter                                                                 2000 is                                                                 0.4828032716214657\n"
     ]
    },
    {
     "name": "stderr",
     "output_type": "stream",
     "text": [
      " 55%|█████▌    | 3000/5410 [18:34<16:46,  2.39it/s]"
     ]
    },
    {
     "name": "stdout",
     "output_type": "stream",
     "text": [
      "\n",
      "Running avg Loss at batch iter                                                                 3000 is                                                                 0.48156440472602846\n"
     ]
    },
    {
     "name": "stderr",
     "output_type": "stream",
     "text": [
      " 74%|███████▍  | 4000/5410 [24:49<08:44,  2.69it/s]"
     ]
    },
    {
     "name": "stdout",
     "output_type": "stream",
     "text": [
      "\n",
      "Running avg Loss at batch iter                                                                 4000 is                                                                 0.47883906692266465\n"
     ]
    },
    {
     "name": "stderr",
     "output_type": "stream",
     "text": [
      " 92%|█████████▏| 5000/5410 [31:04<01:58,  3.47it/s]"
     ]
    },
    {
     "name": "stdout",
     "output_type": "stream",
     "text": [
      "\n",
      "Running avg Loss at batch iter                                                                 5000 is                                                                 0.4803627085983753\n"
     ]
    },
    {
     "name": "stderr",
     "output_type": "stream",
     "text": [
      "100%|██████████| 5410/5410 [33:40<00:00,  2.68it/s]\n",
      "  0%|          | 0/250 [00:00<?, ?it/s]"
     ]
    },
    {
     "name": "stdout",
     "output_type": "stream",
     "text": [
      "train Loss: 0.4856\n",
      "\n",
      "Train -- epoch average precision at k = 1, 2, 3, 4, 5, 6: [0.94861368 0.93900185 0.92770009 0.90608826 0.83974122 0.78174677]\n",
      "Train -- epoch average recall at k = 1, 2, 3, 4, 5, 6: [0.18082717 0.35762616 0.52747643 0.68408364 0.78327495 0.86879898]\n",
      "\n"
     ]
    },
    {
     "name": "stderr",
     "output_type": "stream",
     "text": [
      "100%|██████████| 250/250 [00:32<00:00,  7.77it/s]\n"
     ]
    },
    {
     "name": "stdout",
     "output_type": "stream",
     "text": [
      "val Loss: 0.4745\n",
      "\n",
      "Validation -- epoch average precision at k = 1, 2, 3, 4, 5, 6: [0.952   0.937   0.92699 0.909   0.8402  0.78622]\n",
      "\n",
      "\n",
      "Validation -- epoch average recall at k = 1, 2, 3, 4, 5, 6: [0.18179 0.35695 0.52685 0.68605 0.78266 0.87217]\n",
      "\n"
     ]
    }
   ],
   "source": [
    "resnet50_avg = train_and_save(\n",
    "    model_type = 'avg',\n",
    "    model_name = 'resnet50',\n",
    "    lr = 0.001,\n",
    "    device = device,\n",
    "    num_categories= num_categories,\n",
    "    num_epochs= 50,\n",
    "    early_stopping= True,\n",
    "    save_folder = '/home/mridula/Projects/MIML/temp',\n",
    "    patience =5,\n",
    "    use_pretrained=True\n",
    ")"
   ]
  },
  {
   "cell_type": "code",
   "execution_count": 33,
   "metadata": {},
   "outputs": [
    {
     "name": "stderr",
     "output_type": "stream",
     "text": [
      "100%|██████████| 125/125 [00:16<00:00,  7.77it/s]\n"
     ]
    },
    {
     "data": {
      "text/plain": [
       "{'precision_at': {1: 0.94, 2: 0.934, 3: 0.932, 4: 0.916, 5: 0.846, 6: 0.784},\n",
       " 'recall_at': {1: 0.178, 2: 0.354, 3: 0.528, 4: 0.688, 5: 0.784, 6: 0.866}}"
      ]
     },
     "execution_count": 33,
     "metadata": {},
     "output_type": "execute_result"
    }
   ],
   "source": [
    "result_resnet50_avg = test_multi_instance_model(resnet50_avg, device, dataloaders_dict['test'])\n",
    "result_resnet50_avg"
   ]
  },
  {
   "cell_type": "code",
   "execution_count": 17,
   "metadata": {},
   "outputs": [
    {
     "name": "stderr",
     "output_type": "stream",
     "text": [
      "\r",
      "  0%|          | 0/5410 [00:00<?, ?it/s]"
     ]
    },
    {
     "name": "stdout",
     "output_type": "stream",
     "text": [
      "cuda:0\n",
      "Epoch 0/49\n",
      "----------\n"
     ]
    },
    {
     "name": "stderr",
     "output_type": "stream",
     "text": [
      " 18%|█▊        | 1000/5410 [06:33<28:08,  2.61it/s] "
     ]
    },
    {
     "name": "stdout",
     "output_type": "stream",
     "text": [
      "\n",
      "Running avg Loss at batch iter                                                                 1000 is                                                                 0.5022626719474792\n"
     ]
    },
    {
     "name": "stderr",
     "output_type": "stream",
     "text": [
      " 37%|███▋      | 2000/5410 [13:11<23:09,  2.45it/s]"
     ]
    },
    {
     "name": "stdout",
     "output_type": "stream",
     "text": [
      "\n",
      "Running avg Loss at batch iter                                                                 2000 is                                                                 0.4893394648730755\n"
     ]
    },
    {
     "name": "stderr",
     "output_type": "stream",
     "text": [
      " 55%|█████▌    | 3000/5410 [19:42<12:50,  3.13it/s]"
     ]
    },
    {
     "name": "stdout",
     "output_type": "stream",
     "text": [
      "\n",
      "Running avg Loss at batch iter                                                                 3000 is                                                                 0.485982672303915\n"
     ]
    },
    {
     "name": "stderr",
     "output_type": "stream",
     "text": [
      " 74%|███████▍  | 4000/5410 [26:26<11:23,  2.06it/s]"
     ]
    },
    {
     "name": "stdout",
     "output_type": "stream",
     "text": [
      "\n",
      "Running avg Loss at batch iter                                                                 4000 is                                                                 0.4841618600785732\n"
     ]
    },
    {
     "name": "stderr",
     "output_type": "stream",
     "text": [
      " 92%|█████████▏| 5000/5410 [32:57<02:24,  2.83it/s]"
     ]
    },
    {
     "name": "stdout",
     "output_type": "stream",
     "text": [
      "\n",
      "Running avg Loss at batch iter                                                                 5000 is                                                                 0.4916379664838314\n"
     ]
    },
    {
     "name": "stderr",
     "output_type": "stream",
     "text": [
      "100%|██████████| 5410/5410 [35:39<00:00,  2.53it/s]\n",
      "  0%|          | 0/250 [00:00<?, ?it/s]"
     ]
    },
    {
     "name": "stdout",
     "output_type": "stream",
     "text": [
      "train Loss: 0.4958\n",
      "\n",
      "Train -- epoch average precision at k = 1, 2, 3, 4, 5, 6: [0.93687616 0.93197782 0.92445933 0.90264556 0.8368207  0.77843161]\n",
      "Train -- epoch average recall at k = 1, 2, 3, 4, 5, 6: [0.17775555 0.35384797 0.5247366  0.68100693 0.78036922 0.86484889]\n",
      "\n"
     ]
    },
    {
     "name": "stderr",
     "output_type": "stream",
     "text": [
      "100%|██████████| 250/250 [00:33<00:00,  7.40it/s]\n",
      "  0%|          | 0/5410 [00:00<?, ?it/s]"
     ]
    },
    {
     "name": "stdout",
     "output_type": "stream",
     "text": [
      "val Loss: 0.4781\n",
      "\n",
      "Validation -- epoch average precision at k = 1, 2, 3, 4, 5, 6: [0.952   0.9385  0.92703 0.91325 0.8442  0.78723]\n",
      "\n",
      "\n",
      "Validation -- epoch average recall at k = 1, 2, 3, 4, 5, 6: [0.18098 0.35637 0.52561 0.68985 0.78695 0.87417]\n",
      "\n",
      "Epoch 1/49\n",
      "----------\n"
     ]
    },
    {
     "name": "stderr",
     "output_type": "stream",
     "text": [
      " 18%|█▊        | 1000/5410 [06:42<26:00,  2.83it/s] "
     ]
    },
    {
     "name": "stdout",
     "output_type": "stream",
     "text": [
      "\n",
      "Running avg Loss at batch iter                                                                 1000 is                                                                 0.4859270910322666\n"
     ]
    },
    {
     "name": "stderr",
     "output_type": "stream",
     "text": [
      " 37%|███▋      | 2000/5410 [13:24<24:41,  2.30it/s]"
     ]
    },
    {
     "name": "stdout",
     "output_type": "stream",
     "text": [
      "\n",
      "Running avg Loss at batch iter                                                                 2000 is                                                                 0.4860179321169853\n"
     ]
    },
    {
     "name": "stderr",
     "output_type": "stream",
     "text": [
      " 55%|█████▌    | 3000/5410 [20:01<14:07,  2.85it/s]"
     ]
    },
    {
     "name": "stdout",
     "output_type": "stream",
     "text": [
      "\n",
      "Running avg Loss at batch iter                                                                 3000 is                                                                 0.4867373426258564\n"
     ]
    },
    {
     "name": "stderr",
     "output_type": "stream",
     "text": [
      " 74%|███████▍  | 4000/5410 [26:34<12:32,  1.87it/s]"
     ]
    },
    {
     "name": "stdout",
     "output_type": "stream",
     "text": [
      "\n",
      "Running avg Loss at batch iter                                                                 4000 is                                                                 0.4796754684150219\n"
     ]
    },
    {
     "name": "stderr",
     "output_type": "stream",
     "text": [
      " 92%|█████████▏| 5000/5410 [33:06<02:54,  2.35it/s]"
     ]
    },
    {
     "name": "stdout",
     "output_type": "stream",
     "text": [
      "\n",
      "Running avg Loss at batch iter                                                                 5000 is                                                                 0.4836202638149261\n"
     ]
    },
    {
     "name": "stderr",
     "output_type": "stream",
     "text": [
      "100%|██████████| 5410/5410 [35:44<00:00,  2.52it/s]\n",
      "  0%|          | 0/250 [00:00<?, ?it/s]"
     ]
    },
    {
     "name": "stdout",
     "output_type": "stream",
     "text": [
      "train Loss: 0.4901\n",
      "\n",
      "Train -- epoch average precision at k = 1, 2, 3, 4, 5, 6: [0.94269871 0.93650647 0.92530869 0.90428604 0.83795749 0.78085259]\n",
      "Train -- epoch average recall at k = 1, 2, 3, 4, 5, 6: [0.17901802 0.35602449 0.5253854  0.68237708 0.78146765 0.86785397]\n",
      "\n"
     ]
    },
    {
     "name": "stderr",
     "output_type": "stream",
     "text": [
      "100%|██████████| 250/250 [00:33<00:00,  7.41it/s]\n",
      "  0%|          | 0/5410 [00:00<?, ?it/s]"
     ]
    },
    {
     "name": "stdout",
     "output_type": "stream",
     "text": [
      "val Loss: 0.4711\n",
      "\n",
      "Validation -- epoch average precision at k = 1, 2, 3, 4, 5, 6: [0.95    0.9455  0.93134 0.91325 0.8428  0.78596]\n",
      "\n",
      "\n",
      "Validation -- epoch average recall at k = 1, 2, 3, 4, 5, 6: [0.18192 0.36078 0.5297  0.68999 0.785   0.87275]\n",
      "\n",
      "Epoch 2/49\n",
      "----------\n"
     ]
    },
    {
     "name": "stderr",
     "output_type": "stream",
     "text": [
      " 18%|█▊        | 1000/5410 [06:29<24:20,  3.02it/s]"
     ]
    },
    {
     "name": "stdout",
     "output_type": "stream",
     "text": [
      "\n",
      "Running avg Loss at batch iter                                                                 1000 is                                                                 0.48026436364650726\n"
     ]
    },
    {
     "name": "stderr",
     "output_type": "stream",
     "text": [
      " 37%|███▋      | 2000/5410 [12:59<27:24,  2.07it/s]"
     ]
    },
    {
     "name": "stdout",
     "output_type": "stream",
     "text": [
      "\n",
      "Running avg Loss at batch iter                                                                 2000 is                                                                 0.47997993966937064\n"
     ]
    },
    {
     "name": "stderr",
     "output_type": "stream",
     "text": [
      " 55%|█████▌    | 3000/5410 [19:50<17:57,  2.24it/s]"
     ]
    },
    {
     "name": "stdout",
     "output_type": "stream",
     "text": [
      "\n",
      "Running avg Loss at batch iter                                                                 3000 is                                                                 0.48004336741566656\n"
     ]
    },
    {
     "name": "stderr",
     "output_type": "stream",
     "text": [
      " 74%|███████▍  | 4000/5410 [26:18<07:21,  3.19it/s]"
     ]
    },
    {
     "name": "stdout",
     "output_type": "stream",
     "text": [
      "\n",
      "Running avg Loss at batch iter                                                                 4000 is                                                                 0.4801206612288952\n"
     ]
    },
    {
     "name": "stderr",
     "output_type": "stream",
     "text": [
      " 92%|█████████▏| 5000/5410 [32:54<01:53,  3.61it/s]"
     ]
    },
    {
     "name": "stdout",
     "output_type": "stream",
     "text": [
      "\n",
      "Running avg Loss at batch iter                                                                 5000 is                                                                 0.4820984094440937\n"
     ]
    },
    {
     "name": "stderr",
     "output_type": "stream",
     "text": [
      "100%|██████████| 5410/5410 [35:46<00:00,  2.52it/s]\n",
      "  0%|          | 0/250 [00:00<?, ?it/s]"
     ]
    },
    {
     "name": "stdout",
     "output_type": "stream",
     "text": [
      "train Loss: 0.4857\n",
      "\n",
      "Train -- epoch average precision at k = 1, 2, 3, 4, 5, 6: [0.94778189 0.93994917 0.92765296 0.90686229 0.8392329  0.78135028]\n",
      "Train -- epoch average recall at k = 1, 2, 3, 4, 5, 6: [0.18042468 0.35792745 0.52735074 0.68480222 0.7829025  0.868622  ]\n",
      "\n"
     ]
    },
    {
     "name": "stderr",
     "output_type": "stream",
     "text": [
      "100%|██████████| 250/250 [00:33<00:00,  7.40it/s]\n",
      "  0%|          | 0/5410 [00:00<?, ?it/s]"
     ]
    },
    {
     "name": "stdout",
     "output_type": "stream",
     "text": [
      "val Loss: 0.4705\n",
      "\n",
      "Validation -- epoch average precision at k = 1, 2, 3, 4, 5, 6: [0.961   0.951   0.931   0.9115  0.8466  0.78941]\n",
      "\n",
      "\n",
      "Validation -- epoch average recall at k = 1, 2, 3, 4, 5, 6: [0.1837  0.36283 0.52943 0.68864 0.7885  0.87692]\n",
      "\n",
      "Epoch 3/49\n",
      "----------\n"
     ]
    },
    {
     "name": "stderr",
     "output_type": "stream",
     "text": [
      " 18%|█▊        | 1000/5410 [06:42<19:21,  3.80it/s] "
     ]
    },
    {
     "name": "stdout",
     "output_type": "stream",
     "text": [
      "\n",
      "Running avg Loss at batch iter                                                                 1000 is                                                                 0.481968540251255\n"
     ]
    },
    {
     "name": "stderr",
     "output_type": "stream",
     "text": [
      " 37%|███▋      | 2000/5410 [13:24<18:26,  3.08it/s]"
     ]
    },
    {
     "name": "stdout",
     "output_type": "stream",
     "text": [
      "\n",
      "Running avg Loss at batch iter                                                                 2000 is                                                                 0.47736090314388274\n"
     ]
    },
    {
     "name": "stderr",
     "output_type": "stream",
     "text": [
      " 55%|█████▌    | 3000/5410 [20:01<18:17,  2.20it/s]"
     ]
    },
    {
     "name": "stdout",
     "output_type": "stream",
     "text": [
      "\n",
      "Running avg Loss at batch iter                                                                 3000 is                                                                 0.47185663267970085\n"
     ]
    },
    {
     "name": "stderr",
     "output_type": "stream",
     "text": [
      " 74%|███████▍  | 4001/5410 [26:37<06:20,  3.70it/s]"
     ]
    },
    {
     "name": "stdout",
     "output_type": "stream",
     "text": [
      "\n",
      "Running avg Loss at batch iter                                                                 4000 is                                                                 0.4730020914375782\n"
     ]
    },
    {
     "name": "stderr",
     "output_type": "stream",
     "text": [
      " 92%|█████████▏| 5001/5410 [33:05<02:35,  2.63it/s]"
     ]
    },
    {
     "name": "stdout",
     "output_type": "stream",
     "text": [
      "\n",
      "Running avg Loss at batch iter                                                                 5000 is                                                                 0.47556117802858355\n"
     ]
    },
    {
     "name": "stderr",
     "output_type": "stream",
     "text": [
      "100%|██████████| 5410/5410 [35:45<00:00,  2.52it/s]\n",
      "  0%|          | 0/250 [00:00<?, ?it/s]"
     ]
    },
    {
     "name": "stdout",
     "output_type": "stream",
     "text": [
      "train Loss: 0.4803\n",
      "\n",
      "Train -- epoch average precision at k = 1, 2, 3, 4, 5, 6: [0.95161738 0.94177449 0.92870425 0.9088147  0.84118299 0.78390296]\n",
      "Train -- epoch average recall at k = 1, 2, 3, 4, 5, 6: [0.18152033 0.35880869 0.52826479 0.68666636 0.78519039 0.87189048]\n",
      "\n"
     ]
    },
    {
     "name": "stderr",
     "output_type": "stream",
     "text": [
      "100%|██████████| 250/250 [00:33<00:00,  7.39it/s]\n",
      "  0%|          | 0/5410 [00:00<?, ?it/s]"
     ]
    },
    {
     "name": "stdout",
     "output_type": "stream",
     "text": [
      "val Loss: 0.4707\n",
      "\n",
      "Validation -- epoch average precision at k = 1, 2, 3, 4, 5, 6: [0.956   0.941   0.92996 0.9085  0.8464  0.79189]\n",
      "\n",
      "\n",
      "Validation -- epoch average recall at k = 1, 2, 3, 4, 5, 6: [0.18221 0.35775 0.52833 0.68525 0.78821 0.87903]\n",
      "\n",
      "Epoch 4/49\n",
      "----------\n"
     ]
    },
    {
     "name": "stderr",
     "output_type": "stream",
     "text": [
      " 18%|█▊        | 1000/5410 [06:29<29:23,  2.50it/s] "
     ]
    },
    {
     "name": "stdout",
     "output_type": "stream",
     "text": [
      "\n",
      "Running avg Loss at batch iter                                                                 1000 is                                                                 0.4760674262046814\n"
     ]
    },
    {
     "name": "stderr",
     "output_type": "stream",
     "text": [
      " 37%|███▋      | 2000/5410 [12:57<24:34,  2.31it/s]"
     ]
    },
    {
     "name": "stdout",
     "output_type": "stream",
     "text": [
      "\n",
      "Running avg Loss at batch iter                                                                 2000 is                                                                 0.47054682528972624\n"
     ]
    },
    {
     "name": "stderr",
     "output_type": "stream",
     "text": [
      " 55%|█████▌    | 3000/5410 [19:35<11:01,  3.64it/s]"
     ]
    },
    {
     "name": "stdout",
     "output_type": "stream",
     "text": [
      "\n",
      "Running avg Loss at batch iter                                                                 3000 is                                                                 0.4705494140982628\n"
     ]
    },
    {
     "name": "stderr",
     "output_type": "stream",
     "text": [
      " 74%|███████▍  | 4000/5410 [26:19<10:45,  2.18it/s]"
     ]
    },
    {
     "name": "stdout",
     "output_type": "stream",
     "text": [
      "\n",
      "Running avg Loss at batch iter                                                                 4000 is                                                                 0.4730140035748482\n"
     ]
    },
    {
     "name": "stderr",
     "output_type": "stream",
     "text": [
      " 92%|█████████▏| 5000/5410 [33:00<03:57,  1.72it/s]"
     ]
    },
    {
     "name": "stdout",
     "output_type": "stream",
     "text": [
      "\n",
      "Running avg Loss at batch iter                                                                 5000 is                                                                 0.4742280897796154\n"
     ]
    },
    {
     "name": "stderr",
     "output_type": "stream",
     "text": [
      "100%|██████████| 5410/5410 [35:45<00:00,  2.52it/s]\n",
      "  0%|          | 0/250 [00:00<?, ?it/s]"
     ]
    },
    {
     "name": "stdout",
     "output_type": "stream",
     "text": [
      "train Loss: 0.4748\n",
      "\n",
      "Train -- epoch average precision at k = 1, 2, 3, 4, 5, 6: [0.95443623 0.94489372 0.93073383 0.90998152 0.8428281  0.78499445]\n",
      "Train -- epoch average recall at k = 1, 2, 3, 4, 5, 6: [0.1822329  0.36053835 0.53005591 0.68761506 0.78672643 0.87312893]\n",
      "\n"
     ]
    },
    {
     "name": "stderr",
     "output_type": "stream",
     "text": [
      "100%|██████████| 250/250 [00:33<00:00,  7.38it/s]\n",
      "  0%|          | 0/5410 [00:00<?, ?it/s]"
     ]
    },
    {
     "name": "stdout",
     "output_type": "stream",
     "text": [
      "val Loss: 0.4698\n",
      "\n",
      "Validation -- epoch average precision at k = 1, 2, 3, 4, 5, 6: [0.957   0.945   0.93026 0.911   0.8484  0.7903 ]\n",
      "\n",
      "\n",
      "Validation -- epoch average recall at k = 1, 2, 3, 4, 5, 6: [0.18312 0.36072 0.52918 0.68788 0.79095 0.87734]\n",
      "\n",
      "Epoch 5/49\n",
      "----------\n"
     ]
    },
    {
     "name": "stderr",
     "output_type": "stream",
     "text": [
      " 18%|█▊        | 1000/5410 [06:34<25:09,  2.92it/s] "
     ]
    },
    {
     "name": "stdout",
     "output_type": "stream",
     "text": [
      "\n",
      "Running avg Loss at batch iter                                                                 1000 is                                                                 0.4738121964633465\n"
     ]
    },
    {
     "name": "stderr",
     "output_type": "stream",
     "text": [
      " 37%|███▋      | 2000/5410 [13:10<19:51,  2.86it/s]"
     ]
    },
    {
     "name": "stdout",
     "output_type": "stream",
     "text": [
      "\n",
      "Running avg Loss at batch iter                                                                 2000 is                                                                 0.4723083579838276\n"
     ]
    },
    {
     "name": "stderr",
     "output_type": "stream",
     "text": [
      " 55%|█████▌    | 3000/5410 [19:50<17:15,  2.33it/s]"
     ]
    },
    {
     "name": "stdout",
     "output_type": "stream",
     "text": [
      "\n",
      "Running avg Loss at batch iter                                                                 3000 is                                                                 0.4733339693248272\n"
     ]
    },
    {
     "name": "stderr",
     "output_type": "stream",
     "text": [
      " 74%|███████▍  | 4000/5410 [26:34<09:31,  2.47it/s]"
     ]
    },
    {
     "name": "stdout",
     "output_type": "stream",
     "text": [
      "\n",
      "Running avg Loss at batch iter                                                                 4000 is                                                                 0.4685090446472168\n"
     ]
    },
    {
     "name": "stderr",
     "output_type": "stream",
     "text": [
      " 92%|█████████▏| 5000/5410 [32:55<02:28,  2.76it/s]"
     ]
    },
    {
     "name": "stdout",
     "output_type": "stream",
     "text": [
      "\n",
      "Running avg Loss at batch iter                                                                 5000 is                                                                 0.4690367839038372\n"
     ]
    },
    {
     "name": "stderr",
     "output_type": "stream",
     "text": [
      "100%|██████████| 5410/5410 [35:43<00:00,  2.52it/s]\n",
      "  0%|          | 0/250 [00:00<?, ?it/s]"
     ]
    },
    {
     "name": "stdout",
     "output_type": "stream",
     "text": [
      "train Loss: 0.4748\n",
      "\n",
      "Train -- epoch average precision at k = 1, 2, 3, 4, 5, 6: [0.95637708 0.94572551 0.93075046 0.91061691 0.84413124 0.78494131]\n",
      "Train -- epoch average recall at k = 1, 2, 3, 4, 5, 6: [0.18278697 0.36112338 0.53017006 0.68833919 0.78833826 0.87304852]\n",
      "\n"
     ]
    },
    {
     "name": "stderr",
     "output_type": "stream",
     "text": [
      "100%|██████████| 250/250 [00:33<00:00,  7.38it/s]\n",
      "  0%|          | 0/5410 [00:00<?, ?it/s]"
     ]
    },
    {
     "name": "stdout",
     "output_type": "stream",
     "text": [
      "val Loss: 0.4599\n",
      "\n",
      "Validation -- epoch average precision at k = 1, 2, 3, 4, 5, 6: [0.957   0.948   0.933   0.91575 0.8498  0.79047]\n",
      "\n",
      "\n",
      "Validation -- epoch average recall at k = 1, 2, 3, 4, 5, 6: [0.18328 0.3623  0.53129 0.69213 0.79206 0.87733]\n",
      "\n",
      "Epoch 6/49\n",
      "----------\n"
     ]
    },
    {
     "name": "stderr",
     "output_type": "stream",
     "text": [
      " 18%|█▊        | 1000/5410 [06:34<29:01,  2.53it/s] "
     ]
    },
    {
     "name": "stdout",
     "output_type": "stream",
     "text": [
      "\n",
      "Running avg Loss at batch iter                                                                 1000 is                                                                 0.47247608679533004\n"
     ]
    },
    {
     "name": "stderr",
     "output_type": "stream",
     "text": [
      " 37%|███▋      | 2000/5410 [13:15<30:24,  1.87it/s]"
     ]
    },
    {
     "name": "stdout",
     "output_type": "stream",
     "text": [
      "\n",
      "Running avg Loss at batch iter                                                                 2000 is                                                                 0.4677104521393776\n"
     ]
    },
    {
     "name": "stderr",
     "output_type": "stream",
     "text": [
      " 55%|█████▌    | 3000/5410 [19:39<13:43,  2.93it/s]"
     ]
    },
    {
     "name": "stdout",
     "output_type": "stream",
     "text": [
      "\n",
      "Running avg Loss at batch iter                                                                 3000 is                                                                 0.4661064293384552\n"
     ]
    },
    {
     "name": "stderr",
     "output_type": "stream",
     "text": [
      " 74%|███████▍  | 4000/5410 [26:18<12:12,  1.93it/s]"
     ]
    },
    {
     "name": "stdout",
     "output_type": "stream",
     "text": [
      "\n",
      "Running avg Loss at batch iter                                                                 4000 is                                                                 0.4677549657821655\n"
     ]
    },
    {
     "name": "stderr",
     "output_type": "stream",
     "text": [
      " 92%|█████████▏| 5000/5410 [32:57<03:32,  1.93it/s]"
     ]
    },
    {
     "name": "stdout",
     "output_type": "stream",
     "text": [
      "\n",
      "Running avg Loss at batch iter                                                                 5000 is                                                                 0.4689286651909351\n"
     ]
    },
    {
     "name": "stderr",
     "output_type": "stream",
     "text": [
      "100%|██████████| 5410/5410 [35:44<00:00,  2.52it/s]\n",
      "  0%|          | 0/250 [00:00<?, ?it/s]"
     ]
    },
    {
     "name": "stdout",
     "output_type": "stream",
     "text": [
      "train Loss: 0.4728\n",
      "\n",
      "Train -- epoch average precision at k = 1, 2, 3, 4, 5, 6: [0.95369686 0.94706562 0.93240758 0.91201479 0.84476895 0.78672643]\n",
      "Train -- epoch average recall at k = 1, 2, 3, 4, 5, 6: [0.18216728 0.36173105 0.53156516 0.68953189 0.7890305  0.87516774]\n",
      "\n"
     ]
    },
    {
     "name": "stderr",
     "output_type": "stream",
     "text": [
      "100%|██████████| 250/250 [00:33<00:00,  7.39it/s]\n",
      "  0%|          | 0/5410 [00:00<?, ?it/s]"
     ]
    },
    {
     "name": "stdout",
     "output_type": "stream",
     "text": [
      "val Loss: 0.4627\n",
      "\n",
      "Validation -- epoch average precision at k = 1, 2, 3, 4, 5, 6: [0.959   0.948   0.93132 0.914   0.8492  0.79145]\n",
      "\n",
      "\n",
      "Validation -- epoch average recall at k = 1, 2, 3, 4, 5, 6: [0.18387 0.36176 0.52936 0.69075 0.79116 0.87951]\n",
      "\n",
      "Epoch 7/49\n",
      "----------\n"
     ]
    },
    {
     "name": "stderr",
     "output_type": "stream",
     "text": [
      " 18%|█▊        | 1000/5410 [06:32<23:59,  3.06it/s] "
     ]
    },
    {
     "name": "stdout",
     "output_type": "stream",
     "text": [
      "\n",
      "Running avg Loss at batch iter                                                                 1000 is                                                                 0.4631217384040356\n"
     ]
    },
    {
     "name": "stderr",
     "output_type": "stream",
     "text": [
      " 37%|███▋      | 2001/5410 [13:04<16:51,  3.37it/s]  "
     ]
    },
    {
     "name": "stdout",
     "output_type": "stream",
     "text": [
      "\n",
      "Running avg Loss at batch iter                                                                 2000 is                                                                 0.47101271215081214\n"
     ]
    },
    {
     "name": "stderr",
     "output_type": "stream",
     "text": [
      " 55%|█████▌    | 3000/5410 [19:37<18:39,  2.15it/s]"
     ]
    },
    {
     "name": "stdout",
     "output_type": "stream",
     "text": [
      "\n",
      "Running avg Loss at batch iter                                                                 3000 is                                                                 0.47606162482500075\n"
     ]
    },
    {
     "name": "stderr",
     "output_type": "stream",
     "text": [
      " 74%|███████▍  | 4000/5410 [26:16<08:42,  2.70it/s]"
     ]
    },
    {
     "name": "stdout",
     "output_type": "stream",
     "text": [
      "\n",
      "Running avg Loss at batch iter                                                                 4000 is                                                                 0.4666051274240017\n"
     ]
    },
    {
     "name": "stderr",
     "output_type": "stream",
     "text": [
      " 92%|█████████▏| 5000/5410 [32:56<03:04,  2.22it/s]"
     ]
    },
    {
     "name": "stdout",
     "output_type": "stream",
     "text": [
      "\n",
      "Running avg Loss at batch iter                                                                 5000 is                                                                 0.4631320512294769\n"
     ]
    },
    {
     "name": "stderr",
     "output_type": "stream",
     "text": [
      "100%|██████████| 5410/5410 [35:45<00:00,  2.52it/s]\n",
      "  0%|          | 0/250 [00:00<?, ?it/s]"
     ]
    },
    {
     "name": "stdout",
     "output_type": "stream",
     "text": [
      "train Loss: 0.4704\n",
      "\n",
      "Train -- epoch average precision at k = 1, 2, 3, 4, 5, 6: [0.95499076 0.94651109 0.93199353 0.91182994 0.84613678 0.78695749]\n",
      "Train -- epoch average recall at k = 1, 2, 3, 4, 5, 6: [0.18236969 0.36135259 0.53109104 0.68954159 0.79029575 0.87538678]\n",
      "\n"
     ]
    },
    {
     "name": "stderr",
     "output_type": "stream",
     "text": [
      "100%|██████████| 250/250 [00:33<00:00,  7.39it/s]\n",
      "  0%|          | 0/5410 [00:00<?, ?it/s]"
     ]
    },
    {
     "name": "stdout",
     "output_type": "stream",
     "text": [
      "val Loss: 0.4565\n",
      "\n",
      "Validation -- epoch average precision at k = 1, 2, 3, 4, 5, 6: [0.957   0.944   0.93135 0.91375 0.8512  0.79302]\n",
      "\n",
      "\n",
      "Validation -- epoch average recall at k = 1, 2, 3, 4, 5, 6: [0.18305 0.35897 0.52962 0.6906  0.79367 0.88078]\n",
      "\n",
      "Epoch 8/49\n",
      "----------\n"
     ]
    },
    {
     "name": "stderr",
     "output_type": "stream",
     "text": [
      " 18%|█▊        | 1000/5410 [06:38<20:15,  3.63it/s] "
     ]
    },
    {
     "name": "stdout",
     "output_type": "stream",
     "text": [
      "\n",
      "Running avg Loss at batch iter                                                                 1000 is                                                                 0.4676076682507992\n"
     ]
    },
    {
     "name": "stderr",
     "output_type": "stream",
     "text": [
      " 37%|███▋      | 2000/5410 [13:10<13:29,  4.21it/s]"
     ]
    },
    {
     "name": "stdout",
     "output_type": "stream",
     "text": [
      "\n",
      "Running avg Loss at batch iter                                                                 2000 is                                                                 0.46665543445944785\n"
     ]
    },
    {
     "name": "stderr",
     "output_type": "stream",
     "text": [
      " 55%|█████▌    | 3000/5410 [19:49<13:43,  2.93it/s]"
     ]
    },
    {
     "name": "stdout",
     "output_type": "stream",
     "text": [
      "\n",
      "Running avg Loss at batch iter                                                                 3000 is                                                                 0.4641396923959255\n"
     ]
    },
    {
     "name": "stderr",
     "output_type": "stream",
     "text": [
      " 74%|███████▍  | 4000/5410 [26:25<10:55,  2.15it/s]"
     ]
    },
    {
     "name": "stdout",
     "output_type": "stream",
     "text": [
      "\n",
      "Running avg Loss at batch iter                                                                 4000 is                                                                 0.46966641798615455\n"
     ]
    },
    {
     "name": "stderr",
     "output_type": "stream",
     "text": [
      " 92%|█████████▏| 5000/5410 [33:05<02:59,  2.29it/s]"
     ]
    },
    {
     "name": "stdout",
     "output_type": "stream",
     "text": [
      "\n",
      "Running avg Loss at batch iter                                                                 5000 is                                                                 0.46754287669062616\n"
     ]
    },
    {
     "name": "stderr",
     "output_type": "stream",
     "text": [
      "100%|██████████| 5410/5410 [35:46<00:00,  2.52it/s]\n",
      "  0%|          | 0/250 [00:00<?, ?it/s]"
     ]
    },
    {
     "name": "stdout",
     "output_type": "stream",
     "text": [
      "train Loss: 0.4690\n",
      "\n",
      "Train -- epoch average precision at k = 1, 2, 3, 4, 5, 6: [0.95780961 0.94771257 0.93226941 0.91171442 0.84621072 0.78772458]\n",
      "Train -- epoch average recall at k = 1, 2, 3, 4, 5, 6: [0.18320887 0.36208041 0.53129067 0.68930222 0.79049677 0.87628743]\n",
      "\n"
     ]
    },
    {
     "name": "stderr",
     "output_type": "stream",
     "text": [
      "100%|██████████| 250/250 [00:33<00:00,  7.39it/s]\n",
      "  0%|          | 0/5410 [00:00<?, ?it/s]"
     ]
    },
    {
     "name": "stdout",
     "output_type": "stream",
     "text": [
      "val Loss: 0.4568\n",
      "\n",
      "Validation -- epoch average precision at k = 1, 2, 3, 4, 5, 6: [0.967   0.9515  0.93537 0.9165  0.8482  0.79167]\n",
      "\n",
      "\n",
      "Validation -- epoch average recall at k = 1, 2, 3, 4, 5, 6: [0.18548 0.36432 0.53289 0.69279 0.7909  0.87939]\n",
      "\n",
      "Epoch 9/49\n",
      "----------\n"
     ]
    },
    {
     "name": "stderr",
     "output_type": "stream",
     "text": [
      " 18%|█▊        | 1000/5410 [06:37<33:01,  2.23it/s] "
     ]
    },
    {
     "name": "stdout",
     "output_type": "stream",
     "text": [
      "\n",
      "Running avg Loss at batch iter                                                                 1000 is                                                                 0.46692416083812716\n"
     ]
    },
    {
     "name": "stderr",
     "output_type": "stream",
     "text": [
      " 37%|███▋      | 2000/5410 [13:18<24:30,  2.32it/s]"
     ]
    },
    {
     "name": "stdout",
     "output_type": "stream",
     "text": [
      "\n",
      "Running avg Loss at batch iter                                                                 2000 is                                                                 0.4655019140839577\n"
     ]
    },
    {
     "name": "stderr",
     "output_type": "stream",
     "text": [
      " 55%|█████▌    | 3000/5410 [19:53<15:27,  2.60it/s]"
     ]
    },
    {
     "name": "stdout",
     "output_type": "stream",
     "text": [
      "\n",
      "Running avg Loss at batch iter                                                                 3000 is                                                                 0.463002023100853\n"
     ]
    },
    {
     "name": "stderr",
     "output_type": "stream",
     "text": [
      " 74%|███████▍  | 4000/5410 [26:33<09:46,  2.40it/s]"
     ]
    },
    {
     "name": "stdout",
     "output_type": "stream",
     "text": [
      "\n",
      "Running avg Loss at batch iter                                                                 4000 is                                                                 0.4601544400751591\n"
     ]
    },
    {
     "name": "stderr",
     "output_type": "stream",
     "text": [
      " 92%|█████████▏| 5000/5410 [33:10<01:50,  3.73it/s]"
     ]
    },
    {
     "name": "stdout",
     "output_type": "stream",
     "text": [
      "\n",
      "Running avg Loss at batch iter                                                                 5000 is                                                                 0.46822463339567183\n"
     ]
    },
    {
     "name": "stderr",
     "output_type": "stream",
     "text": [
      "100%|██████████| 5410/5410 [35:44<00:00,  2.52it/s]\n",
      "  0%|          | 0/250 [00:00<?, ?it/s]"
     ]
    },
    {
     "name": "stdout",
     "output_type": "stream",
     "text": [
      "train Loss: 0.4679\n",
      "\n",
      "Train -- epoch average precision at k = 1, 2, 3, 4, 5, 6: [0.95748614 0.94805915 0.93350323 0.9120841  0.84789279 0.78903558]\n",
      "Train -- epoch average recall at k = 1, 2, 3, 4, 5, 6: [0.18309889 0.36234473 0.53246072 0.6897597  0.79221858 0.87774815]\n",
      "\n"
     ]
    },
    {
     "name": "stderr",
     "output_type": "stream",
     "text": [
      "100%|██████████| 250/250 [00:33<00:00,  7.39it/s]\n",
      "  0%|          | 0/5410 [00:00<?, ?it/s]"
     ]
    },
    {
     "name": "stdout",
     "output_type": "stream",
     "text": [
      "val Loss: 0.4525\n",
      "\n",
      "Validation -- epoch average precision at k = 1, 2, 3, 4, 5, 6: [0.965   0.953   0.93399 0.91675 0.851   0.79341]\n",
      "\n",
      "\n",
      "Validation -- epoch average recall at k = 1, 2, 3, 4, 5, 6: [0.18479 0.36469 0.53242 0.69278 0.79454 0.88081]\n",
      "\n",
      "Epoch 10/49\n",
      "----------\n"
     ]
    },
    {
     "name": "stderr",
     "output_type": "stream",
     "text": [
      " 18%|█▊        | 1000/5410 [06:25<30:10,  2.44it/s]"
     ]
    },
    {
     "name": "stdout",
     "output_type": "stream",
     "text": [
      "\n",
      "Running avg Loss at batch iter                                                                 1000 is                                                                 0.4642172922492027\n"
     ]
    },
    {
     "name": "stderr",
     "output_type": "stream",
     "text": [
      " 37%|███▋      | 2000/5410 [13:01<30:06,  1.89it/s]"
     ]
    },
    {
     "name": "stdout",
     "output_type": "stream",
     "text": [
      "\n",
      "Running avg Loss at batch iter                                                                 2000 is                                                                 0.4641755665838718\n"
     ]
    },
    {
     "name": "stderr",
     "output_type": "stream",
     "text": [
      " 55%|█████▌    | 3000/5410 [19:43<18:07,  2.22it/s]"
     ]
    },
    {
     "name": "stdout",
     "output_type": "stream",
     "text": [
      "\n",
      "Running avg Loss at batch iter                                                                 3000 is                                                                 0.46479878211021425\n"
     ]
    },
    {
     "name": "stderr",
     "output_type": "stream",
     "text": [
      " 74%|███████▍  | 4000/5410 [26:20<10:49,  2.17it/s]"
     ]
    },
    {
     "name": "stdout",
     "output_type": "stream",
     "text": [
      "\n",
      "Running avg Loss at batch iter                                                                 4000 is                                                                 0.4686444067656994\n"
     ]
    },
    {
     "name": "stderr",
     "output_type": "stream",
     "text": [
      " 92%|█████████▏| 5000/5410 [33:06<02:38,  2.59it/s]"
     ]
    },
    {
     "name": "stdout",
     "output_type": "stream",
     "text": [
      "\n",
      "Running avg Loss at batch iter                                                                 5000 is                                                                 0.4577304417192936\n"
     ]
    },
    {
     "name": "stderr",
     "output_type": "stream",
     "text": [
      "100%|██████████| 5410/5410 [35:45<00:00,  2.52it/s]\n",
      "  0%|          | 0/250 [00:00<?, ?it/s]"
     ]
    },
    {
     "name": "stdout",
     "output_type": "stream",
     "text": [
      "train Loss: 0.4659\n",
      "\n",
      "Train -- epoch average precision at k = 1, 2, 3, 4, 5, 6: [0.95697782 0.94953789 0.93356423 0.91236137 0.84784658 0.78918993]\n",
      "Train -- epoch average recall at k = 1, 2, 3, 4, 5, 6: [0.18295055 0.36291035 0.53239418 0.68996257 0.79203928 0.87798198]\n",
      "\n"
     ]
    },
    {
     "name": "stderr",
     "output_type": "stream",
     "text": [
      "100%|██████████| 250/250 [00:33<00:00,  7.39it/s]\n",
      "  0%|          | 0/5410 [00:00<?, ?it/s]"
     ]
    },
    {
     "name": "stdout",
     "output_type": "stream",
     "text": [
      "val Loss: 0.4554\n",
      "\n",
      "Validation -- epoch average precision at k = 1, 2, 3, 4, 5, 6: [0.965   0.9525  0.93403 0.91625 0.8506  0.79354]\n",
      "\n",
      "\n",
      "Validation -- epoch average recall at k = 1, 2, 3, 4, 5, 6: [0.18482 0.36376 0.53211 0.69263 0.79281 0.8808 ]\n",
      "\n",
      "Epoch 11/49\n",
      "----------\n"
     ]
    },
    {
     "name": "stderr",
     "output_type": "stream",
     "text": [
      " 18%|█▊        | 1000/5410 [06:37<43:13,  1.70it/s]"
     ]
    },
    {
     "name": "stdout",
     "output_type": "stream",
     "text": [
      "\n",
      "Running avg Loss at batch iter                                                                 1000 is                                                                 0.4681409261524677\n"
     ]
    },
    {
     "name": "stderr",
     "output_type": "stream",
     "text": [
      " 37%|███▋      | 2000/5410 [13:13<23:18,  2.44it/s]"
     ]
    },
    {
     "name": "stdout",
     "output_type": "stream",
     "text": [
      "\n",
      "Running avg Loss at batch iter                                                                 2000 is                                                                 0.4661038175672293\n"
     ]
    },
    {
     "name": "stderr",
     "output_type": "stream",
     "text": [
      " 55%|█████▌    | 3000/5410 [19:53<16:44,  2.40it/s]"
     ]
    },
    {
     "name": "stdout",
     "output_type": "stream",
     "text": [
      "\n",
      "Running avg Loss at batch iter                                                                 3000 is                                                                 0.46136372002959253\n"
     ]
    },
    {
     "name": "stderr",
     "output_type": "stream",
     "text": [
      " 74%|███████▍  | 4000/5410 [26:31<09:36,  2.45it/s]"
     ]
    },
    {
     "name": "stdout",
     "output_type": "stream",
     "text": [
      "\n",
      "Running avg Loss at batch iter                                                                 4000 is                                                                 0.46174076148867604\n"
     ]
    },
    {
     "name": "stderr",
     "output_type": "stream",
     "text": [
      " 92%|█████████▏| 5000/5410 [33:02<03:00,  2.27it/s]"
     ]
    },
    {
     "name": "stdout",
     "output_type": "stream",
     "text": [
      "\n",
      "Running avg Loss at batch iter                                                                 5000 is                                                                 0.45654338321089744\n"
     ]
    },
    {
     "name": "stderr",
     "output_type": "stream",
     "text": [
      "100%|██████████| 5410/5410 [35:45<00:00,  2.52it/s]\n",
      "  0%|          | 0/250 [00:00<?, ?it/s]"
     ]
    },
    {
     "name": "stdout",
     "output_type": "stream",
     "text": [
      "train Loss: 0.4638\n",
      "\n",
      "Train -- epoch average precision at k = 1, 2, 3, 4, 5, 6: [0.9577634  0.94879852 0.9344025  0.91296211 0.84883549 0.78975277]\n",
      "Train -- epoch average recall at k = 1, 2, 3, 4, 5, 6: [0.18316682 0.36260444 0.53301756 0.69042699 0.79307671 0.87873845]\n",
      "\n"
     ]
    },
    {
     "name": "stderr",
     "output_type": "stream",
     "text": [
      "100%|██████████| 250/250 [00:33<00:00,  7.40it/s]\n",
      "  0%|          | 0/5410 [00:00<?, ?it/s]"
     ]
    },
    {
     "name": "stdout",
     "output_type": "stream",
     "text": [
      "val Loss: 0.4504\n",
      "\n",
      "Validation -- epoch average precision at k = 1, 2, 3, 4, 5, 6: [0.959   0.948   0.93571 0.91625 0.8552  0.79487]\n",
      "\n",
      "\n",
      "Validation -- epoch average recall at k = 1, 2, 3, 4, 5, 6: [0.18312 0.36113 0.53335 0.69209 0.7981  0.88259]\n",
      "\n",
      "Epoch 12/49\n",
      "----------\n"
     ]
    },
    {
     "name": "stderr",
     "output_type": "stream",
     "text": [
      " 19%|█▊        | 1001/5410 [06:32<21:17,  3.45it/s]"
     ]
    },
    {
     "name": "stdout",
     "output_type": "stream",
     "text": [
      "\n",
      "Running avg Loss at batch iter                                                                 1000 is                                                                 0.4579265222847462\n"
     ]
    },
    {
     "name": "stderr",
     "output_type": "stream",
     "text": [
      " 37%|███▋      | 2001/5410 [13:15<16:15,  3.49it/s]"
     ]
    },
    {
     "name": "stdout",
     "output_type": "stream",
     "text": [
      "\n",
      "Running avg Loss at batch iter                                                                 2000 is                                                                 0.4651494092941284\n"
     ]
    },
    {
     "name": "stderr",
     "output_type": "stream",
     "text": [
      " 55%|█████▌    | 3000/5410 [19:47<17:36,  2.28it/s]"
     ]
    },
    {
     "name": "stdout",
     "output_type": "stream",
     "text": [
      "\n",
      "Running avg Loss at batch iter                                                                 3000 is                                                                 0.46283294275403025\n"
     ]
    },
    {
     "name": "stderr",
     "output_type": "stream",
     "text": [
      " 74%|███████▍  | 4000/5410 [26:17<09:21,  2.51it/s]"
     ]
    },
    {
     "name": "stdout",
     "output_type": "stream",
     "text": [
      "\n",
      "Running avg Loss at batch iter                                                                 4000 is                                                                 0.45986555325984957\n"
     ]
    },
    {
     "name": "stderr",
     "output_type": "stream",
     "text": [
      " 92%|█████████▏| 5000/5410 [33:03<02:44,  2.49it/s]"
     ]
    },
    {
     "name": "stdout",
     "output_type": "stream",
     "text": [
      "\n",
      "Running avg Loss at batch iter                                                                 5000 is                                                                 0.4576668716967106\n"
     ]
    },
    {
     "name": "stderr",
     "output_type": "stream",
     "text": [
      "100%|██████████| 5410/5410 [35:44<00:00,  2.52it/s]\n",
      "  0%|          | 0/250 [00:00<?, ?it/s]"
     ]
    },
    {
     "name": "stdout",
     "output_type": "stream",
     "text": [
      "train Loss: 0.4635\n",
      "\n",
      "Train -- epoch average precision at k = 1, 2, 3, 4, 5, 6: [0.95901109 0.95034658 0.93436553 0.91307763 0.85001848 0.7911183 ]\n",
      "Train -- epoch average recall at k = 1, 2, 3, 4, 5, 6: [0.18343715 0.3634122  0.53338216 0.69075185 0.7942195  0.88024538]\n",
      "\n"
     ]
    },
    {
     "name": "stderr",
     "output_type": "stream",
     "text": [
      "100%|██████████| 250/250 [00:33<00:00,  7.38it/s]\n",
      "  0%|          | 0/5410 [00:00<?, ?it/s]"
     ]
    },
    {
     "name": "stdout",
     "output_type": "stream",
     "text": [
      "val Loss: 0.4535\n",
      "\n",
      "Validation -- epoch average precision at k = 1, 2, 3, 4, 5, 6: [0.96    0.95    0.93466 0.9175  0.8498  0.79538]\n",
      "\n",
      "\n",
      "Validation -- epoch average recall at k = 1, 2, 3, 4, 5, 6: [0.18334 0.36283 0.53265 0.69345 0.79332 0.88328]\n",
      "\n",
      "Epoch 13/49\n",
      "----------\n"
     ]
    },
    {
     "name": "stderr",
     "output_type": "stream",
     "text": [
      " 19%|█▊        | 1001/5410 [06:38<18:52,  3.89it/s]"
     ]
    },
    {
     "name": "stdout",
     "output_type": "stream",
     "text": [
      "\n",
      "Running avg Loss at batch iter                                                                 1000 is                                                                 0.46369411930441856\n"
     ]
    },
    {
     "name": "stderr",
     "output_type": "stream",
     "text": [
      " 37%|███▋      | 2000/5410 [13:18<19:15,  2.95it/s]"
     ]
    },
    {
     "name": "stdout",
     "output_type": "stream",
     "text": [
      "\n",
      "Running avg Loss at batch iter                                                                 2000 is                                                                 0.4604669149070978\n"
     ]
    },
    {
     "name": "stderr",
     "output_type": "stream",
     "text": [
      " 55%|█████▌    | 3000/5410 [19:48<11:51,  3.39it/s]"
     ]
    },
    {
     "name": "stdout",
     "output_type": "stream",
     "text": [
      "\n",
      "Running avg Loss at batch iter                                                                 3000 is                                                                 0.4620597170889378\n"
     ]
    },
    {
     "name": "stderr",
     "output_type": "stream",
     "text": [
      " 74%|███████▍  | 4000/5410 [26:35<05:41,  4.13it/s]"
     ]
    },
    {
     "name": "stdout",
     "output_type": "stream",
     "text": [
      "\n",
      "Running avg Loss at batch iter                                                                 4000 is                                                                 0.46134752199053763\n"
     ]
    },
    {
     "name": "stderr",
     "output_type": "stream",
     "text": [
      " 92%|█████████▏| 5001/5410 [33:06<02:32,  2.69it/s]"
     ]
    },
    {
     "name": "stdout",
     "output_type": "stream",
     "text": [
      "\n",
      "Running avg Loss at batch iter                                                                 5000 is                                                                 0.45707494762539863\n"
     ]
    },
    {
     "name": "stderr",
     "output_type": "stream",
     "text": [
      "100%|██████████| 5410/5410 [35:45<00:00,  2.52it/s]\n",
      "  0%|          | 0/250 [00:00<?, ?it/s]"
     ]
    },
    {
     "name": "stdout",
     "output_type": "stream",
     "text": [
      "train Loss: 0.4633\n",
      "\n",
      "Train -- epoch average precision at k = 1, 2, 3, 4, 5, 6: [0.95790203 0.94988447 0.93531007 0.91321627 0.84972274 0.79076987]\n",
      "Train -- epoch average recall at k = 1, 2, 3, 4, 5, 6: [0.18305129 0.36324861 0.53385906 0.69077542 0.79397458 0.8798683 ]\n",
      "\n"
     ]
    },
    {
     "name": "stderr",
     "output_type": "stream",
     "text": [
      "100%|██████████| 250/250 [00:33<00:00,  7.40it/s]\n",
      "  0%|          | 0/5410 [00:00<?, ?it/s]"
     ]
    },
    {
     "name": "stdout",
     "output_type": "stream",
     "text": [
      "val Loss: 0.4532\n",
      "\n",
      "Validation -- epoch average precision at k = 1, 2, 3, 4, 5, 6: [0.964   0.9445  0.93102 0.91575 0.8524  0.79531]\n",
      "\n",
      "\n",
      "Validation -- epoch average recall at k = 1, 2, 3, 4, 5, 6: [0.18462 0.35962 0.52944 0.69244 0.79504 0.8835 ]\n",
      "\n",
      "Epoch 14/49\n",
      "----------\n"
     ]
    },
    {
     "name": "stderr",
     "output_type": "stream",
     "text": [
      " 18%|█▊        | 1000/5410 [06:37<21:15,  3.46it/s]"
     ]
    },
    {
     "name": "stdout",
     "output_type": "stream",
     "text": [
      "\n",
      "Running avg Loss at batch iter                                                                 1000 is                                                                 0.45914462599158284\n"
     ]
    },
    {
     "name": "stderr",
     "output_type": "stream",
     "text": [
      " 37%|███▋      | 2000/5410 [13:19<15:49,  3.59it/s]"
     ]
    },
    {
     "name": "stdout",
     "output_type": "stream",
     "text": [
      "\n",
      "Running avg Loss at batch iter                                                                 2000 is                                                                 0.46108836376667023\n"
     ]
    },
    {
     "name": "stderr",
     "output_type": "stream",
     "text": [
      " 55%|█████▌    | 3001/5410 [19:57<11:26,  3.51it/s]"
     ]
    },
    {
     "name": "stdout",
     "output_type": "stream",
     "text": [
      "\n",
      "Running avg Loss at batch iter                                                                 3000 is                                                                 0.4616928238272667\n"
     ]
    },
    {
     "name": "stderr",
     "output_type": "stream",
     "text": [
      " 74%|███████▍  | 4000/5410 [26:34<07:43,  3.04it/s]"
     ]
    },
    {
     "name": "stdout",
     "output_type": "stream",
     "text": [
      "\n",
      "Running avg Loss at batch iter                                                                 4000 is                                                                 0.4603522153943777\n"
     ]
    },
    {
     "name": "stderr",
     "output_type": "stream",
     "text": [
      " 92%|█████████▏| 5000/5410 [33:08<03:25,  2.00it/s]"
     ]
    },
    {
     "name": "stdout",
     "output_type": "stream",
     "text": [
      "\n",
      "Running avg Loss at batch iter                                                                 5000 is                                                                 0.4560979269593954\n"
     ]
    },
    {
     "name": "stderr",
     "output_type": "stream",
     "text": [
      "100%|██████████| 5410/5410 [35:44<00:00,  2.52it/s]\n",
      "  0%|          | 0/250 [00:00<?, ?it/s]"
     ]
    },
    {
     "name": "stdout",
     "output_type": "stream",
     "text": [
      "train Loss: 0.4603\n",
      "\n",
      "Train -- epoch average precision at k = 1, 2, 3, 4, 5, 6: [0.96025878 0.95120148 0.93525555 0.91389787 0.85063771 0.79160813]\n",
      "Train -- epoch average recall at k = 1, 2, 3, 4, 5, 6: [0.18380407 0.36397551 0.53390619 0.69139603 0.795061   0.88103466]\n",
      "\n"
     ]
    },
    {
     "name": "stderr",
     "output_type": "stream",
     "text": [
      "100%|██████████| 250/250 [00:33<00:00,  7.40it/s]\n",
      "  0%|          | 0/5410 [00:00<?, ?it/s]"
     ]
    },
    {
     "name": "stdout",
     "output_type": "stream",
     "text": [
      "val Loss: 0.4515\n",
      "\n",
      "Validation -- epoch average precision at k = 1, 2, 3, 4, 5, 6: [0.963   0.9565  0.93636 0.917   0.8548  0.79548]\n",
      "\n",
      "\n",
      "Validation -- epoch average recall at k = 1, 2, 3, 4, 5, 6: [0.1845  0.36703 0.5336  0.69346 0.79791 0.88351]\n",
      "\n",
      "Epoch 15/49\n",
      "----------\n"
     ]
    },
    {
     "name": "stderr",
     "output_type": "stream",
     "text": [
      " 18%|█▊        | 1000/5410 [06:41<24:05,  3.05it/s] "
     ]
    },
    {
     "name": "stdout",
     "output_type": "stream",
     "text": [
      "\n",
      "Running avg Loss at batch iter                                                                 1000 is                                                                 0.457289666056633\n"
     ]
    },
    {
     "name": "stderr",
     "output_type": "stream",
     "text": [
      " 37%|███▋      | 2001/5410 [13:13<13:47,  4.12it/s]"
     ]
    },
    {
     "name": "stdout",
     "output_type": "stream",
     "text": [
      "\n",
      "Running avg Loss at batch iter                                                                 2000 is                                                                 0.46060387171804906\n"
     ]
    },
    {
     "name": "stderr",
     "output_type": "stream",
     "text": [
      " 55%|█████▌    | 3001/5410 [19:53<13:53,  2.89it/s]"
     ]
    },
    {
     "name": "stdout",
     "output_type": "stream",
     "text": [
      "\n",
      "Running avg Loss at batch iter                                                                 3000 is                                                                 0.4563501962274313\n"
     ]
    },
    {
     "name": "stderr",
     "output_type": "stream",
     "text": [
      " 74%|███████▍  | 4001/5410 [26:26<07:27,  3.15it/s]"
     ]
    },
    {
     "name": "stdout",
     "output_type": "stream",
     "text": [
      "\n",
      "Running avg Loss at batch iter                                                                 4000 is                                                                 0.4608994080722332\n"
     ]
    },
    {
     "name": "stderr",
     "output_type": "stream",
     "text": [
      " 92%|█████████▏| 5000/5410 [33:02<02:57,  2.31it/s]"
     ]
    },
    {
     "name": "stdout",
     "output_type": "stream",
     "text": [
      "\n",
      "Running avg Loss at batch iter                                                                 5000 is                                                                 0.4573854521811008\n"
     ]
    },
    {
     "name": "stderr",
     "output_type": "stream",
     "text": [
      "100%|██████████| 5410/5410 [35:46<00:00,  2.52it/s]\n",
      "  0%|          | 0/250 [00:00<?, ?it/s]"
     ]
    },
    {
     "name": "stdout",
     "output_type": "stream",
     "text": [
      "train Loss: 0.4617\n",
      "\n",
      "Train -- epoch average precision at k = 1, 2, 3, 4, 5, 6: [0.95979667 0.9512939  0.93556839 0.91374769 0.85034196 0.79149353]\n",
      "Train -- epoch average recall at k = 1, 2, 3, 4, 5, 6: [0.1837768  0.364      0.53411784 0.69131331 0.79462754 0.88082209]\n",
      "\n"
     ]
    },
    {
     "name": "stderr",
     "output_type": "stream",
     "text": [
      "100%|██████████| 250/250 [00:33<00:00,  7.38it/s]\n",
      "  0%|          | 0/5410 [00:00<?, ?it/s]"
     ]
    },
    {
     "name": "stdout",
     "output_type": "stream",
     "text": [
      "val Loss: 0.4525\n",
      "\n",
      "Validation -- epoch average precision at k = 1, 2, 3, 4, 5, 6: [0.96    0.946   0.93605 0.917   0.851   0.79726]\n",
      "\n",
      "\n",
      "Validation -- epoch average recall at k = 1, 2, 3, 4, 5, 6: [0.18334 0.36139 0.5344  0.69305 0.79469 0.88511]\n",
      "\n",
      "Epoch 16/49\n",
      "----------\n"
     ]
    },
    {
     "name": "stderr",
     "output_type": "stream",
     "text": [
      " 18%|█▊        | 1000/5410 [06:34<26:05,  2.82it/s] "
     ]
    },
    {
     "name": "stdout",
     "output_type": "stream",
     "text": [
      "\n",
      "Running avg Loss at batch iter                                                                 1000 is                                                                 0.4608287234008312\n"
     ]
    },
    {
     "name": "stderr",
     "output_type": "stream",
     "text": [
      " 37%|███▋      | 2000/5410 [13:03<26:16,  2.16it/s]"
     ]
    },
    {
     "name": "stdout",
     "output_type": "stream",
     "text": [
      "\n",
      "Running avg Loss at batch iter                                                                 2000 is                                                                 0.45815826940536497\n"
     ]
    },
    {
     "name": "stderr",
     "output_type": "stream",
     "text": [
      " 55%|█████▌    | 3000/5410 [19:46<25:22,  1.58it/s]"
     ]
    },
    {
     "name": "stdout",
     "output_type": "stream",
     "text": [
      "\n",
      "Running avg Loss at batch iter                                                                 3000 is                                                                 0.4583457018733025\n"
     ]
    },
    {
     "name": "stderr",
     "output_type": "stream",
     "text": [
      " 74%|███████▍  | 4001/5410 [26:32<07:14,  3.24it/s]"
     ]
    },
    {
     "name": "stdout",
     "output_type": "stream",
     "text": [
      "\n",
      "Running avg Loss at batch iter                                                                 4000 is                                                                 0.4586373116672039\n"
     ]
    },
    {
     "name": "stderr",
     "output_type": "stream",
     "text": [
      " 92%|█████████▏| 5000/5410 [33:10<02:32,  2.69it/s]"
     ]
    },
    {
     "name": "stdout",
     "output_type": "stream",
     "text": [
      "\n",
      "Running avg Loss at batch iter                                                                 5000 is                                                                 0.45511452892422677\n"
     ]
    },
    {
     "name": "stderr",
     "output_type": "stream",
     "text": [
      "100%|██████████| 5410/5410 [35:44<00:00,  2.52it/s]\n",
      "  0%|          | 0/250 [00:00<?, ?it/s]"
     ]
    },
    {
     "name": "stdout",
     "output_type": "stream",
     "text": [
      "train Loss: 0.4577\n",
      "\n",
      "Train -- epoch average precision at k = 1, 2, 3, 4, 5, 6: [0.95998152 0.95099353 0.93565619 0.91432532 0.8512939  0.79206932]\n",
      "Train -- epoch average recall at k = 1, 2, 3, 4, 5, 6: [0.18363401 0.36368854 0.53412338 0.69180915 0.79569778 0.88144547]\n",
      "\n"
     ]
    },
    {
     "name": "stderr",
     "output_type": "stream",
     "text": [
      "100%|██████████| 250/250 [00:33<00:00,  7.39it/s]\n",
      "  0%|          | 0/5410 [00:00<?, ?it/s]"
     ]
    },
    {
     "name": "stdout",
     "output_type": "stream",
     "text": [
      "val Loss: 0.4497\n",
      "\n",
      "Validation -- epoch average precision at k = 1, 2, 3, 4, 5, 6: [0.962   0.9535  0.93633 0.916   0.8544  0.79475]\n",
      "\n",
      "\n",
      "Validation -- epoch average recall at k = 1, 2, 3, 4, 5, 6: [0.18431 0.36478 0.53385 0.69286 0.79784 0.88291]\n",
      "\n",
      "Epoch 17/49\n",
      "----------\n"
     ]
    },
    {
     "name": "stderr",
     "output_type": "stream",
     "text": [
      " 19%|█▊        | 1001/5410 [06:30<25:35,  2.87it/s] "
     ]
    },
    {
     "name": "stdout",
     "output_type": "stream",
     "text": [
      "\n",
      "Running avg Loss at batch iter                                                                 1000 is                                                                 0.4550537102222443\n"
     ]
    },
    {
     "name": "stderr",
     "output_type": "stream",
     "text": [
      " 37%|███▋      | 2000/5410 [13:20<15:02,  3.78it/s]"
     ]
    },
    {
     "name": "stdout",
     "output_type": "stream",
     "text": [
      "\n",
      "Running avg Loss at batch iter                                                                 2000 is                                                                 0.4580332171320915\n"
     ]
    },
    {
     "name": "stderr",
     "output_type": "stream",
     "text": [
      " 55%|█████▌    | 3001/5410 [20:00<10:39,  3.77it/s]"
     ]
    },
    {
     "name": "stdout",
     "output_type": "stream",
     "text": [
      "\n",
      "Running avg Loss at batch iter                                                                 3000 is                                                                 0.46357220378518105\n"
     ]
    },
    {
     "name": "stderr",
     "output_type": "stream",
     "text": [
      " 74%|███████▍  | 4000/5410 [26:33<11:23,  2.06it/s]"
     ]
    },
    {
     "name": "stdout",
     "output_type": "stream",
     "text": [
      "\n",
      "Running avg Loss at batch iter                                                                 4000 is                                                                 0.4537945464551449\n"
     ]
    },
    {
     "name": "stderr",
     "output_type": "stream",
     "text": [
      " 92%|█████████▏| 5000/5410 [32:57<03:29,  1.95it/s]"
     ]
    },
    {
     "name": "stdout",
     "output_type": "stream",
     "text": [
      "\n",
      "Running avg Loss at batch iter                                                                 5000 is                                                                 0.4548029649555683\n"
     ]
    },
    {
     "name": "stderr",
     "output_type": "stream",
     "text": [
      "100%|██████████| 5410/5410 [35:44<00:00,  2.52it/s]\n",
      "  0%|          | 0/250 [00:00<?, ?it/s]"
     ]
    },
    {
     "name": "stdout",
     "output_type": "stream",
     "text": [
      "train Loss: 0.4591\n",
      "\n",
      "Train -- epoch average precision at k = 1, 2, 3, 4, 5, 6: [0.95956562 0.95071627 0.93523244 0.91478743 0.85148799 0.79173105]\n",
      "Train -- epoch average recall at k = 1, 2, 3, 4, 5, 6: [0.18370795 0.36383179 0.53401063 0.69240573 0.79595102 0.88108226]\n",
      "\n"
     ]
    },
    {
     "name": "stderr",
     "output_type": "stream",
     "text": [
      "100%|██████████| 250/250 [00:33<00:00,  7.40it/s]\n",
      "  0%|          | 0/5410 [00:00<?, ?it/s]"
     ]
    },
    {
     "name": "stdout",
     "output_type": "stream",
     "text": [
      "val Loss: 0.4476\n",
      "\n",
      "Validation -- epoch average precision at k = 1, 2, 3, 4, 5, 6: [0.964   0.956   0.93763 0.91875 0.8566  0.79597]\n",
      "\n",
      "\n",
      "Validation -- epoch average recall at k = 1, 2, 3, 4, 5, 6: [0.18465 0.36619 0.53481 0.69506 0.79905 0.88403]\n",
      "\n",
      "Epoch 18/49\n",
      "----------\n"
     ]
    },
    {
     "name": "stderr",
     "output_type": "stream",
     "text": [
      " 18%|█▊        | 1000/5410 [06:37<21:37,  3.40it/s]"
     ]
    },
    {
     "name": "stdout",
     "output_type": "stream",
     "text": [
      "\n",
      "Running avg Loss at batch iter                                                                 1000 is                                                                 0.4561794573366642\n"
     ]
    },
    {
     "name": "stderr",
     "output_type": "stream",
     "text": [
      " 37%|███▋      | 2000/5410 [13:11<21:21,  2.66it/s]"
     ]
    },
    {
     "name": "stdout",
     "output_type": "stream",
     "text": [
      "\n",
      "Running avg Loss at batch iter                                                                 2000 is                                                                 0.4568344092965126\n"
     ]
    },
    {
     "name": "stderr",
     "output_type": "stream",
     "text": [
      " 55%|█████▌    | 3000/5410 [19:53<15:36,  2.57it/s]"
     ]
    },
    {
     "name": "stdout",
     "output_type": "stream",
     "text": [
      "\n",
      "Running avg Loss at batch iter                                                                 3000 is                                                                 0.4585594503879547\n"
     ]
    },
    {
     "name": "stderr",
     "output_type": "stream",
     "text": [
      " 74%|███████▍  | 4000/5410 [26:24<07:41,  3.06it/s]"
     ]
    },
    {
     "name": "stdout",
     "output_type": "stream",
     "text": [
      "\n",
      "Running avg Loss at batch iter                                                                 4000 is                                                                 0.4564320170581341\n"
     ]
    },
    {
     "name": "stderr",
     "output_type": "stream",
     "text": [
      " 92%|█████████▏| 5001/5410 [32:57<01:49,  3.75it/s]"
     ]
    },
    {
     "name": "stdout",
     "output_type": "stream",
     "text": [
      "\n",
      "Running avg Loss at batch iter                                                                 5000 is                                                                 0.45609184315800666\n"
     ]
    },
    {
     "name": "stderr",
     "output_type": "stream",
     "text": [
      "100%|██████████| 5410/5410 [35:45<00:00,  2.52it/s]\n",
      "  0%|          | 0/250 [00:00<?, ?it/s]"
     ]
    },
    {
     "name": "stdout",
     "output_type": "stream",
     "text": [
      "train Loss: 0.4587\n",
      "\n",
      "Train -- epoch average precision at k = 1, 2, 3, 4, 5, 6: [0.96044362 0.95140943 0.93576433 0.91412893 0.85154344 0.79257625]\n",
      "Train -- epoch average recall at k = 1, 2, 3, 4, 5, 6: [0.183872   0.36398614 0.5341414  0.69151479 0.79574584 0.88182579]\n",
      "\n"
     ]
    },
    {
     "name": "stderr",
     "output_type": "stream",
     "text": [
      "100%|██████████| 250/250 [00:33<00:00,  7.40it/s]\n",
      "  0%|          | 0/5410 [00:00<?, ?it/s]"
     ]
    },
    {
     "name": "stdout",
     "output_type": "stream",
     "text": [
      "val Loss: 0.4488\n",
      "\n",
      "Validation -- epoch average precision at k = 1, 2, 3, 4, 5, 6: [0.956   0.9505  0.93637 0.9155  0.8526  0.79389]\n",
      "\n",
      "\n",
      "Validation -- epoch average recall at k = 1, 2, 3, 4, 5, 6: [0.18264 0.36367 0.53413 0.69197 0.79606 0.8816 ]\n",
      "\n",
      "Epoch 19/49\n",
      "----------\n"
     ]
    },
    {
     "name": "stderr",
     "output_type": "stream",
     "text": [
      " 18%|█▊        | 1000/5410 [06:38<29:07,  2.52it/s] "
     ]
    },
    {
     "name": "stdout",
     "output_type": "stream",
     "text": [
      "\n",
      "Running avg Loss at batch iter                                                                 1000 is                                                                 0.4586530096381903\n"
     ]
    },
    {
     "name": "stderr",
     "output_type": "stream",
     "text": [
      " 37%|███▋      | 2000/5410 [13:12<16:13,  3.50it/s]"
     ]
    },
    {
     "name": "stdout",
     "output_type": "stream",
     "text": [
      "\n",
      "Running avg Loss at batch iter                                                                 2000 is                                                                 0.45675197894871233\n"
     ]
    },
    {
     "name": "stderr",
     "output_type": "stream",
     "text": [
      " 55%|█████▌    | 3000/5410 [19:44<16:36,  2.42it/s]"
     ]
    },
    {
     "name": "stdout",
     "output_type": "stream",
     "text": [
      "\n",
      "Running avg Loss at batch iter                                                                 3000 is                                                                 0.45323564238846303\n"
     ]
    },
    {
     "name": "stderr",
     "output_type": "stream",
     "text": [
      " 74%|███████▍  | 4000/5410 [26:24<08:42,  2.70it/s]"
     ]
    },
    {
     "name": "stdout",
     "output_type": "stream",
     "text": [
      "\n",
      "Running avg Loss at batch iter                                                                 4000 is                                                                 0.4548508072495461\n"
     ]
    },
    {
     "name": "stderr",
     "output_type": "stream",
     "text": [
      " 92%|█████████▏| 5000/5410 [33:09<04:11,  1.63it/s]"
     ]
    },
    {
     "name": "stdout",
     "output_type": "stream",
     "text": [
      "\n",
      "Running avg Loss at batch iter                                                                 5000 is                                                                 0.45713148659467695\n"
     ]
    },
    {
     "name": "stderr",
     "output_type": "stream",
     "text": [
      "100%|██████████| 5410/5410 [35:44<00:00,  2.52it/s]\n",
      "  0%|          | 0/250 [00:00<?, ?it/s]"
     ]
    },
    {
     "name": "stdout",
     "output_type": "stream",
     "text": [
      "train Loss: 0.4572\n",
      "\n",
      "Train -- epoch average precision at k = 1, 2, 3, 4, 5, 6: [0.9599353  0.95120148 0.93565203 0.91396719 0.85125693 0.79261645]\n",
      "Train -- epoch average recall at k = 1, 2, 3, 4, 5, 6: [0.1837902  0.36411553 0.53439418 0.69159889 0.79552357 0.88200786]\n",
      "\n"
     ]
    },
    {
     "name": "stderr",
     "output_type": "stream",
     "text": [
      "100%|██████████| 250/250 [00:33<00:00,  7.40it/s]\n",
      "  0%|          | 0/5410 [00:00<?, ?it/s]"
     ]
    },
    {
     "name": "stdout",
     "output_type": "stream",
     "text": [
      "val Loss: 0.4459\n",
      "\n",
      "Validation -- epoch average precision at k = 1, 2, 3, 4, 5, 6: [0.963   0.953   0.93566 0.91925 0.8536  0.79635]\n",
      "\n",
      "\n",
      "Validation -- epoch average recall at k = 1, 2, 3, 4, 5, 6: [0.18442 0.36495 0.53367 0.69549 0.79731 0.88502]\n",
      "\n",
      "Epoch 20/49\n",
      "----------\n"
     ]
    },
    {
     "name": "stderr",
     "output_type": "stream",
     "text": [
      " 18%|█▊        | 1000/5410 [06:32<23:02,  3.19it/s]"
     ]
    },
    {
     "name": "stdout",
     "output_type": "stream",
     "text": [
      "\n",
      "Running avg Loss at batch iter                                                                 1000 is                                                                 0.44589111733436587\n"
     ]
    },
    {
     "name": "stderr",
     "output_type": "stream",
     "text": [
      " 37%|███▋      | 2000/5410 [12:57<26:44,  2.12it/s]"
     ]
    },
    {
     "name": "stdout",
     "output_type": "stream",
     "text": [
      "\n",
      "Running avg Loss at batch iter                                                                 2000 is                                                                 0.4530887517184019\n"
     ]
    },
    {
     "name": "stderr",
     "output_type": "stream",
     "text": [
      " 55%|█████▌    | 3000/5410 [19:40<11:33,  3.47it/s]"
     ]
    },
    {
     "name": "stdout",
     "output_type": "stream",
     "text": [
      "\n",
      "Running avg Loss at batch iter                                                                 3000 is                                                                 0.4572771043330431\n"
     ]
    },
    {
     "name": "stderr",
     "output_type": "stream",
     "text": [
      " 74%|███████▍  | 4000/5410 [26:24<09:51,  2.38it/s]"
     ]
    },
    {
     "name": "stdout",
     "output_type": "stream",
     "text": [
      "\n",
      "Running avg Loss at batch iter                                                                 4000 is                                                                 0.4578530569076538\n"
     ]
    },
    {
     "name": "stderr",
     "output_type": "stream",
     "text": [
      " 92%|█████████▏| 5000/5410 [33:07<02:10,  3.15it/s]"
     ]
    },
    {
     "name": "stdout",
     "output_type": "stream",
     "text": [
      "\n",
      "Running avg Loss at batch iter                                                                 5000 is                                                                 0.4587657889723778\n"
     ]
    },
    {
     "name": "stderr",
     "output_type": "stream",
     "text": [
      "100%|██████████| 5410/5410 [35:46<00:00,  2.52it/s]\n",
      "  0%|          | 0/250 [00:00<?, ?it/s]"
     ]
    },
    {
     "name": "stdout",
     "output_type": "stream",
     "text": [
      "train Loss: 0.4545\n",
      "\n",
      "Train -- epoch average precision at k = 1, 2, 3, 4, 5, 6: [0.96048983 0.95106285 0.93602172 0.91471811 0.8516451  0.7931964 ]\n",
      "Train -- epoch average recall at k = 1, 2, 3, 4, 5, 6: [0.18387893 0.36389695 0.53453835 0.69209011 0.79586414 0.88255453]\n",
      "\n"
     ]
    },
    {
     "name": "stderr",
     "output_type": "stream",
     "text": [
      "100%|██████████| 250/250 [00:33<00:00,  7.39it/s]\n",
      "  0%|          | 0/5410 [00:00<?, ?it/s]"
     ]
    },
    {
     "name": "stdout",
     "output_type": "stream",
     "text": [
      "val Loss: 0.4457\n",
      "\n",
      "Validation -- epoch average precision at k = 1, 2, 3, 4, 5, 6: [0.955   0.9545  0.93967 0.919   0.8578  0.79852]\n",
      "\n",
      "\n",
      "Validation -- epoch average recall at k = 1, 2, 3, 4, 5, 6: [0.18237 0.36609 0.53738 0.69581 0.80142 0.88749]\n",
      "\n",
      "Epoch 21/49\n",
      "----------\n"
     ]
    },
    {
     "name": "stderr",
     "output_type": "stream",
     "text": [
      " 18%|█▊        | 1000/5410 [06:43<17:57,  4.09it/s]"
     ]
    },
    {
     "name": "stdout",
     "output_type": "stream",
     "text": [
      "\n",
      "Running avg Loss at batch iter                                                                 1000 is                                                                 0.4552853453755379\n"
     ]
    },
    {
     "name": "stderr",
     "output_type": "stream",
     "text": [
      " 37%|███▋      | 2000/5410 [13:12<29:38,  1.92it/s]"
     ]
    },
    {
     "name": "stdout",
     "output_type": "stream",
     "text": [
      "\n",
      "Running avg Loss at batch iter                                                                 2000 is                                                                 0.4535857477486134\n"
     ]
    },
    {
     "name": "stderr",
     "output_type": "stream",
     "text": [
      " 55%|█████▌    | 3000/5410 [19:45<17:04,  2.35it/s]"
     ]
    },
    {
     "name": "stdout",
     "output_type": "stream",
     "text": [
      "\n",
      "Running avg Loss at batch iter                                                                 3000 is                                                                 0.4565160512328148\n"
     ]
    },
    {
     "name": "stderr",
     "output_type": "stream",
     "text": [
      " 74%|███████▍  | 4000/5410 [26:23<11:44,  2.00it/s]"
     ]
    },
    {
     "name": "stdout",
     "output_type": "stream",
     "text": [
      "\n",
      "Running avg Loss at batch iter                                                                 4000 is                                                                 0.45399078373610974\n"
     ]
    },
    {
     "name": "stderr",
     "output_type": "stream",
     "text": [
      " 92%|█████████▏| 5000/5410 [33:04<02:22,  2.88it/s]"
     ]
    },
    {
     "name": "stdout",
     "output_type": "stream",
     "text": [
      "\n",
      "Running avg Loss at batch iter                                                                 5000 is                                                                 0.4475799069404602\n"
     ]
    },
    {
     "name": "stderr",
     "output_type": "stream",
     "text": [
      "100%|██████████| 5410/5410 [35:46<00:00,  2.52it/s]\n",
      "  0%|          | 0/250 [00:00<?, ?it/s]"
     ]
    },
    {
     "name": "stdout",
     "output_type": "stream",
     "text": [
      "train Loss: 0.4540\n",
      "\n",
      "Train -- epoch average precision at k = 1, 2, 3, 4, 5, 6: [0.96155268 0.95304991 0.93648198 0.91542283 0.85215342 0.79388956]\n",
      "Train -- epoch average recall at k = 1, 2, 3, 4, 5, 6: [0.18427773 0.36493438 0.53497412 0.69285397 0.79657902 0.88343068]\n",
      "\n"
     ]
    },
    {
     "name": "stderr",
     "output_type": "stream",
     "text": [
      "100%|██████████| 250/250 [00:33<00:00,  7.39it/s]\n",
      "  0%|          | 0/5410 [00:00<?, ?it/s]"
     ]
    },
    {
     "name": "stdout",
     "output_type": "stream",
     "text": [
      "val Loss: 0.4444\n",
      "\n",
      "Validation -- epoch average precision at k = 1, 2, 3, 4, 5, 6: [0.96    0.956   0.93901 0.91925 0.8578  0.79767]\n",
      "\n",
      "\n",
      "Validation -- epoch average recall at k = 1, 2, 3, 4, 5, 6: [0.1835  0.36625 0.53629 0.69536 0.80127 0.8864 ]\n",
      "\n",
      "Epoch 22/49\n",
      "----------\n"
     ]
    },
    {
     "name": "stderr",
     "output_type": "stream",
     "text": [
      " 18%|█▊        | 1000/5410 [06:36<23:39,  3.11it/s] "
     ]
    },
    {
     "name": "stdout",
     "output_type": "stream",
     "text": [
      "\n",
      "Running avg Loss at batch iter                                                                 1000 is                                                                 0.45238061146438124\n"
     ]
    },
    {
     "name": "stderr",
     "output_type": "stream",
     "text": [
      " 37%|███▋      | 2000/5410 [13:15<18:49,  3.02it/s]"
     ]
    },
    {
     "name": "stdout",
     "output_type": "stream",
     "text": [
      "\n",
      "Running avg Loss at batch iter                                                                 2000 is                                                                 0.4552308304160833\n"
     ]
    },
    {
     "name": "stderr",
     "output_type": "stream",
     "text": [
      " 55%|█████▌    | 3000/5410 [19:51<16:39,  2.41it/s]"
     ]
    },
    {
     "name": "stdout",
     "output_type": "stream",
     "text": [
      "\n",
      "Running avg Loss at batch iter                                                                 3000 is                                                                 0.4603454656600952\n"
     ]
    },
    {
     "name": "stderr",
     "output_type": "stream",
     "text": [
      " 74%|███████▍  | 4000/5410 [26:14<07:29,  3.14it/s]"
     ]
    },
    {
     "name": "stdout",
     "output_type": "stream",
     "text": [
      "\n",
      "Running avg Loss at batch iter                                                                 4000 is                                                                 0.44720122942328455\n"
     ]
    },
    {
     "name": "stderr",
     "output_type": "stream",
     "text": [
      " 92%|█████████▏| 5000/5410 [32:55<03:21,  2.03it/s]"
     ]
    },
    {
     "name": "stdout",
     "output_type": "stream",
     "text": [
      "\n",
      "Running avg Loss at batch iter                                                                 5000 is                                                                 0.4488628314137459\n"
     ]
    },
    {
     "name": "stderr",
     "output_type": "stream",
     "text": [
      "100%|██████████| 5410/5410 [35:44<00:00,  2.52it/s]\n",
      "  0%|          | 0/250 [00:00<?, ?it/s]"
     ]
    },
    {
     "name": "stdout",
     "output_type": "stream",
     "text": [
      "train Loss: 0.4527\n",
      "\n",
      "Train -- epoch average precision at k = 1, 2, 3, 4, 5, 6: [0.96095194 0.95203327 0.93648937 0.91549214 0.85207948 0.79352264]\n",
      "Train -- epoch average recall at k = 1, 2, 3, 4, 5, 6: [0.18402542 0.36442144 0.53499445 0.69300693 0.7966049  0.88318854]\n",
      "\n"
     ]
    },
    {
     "name": "stderr",
     "output_type": "stream",
     "text": [
      "100%|██████████| 250/250 [00:33<00:00,  7.39it/s]\n",
      "  0%|          | 0/5410 [00:00<?, ?it/s]"
     ]
    },
    {
     "name": "stdout",
     "output_type": "stream",
     "text": [
      "val Loss: 0.4480\n",
      "\n",
      "Validation -- epoch average precision at k = 1, 2, 3, 4, 5, 6: [0.962   0.9545  0.93702 0.918   0.856   0.79763]\n",
      "\n",
      "\n",
      "Validation -- epoch average recall at k = 1, 2, 3, 4, 5, 6: [0.18451 0.36585 0.53499 0.69396 0.79896 0.88572]\n",
      "\n",
      "Epoch 23/49\n",
      "----------\n"
     ]
    },
    {
     "name": "stderr",
     "output_type": "stream",
     "text": [
      " 18%|█▊        | 1000/5410 [06:33<27:05,  2.71it/s]"
     ]
    },
    {
     "name": "stdout",
     "output_type": "stream",
     "text": [
      "\n",
      "Running avg Loss at batch iter                                                                 1000 is                                                                 0.4478695013821125\n"
     ]
    },
    {
     "name": "stderr",
     "output_type": "stream",
     "text": [
      " 37%|███▋      | 2001/5410 [13:09<20:42,  2.74it/s]"
     ]
    },
    {
     "name": "stdout",
     "output_type": "stream",
     "text": [
      "\n",
      "Running avg Loss at batch iter                                                                 2000 is                                                                 0.45424808913469317\n"
     ]
    },
    {
     "name": "stderr",
     "output_type": "stream",
     "text": [
      " 55%|█████▌    | 3000/5410 [19:47<17:06,  2.35it/s]"
     ]
    },
    {
     "name": "stdout",
     "output_type": "stream",
     "text": [
      "\n",
      "Running avg Loss at batch iter                                                                 3000 is                                                                 0.45068211244046685\n"
     ]
    },
    {
     "name": "stderr",
     "output_type": "stream",
     "text": [
      " 74%|███████▍  | 4000/5410 [26:27<09:19,  2.52it/s]"
     ]
    },
    {
     "name": "stdout",
     "output_type": "stream",
     "text": [
      "\n",
      "Running avg Loss at batch iter                                                                 4000 is                                                                 0.45402491849660875\n"
     ]
    },
    {
     "name": "stderr",
     "output_type": "stream",
     "text": [
      " 92%|█████████▏| 5000/5410 [33:00<02:18,  2.96it/s]"
     ]
    },
    {
     "name": "stdout",
     "output_type": "stream",
     "text": [
      "\n",
      "Running avg Loss at batch iter                                                                 5000 is                                                                 0.4528016091287136\n"
     ]
    },
    {
     "name": "stderr",
     "output_type": "stream",
     "text": [
      "100%|██████████| 5410/5410 [35:45<00:00,  2.52it/s]\n",
      "  0%|          | 0/250 [00:00<?, ?it/s]"
     ]
    },
    {
     "name": "stdout",
     "output_type": "stream",
     "text": [
      "train Loss: 0.4523\n",
      "\n",
      "Train -- epoch average precision at k = 1, 2, 3, 4, 5, 6: [0.96303142 0.95358133 0.93676248 0.91499538 0.85312384 0.79400693]\n",
      "Train -- epoch average recall at k = 1, 2, 3, 4, 5, 6: [0.18458919 0.36525231 0.53525693 0.69263216 0.79754945 0.88360952]\n",
      "\n"
     ]
    },
    {
     "name": "stderr",
     "output_type": "stream",
     "text": [
      "100%|██████████| 250/250 [00:33<00:00,  7.39it/s]\n",
      "  0%|          | 0/5410 [00:00<?, ?it/s]"
     ]
    },
    {
     "name": "stdout",
     "output_type": "stream",
     "text": [
      "val Loss: 0.4441\n",
      "\n",
      "Validation -- epoch average precision at k = 1, 2, 3, 4, 5, 6: [0.963   0.9605  0.93768 0.9185  0.8568  0.79493]\n",
      "\n",
      "\n",
      "Validation -- epoch average recall at k = 1, 2, 3, 4, 5, 6: [0.18442 0.3681  0.53509 0.69501 0.7997  0.88308]\n",
      "\n",
      "Epoch 24/49\n",
      "----------\n"
     ]
    },
    {
     "name": "stderr",
     "output_type": "stream",
     "text": [
      " 18%|█▊        | 1000/5410 [06:32<33:15,  2.21it/s]"
     ]
    },
    {
     "name": "stdout",
     "output_type": "stream",
     "text": [
      "\n",
      "Running avg Loss at batch iter                                                                 1000 is                                                                 0.4548019590675831\n"
     ]
    },
    {
     "name": "stderr",
     "output_type": "stream",
     "text": [
      " 37%|███▋      | 2000/5410 [13:06<35:26,  1.60it/s]"
     ]
    },
    {
     "name": "stdout",
     "output_type": "stream",
     "text": [
      "\n",
      "Running avg Loss at batch iter                                                                 2000 is                                                                 0.45423117506504057\n"
     ]
    },
    {
     "name": "stderr",
     "output_type": "stream",
     "text": [
      " 55%|█████▌    | 3000/5410 [19:53<17:39,  2.27it/s]"
     ]
    },
    {
     "name": "stdout",
     "output_type": "stream",
     "text": [
      "\n",
      "Running avg Loss at batch iter                                                                 3000 is                                                                 0.4503879378139973\n"
     ]
    },
    {
     "name": "stderr",
     "output_type": "stream",
     "text": [
      " 74%|███████▍  | 4000/5410 [26:26<11:59,  1.96it/s]"
     ]
    },
    {
     "name": "stdout",
     "output_type": "stream",
     "text": [
      "\n",
      "Running avg Loss at batch iter                                                                 4000 is                                                                 0.4519014575332403\n"
     ]
    },
    {
     "name": "stderr",
     "output_type": "stream",
     "text": [
      " 92%|█████████▏| 5000/5410 [33:02<02:25,  2.82it/s]"
     ]
    },
    {
     "name": "stdout",
     "output_type": "stream",
     "text": [
      "\n",
      "Running avg Loss at batch iter                                                                 5000 is                                                                 0.44960793818533423\n"
     ]
    },
    {
     "name": "stderr",
     "output_type": "stream",
     "text": [
      "100%|██████████| 5410/5410 [35:44<00:00,  2.52it/s]\n",
      "  0%|          | 0/250 [00:00<?, ?it/s]"
     ]
    },
    {
     "name": "stdout",
     "output_type": "stream",
     "text": [
      "train Loss: 0.4534\n",
      "\n",
      "Train -- epoch average precision at k = 1, 2, 3, 4, 5, 6: [0.96196858 0.95265712 0.93779621 0.91513401 0.85340111 0.79400277]\n",
      "Train -- epoch average recall at k = 1, 2, 3, 4, 5, 6: [0.18440157 0.36471165 0.5359159  0.69277449 0.79797551 0.88378004]\n",
      "\n"
     ]
    },
    {
     "name": "stderr",
     "output_type": "stream",
     "text": [
      "100%|██████████| 250/250 [00:33<00:00,  7.40it/s]\n",
      "  0%|          | 0/5410 [00:00<?, ?it/s]"
     ]
    },
    {
     "name": "stdout",
     "output_type": "stream",
     "text": [
      "val Loss: 0.4464\n",
      "\n",
      "Validation -- epoch average precision at k = 1, 2, 3, 4, 5, 6: [0.961   0.955   0.93601 0.91725 0.853   0.79444]\n",
      "\n",
      "\n",
      "Validation -- epoch average recall at k = 1, 2, 3, 4, 5, 6: [0.1841  0.36584 0.53402 0.69307 0.7954  0.88223]\n",
      "\n",
      "Epoch 25/49\n",
      "----------\n"
     ]
    },
    {
     "name": "stderr",
     "output_type": "stream",
     "text": [
      " 19%|█▊        | 1001/5410 [06:33<24:59,  2.94it/s]"
     ]
    },
    {
     "name": "stdout",
     "output_type": "stream",
     "text": [
      "\n",
      "Running avg Loss at batch iter                                                                 1000 is                                                                 0.452713968873024\n"
     ]
    },
    {
     "name": "stderr",
     "output_type": "stream",
     "text": [
      " 37%|███▋      | 2000/5410 [13:13<29:50,  1.90it/s]"
     ]
    },
    {
     "name": "stdout",
     "output_type": "stream",
     "text": [
      "\n",
      "Running avg Loss at batch iter                                                                 2000 is                                                                 0.45664298844337464\n"
     ]
    },
    {
     "name": "stderr",
     "output_type": "stream",
     "text": [
      " 55%|█████▌    | 3000/5410 [19:54<15:51,  2.53it/s]"
     ]
    },
    {
     "name": "stdout",
     "output_type": "stream",
     "text": [
      "\n",
      "Running avg Loss at batch iter                                                                 3000 is                                                                 0.44460329714417457\n"
     ]
    },
    {
     "name": "stderr",
     "output_type": "stream",
     "text": [
      " 74%|███████▍  | 4000/5410 [26:27<07:50,  2.99it/s]"
     ]
    },
    {
     "name": "stdout",
     "output_type": "stream",
     "text": [
      "\n",
      "Running avg Loss at batch iter                                                                 4000 is                                                                 0.4482107270509005\n"
     ]
    },
    {
     "name": "stderr",
     "output_type": "stream",
     "text": [
      " 92%|█████████▏| 5000/5410 [33:05<02:23,  2.85it/s]"
     ]
    },
    {
     "name": "stdout",
     "output_type": "stream",
     "text": [
      "\n",
      "Running avg Loss at batch iter                                                                 5000 is                                                                 0.4480276207327843\n"
     ]
    },
    {
     "name": "stderr",
     "output_type": "stream",
     "text": [
      "100%|██████████| 5410/5410 [35:45<00:00,  2.52it/s]\n",
      "  0%|          | 0/250 [00:00<?, ?it/s]"
     ]
    },
    {
     "name": "stdout",
     "output_type": "stream",
     "text": [
      "train Loss: 0.4502\n",
      "\n",
      "Train -- epoch average precision at k = 1, 2, 3, 4, 5, 6: [0.96298521 0.95339649 0.93676386 0.91518022 0.852939   0.79489834]\n",
      "Train -- epoch average recall at k = 1, 2, 3, 4, 5, 6: [0.18454806 0.36517006 0.53521996 0.69276063 0.79736876 0.88462569]\n",
      "\n"
     ]
    },
    {
     "name": "stderr",
     "output_type": "stream",
     "text": [
      "100%|██████████| 250/250 [00:33<00:00,  7.39it/s]\n",
      "  0%|          | 0/5410 [00:00<?, ?it/s]"
     ]
    },
    {
     "name": "stdout",
     "output_type": "stream",
     "text": [
      "val Loss: 0.4469\n",
      "\n",
      "Validation -- epoch average precision at k = 1, 2, 3, 4, 5, 6: [0.965   0.9525  0.93732 0.917   0.855   0.79576]\n",
      "\n",
      "\n",
      "Validation -- epoch average recall at k = 1, 2, 3, 4, 5, 6: [0.18459 0.36455 0.5349  0.69369 0.79775 0.88368]\n",
      "\n",
      "Epoch 26/49\n",
      "----------\n"
     ]
    },
    {
     "name": "stderr",
     "output_type": "stream",
     "text": [
      " 18%|█▊        | 1000/5410 [06:36<30:57,  2.37it/s]"
     ]
    },
    {
     "name": "stdout",
     "output_type": "stream",
     "text": [
      "\n",
      "Running avg Loss at batch iter                                                                 1000 is                                                                 0.44918919903039933\n"
     ]
    },
    {
     "name": "stderr",
     "output_type": "stream",
     "text": [
      " 37%|███▋      | 2000/5410 [13:09<26:31,  2.14it/s]"
     ]
    },
    {
     "name": "stdout",
     "output_type": "stream",
     "text": [
      "\n",
      "Running avg Loss at batch iter                                                                 2000 is                                                                 0.45370379853248594\n"
     ]
    },
    {
     "name": "stderr",
     "output_type": "stream",
     "text": [
      " 55%|█████▌    | 3000/5410 [19:45<15:38,  2.57it/s]"
     ]
    },
    {
     "name": "stdout",
     "output_type": "stream",
     "text": [
      "\n",
      "Running avg Loss at batch iter                                                                 3000 is                                                                 0.4491874744296074\n"
     ]
    },
    {
     "name": "stderr",
     "output_type": "stream",
     "text": [
      " 74%|███████▍  | 4000/5410 [26:21<08:26,  2.78it/s]"
     ]
    },
    {
     "name": "stdout",
     "output_type": "stream",
     "text": [
      "\n",
      "Running avg Loss at batch iter                                                                 4000 is                                                                 0.4433617309033871\n"
     ]
    },
    {
     "name": "stderr",
     "output_type": "stream",
     "text": [
      " 92%|█████████▏| 5001/5410 [32:58<02:27,  2.77it/s]"
     ]
    },
    {
     "name": "stdout",
     "output_type": "stream",
     "text": [
      "\n",
      "Running avg Loss at batch iter                                                                 5000 is                                                                 0.45286308106780054\n"
     ]
    },
    {
     "name": "stderr",
     "output_type": "stream",
     "text": [
      "100%|██████████| 5410/5410 [35:44<00:00,  2.52it/s]\n",
      "  0%|          | 0/250 [00:00<?, ?it/s]"
     ]
    },
    {
     "name": "stdout",
     "output_type": "stream",
     "text": [
      "train Loss: 0.4508\n",
      "\n",
      "Train -- epoch average precision at k = 1, 2, 3, 4, 5, 6: [0.96136784 0.95295749 0.93816405 0.91619686 0.85308688 0.79479298]\n",
      "Train -- epoch average recall at k = 1, 2, 3, 4, 5, 6: [0.18417329 0.36496072 0.53635998 0.69367237 0.79740203 0.8844598 ]\n",
      "\n"
     ]
    },
    {
     "name": "stderr",
     "output_type": "stream",
     "text": [
      "100%|██████████| 250/250 [00:33<00:00,  7.39it/s]\n",
      "  0%|          | 0/5410 [00:00<?, ?it/s]"
     ]
    },
    {
     "name": "stdout",
     "output_type": "stream",
     "text": [
      "val Loss: 0.4449\n",
      "\n",
      "Validation -- epoch average precision at k = 1, 2, 3, 4, 5, 6: [0.961   0.9565  0.93535 0.91925 0.853   0.79543]\n",
      "\n",
      "\n",
      "Validation -- epoch average recall at k = 1, 2, 3, 4, 5, 6: [0.18367 0.36536 0.5327  0.69533 0.79561 0.88357]\n",
      "\n",
      "Epoch 27/49\n",
      "----------\n"
     ]
    },
    {
     "name": "stderr",
     "output_type": "stream",
     "text": [
      " 18%|█▊        | 1000/5410 [06:32<43:11,  1.70it/s]"
     ]
    },
    {
     "name": "stdout",
     "output_type": "stream",
     "text": [
      "\n",
      "Running avg Loss at batch iter                                                                 1000 is                                                                 0.44766540881991385\n"
     ]
    },
    {
     "name": "stderr",
     "output_type": "stream",
     "text": [
      " 37%|███▋      | 2000/5410 [13:12<22:06,  2.57it/s]"
     ]
    },
    {
     "name": "stdout",
     "output_type": "stream",
     "text": [
      "\n",
      "Running avg Loss at batch iter                                                                 2000 is                                                                 0.4434711948037148\n"
     ]
    },
    {
     "name": "stderr",
     "output_type": "stream",
     "text": [
      " 55%|█████▌    | 3000/5410 [19:53<13:26,  2.99it/s]"
     ]
    },
    {
     "name": "stdout",
     "output_type": "stream",
     "text": [
      "\n",
      "Running avg Loss at batch iter                                                                 3000 is                                                                 0.44902320635318754\n"
     ]
    },
    {
     "name": "stderr",
     "output_type": "stream",
     "text": [
      " 74%|███████▍  | 4000/5410 [26:33<07:56,  2.96it/s]"
     ]
    },
    {
     "name": "stdout",
     "output_type": "stream",
     "text": [
      "\n",
      "Running avg Loss at batch iter                                                                 4000 is                                                                 0.45194628478586674\n"
     ]
    },
    {
     "name": "stderr",
     "output_type": "stream",
     "text": [
      " 92%|█████████▏| 5000/5410 [33:01<01:51,  3.69it/s]"
     ]
    },
    {
     "name": "stdout",
     "output_type": "stream",
     "text": [
      "\n",
      "Running avg Loss at batch iter                                                                 5000 is                                                                 0.45306917479634284\n"
     ]
    },
    {
     "name": "stderr",
     "output_type": "stream",
     "text": [
      "100%|██████████| 5410/5410 [35:44<00:00,  2.52it/s]\n",
      "  0%|          | 0/250 [00:00<?, ?it/s]"
     ]
    },
    {
     "name": "stdout",
     "output_type": "stream",
     "text": [
      "train Loss: 0.4501\n",
      "\n",
      "Train -- epoch average precision at k = 1, 2, 3, 4, 5, 6: [0.96150647 0.95328096 0.9377842  0.9161622  0.85354898 0.79455222]\n",
      "Train -- epoch average recall at k = 1, 2, 3, 4, 5, 6: [0.18424353 0.36527403 0.53615434 0.69358457 0.79822643 0.88430915]\n",
      "\n"
     ]
    },
    {
     "name": "stderr",
     "output_type": "stream",
     "text": [
      "100%|██████████| 250/250 [00:33<00:00,  7.40it/s]\n",
      "  0%|          | 0/5410 [00:00<?, ?it/s]"
     ]
    },
    {
     "name": "stdout",
     "output_type": "stream",
     "text": [
      "val Loss: 0.4432\n",
      "\n",
      "Validation -- epoch average precision at k = 1, 2, 3, 4, 5, 6: [0.963   0.955   0.93432 0.91625 0.8534  0.79734]\n",
      "\n",
      "\n",
      "Validation -- epoch average recall at k = 1, 2, 3, 4, 5, 6: [0.18406 0.36467 0.53174 0.69223 0.79551 0.88566]\n",
      "\n",
      "Epoch 28/49\n",
      "----------\n"
     ]
    },
    {
     "name": "stderr",
     "output_type": "stream",
     "text": [
      " 18%|█▊        | 1000/5410 [06:40<35:41,  2.06it/s] "
     ]
    },
    {
     "name": "stdout",
     "output_type": "stream",
     "text": [
      "\n",
      "Running avg Loss at batch iter                                                                 1000 is                                                                 0.4526297326683998\n"
     ]
    },
    {
     "name": "stderr",
     "output_type": "stream",
     "text": [
      " 37%|███▋      | 2000/5410 [13:18<20:57,  2.71it/s]"
     ]
    },
    {
     "name": "stdout",
     "output_type": "stream",
     "text": [
      "\n",
      "Running avg Loss at batch iter                                                                 2000 is                                                                 0.44841391742229464\n"
     ]
    },
    {
     "name": "stderr",
     "output_type": "stream",
     "text": [
      " 55%|█████▌    | 3000/5410 [19:52<17:06,  2.35it/s]"
     ]
    },
    {
     "name": "stdout",
     "output_type": "stream",
     "text": [
      "\n",
      "Running avg Loss at batch iter                                                                 3000 is                                                                 0.44667769606411456\n"
     ]
    },
    {
     "name": "stderr",
     "output_type": "stream",
     "text": [
      " 74%|███████▍  | 4000/5410 [26:25<07:35,  3.09it/s]"
     ]
    },
    {
     "name": "stdout",
     "output_type": "stream",
     "text": [
      "\n",
      "Running avg Loss at batch iter                                                                 4000 is                                                                 0.44295778627693655\n"
     ]
    },
    {
     "name": "stderr",
     "output_type": "stream",
     "text": [
      " 92%|█████████▏| 5000/5410 [33:00<02:01,  3.37it/s]"
     ]
    },
    {
     "name": "stdout",
     "output_type": "stream",
     "text": [
      "\n",
      "Running avg Loss at batch iter                                                                 5000 is                                                                 0.45183013066649436\n"
     ]
    },
    {
     "name": "stderr",
     "output_type": "stream",
     "text": [
      "100%|██████████| 5410/5410 [35:43<00:00,  2.52it/s]\n",
      "  0%|          | 0/250 [00:00<?, ?it/s]"
     ]
    },
    {
     "name": "stdout",
     "output_type": "stream",
     "text": [
      "train Loss: 0.4497\n",
      "\n",
      "Train -- epoch average precision at k = 1, 2, 3, 4, 5, 6: [0.96247689 0.95355823 0.93735721 0.91571165 0.85378928 0.79584057]\n",
      "Train -- epoch average recall at k = 1, 2, 3, 4, 5, 6: [0.18440342 0.36507994 0.53568577 0.69330268 0.79815111 0.88564603]\n",
      "\n"
     ]
    },
    {
     "name": "stderr",
     "output_type": "stream",
     "text": [
      "100%|██████████| 250/250 [00:33<00:00,  7.38it/s]\n",
      "  0%|          | 0/5410 [00:00<?, ?it/s]"
     ]
    },
    {
     "name": "stdout",
     "output_type": "stream",
     "text": [
      "val Loss: 0.4394\n",
      "\n",
      "Validation -- epoch average precision at k = 1, 2, 3, 4, 5, 6: [0.964   0.956   0.94028 0.92075 0.8588  0.79819]\n",
      "\n",
      "\n",
      "Validation -- epoch average recall at k = 1, 2, 3, 4, 5, 6: [0.18447 0.36646 0.53771 0.69648 0.80205 0.88649]\n",
      "\n",
      "Epoch 29/49\n",
      "----------\n"
     ]
    },
    {
     "name": "stderr",
     "output_type": "stream",
     "text": [
      " 18%|█▊        | 1000/5410 [06:34<25:44,  2.85it/s] "
     ]
    },
    {
     "name": "stdout",
     "output_type": "stream",
     "text": [
      "\n",
      "Running avg Loss at batch iter                                                                 1000 is                                                                 0.44363130755722524\n"
     ]
    },
    {
     "name": "stderr",
     "output_type": "stream",
     "text": [
      " 37%|███▋      | 2000/5410 [13:14<29:23,  1.93it/s]"
     ]
    },
    {
     "name": "stdout",
     "output_type": "stream",
     "text": [
      "\n",
      "Running avg Loss at batch iter                                                                 2000 is                                                                 0.45330841617286205\n"
     ]
    },
    {
     "name": "stderr",
     "output_type": "stream",
     "text": [
      " 55%|█████▌    | 3000/5410 [19:52<12:28,  3.22it/s]"
     ]
    },
    {
     "name": "stdout",
     "output_type": "stream",
     "text": [
      "\n",
      "Running avg Loss at batch iter                                                                 3000 is                                                                 0.4501553899347782\n"
     ]
    },
    {
     "name": "stderr",
     "output_type": "stream",
     "text": [
      " 74%|███████▍  | 4000/5410 [26:31<07:41,  3.05it/s]"
     ]
    },
    {
     "name": "stdout",
     "output_type": "stream",
     "text": [
      "\n",
      "Running avg Loss at batch iter                                                                 4000 is                                                                 0.44539281012117865\n"
     ]
    },
    {
     "name": "stderr",
     "output_type": "stream",
     "text": [
      " 92%|█████████▏| 5000/5410 [33:06<02:26,  2.80it/s]"
     ]
    },
    {
     "name": "stdout",
     "output_type": "stream",
     "text": [
      "\n",
      "Running avg Loss at batch iter                                                                 5000 is                                                                 0.44849441522359845\n"
     ]
    },
    {
     "name": "stderr",
     "output_type": "stream",
     "text": [
      "100%|██████████| 5410/5410 [35:44<00:00,  2.52it/s]\n",
      "  0%|          | 0/250 [00:00<?, ?it/s]"
     ]
    },
    {
     "name": "stdout",
     "output_type": "stream",
     "text": [
      "train Loss: 0.4493\n",
      "\n",
      "Train -- epoch average precision at k = 1, 2, 3, 4, 5, 6: [0.96326248 0.95448244 0.93845841 0.91582717 0.85381701 0.79501063]\n",
      "Train -- epoch average recall at k = 1, 2, 3, 4, 5, 6: [0.18470564 0.36564279 0.5365573  0.69349353 0.79824445 0.88473198]\n",
      "\n"
     ]
    },
    {
     "name": "stderr",
     "output_type": "stream",
     "text": [
      "100%|██████████| 250/250 [00:33<00:00,  7.38it/s]\n",
      "  0%|          | 0/5410 [00:00<?, ?it/s]"
     ]
    },
    {
     "name": "stdout",
     "output_type": "stream",
     "text": [
      "val Loss: 0.4430\n",
      "\n",
      "Validation -- epoch average precision at k = 1, 2, 3, 4, 5, 6: [0.962   0.9585  0.9393  0.9185  0.8556  0.79731]\n",
      "\n",
      "\n",
      "Validation -- epoch average recall at k = 1, 2, 3, 4, 5, 6: [0.18407 0.36766 0.53556 0.69438 0.79816 0.88541]\n",
      "\n",
      "Epoch 30/49\n",
      "----------\n"
     ]
    },
    {
     "name": "stderr",
     "output_type": "stream",
     "text": [
      " 18%|█▊        | 1000/5410 [06:20<31:45,  2.31it/s]"
     ]
    },
    {
     "name": "stdout",
     "output_type": "stream",
     "text": [
      "\n",
      "Running avg Loss at batch iter                                                                 1000 is                                                                 0.44255244089663026\n"
     ]
    },
    {
     "name": "stderr",
     "output_type": "stream",
     "text": [
      " 37%|███▋      | 2000/5410 [13:12<28:08,  2.02it/s]"
     ]
    },
    {
     "name": "stdout",
     "output_type": "stream",
     "text": [
      "\n",
      "Running avg Loss at batch iter                                                                 2000 is                                                                 0.44595254136621953\n"
     ]
    },
    {
     "name": "stderr",
     "output_type": "stream",
     "text": [
      " 55%|█████▌    | 3000/5410 [19:47<21:26,  1.87it/s]"
     ]
    },
    {
     "name": "stdout",
     "output_type": "stream",
     "text": [
      "\n",
      "Running avg Loss at batch iter                                                                 3000 is                                                                 0.44720579904317853\n"
     ]
    },
    {
     "name": "stderr",
     "output_type": "stream",
     "text": [
      " 74%|███████▍  | 4001/5410 [26:16<06:46,  3.47it/s]"
     ]
    },
    {
     "name": "stdout",
     "output_type": "stream",
     "text": [
      "\n",
      "Running avg Loss at batch iter                                                                 4000 is                                                                 0.4566527463793755\n"
     ]
    },
    {
     "name": "stderr",
     "output_type": "stream",
     "text": [
      " 92%|█████████▏| 5000/5410 [33:06<03:03,  2.23it/s]"
     ]
    },
    {
     "name": "stdout",
     "output_type": "stream",
     "text": [
      "\n",
      "Running avg Loss at batch iter                                                                 5000 is                                                                 0.4489215548336506\n"
     ]
    },
    {
     "name": "stderr",
     "output_type": "stream",
     "text": [
      "100%|██████████| 5410/5410 [35:44<00:00,  2.52it/s]\n",
      "  0%|          | 0/250 [00:00<?, ?it/s]"
     ]
    },
    {
     "name": "stdout",
     "output_type": "stream",
     "text": [
      "train Loss: 0.4494\n",
      "\n",
      "Train -- epoch average precision at k = 1, 2, 3, 4, 5, 6: [0.96400185 0.95434381 0.93811738 0.9163586  0.85382625 0.79566682]\n",
      "Train -- epoch average recall at k = 1, 2, 3, 4, 5, 6: [0.18499769 0.36572874 0.53643438 0.69392606 0.79835213 0.88546534]\n",
      "\n"
     ]
    },
    {
     "name": "stderr",
     "output_type": "stream",
     "text": [
      "100%|██████████| 250/250 [00:33<00:00,  7.40it/s]\n",
      "  0%|          | 0/5410 [00:00<?, ?it/s]"
     ]
    },
    {
     "name": "stdout",
     "output_type": "stream",
     "text": [
      "val Loss: 0.4350\n",
      "\n",
      "Validation -- epoch average precision at k = 1, 2, 3, 4, 5, 6: [0.968  0.961  0.944  0.922  0.8624 0.8001]\n",
      "\n",
      "\n",
      "Validation -- epoch average recall at k = 1, 2, 3, 4, 5, 6: [0.1854  0.36851 0.53995 0.69894 0.80581 0.88877]\n",
      "\n",
      "Epoch 31/49\n",
      "----------\n"
     ]
    },
    {
     "name": "stderr",
     "output_type": "stream",
     "text": [
      " 18%|█▊        | 1000/5410 [06:28<27:24,  2.68it/s]"
     ]
    },
    {
     "name": "stdout",
     "output_type": "stream",
     "text": [
      "\n",
      "Running avg Loss at batch iter                                                                 1000 is                                                                 0.44774701546132567\n"
     ]
    },
    {
     "name": "stderr",
     "output_type": "stream",
     "text": [
      " 37%|███▋      | 2000/5410 [12:58<23:51,  2.38it/s]"
     ]
    },
    {
     "name": "stdout",
     "output_type": "stream",
     "text": [
      "\n",
      "Running avg Loss at batch iter                                                                 2000 is                                                                 0.4508262741267681\n"
     ]
    },
    {
     "name": "stderr",
     "output_type": "stream",
     "text": [
      " 55%|█████▌    | 3000/5410 [19:38<16:47,  2.39it/s]"
     ]
    },
    {
     "name": "stdout",
     "output_type": "stream",
     "text": [
      "\n",
      "Running avg Loss at batch iter                                                                 3000 is                                                                 0.4446758482903242\n"
     ]
    },
    {
     "name": "stderr",
     "output_type": "stream",
     "text": [
      " 74%|███████▍  | 4000/5410 [26:19<08:35,  2.74it/s]"
     ]
    },
    {
     "name": "stdout",
     "output_type": "stream",
     "text": [
      "\n",
      "Running avg Loss at batch iter                                                                 4000 is                                                                 0.4457883511632681\n"
     ]
    },
    {
     "name": "stderr",
     "output_type": "stream",
     "text": [
      " 92%|█████████▏| 5000/5410 [33:04<01:39,  4.11it/s]"
     ]
    },
    {
     "name": "stdout",
     "output_type": "stream",
     "text": [
      "\n",
      "Running avg Loss at batch iter                                                                 5000 is                                                                 0.4492935052514076\n"
     ]
    },
    {
     "name": "stderr",
     "output_type": "stream",
     "text": [
      "100%|██████████| 5410/5410 [35:41<00:00,  2.53it/s]\n",
      "  0%|          | 0/250 [00:00<?, ?it/s]"
     ]
    },
    {
     "name": "stdout",
     "output_type": "stream",
     "text": [
      "train Loss: 0.4469\n",
      "\n",
      "Train -- epoch average precision at k = 1, 2, 3, 4, 5, 6: [0.96289279 0.95457486 0.93863447 0.91713262 0.85452865 0.79514972]\n",
      "Train -- epoch average recall at k = 1, 2, 3, 4, 5, 6: [0.18458133 0.36574122 0.53656793 0.69459473 0.79926802 0.88502957]\n",
      "\n"
     ]
    },
    {
     "name": "stderr",
     "output_type": "stream",
     "text": [
      "100%|██████████| 250/250 [00:33<00:00,  7.40it/s]\n",
      "  0%|          | 0/5410 [00:00<?, ?it/s]"
     ]
    },
    {
     "name": "stdout",
     "output_type": "stream",
     "text": [
      "val Loss: 0.4443\n",
      "\n",
      "Validation -- epoch average precision at k = 1, 2, 3, 4, 5, 6: [0.961   0.9525  0.937   0.91925 0.8556  0.79484]\n",
      "\n",
      "\n",
      "Validation -- epoch average recall at k = 1, 2, 3, 4, 5, 6: [0.18378 0.36383 0.53418 0.69523 0.7988  0.88328]\n",
      "\n",
      "Epoch 32/49\n",
      "----------\n"
     ]
    },
    {
     "name": "stderr",
     "output_type": "stream",
     "text": [
      " 18%|█▊        | 1000/5410 [06:38<35:28,  2.07it/s] "
     ]
    },
    {
     "name": "stdout",
     "output_type": "stream",
     "text": [
      "\n",
      "Running avg Loss at batch iter                                                                 1000 is                                                                 0.4413942607343197\n"
     ]
    },
    {
     "name": "stderr",
     "output_type": "stream",
     "text": [
      " 37%|███▋      | 2000/5410 [13:30<24:56,  2.28it/s]"
     ]
    },
    {
     "name": "stdout",
     "output_type": "stream",
     "text": [
      "\n",
      "Running avg Loss at batch iter                                                                 2000 is                                                                 0.4419694351106882\n"
     ]
    },
    {
     "name": "stderr",
     "output_type": "stream",
     "text": [
      " 55%|█████▌    | 3000/5410 [20:02<17:09,  2.34it/s]"
     ]
    },
    {
     "name": "stdout",
     "output_type": "stream",
     "text": [
      "\n",
      "Running avg Loss at batch iter                                                                 3000 is                                                                 0.4465353262275457\n"
     ]
    },
    {
     "name": "stderr",
     "output_type": "stream",
     "text": [
      " 74%|███████▍  | 4000/5410 [26:31<09:47,  2.40it/s]"
     ]
    },
    {
     "name": "stdout",
     "output_type": "stream",
     "text": [
      "\n",
      "Running avg Loss at batch iter                                                                 4000 is                                                                 0.4486027965396643\n"
     ]
    },
    {
     "name": "stderr",
     "output_type": "stream",
     "text": [
      " 92%|█████████▏| 5000/5410 [33:05<03:27,  1.97it/s]"
     ]
    },
    {
     "name": "stdout",
     "output_type": "stream",
     "text": [
      "\n",
      "Running avg Loss at batch iter                                                                 5000 is                                                                 0.4525938850790262\n"
     ]
    },
    {
     "name": "stderr",
     "output_type": "stream",
     "text": [
      "100%|██████████| 5410/5410 [35:44<00:00,  2.52it/s]\n",
      "  0%|          | 0/250 [00:00<?, ?it/s]"
     ]
    },
    {
     "name": "stdout",
     "output_type": "stream",
     "text": [
      "train Loss: 0.4458\n",
      "\n",
      "Train -- epoch average precision at k = 1, 2, 3, 4, 5, 6: [0.96511091 0.95503697 0.93853189 0.91612754 0.85444547 0.79601525]\n",
      "Train -- epoch average recall at k = 1, 2, 3, 4, 5, 6: [0.18518946 0.36602079 0.53667283 0.69369593 0.79891774 0.88603697]\n",
      "\n"
     ]
    },
    {
     "name": "stderr",
     "output_type": "stream",
     "text": [
      "100%|██████████| 250/250 [00:33<00:00,  7.39it/s]\n",
      "  0%|          | 0/5410 [00:00<?, ?it/s]"
     ]
    },
    {
     "name": "stdout",
     "output_type": "stream",
     "text": [
      "val Loss: 0.4413\n",
      "\n",
      "Validation -- epoch average precision at k = 1, 2, 3, 4, 5, 6: [0.959   0.9565  0.94102 0.92    0.8576  0.79694]\n",
      "\n",
      "\n",
      "Validation -- epoch average recall at k = 1, 2, 3, 4, 5, 6: [0.18344 0.3672  0.5382  0.69648 0.80114 0.88562]\n",
      "\n",
      "Epoch 33/49\n",
      "----------\n"
     ]
    },
    {
     "name": "stderr",
     "output_type": "stream",
     "text": [
      " 18%|█▊        | 1000/5410 [06:32<32:09,  2.29it/s] "
     ]
    },
    {
     "name": "stdout",
     "output_type": "stream",
     "text": [
      "\n",
      "Running avg Loss at batch iter                                                                 1000 is                                                                 0.44633624418079854\n"
     ]
    },
    {
     "name": "stderr",
     "output_type": "stream",
     "text": [
      " 37%|███▋      | 2000/5410 [13:07<36:29,  1.56it/s]"
     ]
    },
    {
     "name": "stdout",
     "output_type": "stream",
     "text": [
      "\n",
      "Running avg Loss at batch iter                                                                 2000 is                                                                 0.44725433985888957\n"
     ]
    },
    {
     "name": "stderr",
     "output_type": "stream",
     "text": [
      " 55%|█████▌    | 3000/5410 [19:57<14:33,  2.76it/s]"
     ]
    },
    {
     "name": "stdout",
     "output_type": "stream",
     "text": [
      "\n",
      "Running avg Loss at batch iter                                                                 3000 is                                                                 0.4452214701622724\n"
     ]
    },
    {
     "name": "stderr",
     "output_type": "stream",
     "text": [
      " 74%|███████▍  | 4000/5410 [26:31<07:46,  3.02it/s]"
     ]
    },
    {
     "name": "stdout",
     "output_type": "stream",
     "text": [
      "\n",
      "Running avg Loss at batch iter                                                                 4000 is                                                                 0.4479473264366388\n"
     ]
    },
    {
     "name": "stderr",
     "output_type": "stream",
     "text": [
      " 92%|█████████▏| 5000/5410 [33:05<02:29,  2.74it/s]"
     ]
    },
    {
     "name": "stdout",
     "output_type": "stream",
     "text": [
      "\n",
      "Running avg Loss at batch iter                                                                 5000 is                                                                 0.4470049419850111\n"
     ]
    },
    {
     "name": "stderr",
     "output_type": "stream",
     "text": [
      "100%|██████████| 5410/5410 [35:44<00:00,  2.52it/s]\n",
      "  0%|          | 0/250 [00:00<?, ?it/s]"
     ]
    },
    {
     "name": "stdout",
     "output_type": "stream",
     "text": [
      "train Loss: 0.4466\n",
      "\n",
      "Train -- epoch average precision at k = 1, 2, 3, 4, 5, 6: [0.96247689 0.95360444 0.93770148 0.91606978 0.85510166 0.79532948]\n",
      "Train -- epoch average recall at k = 1, 2, 3, 4, 5, 6: [0.18456701 0.36544085 0.53609519 0.69365943 0.79951802 0.88508179]\n",
      "\n"
     ]
    },
    {
     "name": "stderr",
     "output_type": "stream",
     "text": [
      "100%|██████████| 250/250 [00:33<00:00,  7.38it/s]\n",
      "  0%|          | 0/5410 [00:00<?, ?it/s]"
     ]
    },
    {
     "name": "stdout",
     "output_type": "stream",
     "text": [
      "val Loss: 0.4387\n",
      "\n",
      "Validation -- epoch average precision at k = 1, 2, 3, 4, 5, 6: [0.96    0.956   0.93867 0.92125 0.858   0.79647]\n",
      "\n",
      "\n",
      "Validation -- epoch average recall at k = 1, 2, 3, 4, 5, 6: [0.18347 0.36541 0.53589 0.69785 0.80139 0.88472]\n",
      "\n",
      "Epoch 34/49\n",
      "----------\n"
     ]
    },
    {
     "name": "stderr",
     "output_type": "stream",
     "text": [
      " 18%|█▊        | 1000/5410 [06:32<20:08,  3.65it/s]"
     ]
    },
    {
     "name": "stdout",
     "output_type": "stream",
     "text": [
      "\n",
      "Running avg Loss at batch iter                                                                 1000 is                                                                 0.44013044717907907\n"
     ]
    },
    {
     "name": "stderr",
     "output_type": "stream",
     "text": [
      " 37%|███▋      | 2000/5410 [13:13<19:11,  2.96it/s]"
     ]
    },
    {
     "name": "stdout",
     "output_type": "stream",
     "text": [
      "\n",
      "Running avg Loss at batch iter                                                                 2000 is                                                                 0.44772780026495457\n"
     ]
    },
    {
     "name": "stderr",
     "output_type": "stream",
     "text": [
      " 55%|█████▌    | 3000/5410 [19:47<20:12,  1.99it/s]"
     ]
    },
    {
     "name": "stdout",
     "output_type": "stream",
     "text": [
      "\n",
      "Running avg Loss at batch iter                                                                 3000 is                                                                 0.44210234786570074\n"
     ]
    },
    {
     "name": "stderr",
     "output_type": "stream",
     "text": [
      " 74%|███████▍  | 4000/5410 [26:24<05:59,  3.93it/s]"
     ]
    },
    {
     "name": "stdout",
     "output_type": "stream",
     "text": [
      "\n",
      "Running avg Loss at batch iter                                                                 4000 is                                                                 0.44719812595844266\n"
     ]
    },
    {
     "name": "stderr",
     "output_type": "stream",
     "text": [
      " 92%|█████████▏| 5000/5410 [33:00<03:13,  2.12it/s]"
     ]
    },
    {
     "name": "stdout",
     "output_type": "stream",
     "text": [
      "\n",
      "Running avg Loss at batch iter                                                                 5000 is                                                                 0.4525919090509415\n"
     ]
    },
    {
     "name": "stderr",
     "output_type": "stream",
     "text": [
      "100%|██████████| 5410/5410 [35:44<00:00,  2.52it/s]\n",
      "  0%|          | 0/250 [00:00<?, ?it/s]"
     ]
    },
    {
     "name": "stdout",
     "output_type": "stream",
     "text": [
      "train Loss: 0.4468\n",
      "\n",
      "Train -- epoch average precision at k = 1, 2, 3, 4, 5, 6: [0.96487985 0.95501386 0.93850323 0.91654344 0.85448244 0.79547227]\n",
      "Train -- epoch average recall at k = 1, 2, 3, 4, 5, 6: [0.18504713 0.36594455 0.53654667 0.69407301 0.79892421 0.88523752]\n",
      "\n"
     ]
    },
    {
     "name": "stderr",
     "output_type": "stream",
     "text": [
      "100%|██████████| 250/250 [00:33<00:00,  7.39it/s]\n",
      "  0%|          | 0/5410 [00:00<?, ?it/s]"
     ]
    },
    {
     "name": "stdout",
     "output_type": "stream",
     "text": [
      "val Loss: 0.4345\n",
      "\n",
      "Validation -- epoch average precision at k = 1, 2, 3, 4, 5, 6: [0.962   0.958   0.93965 0.92175 0.8596  0.79996]\n",
      "\n",
      "\n",
      "Validation -- epoch average recall at k = 1, 2, 3, 4, 5, 6: [0.18389 0.36653 0.53622 0.69811 0.80301 0.88882]\n",
      "\n",
      "Epoch 35/49\n",
      "----------\n"
     ]
    },
    {
     "name": "stderr",
     "output_type": "stream",
     "text": [
      " 18%|█▊        | 1000/5410 [06:35<39:27,  1.86it/s]"
     ]
    },
    {
     "name": "stdout",
     "output_type": "stream",
     "text": [
      "\n",
      "Running avg Loss at batch iter                                                                 1000 is                                                                 0.4466370373517275\n"
     ]
    },
    {
     "name": "stderr",
     "output_type": "stream",
     "text": [
      " 37%|███▋      | 2000/5410 [13:18<25:57,  2.19it/s]"
     ]
    },
    {
     "name": "stdout",
     "output_type": "stream",
     "text": [
      "\n",
      "Running avg Loss at batch iter                                                                 2000 is                                                                 0.4445049953907728\n"
     ]
    },
    {
     "name": "stderr",
     "output_type": "stream",
     "text": [
      " 55%|█████▌    | 3000/5410 [19:48<15:39,  2.57it/s]"
     ]
    },
    {
     "name": "stdout",
     "output_type": "stream",
     "text": [
      "\n",
      "Running avg Loss at batch iter                                                                 3000 is                                                                 0.4487984310984611\n"
     ]
    },
    {
     "name": "stderr",
     "output_type": "stream",
     "text": [
      " 74%|███████▍  | 4000/5410 [26:23<07:41,  3.05it/s]"
     ]
    },
    {
     "name": "stdout",
     "output_type": "stream",
     "text": [
      "\n",
      "Running avg Loss at batch iter                                                                 4000 is                                                                 0.4398254394233227\n"
     ]
    },
    {
     "name": "stderr",
     "output_type": "stream",
     "text": [
      " 92%|█████████▏| 5000/5410 [32:59<02:45,  2.48it/s]"
     ]
    },
    {
     "name": "stdout",
     "output_type": "stream",
     "text": [
      "\n",
      "Running avg Loss at batch iter                                                                 5000 is                                                                 0.4428081227764487\n"
     ]
    },
    {
     "name": "stderr",
     "output_type": "stream",
     "text": [
      "100%|██████████| 5410/5410 [35:44<00:00,  2.52it/s]\n",
      "  0%|          | 0/250 [00:00<?, ?it/s]"
     ]
    },
    {
     "name": "stdout",
     "output_type": "stream",
     "text": [
      "train Loss: 0.4452\n",
      "\n",
      "Train -- epoch average precision at k = 1, 2, 3, 4, 5, 6: [0.96418669 0.95598429 0.93947551 0.91670518 0.85551756 0.79569224]\n",
      "Train -- epoch average recall at k = 1, 2, 3, 4, 5, 6: [0.18500323 0.36655915 0.5375915  0.69454436 0.80014048 0.88568854]\n",
      "\n"
     ]
    },
    {
     "name": "stderr",
     "output_type": "stream",
     "text": [
      "100%|██████████| 250/250 [00:33<00:00,  7.40it/s]\n"
     ]
    },
    {
     "name": "stdout",
     "output_type": "stream",
     "text": [
      "val Loss: 0.4376\n",
      "\n",
      "Validation -- epoch average precision at k = 1, 2, 3, 4, 5, 6: [0.965   0.9585  0.94167 0.92025 0.8604  0.79952]\n",
      "\n",
      "\n",
      "Validation -- epoch average recall at k = 1, 2, 3, 4, 5, 6: [0.18466 0.36783 0.53823 0.69701 0.80342 0.88856]\n",
      "\n"
     ]
    }
   ],
   "source": [
    "resnet50_attention = train_and_save(\n",
    "    model_type = 'attention',\n",
    "    model_name = 'resnet50',\n",
    "    lr = 0.001,\n",
    "    device = device,\n",
    "    num_categories= num_categories,\n",
    "    num_epochs= 50,\n",
    "    early_stopping= True,\n",
    "    save_folder = '/home/mridula/Projects/MIML/temp',\n",
    "    patience =5,\n",
    "    use_pretrained=True\n",
    ")"
   ]
  },
  {
   "cell_type": "code",
   "execution_count": 18,
   "metadata": {},
   "outputs": [],
   "source": [
    "torch.cuda.empty_cache()"
   ]
  },
  {
   "cell_type": "markdown",
   "metadata": {},
   "source": [
    "# Results"
   ]
  },
  {
   "cell_type": "code",
   "execution_count": null,
   "metadata": {},
   "outputs": [],
   "source": [
    "model_results = {}\n",
    "\n",
    "for mn in ['resnet18', 'resnet34', 'resnet50']:\n",
    "    for mt in ['avg', 'attention']:\n",
    "        model = torch.load(f'/home/mridula/Projects/MIML/temp/yelp_{mn}_{mt}_pretrained_True.pt')\n",
    "        model_results['mn'+ '_'+ mt] = test_multi_instance_model(model, device, dataloaders_dict['test'])\n",
    "        "
   ]
  }
 ],
 "metadata": {
  "kernelspec": {
   "display_name": "miml",
   "language": "python",
   "name": "miml"
  },
  "language_info": {
   "codemirror_mode": {
    "name": "ipython",
    "version": 3
   },
   "file_extension": ".py",
   "mimetype": "text/x-python",
   "name": "python",
   "nbconvert_exporter": "python",
   "pygments_lexer": "ipython3",
   "version": "3.8.3"
  }
 },
 "nbformat": 4,
 "nbformat_minor": 4
}
